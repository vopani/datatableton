{
 "cells": [
  {
   "cell_type": "markdown",
   "id": "05b94df9",
   "metadata": {
    "_cell_guid": "b1076dfc-b9ad-4769-8c92-a6c4dae69d19",
    "_uuid": "8f2839f25d086af736a60e9eeb907d3b93b6e0e5",
    "papermill": {
     "duration": 0.025387,
     "end_time": "2021-07-13T06:13:53.200569",
     "exception": false,
     "start_time": "2021-07-13T06:13:53.175182",
     "status": "completed"
    },
    "tags": []
   },
   "source": [
    "<center>\n",
    "    <h1>DatatableTon</h1>\n",
    "    💯 datatable exercises\n",
    "    <br>\n",
    "    <br>\n",
    "    <a href='https://github.com/vopani/datatableton/blob/master/LICENSE'>\n",
    "        <img src='https://img.shields.io/badge/license-Apache%202.0-blue.svg?logo=apache'>\n",
    "    </a>\n",
    "    <a href='https://github.com/vopani/datatableton'>\n",
    "        <img src='https://img.shields.io/github/stars/vopani/datatableton?color=yellowgreen&logo=github'>\n",
    "    </a>\n",
    "    <a href='https://twitter.com/vopani'>\n",
    "        <img src='https://img.shields.io/twitter/follow/vopani'>\n",
    "    </a>\n",
    "</center>"
   ]
  },
  {
   "cell_type": "markdown",
   "id": "b1cb532b",
   "metadata": {
    "papermill": {
     "duration": 0.023342,
     "end_time": "2021-07-13T06:13:53.247916",
     "exception": false,
     "start_time": "2021-07-13T06:13:53.224574",
     "status": "completed"
    },
    "tags": []
   },
   "source": [
    "<center>\n",
    "    This is Set 2: Files and Formats (Exercises 11-20) of <b>DatatableTon</b>: <i>💯 datatable exercises</i>\n",
    "    <br>\n",
    "    You can find all the exercises and solutions on <a href=\"https://github.com/vopani/datatableton#exercises-\">GitHub</a>\n",
    "</center>"
   ]
  },
  {
   "cell_type": "markdown",
   "id": "44dfad97",
   "metadata": {
    "papermill": {
     "duration": 0.023132,
     "end_time": "2021-07-13T06:13:53.295747",
     "exception": false,
     "start_time": "2021-07-13T06:13:53.272615",
     "status": "completed"
    },
    "tags": []
   },
   "source": [
    "**Prerequisites**\n",
    "* The `datatable` package should be upgraded to the latest version (or v1.0.0+).\n",
    "* Additional packages `numpy`, `pandas` and `pyarrow` should be installed.\n",
    "* Small example values along with the sample dataset [datatableton_sample.zip](https://github.com/vopani/datatableton/blob/main/data/datatableton_sample.zip) will be used for the exercises."
   ]
  },
  {
   "cell_type": "code",
   "execution_count": 1,
   "id": "ad8ddf33",
   "metadata": {
    "_kg_hide-output": true,
    "execution": {
     "iopub.execute_input": "2021-07-13T06:13:53.366046Z",
     "iopub.status.busy": "2021-07-13T06:13:53.365187Z",
     "iopub.status.idle": "2021-07-13T06:14:51.037823Z",
     "shell.execute_reply": "2021-07-13T06:14:51.038502Z"
    },
    "papermill": {
     "duration": 57.719478,
     "end_time": "2021-07-13T06:14:51.038854",
     "exception": false,
     "start_time": "2021-07-13T06:13:53.319376",
     "status": "completed"
    },
    "tags": []
   },
   "outputs": [
    {
     "name": "stdout",
     "output_type": "stream",
     "text": [
      "Requirement already satisfied: pip in /opt/conda/lib/python3.7/site-packages (21.1.2)\r\n",
      "Collecting pip\r\n",
      "  Downloading pip-21.1.3-py3-none-any.whl (1.5 MB)\r\n",
      "\u001b[K     |████████████████████████████████| 1.5 MB 873 kB/s \r\n",
      "\u001b[?25hInstalling collected packages: pip\r\n",
      "  Attempting uninstall: pip\r\n",
      "    Found existing installation: pip 21.1.2\r\n",
      "    Uninstalling pip-21.1.2:\r\n",
      "      Successfully uninstalled pip-21.1.2\r\n",
      "Successfully installed pip-21.1.3\r\n",
      "\u001b[33mWARNING: Running pip as root will break packages and permissions. You should install packages reliably by using venv: https://pip.pypa.io/warnings/venv\u001b[0m\r\n",
      "Requirement already satisfied: datatable in /opt/conda/lib/python3.7/site-packages (1.0.0)\r\n",
      "\u001b[33mWARNING: Running pip as the 'root' user can result in broken permissions and conflicting behaviour with the system package manager. It is recommended to use a virtual environment instead: https://pip.pypa.io/warnings/venv\u001b[0m\r\n",
      "Requirement already satisfied: numpy in /opt/conda/lib/python3.7/site-packages (1.19.5)\r\n",
      "\u001b[33mWARNING: Running pip as the 'root' user can result in broken permissions and conflicting behaviour with the system package manager. It is recommended to use a virtual environment instead: https://pip.pypa.io/warnings/venv\u001b[0m\r\n",
      "Requirement already satisfied: pandas in /opt/conda/lib/python3.7/site-packages (1.2.4)\r\n",
      "Requirement already satisfied: python-dateutil>=2.7.3 in /opt/conda/lib/python3.7/site-packages (from pandas) (2.8.1)\r\n",
      "Requirement already satisfied: pytz>=2017.3 in /opt/conda/lib/python3.7/site-packages (from pandas) (2021.1)\r\n",
      "Requirement already satisfied: numpy>=1.16.5 in /opt/conda/lib/python3.7/site-packages (from pandas) (1.19.5)\r\n",
      "Requirement already satisfied: six>=1.5 in /opt/conda/lib/python3.7/site-packages (from python-dateutil>=2.7.3->pandas) (1.15.0)\r\n",
      "\u001b[33mWARNING: Running pip as the 'root' user can result in broken permissions and conflicting behaviour with the system package manager. It is recommended to use a virtual environment instead: https://pip.pypa.io/warnings/venv\u001b[0m\r\n",
      "Requirement already satisfied: pyarrow in /opt/conda/lib/python3.7/site-packages (4.0.0)\r\n",
      "Requirement already satisfied: numpy>=1.16.6 in /opt/conda/lib/python3.7/site-packages (from pyarrow) (1.19.5)\r\n",
      "\u001b[33mWARNING: Running pip as the 'root' user can result in broken permissions and conflicting behaviour with the system package manager. It is recommended to use a virtual environment instead: https://pip.pypa.io/warnings/venv\u001b[0m\r\n",
      "--2021-07-13 06:14:50--  https://raw.githubusercontent.com/vopani/datatableton/main/data/datatableton_sample.zip\r\n",
      "Resolving raw.githubusercontent.com (raw.githubusercontent.com)... 185.199.109.133, 185.199.108.133, 185.199.111.133, ...\r\n",
      "Connecting to raw.githubusercontent.com (raw.githubusercontent.com)|185.199.109.133|:443... connected.\r\n",
      "HTTP request sent, awaiting response... 200 OK\r\n",
      "Length: 1911 (1.9K) [application/zip]\r\n",
      "Saving to: ‘datatableton_sample.zip’\r\n",
      "\r\n",
      "datatableton_sample 100%[===================>]   1.87K  --.-KB/s    in 0s      \r\n",
      "\r\n",
      "2021-07-13 06:14:50 (28.2 MB/s) - ‘datatableton_sample.zip’ saved [1911/1911]\r\n",
      "\r\n"
     ]
    }
   ],
   "source": [
    "!python3 -m pip install -U pip\n",
    "!python3 -m pip install -U datatable\n",
    "!python3 -m pip install numpy\n",
    "!python3 -m pip install pandas\n",
    "!python3 -m pip install pyarrow\n",
    "!wget https://raw.githubusercontent.com/vopani/datatableton/main/data/datatableton_sample.zip"
   ]
  },
  {
   "cell_type": "code",
   "execution_count": 2,
   "id": "ab51cc31",
   "metadata": {
    "execution": {
     "iopub.execute_input": "2021-07-13T06:14:51.110174Z",
     "iopub.status.busy": "2021-07-13T06:14:51.109156Z",
     "iopub.status.idle": "2021-07-13T06:14:51.375163Z",
     "shell.execute_reply": "2021-07-13T06:14:51.374450Z",
     "shell.execute_reply.started": "2021-07-07T05:46:46.878823Z"
    },
    "papermill": {
     "duration": 0.30217,
     "end_time": "2021-07-13T06:14:51.375337",
     "exception": false,
     "start_time": "2021-07-13T06:14:51.073167",
     "status": "completed"
    },
    "tags": []
   },
   "outputs": [
    {
     "data": {
      "text/html": [
       "<style type='text/css'>\n",
       ".datatable table.frame { margin-bottom: 0; }\n",
       ".datatable table.frame thead { border-bottom: none; }\n",
       ".datatable table.frame tr.coltypes td {  color: #FFFFFF;  line-height: 6px;  padding: 0 0.5em;}\n",
       ".datatable .bool    { background: #DDDD99; }\n",
       ".datatable .object  { background: #565656; }\n",
       ".datatable .int     { background: #5D9E5D; }\n",
       ".datatable .float   { background: #4040CC; }\n",
       ".datatable .str     { background: #CC4040; }\n",
       ".datatable .time    { background: #40CC40; }\n",
       ".datatable .row_index {  background: var(--jp-border-color3);  border-right: 1px solid var(--jp-border-color0);  color: var(--jp-ui-font-color3);  font-size: 9px;}\n",
       ".datatable .frame tbody td { text-align: left; }\n",
       ".datatable .frame tr.coltypes .row_index {  background: var(--jp-border-color0);}\n",
       ".datatable th:nth-child(2) { padding-left: 12px; }\n",
       ".datatable .hellipsis {  color: var(--jp-cell-editor-border-color);}\n",
       ".datatable .vellipsis {  background: var(--jp-layout-color0);  color: var(--jp-cell-editor-border-color);}\n",
       ".datatable .na {  color: var(--jp-cell-editor-border-color);  font-size: 80%;}\n",
       ".datatable .sp {  opacity: 0.25;}\n",
       ".datatable .footer { font-size: 9px; }\n",
       ".datatable .frame_dimensions {  background: var(--jp-border-color3);  border-top: 1px solid var(--jp-border-color0);  color: var(--jp-ui-font-color3);  display: inline-block;  opacity: 0.6;  padding: 1px 10px 1px 5px;}\n",
       "</style>\n"
      ],
      "text/plain": [
       "<IPython.core.display.HTML object>"
      ]
     },
     "metadata": {},
     "output_type": "display_data"
    }
   ],
   "source": [
    "import datatable as dt\n",
    "import numpy as np\n",
    "import pandas as pd\n",
    "import pyarrow as pa\n",
    "\n",
    "dtable = dt.Frame(f1=range(10), f2=['Y', 'O', 'U', 'C', 'A', 'N', 'D', 'O', 'I', 'T'])\n",
    "dframe = pd.DataFrame({'v1': range(11), 'v2': ['N', 'E', 'V', 'E', 'R', 'G', 'I', 'V', 'E', 'U', 'P']})\n",
    "nparray = np.array([[0, 'C'], [1, 'O'], [2, 'D'], [3, 'E']])\n",
    "patable = pa.Table.from_pandas(dframe)\n",
    "dlist = [range(4), ['D', 'A', 'T', 'A']]\n",
    "ddict = {'x': range(6), 'y': ['P', 'Y', 'T', 'H', 'O', 'N']}\n",
    "dtup = [(0, 'L'), (1, 'E'), (2, 'A'), (3, 'R'), (4, 'N')]"
   ]
  },
  {
   "cell_type": "markdown",
   "id": "99527782",
   "metadata": {
    "papermill": {
     "duration": 0.033194,
     "end_time": "2021-07-13T06:14:51.442082",
     "exception": false,
     "start_time": "2021-07-13T06:14:51.408888",
     "status": "completed"
    },
    "tags": []
   },
   "source": [
    "**Exercise 11: Write `dtable` to a csv named `data.csv`, to a compressed gz csv named `data.gz` and to a jay named `data.jay`**"
   ]
  },
  {
   "cell_type": "code",
   "execution_count": null,
   "id": "35292732",
   "metadata": {
    "execution": {
     "iopub.execute_input": "2021-07-10T03:59:26.599469Z",
     "iopub.status.busy": "2021-07-10T03:59:26.598913Z",
     "iopub.status.idle": "2021-07-10T03:59:26.601671Z",
     "shell.execute_reply": "2021-07-10T03:59:26.601145Z",
     "shell.execute_reply.started": "2021-07-07T05:22:18.851028Z"
    },
    "papermill": {
     "duration": 0.033376,
     "end_time": "2021-07-13T06:14:51.510057",
     "exception": false,
     "start_time": "2021-07-13T06:14:51.476681",
     "status": "completed"
    },
    "tags": []
   },
   "outputs": [],
   "source": []
  },
  {
   "cell_type": "markdown",
   "id": "9c950057",
   "metadata": {
    "papermill": {
     "duration": 0.032872,
     "end_time": "2021-07-13T06:14:51.577603",
     "exception": false,
     "start_time": "2021-07-13T06:14:51.544731",
     "status": "completed"
    },
    "tags": []
   },
   "source": [
    "**Exercise 12: Read `data.csv` and assign it to `data_csv`, read `data.gz` and assign it to `data_gz`, read `data.jay` and assign it to `data_jay`**"
   ]
  },
  {
   "cell_type": "code",
   "execution_count": null,
   "id": "501fa96e",
   "metadata": {
    "execution": {
     "iopub.execute_input": "2021-07-10T03:59:27.014666Z",
     "iopub.status.busy": "2021-07-10T03:59:27.013967Z",
     "iopub.status.idle": "2021-07-10T03:59:27.022965Z",
     "shell.execute_reply": "2021-07-10T03:59:27.022425Z",
     "shell.execute_reply.started": "2021-07-07T05:22:42.781489Z"
    },
    "papermill": {
     "duration": 0.034001,
     "end_time": "2021-07-13T06:14:51.646083",
     "exception": false,
     "start_time": "2021-07-13T06:14:51.612082",
     "status": "completed"
    },
    "tags": []
   },
   "outputs": [],
   "source": []
  },
  {
   "cell_type": "code",
   "execution_count": null,
   "id": "f178bd70",
   "metadata": {
    "execution": {
     "iopub.execute_input": "2021-07-10T03:59:27.239182Z",
     "iopub.status.busy": "2021-07-10T03:59:27.238648Z",
     "iopub.status.idle": "2021-07-10T03:59:27.242811Z",
     "shell.execute_reply": "2021-07-10T03:59:27.242385Z",
     "shell.execute_reply.started": "2021-07-07T05:22:49.213597Z"
    },
    "papermill": {
     "duration": 0.034641,
     "end_time": "2021-07-13T06:14:51.714948",
     "exception": false,
     "start_time": "2021-07-13T06:14:51.680307",
     "status": "completed"
    },
    "tags": []
   },
   "outputs": [],
   "source": []
  },
  {
   "cell_type": "code",
   "execution_count": null,
   "id": "dda36c8e",
   "metadata": {
    "execution": {
     "iopub.execute_input": "2021-07-10T03:59:27.393504Z",
     "iopub.status.busy": "2021-07-10T03:59:27.392959Z",
     "iopub.status.idle": "2021-07-10T03:59:27.396008Z",
     "shell.execute_reply": "2021-07-10T03:59:27.396566Z",
     "shell.execute_reply.started": "2021-07-07T05:22:57.635942Z"
    },
    "papermill": {
     "duration": 0.034511,
     "end_time": "2021-07-13T06:14:51.783971",
     "exception": false,
     "start_time": "2021-07-13T06:14:51.749460",
     "status": "completed"
    },
    "tags": []
   },
   "outputs": [],
   "source": []
  },
  {
   "cell_type": "markdown",
   "id": "a046b10d",
   "metadata": {
    "papermill": {
     "duration": 0.033938,
     "end_time": "2021-07-13T06:14:51.851512",
     "exception": false,
     "start_time": "2021-07-13T06:14:51.817574",
     "status": "completed"
    },
    "tags": []
   },
   "source": [
    "**Exercise 13: Read data from this URL: [https://raw.githubusercontent.com/vopani/datatableton/main/data/datatableton_sample.csv](https://raw.githubusercontent.com/vopani/datatableton/main/data/datatableton_sample.csv) and assign it to `data_url`**"
   ]
  },
  {
   "cell_type": "code",
   "execution_count": null,
   "id": "ea7d3ba6",
   "metadata": {
    "execution": {
     "iopub.execute_input": "2021-07-10T03:59:27.815135Z",
     "iopub.status.busy": "2021-07-10T03:59:27.814501Z",
     "iopub.status.idle": "2021-07-10T03:59:28.108025Z",
     "shell.execute_reply": "2021-07-10T03:59:28.107439Z",
     "shell.execute_reply.started": "2021-07-07T05:23:13.049299Z"
    },
    "papermill": {
     "duration": 0.03297,
     "end_time": "2021-07-13T06:14:51.917837",
     "exception": false,
     "start_time": "2021-07-13T06:14:51.884867",
     "status": "completed"
    },
    "tags": []
   },
   "outputs": [],
   "source": []
  },
  {
   "cell_type": "markdown",
   "id": "eb2f2948",
   "metadata": {
    "papermill": {
     "duration": 0.034549,
     "end_time": "2021-07-13T06:14:51.987099",
     "exception": false,
     "start_time": "2021-07-13T06:14:51.952550",
     "status": "completed"
    },
    "tags": []
   },
   "source": [
    "**Exercise 14: Read `users.csv` from `datatableton_sample.zip` and assign it to `data_zip`**"
   ]
  },
  {
   "cell_type": "code",
   "execution_count": null,
   "id": "3f45d839",
   "metadata": {
    "execution": {
     "iopub.execute_input": "2021-07-10T03:59:28.530957Z",
     "iopub.status.busy": "2021-07-10T03:59:28.530464Z",
     "iopub.status.idle": "2021-07-10T03:59:28.537633Z",
     "shell.execute_reply": "2021-07-10T03:59:28.537164Z",
     "shell.execute_reply.started": "2021-07-10T03:58:24.044871Z"
    },
    "papermill": {
     "duration": 0.033375,
     "end_time": "2021-07-13T06:14:52.054323",
     "exception": false,
     "start_time": "2021-07-13T06:14:52.020948",
     "status": "completed"
    },
    "tags": []
   },
   "outputs": [],
   "source": []
  },
  {
   "cell_type": "markdown",
   "id": "47e66294",
   "metadata": {
    "papermill": {
     "duration": 0.033414,
     "end_time": "2021-07-13T06:14:52.122249",
     "exception": false,
     "start_time": "2021-07-13T06:14:52.088835",
     "status": "completed"
    },
    "tags": []
   },
   "source": [
    "**Exercise 15: Create a dt.Frame `data_pd` from the pd.DataFrame `dframe` and create a pd.DataFrame `pd_data` from the dt.Frame `data_pd`**"
   ]
  },
  {
   "cell_type": "code",
   "execution_count": null,
   "id": "86489c2d",
   "metadata": {
    "execution": {
     "iopub.execute_input": "2021-07-10T03:59:28.880168Z",
     "iopub.status.busy": "2021-07-10T03:59:28.87931Z",
     "iopub.status.idle": "2021-07-10T03:59:28.883477Z",
     "shell.execute_reply": "2021-07-10T03:59:28.882806Z",
     "shell.execute_reply.started": "2021-07-07T05:23:43.701758Z"
    },
    "papermill": {
     "duration": 0.040472,
     "end_time": "2021-07-13T06:14:52.198134",
     "exception": false,
     "start_time": "2021-07-13T06:14:52.157662",
     "status": "completed"
    },
    "tags": []
   },
   "outputs": [],
   "source": []
  },
  {
   "cell_type": "code",
   "execution_count": null,
   "id": "84493342",
   "metadata": {
    "execution": {
     "iopub.execute_input": "2021-07-10T03:59:29.116415Z",
     "iopub.status.busy": "2021-07-10T03:59:29.115681Z",
     "iopub.status.idle": "2021-07-10T03:59:29.130796Z",
     "shell.execute_reply": "2021-07-10T03:59:29.130089Z",
     "shell.execute_reply.started": "2021-07-07T05:23:52.178275Z"
    },
    "papermill": {
     "duration": 0.034123,
     "end_time": "2021-07-13T06:14:52.267539",
     "exception": false,
     "start_time": "2021-07-13T06:14:52.233416",
     "status": "completed"
    },
    "tags": []
   },
   "outputs": [],
   "source": []
  },
  {
   "cell_type": "markdown",
   "id": "953480b7",
   "metadata": {
    "papermill": {
     "duration": 0.033579,
     "end_time": "2021-07-13T06:14:52.335992",
     "exception": false,
     "start_time": "2021-07-13T06:14:52.302413",
     "status": "completed"
    },
    "tags": []
   },
   "source": [
    "**Exercise 16: Create a dt.Frame `data_np` from the np.array `nparray` and create a np.array `np_data` from the dt.Frame `data_np`**"
   ]
  },
  {
   "cell_type": "code",
   "execution_count": null,
   "id": "e4689cd2",
   "metadata": {
    "execution": {
     "iopub.execute_input": "2021-07-10T03:59:29.570445Z",
     "iopub.status.busy": "2021-07-10T03:59:29.569695Z",
     "iopub.status.idle": "2021-07-10T03:59:29.574429Z",
     "shell.execute_reply": "2021-07-10T03:59:29.57386Z",
     "shell.execute_reply.started": "2021-07-07T05:26:15.290352Z"
    },
    "papermill": {
     "duration": 0.033344,
     "end_time": "2021-07-13T06:14:52.403045",
     "exception": false,
     "start_time": "2021-07-13T06:14:52.369701",
     "status": "completed"
    },
    "tags": []
   },
   "outputs": [],
   "source": []
  },
  {
   "cell_type": "code",
   "execution_count": null,
   "id": "194b017c",
   "metadata": {
    "execution": {
     "iopub.execute_input": "2021-07-10T03:59:29.734711Z",
     "iopub.status.busy": "2021-07-10T03:59:29.734Z",
     "iopub.status.idle": "2021-07-10T03:59:29.73771Z",
     "shell.execute_reply": "2021-07-10T03:59:29.737139Z",
     "shell.execute_reply.started": "2021-07-07T05:26:18.103124Z"
    },
    "papermill": {
     "duration": 0.033428,
     "end_time": "2021-07-13T06:14:52.470210",
     "exception": false,
     "start_time": "2021-07-13T06:14:52.436782",
     "status": "completed"
    },
    "tags": []
   },
   "outputs": [],
   "source": []
  },
  {
   "cell_type": "markdown",
   "id": "f379c2b6",
   "metadata": {
    "papermill": {
     "duration": 0.033474,
     "end_time": "2021-07-13T06:14:52.537451",
     "exception": false,
     "start_time": "2021-07-13T06:14:52.503977",
     "status": "completed"
    },
    "tags": []
   },
   "source": [
    "**Exercise 17: Create a dt.Frame `data_ls` from the list `dlist` and create a list `ls_data` from the dt.Frame `data_ls`**"
   ]
  },
  {
   "cell_type": "code",
   "execution_count": null,
   "id": "31c86602",
   "metadata": {
    "execution": {
     "iopub.execute_input": "2021-07-10T03:59:30.045426Z",
     "iopub.status.busy": "2021-07-10T03:59:30.044652Z",
     "iopub.status.idle": "2021-07-10T03:59:30.049908Z",
     "shell.execute_reply": "2021-07-10T03:59:30.049357Z",
     "shell.execute_reply.started": "2021-07-07T05:27:16.069474Z"
    },
    "papermill": {
     "duration": 0.03292,
     "end_time": "2021-07-13T06:14:52.603880",
     "exception": false,
     "start_time": "2021-07-13T06:14:52.570960",
     "status": "completed"
    },
    "tags": []
   },
   "outputs": [],
   "source": []
  },
  {
   "cell_type": "code",
   "execution_count": null,
   "id": "c6938c5e",
   "metadata": {
    "execution": {
     "iopub.execute_input": "2021-07-10T03:59:30.212313Z",
     "iopub.status.busy": "2021-07-10T03:59:30.211641Z",
     "iopub.status.idle": "2021-07-10T03:59:30.215267Z",
     "shell.execute_reply": "2021-07-10T03:59:30.214769Z",
     "shell.execute_reply.started": "2021-07-07T05:27:22.597448Z"
    },
    "papermill": {
     "duration": 0.033088,
     "end_time": "2021-07-13T06:14:52.670815",
     "exception": false,
     "start_time": "2021-07-13T06:14:52.637727",
     "status": "completed"
    },
    "tags": []
   },
   "outputs": [],
   "source": []
  },
  {
   "cell_type": "markdown",
   "id": "239adf2b",
   "metadata": {
    "papermill": {
     "duration": 0.033084,
     "end_time": "2021-07-13T06:14:52.737400",
     "exception": false,
     "start_time": "2021-07-13T06:14:52.704316",
     "status": "completed"
    },
    "tags": []
   },
   "source": [
    "**Exercise 18: Create a dt.Frame `data_dc` from the dictionary `ddict` and create a dictionary `dc_data` from the dt.Frame `data_dc`**"
   ]
  },
  {
   "cell_type": "code",
   "execution_count": null,
   "id": "44dd19c8",
   "metadata": {
    "execution": {
     "iopub.execute_input": "2021-07-10T03:59:30.521739Z",
     "iopub.status.busy": "2021-07-10T03:59:30.521107Z",
     "iopub.status.idle": "2021-07-10T03:59:30.52463Z",
     "shell.execute_reply": "2021-07-10T03:59:30.524159Z",
     "shell.execute_reply.started": "2021-07-07T05:27:42.476661Z"
    },
    "papermill": {
     "duration": 0.033773,
     "end_time": "2021-07-13T06:14:52.806364",
     "exception": false,
     "start_time": "2021-07-13T06:14:52.772591",
     "status": "completed"
    },
    "tags": []
   },
   "outputs": [],
   "source": []
  },
  {
   "cell_type": "code",
   "execution_count": null,
   "id": "3bfe534a",
   "metadata": {
    "execution": {
     "iopub.execute_input": "2021-07-10T03:59:30.684503Z",
     "iopub.status.busy": "2021-07-10T03:59:30.683878Z",
     "iopub.status.idle": "2021-07-10T03:59:30.688433Z",
     "shell.execute_reply": "2021-07-10T03:59:30.687941Z",
     "shell.execute_reply.started": "2021-07-07T05:27:52.810435Z"
    },
    "papermill": {
     "duration": 0.03345,
     "end_time": "2021-07-13T06:14:52.873395",
     "exception": false,
     "start_time": "2021-07-13T06:14:52.839945",
     "status": "completed"
    },
    "tags": []
   },
   "outputs": [],
   "source": []
  },
  {
   "cell_type": "markdown",
   "id": "38984943",
   "metadata": {
    "papermill": {
     "duration": 0.033859,
     "end_time": "2021-07-13T06:14:52.943298",
     "exception": false,
     "start_time": "2021-07-13T06:14:52.909439",
     "status": "completed"
    },
    "tags": []
   },
   "source": [
    "**Exercise 19: Create a dt.Frame `data_tp` from the tuples `dtup` and create tuples `tp_data` from the dt.Frame `data_tp`**"
   ]
  },
  {
   "cell_type": "code",
   "execution_count": null,
   "id": "6136a2ff",
   "metadata": {
    "execution": {
     "iopub.execute_input": "2021-07-10T03:59:31.073893Z",
     "iopub.status.busy": "2021-07-10T03:59:31.073181Z",
     "iopub.status.idle": "2021-07-10T03:59:31.0757Z",
     "shell.execute_reply": "2021-07-10T03:59:31.076118Z",
     "shell.execute_reply.started": "2021-07-07T05:28:08.679901Z"
    },
    "papermill": {
     "duration": 0.033457,
     "end_time": "2021-07-13T06:14:53.012463",
     "exception": false,
     "start_time": "2021-07-13T06:14:52.979006",
     "status": "completed"
    },
    "tags": []
   },
   "outputs": [],
   "source": []
  },
  {
   "cell_type": "code",
   "execution_count": null,
   "id": "e755f863",
   "metadata": {
    "execution": {
     "iopub.execute_input": "2021-07-10T03:59:31.238394Z",
     "iopub.status.busy": "2021-07-10T03:59:31.237885Z",
     "iopub.status.idle": "2021-07-10T03:59:31.242437Z",
     "shell.execute_reply": "2021-07-10T03:59:31.241967Z",
     "shell.execute_reply.started": "2021-07-07T05:28:14.754753Z"
    },
    "papermill": {
     "duration": 0.033086,
     "end_time": "2021-07-13T06:14:53.079613",
     "exception": false,
     "start_time": "2021-07-13T06:14:53.046527",
     "status": "completed"
    },
    "tags": []
   },
   "outputs": [],
   "source": []
  },
  {
   "cell_type": "markdown",
   "id": "0d1cf088",
   "metadata": {
    "papermill": {
     "duration": 0.033454,
     "end_time": "2021-07-13T06:14:53.147465",
     "exception": false,
     "start_time": "2021-07-13T06:14:53.114011",
     "status": "completed"
    },
    "tags": []
   },
   "source": [
    "**Exercise 20: Create a dt.Frame `data_pa` from the pyarrow.Table `patable` and create a pyarrow.Table `pa_data` from the dt.Frame `data_pa`**"
   ]
  },
  {
   "cell_type": "code",
   "execution_count": null,
   "id": "354490db",
   "metadata": {
    "execution": {
     "iopub.execute_input": "2021-07-10T03:59:31.552041Z",
     "iopub.status.busy": "2021-07-10T03:59:31.551542Z",
     "iopub.status.idle": "2021-07-10T03:59:31.559714Z",
     "shell.execute_reply": "2021-07-10T03:59:31.559033Z",
     "shell.execute_reply.started": "2021-07-07T05:28:31.79192Z"
    },
    "papermill": {
     "duration": 0.033331,
     "end_time": "2021-07-13T06:14:53.214968",
     "exception": false,
     "start_time": "2021-07-13T06:14:53.181637",
     "status": "completed"
    },
    "tags": []
   },
   "outputs": [],
   "source": []
  },
  {
   "cell_type": "code",
   "execution_count": null,
   "id": "e45ac22d",
   "metadata": {
    "execution": {
     "iopub.execute_input": "2021-07-10T03:59:31.78585Z",
     "iopub.status.busy": "2021-07-10T03:59:31.785192Z",
     "iopub.status.idle": "2021-07-10T03:59:31.788651Z",
     "shell.execute_reply": "2021-07-10T03:59:31.788036Z",
     "shell.execute_reply.started": "2021-07-07T05:28:37.932489Z"
    },
    "papermill": {
     "duration": 0.032941,
     "end_time": "2021-07-13T06:14:53.281674",
     "exception": false,
     "start_time": "2021-07-13T06:14:53.248733",
     "status": "completed"
    },
    "tags": []
   },
   "outputs": [],
   "source": []
  },
  {
   "cell_type": "markdown",
   "id": "50dccf7c",
   "metadata": {
    "papermill": {
     "duration": 0.032929,
     "end_time": "2021-07-13T06:14:53.349446",
     "exception": false,
     "start_time": "2021-07-13T06:14:53.316517",
     "status": "completed"
    },
    "tags": []
   },
   "source": [
    "✅ This completes Set 2: Files and Formats (Exercises 11-20) of **DatatableTon**: *💯 datatable exercises*\n",
    "\n",
    "#### Set 03 • Data Selection • Beginner • Exercises 21-30\n",
    "\n",
    "| Style | Colab | Kaggle | Binder | GitHub |\n",
    "| ----- | ----- | ------ | ------ | ------ |\n",
    "| Exercises | [![Open in Colab](https://img.shields.io/static/v1?label=&message=Open%20in%20Colab&labelColor=grey&color=blue&logo=google-colab)](https://colab.research.google.com/github/vopani/datatableton/blob/main/notebooks/03_data_selection_exercises.ipynb) | [![Open in Kaggle](https://img.shields.io/static/v1?label=&message=Open%20in%20Kaggle&labelColor=grey&color=blue&logo=kaggle)](https://www.kaggle.com/rohanrao/datatableton-data-selection-exercises) | [![Open in Binder](https://img.shields.io/static/v1?label=&message=Open%20in%20Binder&labelColor=grey&color=blue&logo=data:image/png;base64,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)](https://mybinder.org/v2/gh/vopani/datatableton/main?filepath=notebooks%2F03_data_selection_exercises.ipynb) | [![Open in GitHub](https://img.shields.io/static/v1?label=&message=Open%20in%20GitHub&labelColor=grey&color=blue&logo=github)](https://github.com/vopani/datatableton/blob/main/notebooks/03_data_selection_exercises.ipynb) |\n",
    "| Solutions | [![Open in Colab](https://img.shields.io/static/v1?label=&message=Open%20in%20Colab&labelColor=grey&color=blue&logo=google-colab)](https://colab.research.google.com/github/vopani/datatableton/blob/main/notebooks/03_data_selection_solutions.ipynb) | [![Open in Kaggle](https://img.shields.io/static/v1?label=&message=Open%20in%20Kaggle&labelColor=grey&color=blue&logo=kaggle)](https://www.kaggle.com/rohanrao/datatableton-data-selection-solutions) | [![Open in Binder](https://img.shields.io/static/v1?label=&message=Open%20in%20Binder&labelColor=grey&color=blue&logo=data:image/png;base64,iVBORw0KGgoAAAANSUhEUgAAAFkAAABZCAMAAABi1XidAAAB8lBMVEX///9XmsrmZYH1olJXmsr1olJXmsrmZYH1olJXmsr1olJXmsrmZYH1olL1olJXmsr1olJXmsrmZYH1olL1olJXmsrmZYH1olJXmsr1olL1olJXmsrmZYH1olL1olJXmsrmZYH1olL1olL0nFf1olJXmsrmZYH1olJXmsq8dZb1olJXmsrmZYH1olJXmspXmspXmsr1olL1olJXmsrmZYH1olJXmsr1olL1olJXmsrmZYH1olL1olLeaIVXmsrmZYH1olL1olL1olJXmsrmZYH1olLna31Xmsr1olJXmsr1olJXmsrmZYH1olLqoVr1olJXmsr1olJXmsrmZYH1olL1olKkfaPobXvviGabgadXmsqThKuofKHmZ4Dobnr1olJXmsr1olJXmspXmsr1olJXmsrfZ4TuhWn1olL1olJXmsqBi7X1olJXmspZmslbmMhbmsdemsVfl8ZgmsNim8Jpk8F0m7R4m7F5nLB6jbh7jbiDirOEibOGnKaMhq+PnaCVg6qWg6qegKaff6WhnpKofKGtnomxeZy3noG6dZi+n3vCcpPDcpPGn3bLb4/Mb47UbIrVa4rYoGjdaIbeaIXhoWHmZYHobXvpcHjqdHXreHLroVrsfG/uhGnuh2bwj2Hxk17yl1vzmljzm1j0nlX1olL3AJXWAAAAbXRSTlMAEBAQHx8gICAuLjAwMDw9PUBAQEpQUFBXV1hgYGBkcHBwcXl8gICAgoiIkJCQlJicnJ2goKCmqK+wsLC4usDAwMjP0NDQ1NbW3Nzg4ODi5+3v8PDw8/T09PX29vb39/f5+fr7+/z8/Pz9/v7+zczCxgAABC5JREFUeAHN1ul3k0UUBvCb1CTVpmpaitAGSLSpSuKCLWpbTKNJFGlcSMAFF63iUmRccNG6gLbuxkXU66JAUef/9LSpmXnyLr3T5AO/rzl5zj137p136BISy44fKJXuGN/d19PUfYeO67Znqtf2KH33Id1psXoFdW30sPZ1sMvs2D060AHqws4FHeJojLZqnw53cmfvg+XR8mC0OEjuxrXEkX5ydeVJLVIlV0e10PXk5k7dYeHu7Cj1j+49uKg7uLU61tGLw1lq27ugQYlclHC4bgv7VQ+TAyj5Zc/UjsPvs1sd5cWryWObtvWT2EPa4rtnWW3JkpjggEpbOsPr7F7EyNewtpBIslA7p43HCsnwooXTEc3UmPmCNn5lrqTJxy6nRmcavGZVt/3Da2pD5NHvsOHJCrdc1G2r3DITpU7yic7w/7Rxnjc0kt5GC4djiv2Sz3Fb2iEZg41/ddsFDoyuYrIkmFehz0HR2thPgQqMyQYb2OtB0WxsZ3BeG3+wpRb1vzl2UYBog8FfGhttFKjtAclnZYrRo9ryG9uG/FZQU4AEg8ZE9LjGMzTmqKXPLnlWVnIlQQTvxJf8ip7VgjZjyVPrjw1te5otM7RmP7xm+sK2Gv9I8Gi++BRbEkR9EBw8zRUcKxwp73xkaLiqQb+kGduJTNHG72zcW9LoJgqQxpP3/Tj//c3yB0tqzaml05/+orHLksVO+95kX7/7qgJvnjlrfr2Ggsyx0eoy9uPzN5SPd86aXggOsEKW2Prz7du3VID3/tzs/sSRs2w7ovVHKtjrX2pd7ZMlTxAYfBAL9jiDwfLkq55Tm7ifhMlTGPyCAs7RFRhn47JnlcB9RM5T97ASuZXIcVNuUDIndpDbdsfrqsOppeXl5Y+XVKdjFCTh+zGaVuj0d9zy05PPK3QzBamxdwtTCrzyg/2Rvf2EstUjordGwa/kx9mSJLr8mLLtCW8HHGJc2R5hS219IiF6PnTusOqcMl57gm0Z8kanKMAQg0qSyuZfn7zItsbGyO9QlnxY0eCuD1XL2ys/MsrQhltE7Ug0uFOzufJFE2PxBo/YAx8XPPdDwWN0MrDRYIZF0mSMKCNHgaIVFoBbNoLJ7tEQDKxGF0kcLQimojCZopv0OkNOyWCCg9XMVAi7ARJzQdM2QUh0gmBozjc3Skg6dSBRqDGYSUOu66Zg+I2fNZs/M3/f/Grl/XnyF1Gw3VKCez0PN5IUfFLqvgUN4C0qNqYs5YhPL+aVZYDE4IpUk57oSFnJm4FyCqqOE0jhY2SMyLFoo56zyo6becOS5UVDdj7Vih0zp+tcMhwRpBeLyqtIjlJKAIZSbI8SGSF3k0pA3mR5tHuwPFoa7N7reoq2bqCsAk1HqCu5uvI1n6JuRXI+S1Mco54YmYTwcn6Aeic+kssXi8XpXC4V3t7/ADuTNKaQJdScAAAAAElFTkSuQmCC)](https://mybinder.org/v2/gh/vopani/datatableton/main?filepath=notebooks%2F03_data_selection_solutions.ipynb) | [![Open in GitHub](https://img.shields.io/static/v1?label=&message=Open%20in%20GitHub&labelColor=grey&color=blue&logo=github)](https://github.com/vopani/datatableton/blob/main/notebooks/03_data_selection_solutions.ipynb) |\n",
    "\n",
    "You can find all the exercises and solutions on [GitHub](https://github.com/vopani/datatableton#exercises-)"
   ]
  }
 ],
 "metadata": {
  "kernelspec": {
   "display_name": "Python 3",
   "language": "python",
   "name": "python3"
  },
  "language_info": {
   "codemirror_mode": {
    "name": "ipython",
    "version": 3
   },
   "file_extension": ".py",
   "mimetype": "text/x-python",
   "name": "python",
   "nbconvert_exporter": "python",
   "pygments_lexer": "ipython3",
   "version": "3.7.10"
  },
  "papermill": {
   "default_parameters": {},
   "duration": 69.642344,
   "end_time": "2021-07-13T06:14:54.093505",
   "environment_variables": {},
   "exception": null,
   "input_path": "__notebook__.ipynb",
   "output_path": "__notebook__.ipynb",
   "parameters": {},
   "start_time": "2021-07-13T06:13:44.451161",
   "version": "2.3.3"
  }
 },
 "nbformat": 4,
 "nbformat_minor": 5
}
