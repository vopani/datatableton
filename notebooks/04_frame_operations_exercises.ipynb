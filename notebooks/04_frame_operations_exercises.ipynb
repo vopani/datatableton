{
 "cells": [
  {
   "cell_type": "markdown",
   "id": "0f5bfd2c",
   "metadata": {
    "_cell_guid": "b1076dfc-b9ad-4769-8c92-a6c4dae69d19",
    "_uuid": "8f2839f25d086af736a60e9eeb907d3b93b6e0e5",
    "papermill": {
     "duration": 0.019295,
     "end_time": "2021-07-15T18:24:45.555551",
     "exception": false,
     "start_time": "2021-07-15T18:24:45.536256",
     "status": "completed"
    },
    "tags": []
   },
   "source": [
    "<center>\n",
    "    <h1>DatatableTon</h1>\n",
    "    💯 datatable exercises\n",
    "    <br>\n",
    "    <br>\n",
    "    <a href='https://github.com/vopani/datatableton/blob/master/LICENSE'>\n",
    "        <img src='https://img.shields.io/badge/license-Apache%202.0-blue.svg?logo=apache'>\n",
    "    </a>\n",
    "    <a href='https://github.com/vopani/datatableton'>\n",
    "        <img src='https://img.shields.io/github/stars/vopani/datatableton?color=yellowgreen&logo=github'>\n",
    "    </a>\n",
    "    <a href='https://twitter.com/vopani'>\n",
    "        <img src='https://img.shields.io/twitter/follow/vopani'>\n",
    "    </a>\n",
    "</center>"
   ]
  },
  {
   "cell_type": "markdown",
   "id": "e83fbb51",
   "metadata": {
    "papermill": {
     "duration": 0.017432,
     "end_time": "2021-07-15T18:24:45.590955",
     "exception": false,
     "start_time": "2021-07-15T18:24:45.573523",
     "status": "completed"
    },
    "tags": []
   },
   "source": [
    "<center>\n",
    "    This is Set 4: Frame Operations (Exercises 31-40) of <b>DatatableTon</b>: <i>💯 datatable exercises</i>\n",
    "    <br>\n",
    "    You can find all the exercises and solutions on <a href=\"https://github.com/vopani/datatableton#exercises-\">GitHub</a>\n",
    "</center>"
   ]
  },
  {
   "cell_type": "markdown",
   "id": "fca2dcc1",
   "metadata": {
    "papermill": {
     "duration": 0.01734,
     "end_time": "2021-07-15T18:24:45.626378",
     "exception": false,
     "start_time": "2021-07-15T18:24:45.609038",
     "status": "completed"
    },
    "tags": []
   },
   "source": [
    "**Prerequisites**\n",
    "* The `datatable` package should be upgraded to the latest version (or v1.0.0+).\n",
    "* The sample dataset [titanic](https://www.openml.org/d/40945) from openml will be used for the exercises."
   ]
  },
  {
   "cell_type": "code",
   "execution_count": 1,
   "id": "cd5911cb",
   "metadata": {
    "_kg_hide-output": true,
    "execution": {
     "iopub.execute_input": "2021-07-15T18:24:45.678745Z",
     "iopub.status.busy": "2021-07-15T18:24:45.677500Z",
     "iopub.status.idle": "2021-07-15T18:25:23.586262Z",
     "shell.execute_reply": "2021-07-15T18:25:23.584892Z",
     "shell.execute_reply.started": "2021-07-13T05:58:15.965858Z"
    },
    "papermill": {
     "duration": 37.942421,
     "end_time": "2021-07-15T18:25:23.586462",
     "exception": false,
     "start_time": "2021-07-15T18:24:45.644041",
     "status": "completed"
    },
    "tags": []
   },
   "outputs": [
    {
     "name": "stdout",
     "output_type": "stream",
     "text": [
      "Requirement already satisfied: pip in /opt/conda/lib/python3.7/site-packages (21.1.2)\r\n",
      "Collecting pip\r\n",
      "  Downloading pip-21.1.3-py3-none-any.whl (1.5 MB)\r\n",
      "\u001b[K     |████████████████████████████████| 1.5 MB 1.2 MB/s \r\n",
      "\u001b[?25hInstalling collected packages: pip\r\n",
      "  Attempting uninstall: pip\r\n",
      "    Found existing installation: pip 21.1.2\r\n",
      "    Uninstalling pip-21.1.2:\r\n",
      "      Successfully uninstalled pip-21.1.2\r\n",
      "Successfully installed pip-21.1.3\r\n",
      "\u001b[33mWARNING: Running pip as root will break packages and permissions. You should install packages reliably by using venv: https://pip.pypa.io/warnings/venv\u001b[0m\r\n",
      "Requirement already satisfied: datatable in /opt/conda/lib/python3.7/site-packages (1.0.0)\r\n",
      "\u001b[33mWARNING: Running pip as the 'root' user can result in broken permissions and conflicting behaviour with the system package manager. It is recommended to use a virtual environment instead: https://pip.pypa.io/warnings/venv\u001b[0m\r\n",
      "--2021-07-15 18:25:22--  https://www.openml.org/data/get_csv/16826755/titanic.csv\r\n",
      "Resolving www.openml.org (www.openml.org)... 131.155.11.11\r\n",
      "Connecting to www.openml.org (www.openml.org)|131.155.11.11|:443... connected.\r\n",
      "HTTP request sent, awaiting response... 200 OK\r\n",
      "Length: unspecified [text/plain]\r\n",
      "Saving to: ‘titanic.csv’\r\n",
      "\r\n",
      "titanic.csv             [  <=>               ] 114.98K   282KB/s    in 0.4s    \r\n",
      "\r\n",
      "2021-07-15 18:25:23 (282 KB/s) - ‘titanic.csv’ saved [117743]\r\n",
      "\r\n"
     ]
    }
   ],
   "source": [
    "!python3 -m pip install -U pip\n",
    "!python3 -m pip install -U datatable\n",
    "!wget https://www.openml.org/data/get_csv/16826755/titanic.csv"
   ]
  },
  {
   "cell_type": "code",
   "execution_count": 2,
   "id": "d784cf1d",
   "metadata": {
    "execution": {
     "iopub.execute_input": "2021-07-15T18:25:23.643862Z",
     "iopub.status.busy": "2021-07-15T18:25:23.643162Z",
     "iopub.status.idle": "2021-07-15T18:25:23.862331Z",
     "shell.execute_reply": "2021-07-15T18:25:23.862853Z",
     "shell.execute_reply.started": "2021-07-13T05:58:26.396318Z"
    },
    "papermill": {
     "duration": 0.25089,
     "end_time": "2021-07-15T18:25:23.863052",
     "exception": false,
     "start_time": "2021-07-15T18:25:23.612162",
     "status": "completed"
    },
    "tags": []
   },
   "outputs": [
    {
     "data": {
      "text/html": [
       "<style type='text/css'>\n",
       ".datatable table.frame { margin-bottom: 0; }\n",
       ".datatable table.frame thead { border-bottom: none; }\n",
       ".datatable table.frame tr.coltypes td {  color: #FFFFFF;  line-height: 6px;  padding: 0 0.5em;}\n",
       ".datatable .bool    { background: #DDDD99; }\n",
       ".datatable .object  { background: #565656; }\n",
       ".datatable .int     { background: #5D9E5D; }\n",
       ".datatable .float   { background: #4040CC; }\n",
       ".datatable .str     { background: #CC4040; }\n",
       ".datatable .time    { background: #40CC40; }\n",
       ".datatable .row_index {  background: var(--jp-border-color3);  border-right: 1px solid var(--jp-border-color0);  color: var(--jp-ui-font-color3);  font-size: 9px;}\n",
       ".datatable .frame tbody td { text-align: left; }\n",
       ".datatable .frame tr.coltypes .row_index {  background: var(--jp-border-color0);}\n",
       ".datatable th:nth-child(2) { padding-left: 12px; }\n",
       ".datatable .hellipsis {  color: var(--jp-cell-editor-border-color);}\n",
       ".datatable .vellipsis {  background: var(--jp-layout-color0);  color: var(--jp-cell-editor-border-color);}\n",
       ".datatable .na {  color: var(--jp-cell-editor-border-color);  font-size: 80%;}\n",
       ".datatable .sp {  opacity: 0.25;}\n",
       ".datatable .footer { font-size: 9px; }\n",
       ".datatable .frame_dimensions {  background: var(--jp-border-color3);  border-top: 1px solid var(--jp-border-color0);  color: var(--jp-ui-font-color3);  display: inline-block;  opacity: 0.6;  padding: 1px 10px 1px 5px;}\n",
       "</style>\n"
      ],
      "text/plain": [
       "<IPython.core.display.HTML object>"
      ]
     },
     "metadata": {},
     "output_type": "display_data"
    },
    {
     "data": {
      "text/html": [
       "<div class='datatable'>\n",
       "  <table class='frame'>\n",
       "  <thead>\n",
       "    <tr class='colnames'><td class='row_index'></td><th>pclass</th><th>survived</th><th>name</th><th>sex</th><th>age</th><th>sibsp</th><th>parch</th><th>ticket</th><th>fare</th><th>cabin</th><th>embarked</th><th>boat</th><th>body</th><th>home.dest</th></tr>\n",
       "    <tr class='coltypes'><td class='row_index'></td><td class='int' title='int32'>&#x25AA;&#x25AA;&#x25AA;&#x25AA;</td><td class='bool' title='bool8'>&#x25AA;</td><td class='str' title='str32'>&#x25AA;&#x25AA;&#x25AA;&#x25AA;</td><td class='str' title='str32'>&#x25AA;&#x25AA;&#x25AA;&#x25AA;</td><td class='str' title='str32'>&#x25AA;&#x25AA;&#x25AA;&#x25AA;</td><td class='int' title='int32'>&#x25AA;&#x25AA;&#x25AA;&#x25AA;</td><td class='int' title='int32'>&#x25AA;&#x25AA;&#x25AA;&#x25AA;</td><td class='str' title='str32'>&#x25AA;&#x25AA;&#x25AA;&#x25AA;</td><td class='str' title='str32'>&#x25AA;&#x25AA;&#x25AA;&#x25AA;</td><td class='str' title='str32'>&#x25AA;&#x25AA;&#x25AA;&#x25AA;</td><td class='str' title='str32'>&#x25AA;&#x25AA;&#x25AA;&#x25AA;</td><td class='str' title='str32'>&#x25AA;&#x25AA;&#x25AA;&#x25AA;</td><td class='str' title='str32'>&#x25AA;&#x25AA;&#x25AA;&#x25AA;</td><td class='str' title='str32'>&#x25AA;&#x25AA;&#x25AA;&#x25AA;</td></tr>\n",
       "  </thead>\n",
       "  <tbody>\n",
       "    <tr><td class='row_index'>0</td><td>1</td><td>1</td><td>Allen, Miss. Elisabeth Walton</td><td>female</td><td>29</td><td>0</td><td>0</td><td>24160</td><td>211.3375</td><td>B5</td><td>S</td><td>2</td><td>?</td><td>St Louis, MO</td></tr>\n",
       "    <tr><td class='row_index'>1</td><td>1</td><td>1</td><td>Allison, Master. Hudson Trevor</td><td>male</td><td>0.9167</td><td>1</td><td>2</td><td>113781</td><td>151.55</td><td>C22 C26</td><td>S</td><td>11</td><td>?</td><td>Montreal, PQ / Chesterville, ON</td></tr>\n",
       "    <tr><td class='row_index'>2</td><td>1</td><td>0</td><td>Allison, Miss. Helen Loraine</td><td>female</td><td>2</td><td>1</td><td>2</td><td>113781</td><td>151.55</td><td>C22 C26</td><td>S</td><td>?</td><td>?</td><td>Montreal, PQ / Chesterville, ON</td></tr>\n",
       "    <tr><td class='row_index'>3</td><td>1</td><td>0</td><td>Allison, Mr. Hudson Joshua Creighton</td><td>male</td><td>30</td><td>1</td><td>2</td><td>113781</td><td>151.55</td><td>C22 C26</td><td>S</td><td>?</td><td>135</td><td>Montreal, PQ / Chesterville, ON</td></tr>\n",
       "    <tr><td class='row_index'>4</td><td>1</td><td>0</td><td>Allison, Mrs. Hudson J C (Bessie Waldo Daniels)</td><td>female</td><td>25</td><td>1</td><td>2</td><td>113781</td><td>151.55</td><td>C22 C26</td><td>S</td><td>?</td><td>?</td><td>Montreal, PQ / Chesterville, ON</td></tr>\n",
       "    <tr><td class='row_index'>5</td><td>1</td><td>1</td><td>Anderson, Mr. Harry</td><td>male</td><td>48</td><td>0</td><td>0</td><td>19952</td><td>26.55</td><td>E12</td><td>S</td><td>3</td><td>?</td><td>New York, NY</td></tr>\n",
       "    <tr><td class='row_index'>6</td><td>1</td><td>1</td><td>Andrews, Miss. Kornelia Theodosia</td><td>female</td><td>63</td><td>1</td><td>0</td><td>13502</td><td>77.9583</td><td>D7</td><td>S</td><td>10</td><td>?</td><td>Hudson, NY</td></tr>\n",
       "    <tr><td class='row_index'>7</td><td>1</td><td>0</td><td>Andrews, Mr. Thomas Jr</td><td>male</td><td>39</td><td>0</td><td>0</td><td>112050</td><td>0</td><td>A36</td><td>S</td><td>?</td><td>?</td><td>Belfast, NI</td></tr>\n",
       "    <tr><td class='row_index'>8</td><td>1</td><td>1</td><td>Appleton, Mrs. Edward Dale (Charlotte Lamson)</td><td>female</td><td>53</td><td>2</td><td>0</td><td>11769</td><td>51.4792</td><td>C101</td><td>S</td><td>D</td><td>?</td><td>Bayside, Queens, NY</td></tr>\n",
       "    <tr><td class='row_index'>9</td><td>1</td><td>0</td><td>Artagaveytia, Mr. Ramon</td><td>male</td><td>71</td><td>0</td><td>0</td><td>PC 17609</td><td>49.5042</td><td>?</td><td>C</td><td>?</td><td>22</td><td>Montevideo, Uruguay</td></tr>\n",
       "  </tbody>\n",
       "  </table>\n",
       "  <div class='footer'>\n",
       "    <div class='frame_dimensions'>10 rows &times; 14 columns</div>\n",
       "  </div>\n",
       "</div>\n"
      ],
      "text/plain": [
       "<Frame#7fb981fd8d20 10x14>"
      ]
     },
     "execution_count": 2,
     "metadata": {},
     "output_type": "execute_result"
    }
   ],
   "source": [
    "import datatable as dt\n",
    "\n",
    "data = dt.fread('titanic.csv')\n",
    "data.head()"
   ]
  },
  {
   "cell_type": "markdown",
   "id": "63bc60d0",
   "metadata": {
    "execution": {
     "iopub.execute_input": "2021-07-12T10:35:52.5097Z",
     "iopub.status.busy": "2021-07-12T10:35:52.509278Z",
     "iopub.status.idle": "2021-07-12T10:35:52.517897Z",
     "shell.execute_reply": "2021-07-12T10:35:52.51596Z",
     "shell.execute_reply.started": "2021-07-12T10:35:52.509666Z"
    },
    "papermill": {
     "duration": 0.026308,
     "end_time": "2021-07-15T18:25:23.916402",
     "exception": false,
     "start_time": "2021-07-15T18:25:23.890094",
     "status": "completed"
    },
    "tags": []
   },
   "source": [
    "**Exercise 31: Print all the column names and column types of `data` in `column-name : column-type` format**"
   ]
  },
  {
   "cell_type": "code",
   "execution_count": null,
   "id": "85e79163",
   "metadata": {
    "execution": {
     "iopub.execute_input": "2021-07-13T06:02:02.931635Z",
     "iopub.status.busy": "2021-07-13T06:02:02.930446Z",
     "iopub.status.idle": "2021-07-13T06:02:02.935748Z",
     "shell.execute_reply": "2021-07-13T06:02:02.93618Z",
     "shell.execute_reply.started": "2021-07-13T05:58:26.63898Z"
    },
    "papermill": {
     "duration": 0.027282,
     "end_time": "2021-07-15T18:25:23.971678",
     "exception": false,
     "start_time": "2021-07-15T18:25:23.944396",
     "status": "completed"
    },
    "tags": []
   },
   "outputs": [],
   "source": []
  },
  {
   "cell_type": "markdown",
   "id": "2733a052",
   "metadata": {
    "papermill": {
     "duration": 0.026873,
     "end_time": "2021-07-15T18:25:24.025733",
     "exception": false,
     "start_time": "2021-07-15T18:25:23.998860",
     "status": "completed"
    },
    "tags": []
   },
   "source": [
    "**Exercise 32: Convert the type of column `age` in `data` from `str32` to `float`**"
   ]
  },
  {
   "cell_type": "code",
   "execution_count": null,
   "id": "44019d2c",
   "metadata": {
    "execution": {
     "iopub.execute_input": "2021-07-13T06:02:03.010699Z",
     "iopub.status.busy": "2021-07-13T06:02:03.009792Z",
     "iopub.status.idle": "2021-07-13T06:02:03.013893Z",
     "shell.execute_reply": "2021-07-13T06:02:03.013329Z",
     "shell.execute_reply.started": "2021-07-13T05:58:32.942534Z"
    },
    "papermill": {
     "duration": 0.027834,
     "end_time": "2021-07-15T18:25:24.080684",
     "exception": false,
     "start_time": "2021-07-15T18:25:24.052850",
     "status": "completed"
    },
    "tags": []
   },
   "outputs": [],
   "source": []
  },
  {
   "cell_type": "markdown",
   "id": "ed14a2d3",
   "metadata": {
    "papermill": {
     "duration": 0.026588,
     "end_time": "2021-07-15T18:25:24.135483",
     "exception": false,
     "start_time": "2021-07-15T18:25:24.108895",
     "status": "completed"
    },
    "tags": []
   },
   "source": [
    "**Exercise 33: Rename the column `home.dest` in `data` to `address`**"
   ]
  },
  {
   "cell_type": "code",
   "execution_count": null,
   "id": "6e8570d5",
   "metadata": {
    "execution": {
     "iopub.execute_input": "2021-07-13T06:02:03.087524Z",
     "iopub.status.busy": "2021-07-13T06:02:03.086771Z",
     "iopub.status.idle": "2021-07-13T06:02:03.090538Z",
     "shell.execute_reply": "2021-07-13T06:02:03.089852Z",
     "shell.execute_reply.started": "2021-07-13T05:58:34.027487Z"
    },
    "papermill": {
     "duration": 0.026822,
     "end_time": "2021-07-15T18:25:24.189121",
     "exception": false,
     "start_time": "2021-07-15T18:25:24.162299",
     "status": "completed"
    },
    "tags": []
   },
   "outputs": [],
   "source": []
  },
  {
   "cell_type": "markdown",
   "id": "4a16c6f4",
   "metadata": {
    "papermill": {
     "duration": 0.026645,
     "end_time": "2021-07-15T18:25:24.244153",
     "exception": false,
     "start_time": "2021-07-15T18:25:24.217508",
     "status": "completed"
    },
    "tags": []
   },
   "source": [
    "**Exercise 34: Sort `data` in descending order of `fare`**"
   ]
  },
  {
   "cell_type": "code",
   "execution_count": null,
   "id": "81254adc",
   "metadata": {
    "execution": {
     "iopub.execute_input": "2021-07-13T06:02:03.191376Z",
     "iopub.status.busy": "2021-07-13T06:02:03.190691Z",
     "iopub.status.idle": "2021-07-13T06:02:03.19778Z",
     "shell.execute_reply": "2021-07-13T06:02:03.198235Z",
     "shell.execute_reply.started": "2021-07-13T05:59:43.688133Z"
    },
    "papermill": {
     "duration": 0.030211,
     "end_time": "2021-07-15T18:25:24.302076",
     "exception": false,
     "start_time": "2021-07-15T18:25:24.271865",
     "status": "completed"
    },
    "tags": []
   },
   "outputs": [],
   "source": []
  },
  {
   "cell_type": "markdown",
   "id": "82c8f604",
   "metadata": {
    "papermill": {
     "duration": 0.036157,
     "end_time": "2021-07-15T18:25:24.369768",
     "exception": false,
     "start_time": "2021-07-15T18:25:24.333611",
     "status": "completed"
    },
    "tags": []
   },
   "source": [
    "**Exercise 35: Create a column `deck` in `data` containing only the first character of `cabin`**"
   ]
  },
  {
   "cell_type": "code",
   "execution_count": null,
   "id": "6851d2fc",
   "metadata": {
    "execution": {
     "iopub.execute_input": "2021-07-13T06:02:03.285646Z",
     "iopub.status.busy": "2021-07-13T06:02:03.284773Z",
     "iopub.status.idle": "2021-07-13T06:02:03.289028Z",
     "shell.execute_reply": "2021-07-13T06:02:03.288479Z",
     "shell.execute_reply.started": "2021-07-13T04:28:11.055227Z"
    },
    "papermill": {
     "duration": 0.026821,
     "end_time": "2021-07-15T18:25:24.423689",
     "exception": false,
     "start_time": "2021-07-15T18:25:24.396868",
     "status": "completed"
    },
    "tags": []
   },
   "outputs": [],
   "source": []
  },
  {
   "cell_type": "markdown",
   "id": "391c57aa",
   "metadata": {
    "papermill": {
     "duration": 0.027222,
     "end_time": "2021-07-15T18:25:24.487719",
     "exception": false,
     "start_time": "2021-07-15T18:25:24.460497",
     "status": "completed"
    },
    "tags": []
   },
   "source": [
    "**Exercise 36: Create a column `family` in `data` which is the sum of two columns `sibsp` and `parch`**"
   ]
  },
  {
   "cell_type": "code",
   "execution_count": null,
   "id": "f9f726d8",
   "metadata": {
    "execution": {
     "iopub.execute_input": "2021-07-13T06:02:03.366932Z",
     "iopub.status.busy": "2021-07-13T06:02:03.366062Z",
     "iopub.status.idle": "2021-07-13T06:02:03.370352Z",
     "shell.execute_reply": "2021-07-13T06:02:03.369884Z",
     "shell.execute_reply.started": "2021-07-13T04:28:36.35308Z"
    },
    "papermill": {
     "duration": 0.027358,
     "end_time": "2021-07-15T18:25:24.542620",
     "exception": false,
     "start_time": "2021-07-15T18:25:24.515262",
     "status": "completed"
    },
    "tags": []
   },
   "outputs": [],
   "source": []
  },
  {
   "cell_type": "markdown",
   "id": "403601af",
   "metadata": {
    "papermill": {
     "duration": 0.031683,
     "end_time": "2021-07-15T18:25:24.607800",
     "exception": false,
     "start_time": "2021-07-15T18:25:24.576117",
     "status": "completed"
    },
    "tags": []
   },
   "source": [
    "**Exercise 37: Create a column `total_passengers` in `data` which is the sum of `family` and the passenger included and round the values of column `age` in `data` to the nearest integer, both together using a single inplace operation**"
   ]
  },
  {
   "cell_type": "code",
   "execution_count": null,
   "id": "0fb2b962",
   "metadata": {
    "execution": {
     "iopub.execute_input": "2021-07-13T06:02:03.451625Z",
     "iopub.status.busy": "2021-07-13T06:02:03.450824Z",
     "iopub.status.idle": "2021-07-13T06:02:03.455029Z",
     "shell.execute_reply": "2021-07-13T06:02:03.454611Z",
     "shell.execute_reply.started": "2021-07-13T04:28:58.075163Z"
    },
    "papermill": {
     "duration": 0.034959,
     "end_time": "2021-07-15T18:25:24.675102",
     "exception": false,
     "start_time": "2021-07-15T18:25:24.640143",
     "status": "completed"
    },
    "tags": []
   },
   "outputs": [],
   "source": []
  },
  {
   "cell_type": "markdown",
   "id": "fda24a51",
   "metadata": {
    "papermill": {
     "duration": 0.026597,
     "end_time": "2021-07-15T18:25:24.729015",
     "exception": false,
     "start_time": "2021-07-15T18:25:24.702418",
     "status": "completed"
    },
    "tags": []
   },
   "source": [
    "**Exercise 38: Delete the used columns `sibsp` and `parch` and the outlier rows first and last from `data`**"
   ]
  },
  {
   "cell_type": "code",
   "execution_count": null,
   "id": "012e01dc",
   "metadata": {
    "execution": {
     "iopub.execute_input": "2021-07-13T06:02:03.535125Z",
     "iopub.status.busy": "2021-07-13T06:02:03.534354Z",
     "iopub.status.idle": "2021-07-13T06:02:03.538255Z",
     "shell.execute_reply": "2021-07-13T06:02:03.537805Z",
     "shell.execute_reply.started": "2021-07-13T06:01:00.084112Z"
    },
    "papermill": {
     "duration": 0.026627,
     "end_time": "2021-07-15T18:25:24.782493",
     "exception": false,
     "start_time": "2021-07-15T18:25:24.755866",
     "status": "completed"
    },
    "tags": []
   },
   "outputs": [],
   "source": []
  },
  {
   "cell_type": "code",
   "execution_count": null,
   "id": "3f26e6e3",
   "metadata": {
    "execution": {
     "iopub.execute_input": "2021-07-13T06:02:03.591109Z",
     "iopub.status.busy": "2021-07-13T06:02:03.59045Z",
     "iopub.status.idle": "2021-07-13T06:02:03.594989Z",
     "shell.execute_reply": "2021-07-13T06:02:03.595461Z",
     "shell.execute_reply.started": "2021-07-13T06:01:01.120639Z"
    },
    "papermill": {
     "duration": 0.026515,
     "end_time": "2021-07-15T18:25:24.835871",
     "exception": false,
     "start_time": "2021-07-15T18:25:24.809356",
     "status": "completed"
    },
    "tags": []
   },
   "outputs": [],
   "source": []
  },
  {
   "cell_type": "markdown",
   "id": "75f54988",
   "metadata": {
    "papermill": {
     "duration": 0.026991,
     "end_time": "2021-07-15T18:25:24.890783",
     "exception": false,
     "start_time": "2021-07-15T18:25:24.863792",
     "status": "completed"
    },
    "tags": []
   },
   "source": [
    "**Exercise 39: Replace all `'?'` values with `NA` or `null` as missing values in `data`**"
   ]
  },
  {
   "cell_type": "code",
   "execution_count": null,
   "id": "1a96af9d",
   "metadata": {
    "execution": {
     "iopub.execute_input": "2021-07-13T06:02:03.682069Z",
     "iopub.status.busy": "2021-07-13T06:02:03.681192Z",
     "iopub.status.idle": "2021-07-13T06:02:03.685071Z",
     "shell.execute_reply": "2021-07-13T06:02:03.684538Z",
     "shell.execute_reply.started": "2021-07-13T06:01:04.01253Z"
    },
    "papermill": {
     "duration": 0.026826,
     "end_time": "2021-07-15T18:25:24.944713",
     "exception": false,
     "start_time": "2021-07-15T18:25:24.917887",
     "status": "completed"
    },
    "tags": []
   },
   "outputs": [],
   "source": []
  },
  {
   "cell_type": "markdown",
   "id": "a35b87fe",
   "metadata": {
    "papermill": {
     "duration": 0.02661,
     "end_time": "2021-07-15T18:25:24.998532",
     "exception": false,
     "start_time": "2021-07-15T18:25:24.971922",
     "status": "completed"
    },
    "tags": []
   },
   "source": [
    "**Exercise 40: Impute all the missing values in `data` with `-1` for numeric columns and `'unknown'` for string columns**"
   ]
  },
  {
   "cell_type": "code",
   "execution_count": null,
   "id": "bdf0da78",
   "metadata": {
    "execution": {
     "iopub.execute_input": "2021-07-13T06:02:03.776593Z",
     "iopub.status.busy": "2021-07-13T06:02:03.775903Z",
     "iopub.status.idle": "2021-07-13T06:02:03.780163Z",
     "shell.execute_reply": "2021-07-13T06:02:03.780701Z",
     "shell.execute_reply.started": "2021-07-13T04:29:25.784011Z"
    },
    "papermill": {
     "duration": 0.029406,
     "end_time": "2021-07-15T18:25:25.055076",
     "exception": false,
     "start_time": "2021-07-15T18:25:25.025670",
     "status": "completed"
    },
    "tags": []
   },
   "outputs": [],
   "source": []
  },
  {
   "cell_type": "markdown",
   "id": "7fd864fa",
   "metadata": {
    "papermill": {
     "duration": 0.027134,
     "end_time": "2021-07-15T18:25:25.111655",
     "exception": false,
     "start_time": "2021-07-15T18:25:25.084521",
     "status": "completed"
    },
    "tags": []
   },
   "source": [
    "✅ This completes Set 4: Frame Operations (Exercises 31-40) of **DatatableTon**: *💯 datatable exercises*\n",
    "\n",
    "#### Set 05 • Column Aggregations • Beginner • Exercises 41-50\n",
    "\n",
    "| Style | Colab | Kaggle | Binder | GitHub |\n",
    "| ----- | ----- | ------ | ------ | ------ |\n",
    "| Exercises | [![Open in Colab](https://img.shields.io/static/v1?label=&message=Open%20in%20Colab&labelColor=grey&color=blue&logo=google-colab)](https://colab.research.google.com/github/vopani/datatableton/blob/main/notebooks/05_column_aggregations_exercises.ipynb) | [![Open in Kaggle](https://img.shields.io/static/v1?label=&message=Open%20in%20Kaggle&labelColor=grey&color=blue&logo=kaggle)](https://www.kaggle.com/rohanrao/datatableton-column-aggregations-exercises) | [![Open in Binder](https://img.shields.io/static/v1?label=&message=Open%20in%20Binder&labelColor=grey&color=blue&logo=data:image/png;base64,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)](https://mybinder.org/v2/gh/vopani/datatableton/main?filepath=notebooks%2F05_column_aggregations_exercises.ipynb) | [![Open in GitHub](https://img.shields.io/static/v1?label=&message=Open%20in%20GitHub&labelColor=grey&color=blue&logo=github)](https://github.com/vopani/datatableton/blob/main/notebooks/05_column_aggregations_exercises.ipynb) |\n",
    "| Solutions | [![Open in Colab](https://img.shields.io/static/v1?label=&message=Open%20in%20Colab&labelColor=grey&color=blue&logo=google-colab)](https://colab.research.google.com/github/vopani/datatableton/blob/main/notebooks/05_column_aggregations_solutions.ipynb) | [![Open in Kaggle](https://img.shields.io/static/v1?label=&message=Open%20in%20Kaggle&labelColor=grey&color=blue&logo=kaggle)](https://www.kaggle.com/rohanrao/datatableton-column-aggregations-solutions) | [![Open in Binder](https://img.shields.io/static/v1?label=&message=Open%20in%20Binder&labelColor=grey&color=blue&logo=data:image/png;base64,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)](https://mybinder.org/v2/gh/vopani/datatableton/main?filepath=notebooks%2F05_column_aggregations_solutions.ipynb) | [![Open in GitHub](https://img.shields.io/static/v1?label=&message=Open%20in%20GitHub&labelColor=grey&color=blue&logo=github)](https://github.com/vopani/datatableton/blob/main/notebooks/05_column_aggregations_solutions.ipynb) |\n",
    "\n",
    "You can find all the exercises and solutions on [GitHub](https://github.com/vopani/datatableton#exercises-)"
   ]
  }
 ],
 "metadata": {
  "kernelspec": {
   "display_name": "Python 3",
   "language": "python",
   "name": "python3"
  },
  "language_info": {
   "codemirror_mode": {
    "name": "ipython",
    "version": 3
   },
   "file_extension": ".py",
   "mimetype": "text/x-python",
   "name": "python",
   "nbconvert_exporter": "python",
   "pygments_lexer": "ipython3",
   "version": "3.7.10"
  },
  "papermill": {
   "default_parameters": {},
   "duration": 49.739931,
   "end_time": "2021-07-15T18:25:25.850028",
   "environment_variables": {},
   "exception": null,
   "input_path": "__notebook__.ipynb",
   "output_path": "__notebook__.ipynb",
   "parameters": {},
   "start_time": "2021-07-15T18:24:36.110097",
   "version": "2.3.3"
  }
 },
 "nbformat": 4,
 "nbformat_minor": 5
}
