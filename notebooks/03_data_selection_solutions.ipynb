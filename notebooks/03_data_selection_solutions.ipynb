{
 "cells": [
  {
   "cell_type": "markdown",
   "id": "35f1d269",
   "metadata": {
    "_cell_guid": "b1076dfc-b9ad-4769-8c92-a6c4dae69d19",
    "_uuid": "8f2839f25d086af736a60e9eeb907d3b93b6e0e5",
    "papermill": {
     "duration": 0.023339,
     "end_time": "2021-07-13T06:19:45.751060",
     "exception": false,
     "start_time": "2021-07-13T06:19:45.727721",
     "status": "completed"
    },
    "tags": []
   },
   "source": [
    "<center>\n",
    "    <h1>DatatableTon</h1>\n",
    "    💯 datatable exercises\n",
    "    <br>\n",
    "    <br>\n",
    "    <a href='https://github.com/vopani/datatableton/blob/master/LICENSE'>\n",
    "        <img src='https://img.shields.io/badge/license-Apache%202.0-blue.svg?logo=apache'>\n",
    "    </a>\n",
    "    <a href='https://github.com/vopani/datatableton'>\n",
    "        <img src='https://img.shields.io/github/stars/vopani/datatableton?color=yellowgreen&logo=github'>\n",
    "    </a>\n",
    "    <a href='https://twitter.com/vopani'>\n",
    "        <img src='https://img.shields.io/twitter/follow/vopani'>\n",
    "    </a>\n",
    "</center>"
   ]
  },
  {
   "cell_type": "markdown",
   "id": "206b6ab5",
   "metadata": {
    "papermill": {
     "duration": 0.014946,
     "end_time": "2021-07-13T06:19:45.789735",
     "exception": false,
     "start_time": "2021-07-13T06:19:45.774789",
     "status": "completed"
    },
    "tags": []
   },
   "source": [
    "<center>\n",
    "    This is Set 3: Data Selection (Exercises 21-30) of <b>DatatableTon</b>: <i>💯 datatable exercises</i>\n",
    "    <br>\n",
    "    You can find all the exercises and solutions on <a href=\"https://github.com/vopani/datatableton#exercises-\">GitHub</a>\n",
    "</center>"
   ]
  },
  {
   "cell_type": "markdown",
   "id": "5a8b27ff",
   "metadata": {
    "papermill": {
     "duration": 0.01482,
     "end_time": "2021-07-13T06:19:45.819569",
     "exception": false,
     "start_time": "2021-07-13T06:19:45.804749",
     "status": "completed"
    },
    "tags": []
   },
   "source": [
    "**Prerequisites**\n",
    "* The `datatable` package should be upgraded to the latest version (or v1.0.0+).\n",
    "* The sample dataset [datatableton_sample.csv](https://github.com/vopani/datatableton/blob/main/data/datatableton_sample.csv) will be used for the exercises."
   ]
  },
  {
   "cell_type": "code",
   "execution_count": 1,
   "id": "ce0e72cc",
   "metadata": {
    "_kg_hide-output": true,
    "execution": {
     "iopub.execute_input": "2021-07-13T06:19:45.879157Z",
     "iopub.status.busy": "2021-07-13T06:19:45.863329Z",
     "iopub.status.idle": "2021-07-13T06:20:18.123584Z",
     "shell.execute_reply": "2021-07-13T06:20:18.122754Z",
     "shell.execute_reply.started": "2021-07-09T16:57:01.831667Z"
    },
    "papermill": {
     "duration": 32.288329,
     "end_time": "2021-07-13T06:20:18.123750",
     "exception": false,
     "start_time": "2021-07-13T06:19:45.835421",
     "status": "completed"
    },
    "tags": []
   },
   "outputs": [
    {
     "name": "stdout",
     "output_type": "stream",
     "text": [
      "Requirement already satisfied: pip in /opt/conda/lib/python3.7/site-packages (21.1.2)\r\n",
      "Collecting pip\r\n",
      "  Downloading pip-21.1.3-py3-none-any.whl (1.5 MB)\r\n",
      "\u001b[K     |████████████████████████████████| 1.5 MB 5.7 MB/s \r\n",
      "\u001b[?25hInstalling collected packages: pip\r\n",
      "  Attempting uninstall: pip\r\n",
      "    Found existing installation: pip 21.1.2\r\n",
      "    Uninstalling pip-21.1.2:\r\n",
      "      Successfully uninstalled pip-21.1.2\r\n",
      "Successfully installed pip-21.1.3\r\n",
      "\u001b[33mWARNING: Running pip as root will break packages and permissions. You should install packages reliably by using venv: https://pip.pypa.io/warnings/venv\u001b[0m\r\n",
      "Requirement already satisfied: datatable in /opt/conda/lib/python3.7/site-packages (1.0.0)\r\n",
      "\u001b[33mWARNING: Running pip as the 'root' user can result in broken permissions and conflicting behaviour with the system package manager. It is recommended to use a virtual environment instead: https://pip.pypa.io/warnings/venv\u001b[0m\r\n",
      "--2021-07-13 06:20:17--  https://raw.githubusercontent.com/vopani/datatableton/main/data/datatableton_sample.csv\r\n",
      "Resolving raw.githubusercontent.com (raw.githubusercontent.com)... 185.199.109.133, 185.199.108.133, 185.199.111.133, ...\r\n",
      "Connecting to raw.githubusercontent.com (raw.githubusercontent.com)|185.199.109.133|:443... connected.\r\n",
      "HTTP request sent, awaiting response... 200 OK\r\n",
      "Length: 940 [text/plain]\r\n",
      "Saving to: ‘datatableton_sample.csv’\r\n",
      "\r\n",
      "datatableton_sample 100%[===================>]     940  --.-KB/s    in 0s      \r\n",
      "\r\n",
      "2021-07-13 06:20:18 (48.0 MB/s) - ‘datatableton_sample.csv’ saved [940/940]\r\n",
      "\r\n"
     ]
    }
   ],
   "source": [
    "!python3 -m pip install -U pip\n",
    "!python3 -m pip install -U datatable\n",
    "!wget https://raw.githubusercontent.com/vopani/datatableton/main/data/datatableton_sample.csv"
   ]
  },
  {
   "cell_type": "code",
   "execution_count": 2,
   "id": "3c27e7cd",
   "metadata": {
    "execution": {
     "iopub.execute_input": "2021-07-13T06:20:18.168289Z",
     "iopub.status.busy": "2021-07-13T06:20:18.167282Z",
     "iopub.status.idle": "2021-07-13T06:20:18.363746Z",
     "shell.execute_reply": "2021-07-13T06:20:18.364178Z",
     "shell.execute_reply.started": "2021-07-09T16:57:11.178992Z"
    },
    "papermill": {
     "duration": 0.221649,
     "end_time": "2021-07-13T06:20:18.364354",
     "exception": false,
     "start_time": "2021-07-13T06:20:18.142705",
     "status": "completed"
    },
    "tags": []
   },
   "outputs": [
    {
     "data": {
      "text/html": [
       "<style type='text/css'>\n",
       ".datatable table.frame { margin-bottom: 0; }\n",
       ".datatable table.frame thead { border-bottom: none; }\n",
       ".datatable table.frame tr.coltypes td {  color: #FFFFFF;  line-height: 6px;  padding: 0 0.5em;}\n",
       ".datatable .bool    { background: #DDDD99; }\n",
       ".datatable .object  { background: #565656; }\n",
       ".datatable .int     { background: #5D9E5D; }\n",
       ".datatable .float   { background: #4040CC; }\n",
       ".datatable .str     { background: #CC4040; }\n",
       ".datatable .time    { background: #40CC40; }\n",
       ".datatable .row_index {  background: var(--jp-border-color3);  border-right: 1px solid var(--jp-border-color0);  color: var(--jp-ui-font-color3);  font-size: 9px;}\n",
       ".datatable .frame tbody td { text-align: left; }\n",
       ".datatable .frame tr.coltypes .row_index {  background: var(--jp-border-color0);}\n",
       ".datatable th:nth-child(2) { padding-left: 12px; }\n",
       ".datatable .hellipsis {  color: var(--jp-cell-editor-border-color);}\n",
       ".datatable .vellipsis {  background: var(--jp-layout-color0);  color: var(--jp-cell-editor-border-color);}\n",
       ".datatable .na {  color: var(--jp-cell-editor-border-color);  font-size: 80%;}\n",
       ".datatable .sp {  opacity: 0.25;}\n",
       ".datatable .footer { font-size: 9px; }\n",
       ".datatable .frame_dimensions {  background: var(--jp-border-color3);  border-top: 1px solid var(--jp-border-color0);  color: var(--jp-ui-font-color3);  display: inline-block;  opacity: 0.6;  padding: 1px 10px 1px 5px;}\n",
       "</style>\n"
      ],
      "text/plain": [
       "<IPython.core.display.HTML object>"
      ]
     },
     "metadata": {},
     "output_type": "display_data"
    },
    {
     "data": {
      "text/html": [
       "<div class='datatable'>\n",
       "  <table class='frame'>\n",
       "  <thead>\n",
       "    <tr class='colnames'><td class='row_index'></td><th>timestamp</th><th>user</th><th>age</th><th>product</th><th>category</th><th>price</th><th>quantity</th></tr>\n",
       "    <tr class='coltypes'><td class='row_index'></td><td class='time' title='time64'>&#x25AA;&#x25AA;&#x25AA;&#x25AA;&#x25AA;&#x25AA;&#x25AA;&#x25AA;</td><td class='str' title='str32'>&#x25AA;&#x25AA;&#x25AA;&#x25AA;</td><td class='int' title='int32'>&#x25AA;&#x25AA;&#x25AA;&#x25AA;</td><td class='str' title='str32'>&#x25AA;&#x25AA;&#x25AA;&#x25AA;</td><td class='str' title='str32'>&#x25AA;&#x25AA;&#x25AA;&#x25AA;</td><td class='float' title='float64'>&#x25AA;&#x25AA;&#x25AA;&#x25AA;&#x25AA;&#x25AA;&#x25AA;&#x25AA;</td><td class='int' title='int32'>&#x25AA;&#x25AA;&#x25AA;&#x25AA;</td></tr>\n",
       "  </thead>\n",
       "  <tbody>\n",
       "    <tr><td class='row_index'>0</td><td>2017-01-01<span class=sp>T</span>13:22:41</td><td>U1</td><td>21</td><td>Eggs</td><td>Dairy</td><td>2.3</td><td>2</td></tr>\n",
       "    <tr><td class='row_index'>1</td><td>2017-05-22<span class=sp>T</span>09:54:21</td><td>U2</td><td>41</td><td>Bread</td><td><span class=na>NA</span></td><td>0.6</td><td>2</td></tr>\n",
       "    <tr><td class='row_index'>2</td><td>2018-11-09<span class=sp>T</span>15:00:01</td><td>U3</td><td><span class=na>NA</span></td><td>Banana</td><td>Fruit</td><td>0.7</td><td>1</td></tr>\n",
       "    <tr><td class='row_index'>3</td><td>2018-12-24<span class=sp>T</span>23:03:33</td><td>U1</td><td>21</td><td>Water</td><td>Drink</td><td>0.2</td><td>1</td></tr>\n",
       "    <tr><td class='row_index'>4</td><td>2019-03-03<span class=sp>T</span>06:21:58</td><td>U4</td><td>19</td><td>Eggs</td><td>Dairy</td><td>2.3</td><td>2</td></tr>\n",
       "    <tr><td class='row_index'>5</td><td>2019-06-17<span class=sp>T</span>16:13:39</td><td>U5</td><td>25</td><td>Grapes</td><td>Fruit</td><td>1.5</td><td>1</td></tr>\n",
       "    <tr><td class='row_index'>6</td><td>2019-07-28<span class=sp>T</span>21:03:11</td><td>U5</td><td>25</td><td>Bread</td><td><span class=na>NA</span></td><td>0.6</td><td>1</td></tr>\n",
       "    <tr><td class='row_index'>7</td><td>2019-12-05<span class=sp>T</span>04:15:42</td><td>U1</td><td>21</td><td>Banana</td><td>Fruit</td><td>0.7</td><td>2</td></tr>\n",
       "    <tr><td class='row_index'>8</td><td>2020-02-02<span class=sp>T</span>03:45:34</td><td>U3</td><td><span class=na>NA</span></td><td>Banana</td><td>Fruit</td><td>0.7</td><td>1</td></tr>\n",
       "    <tr><td class='row_index'>9</td><td>2020-03-05<span class=sp>T</span>07:09:12</td><td>U4</td><td>19</td><td>Grapes</td><td>Fruit</td><td>1.5</td><td>1</td></tr>\n",
       "    <tr><td class='row_index'>10</td><td>2020-03-22<span class=sp>T</span>19:29:38</td><td>U1</td><td>21</td><td>Water</td><td>Drink</td><td>0.2</td><td>1</td></tr>\n",
       "    <tr><td class='row_index'>11</td><td>2020-03-30<span class=sp>T</span>09:44:30</td><td>U4</td><td>19</td><td>Water</td><td>Drink</td><td>0.2</td><td>1</td></tr>\n",
       "    <tr><td class='row_index'>12</td><td>2020-04-01<span class=sp>T</span>13:21:41</td><td>U1</td><td>21</td><td>Banana</td><td>Fruit</td><td>0.7</td><td>2</td></tr>\n",
       "    <tr><td class='row_index'>13</td><td>2020-07-08<span class=sp>T</span>11:45:25</td><td>U2</td><td>41</td><td>Grapes</td><td>Fruit</td><td>1.5</td><td>1</td></tr>\n",
       "    <tr><td class='row_index'>14</td><td>2020-11-19<span class=sp>T</span>18:51:22</td><td>U5</td><td>25</td><td>Water</td><td>Drink</td><td>0.2</td><td>1</td></tr>\n",
       "    <tr><td class='row_index'>15</td><td>2020-12-03<span class=sp>T</span>16:23:48</td><td>U3</td><td><span class=na>NA</span></td><td>Banana</td><td>Fruit</td><td>0.5</td><td>3</td></tr>\n",
       "    <tr><td class='row_index'>16</td><td>2021-02-03<span class=sp>T</span>01:14:40</td><td>U5</td><td>25</td><td>Eggs</td><td>Dairy</td><td>2.1</td><td>4</td></tr>\n",
       "    <tr><td class='row_index'>17</td><td>2021-05-26<span class=sp>T</span>22:42:15</td><td>U3</td><td><span class=na>NA</span></td><td>Bread</td><td><span class=na>NA</span></td><td>0.6</td><td>1</td></tr>\n",
       "    <tr><td class='row_index'>18</td><td>2021-06-14<span class=sp>T</span>15:49:28</td><td>U4</td><td>19</td><td>Eggs</td><td>Dairy</td><td>2.3</td><td>2</td></tr>\n",
       "    <tr><td class='row_index'>19</td><td>2021-07-01<span class=sp>T</span>04:37:31</td><td>U4</td><td>19</td><td>Water</td><td>Drink</td><td>0.3</td><td>1</td></tr>\n",
       "  </tbody>\n",
       "  </table>\n",
       "  <div class='footer'>\n",
       "    <div class='frame_dimensions'>20 rows &times; 7 columns</div>\n",
       "  </div>\n",
       "</div>\n"
      ],
      "text/plain": [
       "<Frame#7f1278692ed0 20x7>"
      ]
     },
     "execution_count": 2,
     "metadata": {},
     "output_type": "execute_result"
    }
   ],
   "source": [
    "import datatable as dt\n",
    "\n",
    "data = dt.fread('datatableton_sample.csv')\n",
    "data"
   ]
  },
  {
   "cell_type": "markdown",
   "id": "a25a9f20",
   "metadata": {
    "papermill": {
     "duration": 0.019707,
     "end_time": "2021-07-13T06:20:18.404856",
     "exception": false,
     "start_time": "2021-07-13T06:20:18.385149",
     "status": "completed"
    },
    "tags": []
   },
   "source": [
    "**Exercise 21: Select the columns `user`, `product` and `quantity` from `data` and assign it to `data_upq` and select the `user` column from `data_upq` and assign it to `data_u`**"
   ]
  },
  {
   "cell_type": "code",
   "execution_count": 3,
   "id": "5c2e6d2c",
   "metadata": {
    "execution": {
     "iopub.execute_input": "2021-07-13T06:20:18.450896Z",
     "iopub.status.busy": "2021-07-13T06:20:18.450036Z",
     "iopub.status.idle": "2021-07-13T06:20:18.454288Z",
     "shell.execute_reply": "2021-07-13T06:20:18.453853Z",
     "shell.execute_reply.started": "2021-07-09T16:57:11.398425Z"
    },
    "papermill": {
     "duration": 0.029724,
     "end_time": "2021-07-13T06:20:18.454464",
     "exception": false,
     "start_time": "2021-07-13T06:20:18.424740",
     "status": "completed"
    },
    "tags": []
   },
   "outputs": [
    {
     "data": {
      "text/html": [
       "<div class='datatable'>\n",
       "  <table class='frame'>\n",
       "  <thead>\n",
       "    <tr class='colnames'><td class='row_index'></td><th>user</th><th>product</th><th>quantity</th></tr>\n",
       "    <tr class='coltypes'><td class='row_index'></td><td class='str' title='str32'>&#x25AA;&#x25AA;&#x25AA;&#x25AA;</td><td class='str' title='str32'>&#x25AA;&#x25AA;&#x25AA;&#x25AA;</td><td class='int' title='int32'>&#x25AA;&#x25AA;&#x25AA;&#x25AA;</td></tr>\n",
       "  </thead>\n",
       "  <tbody>\n",
       "    <tr><td class='row_index'>0</td><td>U1</td><td>Eggs</td><td>2</td></tr>\n",
       "    <tr><td class='row_index'>1</td><td>U2</td><td>Bread</td><td>2</td></tr>\n",
       "    <tr><td class='row_index'>2</td><td>U3</td><td>Banana</td><td>1</td></tr>\n",
       "    <tr><td class='row_index'>3</td><td>U1</td><td>Water</td><td>1</td></tr>\n",
       "    <tr><td class='row_index'>4</td><td>U4</td><td>Eggs</td><td>2</td></tr>\n",
       "    <tr><td class='row_index'>5</td><td>U5</td><td>Grapes</td><td>1</td></tr>\n",
       "    <tr><td class='row_index'>6</td><td>U5</td><td>Bread</td><td>1</td></tr>\n",
       "    <tr><td class='row_index'>7</td><td>U1</td><td>Banana</td><td>2</td></tr>\n",
       "    <tr><td class='row_index'>8</td><td>U3</td><td>Banana</td><td>1</td></tr>\n",
       "    <tr><td class='row_index'>9</td><td>U4</td><td>Grapes</td><td>1</td></tr>\n",
       "    <tr><td class='row_index'>10</td><td>U1</td><td>Water</td><td>1</td></tr>\n",
       "    <tr><td class='row_index'>11</td><td>U4</td><td>Water</td><td>1</td></tr>\n",
       "    <tr><td class='row_index'>12</td><td>U1</td><td>Banana</td><td>2</td></tr>\n",
       "    <tr><td class='row_index'>13</td><td>U2</td><td>Grapes</td><td>1</td></tr>\n",
       "    <tr><td class='row_index'>14</td><td>U5</td><td>Water</td><td>1</td></tr>\n",
       "    <tr><td class='row_index'>15</td><td>U3</td><td>Banana</td><td>3</td></tr>\n",
       "    <tr><td class='row_index'>16</td><td>U5</td><td>Eggs</td><td>4</td></tr>\n",
       "    <tr><td class='row_index'>17</td><td>U3</td><td>Bread</td><td>1</td></tr>\n",
       "    <tr><td class='row_index'>18</td><td>U4</td><td>Eggs</td><td>2</td></tr>\n",
       "    <tr><td class='row_index'>19</td><td>U4</td><td>Water</td><td>1</td></tr>\n",
       "  </tbody>\n",
       "  </table>\n",
       "  <div class='footer'>\n",
       "    <div class='frame_dimensions'>20 rows &times; 3 columns</div>\n",
       "  </div>\n",
       "</div>\n"
      ],
      "text/plain": [
       "<Frame#7f1273020810 20x3>"
      ]
     },
     "execution_count": 3,
     "metadata": {},
     "output_type": "execute_result"
    }
   ],
   "source": [
    "data_upq = data[:, ['user', 'product', 'quantity']]\n",
    "data_upq"
   ]
  },
  {
   "cell_type": "code",
   "execution_count": 4,
   "id": "79da374e",
   "metadata": {
    "execution": {
     "iopub.execute_input": "2021-07-13T06:20:18.502547Z",
     "iopub.status.busy": "2021-07-13T06:20:18.501773Z",
     "iopub.status.idle": "2021-07-13T06:20:18.504978Z",
     "shell.execute_reply": "2021-07-13T06:20:18.505543Z",
     "shell.execute_reply.started": "2021-07-09T16:57:57.848188Z"
    },
    "papermill": {
     "duration": 0.030858,
     "end_time": "2021-07-13T06:20:18.505703",
     "exception": false,
     "start_time": "2021-07-13T06:20:18.474845",
     "status": "completed"
    },
    "tags": []
   },
   "outputs": [
    {
     "data": {
      "text/html": [
       "<div class='datatable'>\n",
       "  <table class='frame'>\n",
       "  <thead>\n",
       "    <tr class='colnames'><td class='row_index'></td><th>user</th></tr>\n",
       "    <tr class='coltypes'><td class='row_index'></td><td class='str' title='str32'>&#x25AA;&#x25AA;&#x25AA;&#x25AA;</td></tr>\n",
       "  </thead>\n",
       "  <tbody>\n",
       "    <tr><td class='row_index'>0</td><td>U1</td></tr>\n",
       "    <tr><td class='row_index'>1</td><td>U2</td></tr>\n",
       "    <tr><td class='row_index'>2</td><td>U3</td></tr>\n",
       "    <tr><td class='row_index'>3</td><td>U1</td></tr>\n",
       "    <tr><td class='row_index'>4</td><td>U4</td></tr>\n",
       "    <tr><td class='row_index'>5</td><td>U5</td></tr>\n",
       "    <tr><td class='row_index'>6</td><td>U5</td></tr>\n",
       "    <tr><td class='row_index'>7</td><td>U1</td></tr>\n",
       "    <tr><td class='row_index'>8</td><td>U3</td></tr>\n",
       "    <tr><td class='row_index'>9</td><td>U4</td></tr>\n",
       "    <tr><td class='row_index'>10</td><td>U1</td></tr>\n",
       "    <tr><td class='row_index'>11</td><td>U4</td></tr>\n",
       "    <tr><td class='row_index'>12</td><td>U1</td></tr>\n",
       "    <tr><td class='row_index'>13</td><td>U2</td></tr>\n",
       "    <tr><td class='row_index'>14</td><td>U5</td></tr>\n",
       "    <tr><td class='row_index'>15</td><td>U3</td></tr>\n",
       "    <tr><td class='row_index'>16</td><td>U5</td></tr>\n",
       "    <tr><td class='row_index'>17</td><td>U3</td></tr>\n",
       "    <tr><td class='row_index'>18</td><td>U4</td></tr>\n",
       "    <tr><td class='row_index'>19</td><td>U4</td></tr>\n",
       "  </tbody>\n",
       "  </table>\n",
       "  <div class='footer'>\n",
       "    <div class='frame_dimensions'>20 rows &times; 1 column</div>\n",
       "  </div>\n",
       "</div>\n"
      ],
      "text/plain": [
       "<Frame#7f1273020900 20x1>"
      ]
     },
     "execution_count": 4,
     "metadata": {},
     "output_type": "execute_result"
    }
   ],
   "source": [
    "data_u = data_upq['user']\n",
    "data_u"
   ]
  },
  {
   "cell_type": "markdown",
   "id": "b9a79def",
   "metadata": {
    "papermill": {
     "duration": 0.020311,
     "end_time": "2021-07-13T06:20:18.546332",
     "exception": false,
     "start_time": "2021-07-13T06:20:18.526021",
     "status": "completed"
    },
    "tags": []
   },
   "source": [
    "**Exercise 22: Select columns 2nd to 4th using indices from `data` and assign it to `data_c234`**"
   ]
  },
  {
   "cell_type": "code",
   "execution_count": 5,
   "id": "796479d5",
   "metadata": {
    "execution": {
     "iopub.execute_input": "2021-07-13T06:20:18.592750Z",
     "iopub.status.busy": "2021-07-13T06:20:18.591893Z",
     "iopub.status.idle": "2021-07-13T06:20:18.595595Z",
     "shell.execute_reply": "2021-07-13T06:20:18.596035Z",
     "shell.execute_reply.started": "2021-07-09T17:00:00.76353Z"
    },
    "papermill": {
     "duration": 0.029422,
     "end_time": "2021-07-13T06:20:18.596196",
     "exception": false,
     "start_time": "2021-07-13T06:20:18.566774",
     "status": "completed"
    },
    "tags": []
   },
   "outputs": [
    {
     "data": {
      "text/html": [
       "<div class='datatable'>\n",
       "  <table class='frame'>\n",
       "  <thead>\n",
       "    <tr class='colnames'><td class='row_index'></td><th>user</th><th>age</th><th>product</th></tr>\n",
       "    <tr class='coltypes'><td class='row_index'></td><td class='str' title='str32'>&#x25AA;&#x25AA;&#x25AA;&#x25AA;</td><td class='int' title='int32'>&#x25AA;&#x25AA;&#x25AA;&#x25AA;</td><td class='str' title='str32'>&#x25AA;&#x25AA;&#x25AA;&#x25AA;</td></tr>\n",
       "  </thead>\n",
       "  <tbody>\n",
       "    <tr><td class='row_index'>0</td><td>U1</td><td>21</td><td>Eggs</td></tr>\n",
       "    <tr><td class='row_index'>1</td><td>U2</td><td>41</td><td>Bread</td></tr>\n",
       "    <tr><td class='row_index'>2</td><td>U3</td><td><span class=na>NA</span></td><td>Banana</td></tr>\n",
       "    <tr><td class='row_index'>3</td><td>U1</td><td>21</td><td>Water</td></tr>\n",
       "    <tr><td class='row_index'>4</td><td>U4</td><td>19</td><td>Eggs</td></tr>\n",
       "    <tr><td class='row_index'>5</td><td>U5</td><td>25</td><td>Grapes</td></tr>\n",
       "    <tr><td class='row_index'>6</td><td>U5</td><td>25</td><td>Bread</td></tr>\n",
       "    <tr><td class='row_index'>7</td><td>U1</td><td>21</td><td>Banana</td></tr>\n",
       "    <tr><td class='row_index'>8</td><td>U3</td><td><span class=na>NA</span></td><td>Banana</td></tr>\n",
       "    <tr><td class='row_index'>9</td><td>U4</td><td>19</td><td>Grapes</td></tr>\n",
       "    <tr><td class='row_index'>10</td><td>U1</td><td>21</td><td>Water</td></tr>\n",
       "    <tr><td class='row_index'>11</td><td>U4</td><td>19</td><td>Water</td></tr>\n",
       "    <tr><td class='row_index'>12</td><td>U1</td><td>21</td><td>Banana</td></tr>\n",
       "    <tr><td class='row_index'>13</td><td>U2</td><td>41</td><td>Grapes</td></tr>\n",
       "    <tr><td class='row_index'>14</td><td>U5</td><td>25</td><td>Water</td></tr>\n",
       "    <tr><td class='row_index'>15</td><td>U3</td><td><span class=na>NA</span></td><td>Banana</td></tr>\n",
       "    <tr><td class='row_index'>16</td><td>U5</td><td>25</td><td>Eggs</td></tr>\n",
       "    <tr><td class='row_index'>17</td><td>U3</td><td><span class=na>NA</span></td><td>Bread</td></tr>\n",
       "    <tr><td class='row_index'>18</td><td>U4</td><td>19</td><td>Eggs</td></tr>\n",
       "    <tr><td class='row_index'>19</td><td>U4</td><td>19</td><td>Water</td></tr>\n",
       "  </tbody>\n",
       "  </table>\n",
       "  <div class='footer'>\n",
       "    <div class='frame_dimensions'>20 rows &times; 3 columns</div>\n",
       "  </div>\n",
       "</div>\n"
      ],
      "text/plain": [
       "<Frame#7f1273020b40 20x3>"
      ]
     },
     "execution_count": 5,
     "metadata": {},
     "output_type": "execute_result"
    }
   ],
   "source": [
    "data_c234 = data[:, 1:4]\n",
    "data_c234"
   ]
  },
  {
   "cell_type": "markdown",
   "id": "7e81ccb0",
   "metadata": {
    "papermill": {
     "duration": 0.020736,
     "end_time": "2021-07-13T06:20:18.638001",
     "exception": false,
     "start_time": "2021-07-13T06:20:18.617265",
     "status": "completed"
    },
    "tags": []
   },
   "source": [
    "**Exercise 23: Select all string columns from `data` and assign it to `data_str`**"
   ]
  },
  {
   "cell_type": "code",
   "execution_count": 6,
   "id": "6e2f3eb2",
   "metadata": {
    "execution": {
     "iopub.execute_input": "2021-07-13T06:20:18.685423Z",
     "iopub.status.busy": "2021-07-13T06:20:18.684566Z",
     "iopub.status.idle": "2021-07-13T06:20:18.688613Z",
     "shell.execute_reply": "2021-07-13T06:20:18.688037Z",
     "shell.execute_reply.started": "2021-07-09T17:00:19.482581Z"
    },
    "papermill": {
     "duration": 0.029865,
     "end_time": "2021-07-13T06:20:18.688748",
     "exception": false,
     "start_time": "2021-07-13T06:20:18.658883",
     "status": "completed"
    },
    "tags": []
   },
   "outputs": [
    {
     "data": {
      "text/html": [
       "<div class='datatable'>\n",
       "  <table class='frame'>\n",
       "  <thead>\n",
       "    <tr class='colnames'><td class='row_index'></td><th>user</th><th>product</th><th>category</th></tr>\n",
       "    <tr class='coltypes'><td class='row_index'></td><td class='str' title='str32'>&#x25AA;&#x25AA;&#x25AA;&#x25AA;</td><td class='str' title='str32'>&#x25AA;&#x25AA;&#x25AA;&#x25AA;</td><td class='str' title='str32'>&#x25AA;&#x25AA;&#x25AA;&#x25AA;</td></tr>\n",
       "  </thead>\n",
       "  <tbody>\n",
       "    <tr><td class='row_index'>0</td><td>U1</td><td>Eggs</td><td>Dairy</td></tr>\n",
       "    <tr><td class='row_index'>1</td><td>U2</td><td>Bread</td><td><span class=na>NA</span></td></tr>\n",
       "    <tr><td class='row_index'>2</td><td>U3</td><td>Banana</td><td>Fruit</td></tr>\n",
       "    <tr><td class='row_index'>3</td><td>U1</td><td>Water</td><td>Drink</td></tr>\n",
       "    <tr><td class='row_index'>4</td><td>U4</td><td>Eggs</td><td>Dairy</td></tr>\n",
       "    <tr><td class='row_index'>5</td><td>U5</td><td>Grapes</td><td>Fruit</td></tr>\n",
       "    <tr><td class='row_index'>6</td><td>U5</td><td>Bread</td><td><span class=na>NA</span></td></tr>\n",
       "    <tr><td class='row_index'>7</td><td>U1</td><td>Banana</td><td>Fruit</td></tr>\n",
       "    <tr><td class='row_index'>8</td><td>U3</td><td>Banana</td><td>Fruit</td></tr>\n",
       "    <tr><td class='row_index'>9</td><td>U4</td><td>Grapes</td><td>Fruit</td></tr>\n",
       "    <tr><td class='row_index'>10</td><td>U1</td><td>Water</td><td>Drink</td></tr>\n",
       "    <tr><td class='row_index'>11</td><td>U4</td><td>Water</td><td>Drink</td></tr>\n",
       "    <tr><td class='row_index'>12</td><td>U1</td><td>Banana</td><td>Fruit</td></tr>\n",
       "    <tr><td class='row_index'>13</td><td>U2</td><td>Grapes</td><td>Fruit</td></tr>\n",
       "    <tr><td class='row_index'>14</td><td>U5</td><td>Water</td><td>Drink</td></tr>\n",
       "    <tr><td class='row_index'>15</td><td>U3</td><td>Banana</td><td>Fruit</td></tr>\n",
       "    <tr><td class='row_index'>16</td><td>U5</td><td>Eggs</td><td>Dairy</td></tr>\n",
       "    <tr><td class='row_index'>17</td><td>U3</td><td>Bread</td><td><span class=na>NA</span></td></tr>\n",
       "    <tr><td class='row_index'>18</td><td>U4</td><td>Eggs</td><td>Dairy</td></tr>\n",
       "    <tr><td class='row_index'>19</td><td>U4</td><td>Water</td><td>Drink</td></tr>\n",
       "  </tbody>\n",
       "  </table>\n",
       "  <div class='footer'>\n",
       "    <div class='frame_dimensions'>20 rows &times; 3 columns</div>\n",
       "  </div>\n",
       "</div>\n"
      ],
      "text/plain": [
       "<Frame#7f1273020cf0 20x3>"
      ]
     },
     "execution_count": 6,
     "metadata": {},
     "output_type": "execute_result"
    }
   ],
   "source": [
    "data_str = data[:, str]\n",
    "data_str"
   ]
  },
  {
   "cell_type": "markdown",
   "id": "83525c71",
   "metadata": {
    "papermill": {
     "duration": 0.020797,
     "end_time": "2021-07-13T06:20:18.731031",
     "exception": false,
     "start_time": "2021-07-13T06:20:18.710234",
     "status": "completed"
    },
    "tags": []
   },
   "source": [
    "**Exercise 24: Select rows 4th and 1st from `data` and assign it to `data_r41`**"
   ]
  },
  {
   "cell_type": "code",
   "execution_count": 7,
   "id": "08ca620c",
   "metadata": {
    "execution": {
     "iopub.execute_input": "2021-07-13T06:20:18.803471Z",
     "iopub.status.busy": "2021-07-13T06:20:18.802736Z",
     "iopub.status.idle": "2021-07-13T06:20:18.807322Z",
     "shell.execute_reply": "2021-07-13T06:20:18.807813Z",
     "shell.execute_reply.started": "2021-07-09T17:01:05.089537Z"
    },
    "papermill": {
     "duration": 0.055955,
     "end_time": "2021-07-13T06:20:18.808008",
     "exception": false,
     "start_time": "2021-07-13T06:20:18.752053",
     "status": "completed"
    },
    "tags": []
   },
   "outputs": [
    {
     "data": {
      "text/html": [
       "<div class='datatable'>\n",
       "  <table class='frame'>\n",
       "  <thead>\n",
       "    <tr class='colnames'><td class='row_index'></td><th>timestamp</th><th>user</th><th>age</th><th>product</th><th>category</th><th>price</th><th>quantity</th></tr>\n",
       "    <tr class='coltypes'><td class='row_index'></td><td class='time' title='time64'>&#x25AA;&#x25AA;&#x25AA;&#x25AA;&#x25AA;&#x25AA;&#x25AA;&#x25AA;</td><td class='str' title='str32'>&#x25AA;&#x25AA;&#x25AA;&#x25AA;</td><td class='int' title='int32'>&#x25AA;&#x25AA;&#x25AA;&#x25AA;</td><td class='str' title='str32'>&#x25AA;&#x25AA;&#x25AA;&#x25AA;</td><td class='str' title='str32'>&#x25AA;&#x25AA;&#x25AA;&#x25AA;</td><td class='float' title='float64'>&#x25AA;&#x25AA;&#x25AA;&#x25AA;&#x25AA;&#x25AA;&#x25AA;&#x25AA;</td><td class='int' title='int32'>&#x25AA;&#x25AA;&#x25AA;&#x25AA;</td></tr>\n",
       "  </thead>\n",
       "  <tbody>\n",
       "    <tr><td class='row_index'>0</td><td>2018-12-24<span class=sp>T</span>23:03:33</td><td>U1</td><td>21</td><td>Water</td><td>Drink</td><td>0.2</td><td>1</td></tr>\n",
       "    <tr><td class='row_index'>1</td><td>2017-01-01<span class=sp>T</span>13:22:41</td><td>U1</td><td>21</td><td>Eggs</td><td>Dairy</td><td>2.3</td><td>2</td></tr>\n",
       "  </tbody>\n",
       "  </table>\n",
       "  <div class='footer'>\n",
       "    <div class='frame_dimensions'>2 rows &times; 7 columns</div>\n",
       "  </div>\n",
       "</div>\n"
      ],
      "text/plain": [
       "<Frame#7f1273020870 2x7>"
      ]
     },
     "execution_count": 7,
     "metadata": {},
     "output_type": "execute_result"
    }
   ],
   "source": [
    "data_r41 = data[[3, 0], :]\n",
    "data_r41"
   ]
  },
  {
   "cell_type": "markdown",
   "id": "73287f59",
   "metadata": {
    "papermill": {
     "duration": 0.021387,
     "end_time": "2021-07-13T06:20:18.853117",
     "exception": false,
     "start_time": "2021-07-13T06:20:18.831730",
     "status": "completed"
    },
    "tags": []
   },
   "source": [
    "**Exercise 25: Select the element in the 4th row and 2nd column in `data` and assign it to `value_1` and select the 3rd element of `category` column in `data` and assign it to `value_2`**"
   ]
  },
  {
   "cell_type": "code",
   "execution_count": 8,
   "id": "32f25fea",
   "metadata": {
    "execution": {
     "iopub.execute_input": "2021-07-13T06:20:18.902087Z",
     "iopub.status.busy": "2021-07-13T06:20:18.901339Z",
     "iopub.status.idle": "2021-07-13T06:20:18.905215Z",
     "shell.execute_reply": "2021-07-13T06:20:18.904750Z",
     "shell.execute_reply.started": "2021-07-09T17:01:50.345437Z"
    },
    "papermill": {
     "duration": 0.030447,
     "end_time": "2021-07-13T06:20:18.905351",
     "exception": false,
     "start_time": "2021-07-13T06:20:18.874904",
     "status": "completed"
    },
    "tags": []
   },
   "outputs": [
    {
     "data": {
      "text/plain": [
       "'Eggs'"
      ]
     },
     "execution_count": 8,
     "metadata": {},
     "output_type": "execute_result"
    }
   ],
   "source": [
    "value_1 = data[4, 3]\n",
    "value_1"
   ]
  },
  {
   "cell_type": "code",
   "execution_count": 9,
   "id": "e4324abe",
   "metadata": {
    "execution": {
     "iopub.execute_input": "2021-07-13T06:20:18.953454Z",
     "iopub.status.busy": "2021-07-13T06:20:18.952860Z",
     "iopub.status.idle": "2021-07-13T06:20:18.957535Z",
     "shell.execute_reply": "2021-07-13T06:20:18.957986Z",
     "shell.execute_reply.started": "2021-07-09T17:01:52.359791Z"
    },
    "papermill": {
     "duration": 0.03049,
     "end_time": "2021-07-13T06:20:18.958146",
     "exception": false,
     "start_time": "2021-07-13T06:20:18.927656",
     "status": "completed"
    },
    "tags": []
   },
   "outputs": [
    {
     "data": {
      "text/plain": [
       "'Fruit'"
      ]
     },
     "execution_count": 9,
     "metadata": {},
     "output_type": "execute_result"
    }
   ],
   "source": [
    "value_2 = data[2, 'category']\n",
    "value_2"
   ]
  },
  {
   "cell_type": "markdown",
   "id": "ffdbbba2",
   "metadata": {
    "papermill": {
     "duration": 0.021909,
     "end_time": "2021-07-13T06:20:19.003111",
     "exception": false,
     "start_time": "2021-07-13T06:20:18.981202",
     "status": "completed"
    },
    "tags": []
   },
   "source": [
    "**Exercise 26: Select rows from `data` where `category` is `Fruit` and assign it to `data_fruit` and select rows from `data_fruit` where `product` is `Banana` and `quantity` is more than 1 and assign it to `data_multi_banana`**"
   ]
  },
  {
   "cell_type": "code",
   "execution_count": 10,
   "id": "332b637c",
   "metadata": {
    "execution": {
     "iopub.execute_input": "2021-07-13T06:20:19.050278Z",
     "iopub.status.busy": "2021-07-13T06:20:19.049647Z",
     "iopub.status.idle": "2021-07-13T06:20:19.060621Z",
     "shell.execute_reply": "2021-07-13T06:20:19.061123Z",
     "shell.execute_reply.started": "2021-07-09T17:03:50.613283Z"
    },
    "papermill": {
     "duration": 0.036142,
     "end_time": "2021-07-13T06:20:19.061338",
     "exception": false,
     "start_time": "2021-07-13T06:20:19.025196",
     "status": "completed"
    },
    "tags": []
   },
   "outputs": [
    {
     "data": {
      "text/html": [
       "<div class='datatable'>\n",
       "  <table class='frame'>\n",
       "  <thead>\n",
       "    <tr class='colnames'><td class='row_index'></td><th>timestamp</th><th>user</th><th>age</th><th>product</th><th>category</th><th>price</th><th>quantity</th></tr>\n",
       "    <tr class='coltypes'><td class='row_index'></td><td class='time' title='time64'>&#x25AA;&#x25AA;&#x25AA;&#x25AA;&#x25AA;&#x25AA;&#x25AA;&#x25AA;</td><td class='str' title='str32'>&#x25AA;&#x25AA;&#x25AA;&#x25AA;</td><td class='int' title='int32'>&#x25AA;&#x25AA;&#x25AA;&#x25AA;</td><td class='str' title='str32'>&#x25AA;&#x25AA;&#x25AA;&#x25AA;</td><td class='str' title='str32'>&#x25AA;&#x25AA;&#x25AA;&#x25AA;</td><td class='float' title='float64'>&#x25AA;&#x25AA;&#x25AA;&#x25AA;&#x25AA;&#x25AA;&#x25AA;&#x25AA;</td><td class='int' title='int32'>&#x25AA;&#x25AA;&#x25AA;&#x25AA;</td></tr>\n",
       "  </thead>\n",
       "  <tbody>\n",
       "    <tr><td class='row_index'>0</td><td>2018-11-09<span class=sp>T</span>15:00:01</td><td>U3</td><td><span class=na>NA</span></td><td>Banana</td><td>Fruit</td><td>0.7</td><td>1</td></tr>\n",
       "    <tr><td class='row_index'>1</td><td>2019-06-17<span class=sp>T</span>16:13:39</td><td>U5</td><td>25</td><td>Grapes</td><td>Fruit</td><td>1.5</td><td>1</td></tr>\n",
       "    <tr><td class='row_index'>2</td><td>2019-12-05<span class=sp>T</span>04:15:42</td><td>U1</td><td>21</td><td>Banana</td><td>Fruit</td><td>0.7</td><td>2</td></tr>\n",
       "    <tr><td class='row_index'>3</td><td>2020-02-02<span class=sp>T</span>03:45:34</td><td>U3</td><td><span class=na>NA</span></td><td>Banana</td><td>Fruit</td><td>0.7</td><td>1</td></tr>\n",
       "    <tr><td class='row_index'>4</td><td>2020-03-05<span class=sp>T</span>07:09:12</td><td>U4</td><td>19</td><td>Grapes</td><td>Fruit</td><td>1.5</td><td>1</td></tr>\n",
       "    <tr><td class='row_index'>5</td><td>2020-04-01<span class=sp>T</span>13:21:41</td><td>U1</td><td>21</td><td>Banana</td><td>Fruit</td><td>0.7</td><td>2</td></tr>\n",
       "    <tr><td class='row_index'>6</td><td>2020-07-08<span class=sp>T</span>11:45:25</td><td>U2</td><td>41</td><td>Grapes</td><td>Fruit</td><td>1.5</td><td>1</td></tr>\n",
       "    <tr><td class='row_index'>7</td><td>2020-12-03<span class=sp>T</span>16:23:48</td><td>U3</td><td><span class=na>NA</span></td><td>Banana</td><td>Fruit</td><td>0.5</td><td>3</td></tr>\n",
       "  </tbody>\n",
       "  </table>\n",
       "  <div class='footer'>\n",
       "    <div class='frame_dimensions'>8 rows &times; 7 columns</div>\n",
       "  </div>\n",
       "</div>\n"
      ],
      "text/plain": [
       "<Frame#7f1273020f00 8x7>"
      ]
     },
     "execution_count": 10,
     "metadata": {},
     "output_type": "execute_result"
    }
   ],
   "source": [
    "data_fruit = data[dt.f.category == 'Fruit', :]\n",
    "data_fruit"
   ]
  },
  {
   "cell_type": "code",
   "execution_count": 11,
   "id": "75818b46",
   "metadata": {
    "execution": {
     "iopub.execute_input": "2021-07-13T06:20:19.120886Z",
     "iopub.status.busy": "2021-07-13T06:20:19.120170Z",
     "iopub.status.idle": "2021-07-13T06:20:19.124730Z",
     "shell.execute_reply": "2021-07-13T06:20:19.125198Z",
     "shell.execute_reply.started": "2021-07-09T17:04:01.360049Z"
    },
    "papermill": {
     "duration": 0.03902,
     "end_time": "2021-07-13T06:20:19.125415",
     "exception": false,
     "start_time": "2021-07-13T06:20:19.086395",
     "status": "completed"
    },
    "tags": []
   },
   "outputs": [
    {
     "data": {
      "text/html": [
       "<div class='datatable'>\n",
       "  <table class='frame'>\n",
       "  <thead>\n",
       "    <tr class='colnames'><td class='row_index'></td><th>timestamp</th><th>user</th><th>age</th><th>product</th><th>category</th><th>price</th><th>quantity</th></tr>\n",
       "    <tr class='coltypes'><td class='row_index'></td><td class='time' title='time64'>&#x25AA;&#x25AA;&#x25AA;&#x25AA;&#x25AA;&#x25AA;&#x25AA;&#x25AA;</td><td class='str' title='str32'>&#x25AA;&#x25AA;&#x25AA;&#x25AA;</td><td class='int' title='int32'>&#x25AA;&#x25AA;&#x25AA;&#x25AA;</td><td class='str' title='str32'>&#x25AA;&#x25AA;&#x25AA;&#x25AA;</td><td class='str' title='str32'>&#x25AA;&#x25AA;&#x25AA;&#x25AA;</td><td class='float' title='float64'>&#x25AA;&#x25AA;&#x25AA;&#x25AA;&#x25AA;&#x25AA;&#x25AA;&#x25AA;</td><td class='int' title='int32'>&#x25AA;&#x25AA;&#x25AA;&#x25AA;</td></tr>\n",
       "  </thead>\n",
       "  <tbody>\n",
       "    <tr><td class='row_index'>0</td><td>2019-12-05<span class=sp>T</span>04:15:42</td><td>U1</td><td>21</td><td>Banana</td><td>Fruit</td><td>0.7</td><td>2</td></tr>\n",
       "    <tr><td class='row_index'>1</td><td>2020-04-01<span class=sp>T</span>13:21:41</td><td>U1</td><td>21</td><td>Banana</td><td>Fruit</td><td>0.7</td><td>2</td></tr>\n",
       "    <tr><td class='row_index'>2</td><td>2020-12-03<span class=sp>T</span>16:23:48</td><td>U3</td><td><span class=na>NA</span></td><td>Banana</td><td>Fruit</td><td>0.5</td><td>3</td></tr>\n",
       "  </tbody>\n",
       "  </table>\n",
       "  <div class='footer'>\n",
       "    <div class='frame_dimensions'>3 rows &times; 7 columns</div>\n",
       "  </div>\n",
       "</div>\n"
      ],
      "text/plain": [
       "<Frame#7f1278ced7e0 3x7>"
      ]
     },
     "execution_count": 11,
     "metadata": {},
     "output_type": "execute_result"
    }
   ],
   "source": [
    "data_multi_banana = data_fruit[(dt.f.product == 'Banana') & (dt.f.quantity > 1), :]\n",
    "data_multi_banana"
   ]
  },
  {
   "cell_type": "markdown",
   "id": "628a22a6",
   "metadata": {
    "papermill": {
     "duration": 0.023123,
     "end_time": "2021-07-13T06:20:19.172681",
     "exception": false,
     "start_time": "2021-07-13T06:20:19.149558",
     "status": "completed"
    },
    "tags": []
   },
   "source": [
    "**Exercise 27: Select columns from `data` that have no missing values and assign it to `data_nomissing_cols`**"
   ]
  },
  {
   "cell_type": "code",
   "execution_count": 12,
   "id": "40756319",
   "metadata": {
    "execution": {
     "iopub.execute_input": "2021-07-13T06:20:19.223398Z",
     "iopub.status.busy": "2021-07-13T06:20:19.222762Z",
     "iopub.status.idle": "2021-07-13T06:20:19.225394Z",
     "shell.execute_reply": "2021-07-13T06:20:19.225823Z",
     "shell.execute_reply.started": "2021-07-09T17:04:53.636677Z"
    },
    "papermill": {
     "duration": 0.030761,
     "end_time": "2021-07-13T06:20:19.225978",
     "exception": false,
     "start_time": "2021-07-13T06:20:19.195217",
     "status": "completed"
    },
    "tags": []
   },
   "outputs": [
    {
     "data": {
      "text/html": [
       "<div class='datatable'>\n",
       "  <table class='frame'>\n",
       "  <thead>\n",
       "    <tr class='colnames'><td class='row_index'></td><th>timestamp</th><th>user</th><th>product</th><th>price</th><th>quantity</th></tr>\n",
       "    <tr class='coltypes'><td class='row_index'></td><td class='time' title='time64'>&#x25AA;&#x25AA;&#x25AA;&#x25AA;&#x25AA;&#x25AA;&#x25AA;&#x25AA;</td><td class='str' title='str32'>&#x25AA;&#x25AA;&#x25AA;&#x25AA;</td><td class='str' title='str32'>&#x25AA;&#x25AA;&#x25AA;&#x25AA;</td><td class='float' title='float64'>&#x25AA;&#x25AA;&#x25AA;&#x25AA;&#x25AA;&#x25AA;&#x25AA;&#x25AA;</td><td class='int' title='int32'>&#x25AA;&#x25AA;&#x25AA;&#x25AA;</td></tr>\n",
       "  </thead>\n",
       "  <tbody>\n",
       "    <tr><td class='row_index'>0</td><td>2017-01-01<span class=sp>T</span>13:22:41</td><td>U1</td><td>Eggs</td><td>2.3</td><td>2</td></tr>\n",
       "    <tr><td class='row_index'>1</td><td>2017-05-22<span class=sp>T</span>09:54:21</td><td>U2</td><td>Bread</td><td>0.6</td><td>2</td></tr>\n",
       "    <tr><td class='row_index'>2</td><td>2018-11-09<span class=sp>T</span>15:00:01</td><td>U3</td><td>Banana</td><td>0.7</td><td>1</td></tr>\n",
       "    <tr><td class='row_index'>3</td><td>2018-12-24<span class=sp>T</span>23:03:33</td><td>U1</td><td>Water</td><td>0.2</td><td>1</td></tr>\n",
       "    <tr><td class='row_index'>4</td><td>2019-03-03<span class=sp>T</span>06:21:58</td><td>U4</td><td>Eggs</td><td>2.3</td><td>2</td></tr>\n",
       "    <tr><td class='row_index'>5</td><td>2019-06-17<span class=sp>T</span>16:13:39</td><td>U5</td><td>Grapes</td><td>1.5</td><td>1</td></tr>\n",
       "    <tr><td class='row_index'>6</td><td>2019-07-28<span class=sp>T</span>21:03:11</td><td>U5</td><td>Bread</td><td>0.6</td><td>1</td></tr>\n",
       "    <tr><td class='row_index'>7</td><td>2019-12-05<span class=sp>T</span>04:15:42</td><td>U1</td><td>Banana</td><td>0.7</td><td>2</td></tr>\n",
       "    <tr><td class='row_index'>8</td><td>2020-02-02<span class=sp>T</span>03:45:34</td><td>U3</td><td>Banana</td><td>0.7</td><td>1</td></tr>\n",
       "    <tr><td class='row_index'>9</td><td>2020-03-05<span class=sp>T</span>07:09:12</td><td>U4</td><td>Grapes</td><td>1.5</td><td>1</td></tr>\n",
       "    <tr><td class='row_index'>10</td><td>2020-03-22<span class=sp>T</span>19:29:38</td><td>U1</td><td>Water</td><td>0.2</td><td>1</td></tr>\n",
       "    <tr><td class='row_index'>11</td><td>2020-03-30<span class=sp>T</span>09:44:30</td><td>U4</td><td>Water</td><td>0.2</td><td>1</td></tr>\n",
       "    <tr><td class='row_index'>12</td><td>2020-04-01<span class=sp>T</span>13:21:41</td><td>U1</td><td>Banana</td><td>0.7</td><td>2</td></tr>\n",
       "    <tr><td class='row_index'>13</td><td>2020-07-08<span class=sp>T</span>11:45:25</td><td>U2</td><td>Grapes</td><td>1.5</td><td>1</td></tr>\n",
       "    <tr><td class='row_index'>14</td><td>2020-11-19<span class=sp>T</span>18:51:22</td><td>U5</td><td>Water</td><td>0.2</td><td>1</td></tr>\n",
       "    <tr><td class='row_index'>15</td><td>2020-12-03<span class=sp>T</span>16:23:48</td><td>U3</td><td>Banana</td><td>0.5</td><td>3</td></tr>\n",
       "    <tr><td class='row_index'>16</td><td>2021-02-03<span class=sp>T</span>01:14:40</td><td>U5</td><td>Eggs</td><td>2.1</td><td>4</td></tr>\n",
       "    <tr><td class='row_index'>17</td><td>2021-05-26<span class=sp>T</span>22:42:15</td><td>U3</td><td>Bread</td><td>0.6</td><td>1</td></tr>\n",
       "    <tr><td class='row_index'>18</td><td>2021-06-14<span class=sp>T</span>15:49:28</td><td>U4</td><td>Eggs</td><td>2.3</td><td>2</td></tr>\n",
       "    <tr><td class='row_index'>19</td><td>2021-07-01<span class=sp>T</span>04:37:31</td><td>U4</td><td>Water</td><td>0.3</td><td>1</td></tr>\n",
       "  </tbody>\n",
       "  </table>\n",
       "  <div class='footer'>\n",
       "    <div class='frame_dimensions'>20 rows &times; 5 columns</div>\n",
       "  </div>\n",
       "</div>\n"
      ],
      "text/plain": [
       "<Frame#7f1273020d50 20x5>"
      ]
     },
     "execution_count": 12,
     "metadata": {},
     "output_type": "execute_result"
    }
   ],
   "source": [
    "data_nomissing_cols = data[:, [column.countna1() == 0 for column in data]]\n",
    "data_nomissing_cols"
   ]
  },
  {
   "cell_type": "markdown",
   "id": "6c8ac8ee",
   "metadata": {
    "papermill": {
     "duration": 0.023247,
     "end_time": "2021-07-13T06:20:19.272421",
     "exception": false,
     "start_time": "2021-07-13T06:20:19.249174",
     "status": "completed"
    },
    "tags": []
   },
   "source": [
    "**Exercise 28: Select rows from `data` that have no missing values and assign it to `data_nomissing_rows`**"
   ]
  },
  {
   "cell_type": "code",
   "execution_count": 13,
   "id": "26f786ab",
   "metadata": {
    "execution": {
     "iopub.execute_input": "2021-07-13T06:20:19.321504Z",
     "iopub.status.busy": "2021-07-13T06:20:19.320878Z",
     "iopub.status.idle": "2021-07-13T06:20:19.331792Z",
     "shell.execute_reply": "2021-07-13T06:20:19.332285Z",
     "shell.execute_reply.started": "2021-07-09T17:05:04.266965Z"
    },
    "papermill": {
     "duration": 0.037025,
     "end_time": "2021-07-13T06:20:19.332520",
     "exception": false,
     "start_time": "2021-07-13T06:20:19.295495",
     "status": "completed"
    },
    "tags": []
   },
   "outputs": [
    {
     "data": {
      "text/html": [
       "<div class='datatable'>\n",
       "  <table class='frame'>\n",
       "  <thead>\n",
       "    <tr class='colnames'><td class='row_index'></td><th>timestamp</th><th>user</th><th>age</th><th>product</th><th>category</th><th>price</th><th>quantity</th></tr>\n",
       "    <tr class='coltypes'><td class='row_index'></td><td class='time' title='time64'>&#x25AA;&#x25AA;&#x25AA;&#x25AA;&#x25AA;&#x25AA;&#x25AA;&#x25AA;</td><td class='str' title='str32'>&#x25AA;&#x25AA;&#x25AA;&#x25AA;</td><td class='int' title='int32'>&#x25AA;&#x25AA;&#x25AA;&#x25AA;</td><td class='str' title='str32'>&#x25AA;&#x25AA;&#x25AA;&#x25AA;</td><td class='str' title='str32'>&#x25AA;&#x25AA;&#x25AA;&#x25AA;</td><td class='float' title='float64'>&#x25AA;&#x25AA;&#x25AA;&#x25AA;&#x25AA;&#x25AA;&#x25AA;&#x25AA;</td><td class='int' title='int32'>&#x25AA;&#x25AA;&#x25AA;&#x25AA;</td></tr>\n",
       "  </thead>\n",
       "  <tbody>\n",
       "    <tr><td class='row_index'>0</td><td>2017-01-01<span class=sp>T</span>13:22:41</td><td>U1</td><td>21</td><td>Eggs</td><td>Dairy</td><td>2.3</td><td>2</td></tr>\n",
       "    <tr><td class='row_index'>1</td><td>2018-12-24<span class=sp>T</span>23:03:33</td><td>U1</td><td>21</td><td>Water</td><td>Drink</td><td>0.2</td><td>1</td></tr>\n",
       "    <tr><td class='row_index'>2</td><td>2019-03-03<span class=sp>T</span>06:21:58</td><td>U4</td><td>19</td><td>Eggs</td><td>Dairy</td><td>2.3</td><td>2</td></tr>\n",
       "    <tr><td class='row_index'>3</td><td>2019-06-17<span class=sp>T</span>16:13:39</td><td>U5</td><td>25</td><td>Grapes</td><td>Fruit</td><td>1.5</td><td>1</td></tr>\n",
       "    <tr><td class='row_index'>4</td><td>2019-12-05<span class=sp>T</span>04:15:42</td><td>U1</td><td>21</td><td>Banana</td><td>Fruit</td><td>0.7</td><td>2</td></tr>\n",
       "    <tr><td class='row_index'>5</td><td>2020-03-05<span class=sp>T</span>07:09:12</td><td>U4</td><td>19</td><td>Grapes</td><td>Fruit</td><td>1.5</td><td>1</td></tr>\n",
       "    <tr><td class='row_index'>6</td><td>2020-03-22<span class=sp>T</span>19:29:38</td><td>U1</td><td>21</td><td>Water</td><td>Drink</td><td>0.2</td><td>1</td></tr>\n",
       "    <tr><td class='row_index'>7</td><td>2020-03-30<span class=sp>T</span>09:44:30</td><td>U4</td><td>19</td><td>Water</td><td>Drink</td><td>0.2</td><td>1</td></tr>\n",
       "    <tr><td class='row_index'>8</td><td>2020-04-01<span class=sp>T</span>13:21:41</td><td>U1</td><td>21</td><td>Banana</td><td>Fruit</td><td>0.7</td><td>2</td></tr>\n",
       "    <tr><td class='row_index'>9</td><td>2020-07-08<span class=sp>T</span>11:45:25</td><td>U2</td><td>41</td><td>Grapes</td><td>Fruit</td><td>1.5</td><td>1</td></tr>\n",
       "    <tr><td class='row_index'>10</td><td>2020-11-19<span class=sp>T</span>18:51:22</td><td>U5</td><td>25</td><td>Water</td><td>Drink</td><td>0.2</td><td>1</td></tr>\n",
       "    <tr><td class='row_index'>11</td><td>2021-02-03<span class=sp>T</span>01:14:40</td><td>U5</td><td>25</td><td>Eggs</td><td>Dairy</td><td>2.1</td><td>4</td></tr>\n",
       "    <tr><td class='row_index'>12</td><td>2021-06-14<span class=sp>T</span>15:49:28</td><td>U4</td><td>19</td><td>Eggs</td><td>Dairy</td><td>2.3</td><td>2</td></tr>\n",
       "    <tr><td class='row_index'>13</td><td>2021-07-01<span class=sp>T</span>04:37:31</td><td>U4</td><td>19</td><td>Water</td><td>Drink</td><td>0.3</td><td>1</td></tr>\n",
       "  </tbody>\n",
       "  </table>\n",
       "  <div class='footer'>\n",
       "    <div class='frame_dimensions'>14 rows &times; 7 columns</div>\n",
       "  </div>\n",
       "</div>\n"
      ],
      "text/plain": [
       "<Frame#7f12730207b0 14x7>"
      ]
     },
     "execution_count": 13,
     "metadata": {},
     "output_type": "execute_result"
    }
   ],
   "source": [
    "data_nomissing_rows = data[dt.rowall(dt.f[:] != None), :]\n",
    "data_nomissing_rows"
   ]
  },
  {
   "cell_type": "markdown",
   "id": "d7a35290",
   "metadata": {
    "papermill": {
     "duration": 0.02342,
     "end_time": "2021-07-13T06:20:19.382426",
     "exception": false,
     "start_time": "2021-07-13T06:20:19.359006",
     "status": "completed"
    },
    "tags": []
   },
   "source": [
    "**Exercise 29: Select unique rows from `data` and assign it to `data_unique` and select unique `product` from `data_unique` and assign it to `product_unique`**"
   ]
  },
  {
   "cell_type": "code",
   "execution_count": 14,
   "id": "6f0775cd",
   "metadata": {
    "execution": {
     "iopub.execute_input": "2021-07-13T06:20:19.444814Z",
     "iopub.status.busy": "2021-07-13T06:20:19.443891Z",
     "iopub.status.idle": "2021-07-13T06:20:19.449770Z",
     "shell.execute_reply": "2021-07-13T06:20:19.450283Z",
     "shell.execute_reply.started": "2021-07-09T17:05:33.261595Z"
    },
    "papermill": {
     "duration": 0.04466,
     "end_time": "2021-07-13T06:20:19.450517",
     "exception": false,
     "start_time": "2021-07-13T06:20:19.405857",
     "status": "completed"
    },
    "tags": []
   },
   "outputs": [
    {
     "data": {
      "text/html": [
       "<div class='datatable'>\n",
       "  <table class='frame'>\n",
       "  <thead>\n",
       "    <tr class='colnames'><td class='row_index'></td><th>timestamp</th><th>user</th><th>age</th><th>product</th><th>category</th><th>price</th><th>quantity</th></tr>\n",
       "    <tr class='coltypes'><td class='row_index'></td><td class='time' title='time64'>&#x25AA;&#x25AA;&#x25AA;&#x25AA;&#x25AA;&#x25AA;&#x25AA;&#x25AA;</td><td class='str' title='str32'>&#x25AA;&#x25AA;&#x25AA;&#x25AA;</td><td class='int' title='int32'>&#x25AA;&#x25AA;&#x25AA;&#x25AA;</td><td class='str' title='str32'>&#x25AA;&#x25AA;&#x25AA;&#x25AA;</td><td class='str' title='str32'>&#x25AA;&#x25AA;&#x25AA;&#x25AA;</td><td class='float' title='float64'>&#x25AA;&#x25AA;&#x25AA;&#x25AA;&#x25AA;&#x25AA;&#x25AA;&#x25AA;</td><td class='int' title='int32'>&#x25AA;&#x25AA;&#x25AA;&#x25AA;</td></tr>\n",
       "  </thead>\n",
       "  <tbody>\n",
       "    <tr><td class='row_index'>0</td><td>2017-01-01<span class=sp>T</span>13:22:41</td><td>U1</td><td>21</td><td>Eggs</td><td>Dairy</td><td>2.3</td><td>2</td></tr>\n",
       "    <tr><td class='row_index'>1</td><td>2017-05-22<span class=sp>T</span>09:54:21</td><td>U2</td><td>41</td><td>Bread</td><td><span class=na>NA</span></td><td>0.6</td><td>2</td></tr>\n",
       "    <tr><td class='row_index'>2</td><td>2018-11-09<span class=sp>T</span>15:00:01</td><td>U3</td><td><span class=na>NA</span></td><td>Banana</td><td>Fruit</td><td>0.7</td><td>1</td></tr>\n",
       "    <tr><td class='row_index'>3</td><td>2018-12-24<span class=sp>T</span>23:03:33</td><td>U1</td><td>21</td><td>Water</td><td>Drink</td><td>0.2</td><td>1</td></tr>\n",
       "    <tr><td class='row_index'>4</td><td>2019-03-03<span class=sp>T</span>06:21:58</td><td>U4</td><td>19</td><td>Eggs</td><td>Dairy</td><td>2.3</td><td>2</td></tr>\n",
       "    <tr><td class='row_index'>5</td><td>2019-06-17<span class=sp>T</span>16:13:39</td><td>U5</td><td>25</td><td>Grapes</td><td>Fruit</td><td>1.5</td><td>1</td></tr>\n",
       "    <tr><td class='row_index'>6</td><td>2019-07-28<span class=sp>T</span>21:03:11</td><td>U5</td><td>25</td><td>Bread</td><td><span class=na>NA</span></td><td>0.6</td><td>1</td></tr>\n",
       "    <tr><td class='row_index'>7</td><td>2019-12-05<span class=sp>T</span>04:15:42</td><td>U1</td><td>21</td><td>Banana</td><td>Fruit</td><td>0.7</td><td>2</td></tr>\n",
       "    <tr><td class='row_index'>8</td><td>2020-02-02<span class=sp>T</span>03:45:34</td><td>U3</td><td><span class=na>NA</span></td><td>Banana</td><td>Fruit</td><td>0.7</td><td>1</td></tr>\n",
       "    <tr><td class='row_index'>9</td><td>2020-03-05<span class=sp>T</span>07:09:12</td><td>U4</td><td>19</td><td>Grapes</td><td>Fruit</td><td>1.5</td><td>1</td></tr>\n",
       "    <tr><td class='row_index'>10</td><td>2020-03-22<span class=sp>T</span>19:29:38</td><td>U1</td><td>21</td><td>Water</td><td>Drink</td><td>0.2</td><td>1</td></tr>\n",
       "    <tr><td class='row_index'>11</td><td>2020-03-30<span class=sp>T</span>09:44:30</td><td>U4</td><td>19</td><td>Water</td><td>Drink</td><td>0.2</td><td>1</td></tr>\n",
       "    <tr><td class='row_index'>12</td><td>2020-04-01<span class=sp>T</span>13:21:41</td><td>U1</td><td>21</td><td>Banana</td><td>Fruit</td><td>0.7</td><td>2</td></tr>\n",
       "    <tr><td class='row_index'>13</td><td>2020-07-08<span class=sp>T</span>11:45:25</td><td>U2</td><td>41</td><td>Grapes</td><td>Fruit</td><td>1.5</td><td>1</td></tr>\n",
       "    <tr><td class='row_index'>14</td><td>2020-11-19<span class=sp>T</span>18:51:22</td><td>U5</td><td>25</td><td>Water</td><td>Drink</td><td>0.2</td><td>1</td></tr>\n",
       "    <tr><td class='row_index'>15</td><td>2020-12-03<span class=sp>T</span>16:23:48</td><td>U3</td><td><span class=na>NA</span></td><td>Banana</td><td>Fruit</td><td>0.5</td><td>3</td></tr>\n",
       "    <tr><td class='row_index'>16</td><td>2021-02-03<span class=sp>T</span>01:14:40</td><td>U5</td><td>25</td><td>Eggs</td><td>Dairy</td><td>2.1</td><td>4</td></tr>\n",
       "    <tr><td class='row_index'>17</td><td>2021-05-26<span class=sp>T</span>22:42:15</td><td>U3</td><td><span class=na>NA</span></td><td>Bread</td><td><span class=na>NA</span></td><td>0.6</td><td>1</td></tr>\n",
       "    <tr><td class='row_index'>18</td><td>2021-06-14<span class=sp>T</span>15:49:28</td><td>U4</td><td>19</td><td>Eggs</td><td>Dairy</td><td>2.3</td><td>2</td></tr>\n",
       "    <tr><td class='row_index'>19</td><td>2021-07-01<span class=sp>T</span>04:37:31</td><td>U4</td><td>19</td><td>Water</td><td>Drink</td><td>0.3</td><td>1</td></tr>\n",
       "  </tbody>\n",
       "  </table>\n",
       "  <div class='footer'>\n",
       "    <div class='frame_dimensions'>20 rows &times; 7 columns</div>\n",
       "  </div>\n",
       "</div>\n"
      ],
      "text/plain": [
       "<Frame#7f1273020960 20x7>"
      ]
     },
     "execution_count": 14,
     "metadata": {},
     "output_type": "execute_result"
    }
   ],
   "source": [
    "data_unique = data[:1, :, dt.by(*data.names)]\n",
    "data_unique"
   ]
  },
  {
   "cell_type": "code",
   "execution_count": 15,
   "id": "f4ab5dbc",
   "metadata": {
    "execution": {
     "iopub.execute_input": "2021-07-13T06:20:19.512500Z",
     "iopub.status.busy": "2021-07-13T06:20:19.511773Z",
     "iopub.status.idle": "2021-07-13T06:20:19.516518Z",
     "shell.execute_reply": "2021-07-13T06:20:19.516986Z",
     "shell.execute_reply.started": "2021-07-09T17:08:13.440725Z"
    },
    "papermill": {
     "duration": 0.040359,
     "end_time": "2021-07-13T06:20:19.517191",
     "exception": false,
     "start_time": "2021-07-13T06:20:19.476832",
     "status": "completed"
    },
    "tags": []
   },
   "outputs": [
    {
     "data": {
      "text/html": [
       "<div class='datatable'>\n",
       "  <table class='frame'>\n",
       "  <thead>\n",
       "    <tr class='colnames'><td class='row_index'></td><th>product</th></tr>\n",
       "    <tr class='coltypes'><td class='row_index'></td><td class='str' title='str32'>&#x25AA;&#x25AA;&#x25AA;&#x25AA;</td></tr>\n",
       "  </thead>\n",
       "  <tbody>\n",
       "    <tr><td class='row_index'>0</td><td>Banana</td></tr>\n",
       "    <tr><td class='row_index'>1</td><td>Bread</td></tr>\n",
       "    <tr><td class='row_index'>2</td><td>Eggs</td></tr>\n",
       "    <tr><td class='row_index'>3</td><td>Grapes</td></tr>\n",
       "    <tr><td class='row_index'>4</td><td>Water</td></tr>\n",
       "  </tbody>\n",
       "  </table>\n",
       "  <div class='footer'>\n",
       "    <div class='frame_dimensions'>5 rows &times; 1 column</div>\n",
       "  </div>\n",
       "</div>\n"
      ],
      "text/plain": [
       "<Frame#7f12730206c0 5x1>"
      ]
     },
     "execution_count": 15,
     "metadata": {},
     "output_type": "execute_result"
    }
   ],
   "source": [
    "product_unique = dt.unique(data_unique['product'])\n",
    "product_unique"
   ]
  },
  {
   "cell_type": "markdown",
   "id": "c4c9157c",
   "metadata": {
    "papermill": {
     "duration": 0.023731,
     "end_time": "2021-07-13T06:20:19.567421",
     "exception": false,
     "start_time": "2021-07-13T06:20:19.543690",
     "status": "completed"
    },
    "tags": []
   },
   "source": [
    "**Exercise 30: Select first row of each user from `data` and assign it to `data_first`**"
   ]
  },
  {
   "cell_type": "code",
   "execution_count": 16,
   "id": "4204b728",
   "metadata": {
    "execution": {
     "iopub.execute_input": "2021-07-13T06:20:19.624300Z",
     "iopub.status.busy": "2021-07-13T06:20:19.623471Z",
     "iopub.status.idle": "2021-07-13T06:20:19.626731Z",
     "shell.execute_reply": "2021-07-13T06:20:19.624895Z",
     "shell.execute_reply.started": "2021-07-09T17:08:29.889451Z"
    },
    "papermill": {
     "duration": 0.035345,
     "end_time": "2021-07-13T06:20:19.626893",
     "exception": false,
     "start_time": "2021-07-13T06:20:19.591548",
     "status": "completed"
    },
    "tags": []
   },
   "outputs": [
    {
     "data": {
      "text/html": [
       "<div class='datatable'>\n",
       "  <table class='frame'>\n",
       "  <thead>\n",
       "    <tr class='colnames'><td class='row_index'></td><th>user</th><th>timestamp</th><th>age</th><th>product</th><th>category</th><th>price</th><th>quantity</th></tr>\n",
       "    <tr class='coltypes'><td class='row_index'></td><td class='str' title='str32'>&#x25AA;&#x25AA;&#x25AA;&#x25AA;</td><td class='time' title='time64'>&#x25AA;&#x25AA;&#x25AA;&#x25AA;&#x25AA;&#x25AA;&#x25AA;&#x25AA;</td><td class='int' title='int32'>&#x25AA;&#x25AA;&#x25AA;&#x25AA;</td><td class='str' title='str32'>&#x25AA;&#x25AA;&#x25AA;&#x25AA;</td><td class='str' title='str32'>&#x25AA;&#x25AA;&#x25AA;&#x25AA;</td><td class='float' title='float64'>&#x25AA;&#x25AA;&#x25AA;&#x25AA;&#x25AA;&#x25AA;&#x25AA;&#x25AA;</td><td class='int' title='int32'>&#x25AA;&#x25AA;&#x25AA;&#x25AA;</td></tr>\n",
       "  </thead>\n",
       "  <tbody>\n",
       "    <tr><td class='row_index'>0</td><td>U1</td><td>2017-01-01<span class=sp>T</span>13:22:41</td><td>21</td><td>Eggs</td><td>Dairy</td><td>2.3</td><td>2</td></tr>\n",
       "    <tr><td class='row_index'>1</td><td>U2</td><td>2017-05-22<span class=sp>T</span>09:54:21</td><td>41</td><td>Bread</td><td><span class=na>NA</span></td><td>0.6</td><td>2</td></tr>\n",
       "    <tr><td class='row_index'>2</td><td>U3</td><td>2018-11-09<span class=sp>T</span>15:00:01</td><td><span class=na>NA</span></td><td>Banana</td><td>Fruit</td><td>0.7</td><td>1</td></tr>\n",
       "    <tr><td class='row_index'>3</td><td>U4</td><td>2019-03-03<span class=sp>T</span>06:21:58</td><td>19</td><td>Eggs</td><td>Dairy</td><td>2.3</td><td>2</td></tr>\n",
       "    <tr><td class='row_index'>4</td><td>U5</td><td>2019-06-17<span class=sp>T</span>16:13:39</td><td>25</td><td>Grapes</td><td>Fruit</td><td>1.5</td><td>1</td></tr>\n",
       "  </tbody>\n",
       "  </table>\n",
       "  <div class='footer'>\n",
       "    <div class='frame_dimensions'>5 rows &times; 7 columns</div>\n",
       "  </div>\n",
       "</div>\n"
      ],
      "text/plain": [
       "<Frame#7f1273020e10 5x7>"
      ]
     },
     "execution_count": 16,
     "metadata": {},
     "output_type": "execute_result"
    }
   ],
   "source": [
    "data_first = data[:1, :, dt.by(dt.f.user)]\n",
    "data_first"
   ]
  },
  {
   "cell_type": "markdown",
   "id": "f96c0091",
   "metadata": {
    "papermill": {
     "duration": 0.024138,
     "end_time": "2021-07-13T06:20:19.677983",
     "exception": false,
     "start_time": "2021-07-13T06:20:19.653845",
     "status": "completed"
    },
    "tags": []
   },
   "source": [
    "✅ This completes Set 3: Data Selection (Exercises 21-30) of **DatatableTon**: *💯 datatable exercises*\n",
    "\n",
    "#### Set 04 • Frame Operations • Beginner • Exercises 31-40\n",
    "\n",
    "| Style | Colab | Kaggle | Binder | GitHub |\n",
    "| ----- | ----- | ------ | ------ | ------ |\n",
    "| Exercises | [![Open in Colab](https://img.shields.io/static/v1?label=&message=Open%20in%20Colab&labelColor=grey&color=blue&logo=google-colab)](https://colab.research.google.com/github/vopani/datatableton/blob/main/notebooks/04_frame_operations_exercises.ipynb) | [![Open in Kaggle](https://img.shields.io/static/v1?label=&message=Open%20in%20Kaggle&labelColor=grey&color=blue&logo=kaggle)](https://www.kaggle.com/rohanrao/datatableton-frame-operations-exercises) | [![Open in Binder](https://img.shields.io/static/v1?label=&message=Open%20in%20Binder&labelColor=grey&color=blue&logo=data:image/png;base64,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)](https://mybinder.org/v2/gh/vopani/datatableton/main?filepath=notebooks%2F04_frame_operations_exercises.ipynb) | [![Open in GitHub](https://img.shields.io/static/v1?label=&message=Open%20in%20GitHub&labelColor=grey&color=blue&logo=github)](https://github.com/vopani/datatableton/blob/main/notebooks/04_frame_operations_exercises.ipynb) |\n",
    "| Solutions | [![Open in Colab](https://img.shields.io/static/v1?label=&message=Open%20in%20Colab&labelColor=grey&color=blue&logo=google-colab)](https://colab.research.google.com/github/vopani/datatableton/blob/main/notebooks/04_frame_operations_solutions.ipynb) | [![Open in Kaggle](https://img.shields.io/static/v1?label=&message=Open%20in%20Kaggle&labelColor=grey&color=blue&logo=kaggle)](https://www.kaggle.com/rohanrao/datatableton-frame-operations-solutions) | [![Open in Binder](https://img.shields.io/static/v1?label=&message=Open%20in%20Binder&labelColor=grey&color=blue&logo=data:image/png;base64,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)](https://mybinder.org/v2/gh/vopani/datatableton/main?filepath=notebooks%2F04_frame_operations_solutions.ipynb) | [![Open in GitHub](https://img.shields.io/static/v1?label=&message=Open%20in%20GitHub&labelColor=grey&color=blue&logo=github)](https://github.com/vopani/datatableton/blob/main/notebooks/04_frame_operations_solutions.ipynb) |\n",
    "\n",
    "You can find all the exercises and solutions on [GitHub](https://github.com/vopani/datatableton#exercises-)"
   ]
  }
 ],
 "metadata": {
  "kernelspec": {
   "display_name": "Python 3",
   "language": "python",
   "name": "python3"
  },
  "language_info": {
   "codemirror_mode": {
    "name": "ipython",
    "version": 3
   },
   "file_extension": ".py",
   "mimetype": "text/x-python",
   "name": "python",
   "nbconvert_exporter": "python",
   "pygments_lexer": "ipython3",
   "version": "3.7.10"
  },
  "papermill": {
   "default_parameters": {},
   "duration": 42.891521,
   "end_time": "2021-07-13T06:20:21.339468",
   "environment_variables": {},
   "exception": null,
   "input_path": "__notebook__.ipynb",
   "output_path": "__notebook__.ipynb",
   "parameters": {},
   "start_time": "2021-07-13T06:19:38.447947",
   "version": "2.3.3"
  }
 },
 "nbformat": 4,
 "nbformat_minor": 5
}
