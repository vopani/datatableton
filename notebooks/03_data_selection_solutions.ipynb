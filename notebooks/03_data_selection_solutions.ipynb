{
 "cells": [
  {
   "cell_type": "markdown",
   "id": "182e03b3",
   "metadata": {
    "_cell_guid": "b1076dfc-b9ad-4769-8c92-a6c4dae69d19",
    "_uuid": "8f2839f25d086af736a60e9eeb907d3b93b6e0e5",
    "papermill": {
     "duration": 0.021517,
     "end_time": "2021-07-10T03:45:36.455467",
     "exception": false,
     "start_time": "2021-07-10T03:45:36.433950",
     "status": "completed"
    },
    "tags": []
   },
   "source": [
    "<center>\n",
    "    <h1>DatatableTon</h1>\n",
    "    💯 datatable exercises\n",
    "    <br>\n",
    "    <br>\n",
    "    <a href='https://github.com/vopani/datatableton/blob/master/LICENSE'>\n",
    "        <img src='https://img.shields.io/badge/license-Apache%202.0-blue.svg?logo=apache'>\n",
    "    </a>\n",
    "    <a href='https://github.com/vopani/datatableton'>\n",
    "        <img src='https://img.shields.io/github/stars/vopani/datatableton?color=yellowgreen&logo=github'>\n",
    "    </a>\n",
    "    <a href='https://twitter.com/vopani'>\n",
    "        <img src='https://img.shields.io/twitter/follow/vopani'>\n",
    "    </a>\n",
    "</center>"
   ]
  },
  {
   "cell_type": "markdown",
   "id": "64179c18",
   "metadata": {
    "papermill": {
     "duration": 0.019864,
     "end_time": "2021-07-10T03:45:36.496524",
     "exception": false,
     "start_time": "2021-07-10T03:45:36.476660",
     "status": "completed"
    },
    "tags": []
   },
   "source": [
    "<center>\n",
    "    This is Set 3: Data Selection (Exercises 21-30) of <b>DatatableTon</b>: <i>💯 datatable exercises</i>\n",
    "    <br>\n",
    "    You can find all the exercises and solutions on <a href=\"https://github.com/vopani/datatableton#exercises-\">GitHub</a>\n",
    "</center>"
   ]
  },
  {
   "cell_type": "markdown",
   "id": "fd2800e4",
   "metadata": {
    "papermill": {
     "duration": 0.020549,
     "end_time": "2021-07-10T03:45:36.537242",
     "exception": false,
     "start_time": "2021-07-10T03:45:36.516693",
     "status": "completed"
    },
    "tags": []
   },
   "source": [
    "**Prerequisites**\n",
    "* The `datatable` package should be upgraded to the latest version (or v1.0.0+).\n",
    "* The sample dataset [datatableton_sample.csv](https://github.com/vopani/datatableton/blob/main/data/datatableton_sample.csv) will be used for the exercises."
   ]
  },
  {
   "cell_type": "code",
   "execution_count": 1,
   "id": "e8119d2f",
   "metadata": {
    "_kg_hide-output": true,
    "execution": {
     "iopub.execute_input": "2021-07-10T03:45:36.582297Z",
     "iopub.status.busy": "2021-07-10T03:45:36.581148Z",
     "iopub.status.idle": "2021-07-10T03:45:46.952630Z",
     "shell.execute_reply": "2021-07-10T03:45:46.951803Z",
     "shell.execute_reply.started": "2021-07-09T16:57:01.831667Z"
    },
    "papermill": {
     "duration": 10.395534,
     "end_time": "2021-07-10T03:45:46.952803",
     "exception": false,
     "start_time": "2021-07-10T03:45:36.557269",
     "status": "completed"
    },
    "tags": []
   },
   "outputs": [
    {
     "name": "stdout",
     "output_type": "stream",
     "text": [
      "Requirement already satisfied: datatable in /opt/conda/lib/python3.7/site-packages (1.0.0)\r\n",
      "\u001b[33mWARNING: Running pip as root will break packages and permissions. You should install packages reliably by using venv: https://pip.pypa.io/warnings/venv\u001b[0m\r\n",
      "--2021-07-10 03:45:46--  https://raw.githubusercontent.com/vopani/datatableton/main/data/datatableton_sample.csv\r\n",
      "Resolving raw.githubusercontent.com (raw.githubusercontent.com)... 185.199.110.133, 185.199.111.133, 185.199.108.133, ...\r\n",
      "Connecting to raw.githubusercontent.com (raw.githubusercontent.com)|185.199.110.133|:443... connected.\r\n",
      "HTTP request sent, awaiting response... 200 OK\r\n",
      "Length: 940 [text/plain]\r\n",
      "Saving to: ‘datatableton_sample.csv’\r\n",
      "\r\n",
      "datatableton_sample 100%[===================>]     940  --.-KB/s    in 0s      \r\n",
      "\r\n",
      "2021-07-10 03:45:46 (25.6 MB/s) - ‘datatableton_sample.csv’ saved [940/940]\r\n",
      "\r\n"
     ]
    }
   ],
   "source": [
    "!python3 -m pip install datatable --upgrade\n",
    "!wget https://raw.githubusercontent.com/vopani/datatableton/main/data/datatableton_sample.csv"
   ]
  },
  {
   "cell_type": "code",
   "execution_count": 2,
   "id": "aa0ed8cd",
   "metadata": {
    "execution": {
     "iopub.execute_input": "2021-07-10T03:45:47.019765Z",
     "iopub.status.busy": "2021-07-10T03:45:47.018429Z",
     "iopub.status.idle": "2021-07-10T03:45:47.247189Z",
     "shell.execute_reply": "2021-07-10T03:45:47.246595Z",
     "shell.execute_reply.started": "2021-07-09T16:57:11.178992Z"
    },
    "papermill": {
     "duration": 0.267215,
     "end_time": "2021-07-10T03:45:47.247353",
     "exception": false,
     "start_time": "2021-07-10T03:45:46.980138",
     "status": "completed"
    },
    "tags": []
   },
   "outputs": [
    {
     "data": {
      "text/html": [
       "<style type='text/css'>\n",
       ".datatable table.frame { margin-bottom: 0; }\n",
       ".datatable table.frame thead { border-bottom: none; }\n",
       ".datatable table.frame tr.coltypes td {  color: #FFFFFF;  line-height: 6px;  padding: 0 0.5em;}\n",
       ".datatable .bool    { background: #DDDD99; }\n",
       ".datatable .object  { background: #565656; }\n",
       ".datatable .int     { background: #5D9E5D; }\n",
       ".datatable .float   { background: #4040CC; }\n",
       ".datatable .str     { background: #CC4040; }\n",
       ".datatable .time    { background: #40CC40; }\n",
       ".datatable .row_index {  background: var(--jp-border-color3);  border-right: 1px solid var(--jp-border-color0);  color: var(--jp-ui-font-color3);  font-size: 9px;}\n",
       ".datatable .frame tbody td { text-align: left; }\n",
       ".datatable .frame tr.coltypes .row_index {  background: var(--jp-border-color0);}\n",
       ".datatable th:nth-child(2) { padding-left: 12px; }\n",
       ".datatable .hellipsis {  color: var(--jp-cell-editor-border-color);}\n",
       ".datatable .vellipsis {  background: var(--jp-layout-color0);  color: var(--jp-cell-editor-border-color);}\n",
       ".datatable .na {  color: var(--jp-cell-editor-border-color);  font-size: 80%;}\n",
       ".datatable .sp {  opacity: 0.25;}\n",
       ".datatable .footer { font-size: 9px; }\n",
       ".datatable .frame_dimensions {  background: var(--jp-border-color3);  border-top: 1px solid var(--jp-border-color0);  color: var(--jp-ui-font-color3);  display: inline-block;  opacity: 0.6;  padding: 1px 10px 1px 5px;}\n",
       "</style>\n"
      ],
      "text/plain": [
       "<IPython.core.display.HTML object>"
      ]
     },
     "metadata": {},
     "output_type": "display_data"
    },
    {
     "data": {
      "text/html": [
       "<div class='datatable'>\n",
       "  <table class='frame'>\n",
       "  <thead>\n",
       "    <tr class='colnames'><td class='row_index'></td><th>timestamp</th><th>user</th><th>age</th><th>product</th><th>category</th><th>price</th><th>quantity</th></tr>\n",
       "    <tr class='coltypes'><td class='row_index'></td><td class='time' title='time64'>&#x25AA;&#x25AA;&#x25AA;&#x25AA;&#x25AA;&#x25AA;&#x25AA;&#x25AA;</td><td class='str' title='str32'>&#x25AA;&#x25AA;&#x25AA;&#x25AA;</td><td class='int' title='int32'>&#x25AA;&#x25AA;&#x25AA;&#x25AA;</td><td class='str' title='str32'>&#x25AA;&#x25AA;&#x25AA;&#x25AA;</td><td class='str' title='str32'>&#x25AA;&#x25AA;&#x25AA;&#x25AA;</td><td class='float' title='float64'>&#x25AA;&#x25AA;&#x25AA;&#x25AA;&#x25AA;&#x25AA;&#x25AA;&#x25AA;</td><td class='int' title='int32'>&#x25AA;&#x25AA;&#x25AA;&#x25AA;</td></tr>\n",
       "  </thead>\n",
       "  <tbody>\n",
       "    <tr><td class='row_index'>0</td><td>2017-01-01<span class=sp>T</span>13:22:41</td><td>U1</td><td>21</td><td>Eggs</td><td>Dairy</td><td>2.3</td><td>2</td></tr>\n",
       "    <tr><td class='row_index'>1</td><td>2017-05-22<span class=sp>T</span>09:54:21</td><td>U2</td><td>41</td><td>Bread</td><td><span class=na>NA</span></td><td>0.6</td><td>2</td></tr>\n",
       "    <tr><td class='row_index'>2</td><td>2018-11-09<span class=sp>T</span>15:00:01</td><td>U3</td><td><span class=na>NA</span></td><td>Banana</td><td>Fruit</td><td>0.7</td><td>1</td></tr>\n",
       "    <tr><td class='row_index'>3</td><td>2018-12-24<span class=sp>T</span>23:03:33</td><td>U1</td><td>21</td><td>Water</td><td>Drink</td><td>0.2</td><td>1</td></tr>\n",
       "    <tr><td class='row_index'>4</td><td>2019-03-03<span class=sp>T</span>06:21:58</td><td>U4</td><td>19</td><td>Eggs</td><td>Dairy</td><td>2.3</td><td>2</td></tr>\n",
       "    <tr><td class='row_index'>5</td><td>2019-06-17<span class=sp>T</span>16:13:39</td><td>U5</td><td>25</td><td>Grapes</td><td>Fruit</td><td>1.5</td><td>1</td></tr>\n",
       "    <tr><td class='row_index'>6</td><td>2019-07-28<span class=sp>T</span>21:03:11</td><td>U5</td><td>25</td><td>Bread</td><td><span class=na>NA</span></td><td>0.6</td><td>1</td></tr>\n",
       "    <tr><td class='row_index'>7</td><td>2019-12-05<span class=sp>T</span>04:15:42</td><td>U1</td><td>21</td><td>Banana</td><td>Fruit</td><td>0.7</td><td>2</td></tr>\n",
       "    <tr><td class='row_index'>8</td><td>2020-02-02<span class=sp>T</span>03:45:34</td><td>U3</td><td><span class=na>NA</span></td><td>Banana</td><td>Fruit</td><td>0.7</td><td>1</td></tr>\n",
       "    <tr><td class='row_index'>9</td><td>2020-03-05<span class=sp>T</span>07:09:12</td><td>U4</td><td>19</td><td>Grapes</td><td>Fruit</td><td>1.5</td><td>1</td></tr>\n",
       "    <tr><td class='row_index'>10</td><td>2020-03-22<span class=sp>T</span>19:29:38</td><td>U1</td><td>21</td><td>Water</td><td>Drink</td><td>0.2</td><td>1</td></tr>\n",
       "    <tr><td class='row_index'>11</td><td>2020-03-30<span class=sp>T</span>09:44:30</td><td>U4</td><td>19</td><td>Water</td><td>Drink</td><td>0.2</td><td>1</td></tr>\n",
       "    <tr><td class='row_index'>12</td><td>2020-04-01<span class=sp>T</span>13:21:41</td><td>U1</td><td>21</td><td>Banana</td><td>Fruit</td><td>0.7</td><td>2</td></tr>\n",
       "    <tr><td class='row_index'>13</td><td>2020-07-08<span class=sp>T</span>11:45:25</td><td>U2</td><td>41</td><td>Grapes</td><td>Fruit</td><td>1.5</td><td>1</td></tr>\n",
       "    <tr><td class='row_index'>14</td><td>2020-11-19<span class=sp>T</span>18:51:22</td><td>U5</td><td>25</td><td>Water</td><td>Drink</td><td>0.2</td><td>1</td></tr>\n",
       "    <tr><td class='row_index'>15</td><td>2020-12-03<span class=sp>T</span>16:23:48</td><td>U3</td><td><span class=na>NA</span></td><td>Banana</td><td>Fruit</td><td>0.5</td><td>3</td></tr>\n",
       "    <tr><td class='row_index'>16</td><td>2021-02-03<span class=sp>T</span>01:14:40</td><td>U5</td><td>25</td><td>Eggs</td><td>Dairy</td><td>2.1</td><td>4</td></tr>\n",
       "    <tr><td class='row_index'>17</td><td>2021-05-26<span class=sp>T</span>22:42:15</td><td>U3</td><td><span class=na>NA</span></td><td>Bread</td><td><span class=na>NA</span></td><td>0.6</td><td>1</td></tr>\n",
       "    <tr><td class='row_index'>18</td><td>2021-06-14<span class=sp>T</span>15:49:28</td><td>U4</td><td>19</td><td>Eggs</td><td>Dairy</td><td>2.3</td><td>2</td></tr>\n",
       "    <tr><td class='row_index'>19</td><td>2021-07-01<span class=sp>T</span>04:37:31</td><td>U4</td><td>19</td><td>Water</td><td>Drink</td><td>0.3</td><td>1</td></tr>\n",
       "  </tbody>\n",
       "  </table>\n",
       "  <div class='footer'>\n",
       "    <div class='frame_dimensions'>20 rows &times; 7 columns</div>\n",
       "  </div>\n",
       "</div>\n"
      ],
      "text/plain": [
       "<Frame#7fb2b419c720 20x7>"
      ]
     },
     "execution_count": 2,
     "metadata": {},
     "output_type": "execute_result"
    }
   ],
   "source": [
    "import datatable as dt\n",
    "\n",
    "data = dt.fread('datatableton_sample.csv')\n",
    "data"
   ]
  },
  {
   "cell_type": "markdown",
   "id": "19536ae1",
   "metadata": {
    "papermill": {
     "duration": 0.022981,
     "end_time": "2021-07-10T03:45:47.293708",
     "exception": false,
     "start_time": "2021-07-10T03:45:47.270727",
     "status": "completed"
    },
    "tags": []
   },
   "source": [
    "**Exercise 21: Select the columns `user`, `product` and `quantity` from `data` and assign it to `data_upq` and select the `user` column from `data_upq` and assign it to `data_u`**"
   ]
  },
  {
   "cell_type": "code",
   "execution_count": 3,
   "id": "9f4151eb",
   "metadata": {
    "execution": {
     "iopub.execute_input": "2021-07-10T03:45:47.347063Z",
     "iopub.status.busy": "2021-07-10T03:45:47.346303Z",
     "iopub.status.idle": "2021-07-10T03:45:47.349484Z",
     "shell.execute_reply": "2021-07-10T03:45:47.349981Z",
     "shell.execute_reply.started": "2021-07-09T16:57:11.398425Z"
    },
    "papermill": {
     "duration": 0.033238,
     "end_time": "2021-07-10T03:45:47.350197",
     "exception": false,
     "start_time": "2021-07-10T03:45:47.316959",
     "status": "completed"
    },
    "tags": []
   },
   "outputs": [
    {
     "data": {
      "text/html": [
       "<div class='datatable'>\n",
       "  <table class='frame'>\n",
       "  <thead>\n",
       "    <tr class='colnames'><td class='row_index'></td><th>user</th><th>product</th><th>quantity</th></tr>\n",
       "    <tr class='coltypes'><td class='row_index'></td><td class='str' title='str32'>&#x25AA;&#x25AA;&#x25AA;&#x25AA;</td><td class='str' title='str32'>&#x25AA;&#x25AA;&#x25AA;&#x25AA;</td><td class='int' title='int32'>&#x25AA;&#x25AA;&#x25AA;&#x25AA;</td></tr>\n",
       "  </thead>\n",
       "  <tbody>\n",
       "    <tr><td class='row_index'>0</td><td>U1</td><td>Eggs</td><td>2</td></tr>\n",
       "    <tr><td class='row_index'>1</td><td>U2</td><td>Bread</td><td>2</td></tr>\n",
       "    <tr><td class='row_index'>2</td><td>U3</td><td>Banana</td><td>1</td></tr>\n",
       "    <tr><td class='row_index'>3</td><td>U1</td><td>Water</td><td>1</td></tr>\n",
       "    <tr><td class='row_index'>4</td><td>U4</td><td>Eggs</td><td>2</td></tr>\n",
       "    <tr><td class='row_index'>5</td><td>U5</td><td>Grapes</td><td>1</td></tr>\n",
       "    <tr><td class='row_index'>6</td><td>U5</td><td>Bread</td><td>1</td></tr>\n",
       "    <tr><td class='row_index'>7</td><td>U1</td><td>Banana</td><td>2</td></tr>\n",
       "    <tr><td class='row_index'>8</td><td>U3</td><td>Banana</td><td>1</td></tr>\n",
       "    <tr><td class='row_index'>9</td><td>U4</td><td>Grapes</td><td>1</td></tr>\n",
       "    <tr><td class='row_index'>10</td><td>U1</td><td>Water</td><td>1</td></tr>\n",
       "    <tr><td class='row_index'>11</td><td>U4</td><td>Water</td><td>1</td></tr>\n",
       "    <tr><td class='row_index'>12</td><td>U1</td><td>Banana</td><td>2</td></tr>\n",
       "    <tr><td class='row_index'>13</td><td>U2</td><td>Grapes</td><td>1</td></tr>\n",
       "    <tr><td class='row_index'>14</td><td>U5</td><td>Water</td><td>1</td></tr>\n",
       "    <tr><td class='row_index'>15</td><td>U3</td><td>Banana</td><td>3</td></tr>\n",
       "    <tr><td class='row_index'>16</td><td>U5</td><td>Eggs</td><td>4</td></tr>\n",
       "    <tr><td class='row_index'>17</td><td>U3</td><td>Bread</td><td>1</td></tr>\n",
       "    <tr><td class='row_index'>18</td><td>U4</td><td>Eggs</td><td>2</td></tr>\n",
       "    <tr><td class='row_index'>19</td><td>U4</td><td>Water</td><td>1</td></tr>\n",
       "  </tbody>\n",
       "  </table>\n",
       "  <div class='footer'>\n",
       "    <div class='frame_dimensions'>20 rows &times; 3 columns</div>\n",
       "  </div>\n",
       "</div>\n"
      ],
      "text/plain": [
       "<Frame#7fb2b4162990 20x3>"
      ]
     },
     "execution_count": 3,
     "metadata": {},
     "output_type": "execute_result"
    }
   ],
   "source": [
    "data_upq = data[:, ['user', 'product', 'quantity']]\n",
    "data_upq"
   ]
  },
  {
   "cell_type": "code",
   "execution_count": 4,
   "id": "305c5bcf",
   "metadata": {
    "execution": {
     "iopub.execute_input": "2021-07-10T03:45:47.401297Z",
     "iopub.status.busy": "2021-07-10T03:45:47.400593Z",
     "iopub.status.idle": "2021-07-10T03:45:47.407143Z",
     "shell.execute_reply": "2021-07-10T03:45:47.406444Z",
     "shell.execute_reply.started": "2021-07-09T16:57:57.848188Z"
    },
    "papermill": {
     "duration": 0.033478,
     "end_time": "2021-07-10T03:45:47.407341",
     "exception": false,
     "start_time": "2021-07-10T03:45:47.373863",
     "status": "completed"
    },
    "tags": []
   },
   "outputs": [
    {
     "data": {
      "text/html": [
       "<div class='datatable'>\n",
       "  <table class='frame'>\n",
       "  <thead>\n",
       "    <tr class='colnames'><td class='row_index'></td><th>user</th></tr>\n",
       "    <tr class='coltypes'><td class='row_index'></td><td class='str' title='str32'>&#x25AA;&#x25AA;&#x25AA;&#x25AA;</td></tr>\n",
       "  </thead>\n",
       "  <tbody>\n",
       "    <tr><td class='row_index'>0</td><td>U1</td></tr>\n",
       "    <tr><td class='row_index'>1</td><td>U2</td></tr>\n",
       "    <tr><td class='row_index'>2</td><td>U3</td></tr>\n",
       "    <tr><td class='row_index'>3</td><td>U1</td></tr>\n",
       "    <tr><td class='row_index'>4</td><td>U4</td></tr>\n",
       "    <tr><td class='row_index'>5</td><td>U5</td></tr>\n",
       "    <tr><td class='row_index'>6</td><td>U5</td></tr>\n",
       "    <tr><td class='row_index'>7</td><td>U1</td></tr>\n",
       "    <tr><td class='row_index'>8</td><td>U3</td></tr>\n",
       "    <tr><td class='row_index'>9</td><td>U4</td></tr>\n",
       "    <tr><td class='row_index'>10</td><td>U1</td></tr>\n",
       "    <tr><td class='row_index'>11</td><td>U4</td></tr>\n",
       "    <tr><td class='row_index'>12</td><td>U1</td></tr>\n",
       "    <tr><td class='row_index'>13</td><td>U2</td></tr>\n",
       "    <tr><td class='row_index'>14</td><td>U5</td></tr>\n",
       "    <tr><td class='row_index'>15</td><td>U3</td></tr>\n",
       "    <tr><td class='row_index'>16</td><td>U5</td></tr>\n",
       "    <tr><td class='row_index'>17</td><td>U3</td></tr>\n",
       "    <tr><td class='row_index'>18</td><td>U4</td></tr>\n",
       "    <tr><td class='row_index'>19</td><td>U4</td></tr>\n",
       "  </tbody>\n",
       "  </table>\n",
       "  <div class='footer'>\n",
       "    <div class='frame_dimensions'>20 rows &times; 1 column</div>\n",
       "  </div>\n",
       "</div>\n"
      ],
      "text/plain": [
       "<Frame#7fb2b4162b40 20x1>"
      ]
     },
     "execution_count": 4,
     "metadata": {},
     "output_type": "execute_result"
    }
   ],
   "source": [
    "data_u = data_upq['user']\n",
    "data_u"
   ]
  },
  {
   "cell_type": "markdown",
   "id": "41043b7b",
   "metadata": {
    "papermill": {
     "duration": 0.024955,
     "end_time": "2021-07-10T03:45:47.456734",
     "exception": false,
     "start_time": "2021-07-10T03:45:47.431779",
     "status": "completed"
    },
    "tags": []
   },
   "source": [
    "**Exercise 22: Select columns 2nd to 4th using indices from `data` and assign it to `data_c234`**"
   ]
  },
  {
   "cell_type": "code",
   "execution_count": 5,
   "id": "0d67befc",
   "metadata": {
    "execution": {
     "iopub.execute_input": "2021-07-10T03:45:47.509214Z",
     "iopub.status.busy": "2021-07-10T03:45:47.508512Z",
     "iopub.status.idle": "2021-07-10T03:45:47.514814Z",
     "shell.execute_reply": "2021-07-10T03:45:47.514256Z",
     "shell.execute_reply.started": "2021-07-09T17:00:00.763530Z"
    },
    "papermill": {
     "duration": 0.033635,
     "end_time": "2021-07-10T03:45:47.514967",
     "exception": false,
     "start_time": "2021-07-10T03:45:47.481332",
     "status": "completed"
    },
    "tags": []
   },
   "outputs": [
    {
     "data": {
      "text/html": [
       "<div class='datatable'>\n",
       "  <table class='frame'>\n",
       "  <thead>\n",
       "    <tr class='colnames'><td class='row_index'></td><th>user</th><th>age</th><th>product</th></tr>\n",
       "    <tr class='coltypes'><td class='row_index'></td><td class='str' title='str32'>&#x25AA;&#x25AA;&#x25AA;&#x25AA;</td><td class='int' title='int32'>&#x25AA;&#x25AA;&#x25AA;&#x25AA;</td><td class='str' title='str32'>&#x25AA;&#x25AA;&#x25AA;&#x25AA;</td></tr>\n",
       "  </thead>\n",
       "  <tbody>\n",
       "    <tr><td class='row_index'>0</td><td>U1</td><td>21</td><td>Eggs</td></tr>\n",
       "    <tr><td class='row_index'>1</td><td>U2</td><td>41</td><td>Bread</td></tr>\n",
       "    <tr><td class='row_index'>2</td><td>U3</td><td><span class=na>NA</span></td><td>Banana</td></tr>\n",
       "    <tr><td class='row_index'>3</td><td>U1</td><td>21</td><td>Water</td></tr>\n",
       "    <tr><td class='row_index'>4</td><td>U4</td><td>19</td><td>Eggs</td></tr>\n",
       "    <tr><td class='row_index'>5</td><td>U5</td><td>25</td><td>Grapes</td></tr>\n",
       "    <tr><td class='row_index'>6</td><td>U5</td><td>25</td><td>Bread</td></tr>\n",
       "    <tr><td class='row_index'>7</td><td>U1</td><td>21</td><td>Banana</td></tr>\n",
       "    <tr><td class='row_index'>8</td><td>U3</td><td><span class=na>NA</span></td><td>Banana</td></tr>\n",
       "    <tr><td class='row_index'>9</td><td>U4</td><td>19</td><td>Grapes</td></tr>\n",
       "    <tr><td class='row_index'>10</td><td>U1</td><td>21</td><td>Water</td></tr>\n",
       "    <tr><td class='row_index'>11</td><td>U4</td><td>19</td><td>Water</td></tr>\n",
       "    <tr><td class='row_index'>12</td><td>U1</td><td>21</td><td>Banana</td></tr>\n",
       "    <tr><td class='row_index'>13</td><td>U2</td><td>41</td><td>Grapes</td></tr>\n",
       "    <tr><td class='row_index'>14</td><td>U5</td><td>25</td><td>Water</td></tr>\n",
       "    <tr><td class='row_index'>15</td><td>U3</td><td><span class=na>NA</span></td><td>Banana</td></tr>\n",
       "    <tr><td class='row_index'>16</td><td>U5</td><td>25</td><td>Eggs</td></tr>\n",
       "    <tr><td class='row_index'>17</td><td>U3</td><td><span class=na>NA</span></td><td>Bread</td></tr>\n",
       "    <tr><td class='row_index'>18</td><td>U4</td><td>19</td><td>Eggs</td></tr>\n",
       "    <tr><td class='row_index'>19</td><td>U4</td><td>19</td><td>Water</td></tr>\n",
       "  </tbody>\n",
       "  </table>\n",
       "  <div class='footer'>\n",
       "    <div class='frame_dimensions'>20 rows &times; 3 columns</div>\n",
       "  </div>\n",
       "</div>\n"
      ],
      "text/plain": [
       "<Frame#7fb2b4162db0 20x3>"
      ]
     },
     "execution_count": 5,
     "metadata": {},
     "output_type": "execute_result"
    }
   ],
   "source": [
    "data_c234 = data[:, 1:4]\n",
    "data_c234"
   ]
  },
  {
   "cell_type": "markdown",
   "id": "f6644a13",
   "metadata": {
    "papermill": {
     "duration": 0.024132,
     "end_time": "2021-07-10T03:45:47.563552",
     "exception": false,
     "start_time": "2021-07-10T03:45:47.539420",
     "status": "completed"
    },
    "tags": []
   },
   "source": [
    "**Exercise 23: Select all string columns from `data` and assign it to `data_str`**"
   ]
  },
  {
   "cell_type": "code",
   "execution_count": 6,
   "id": "6e5391d1",
   "metadata": {
    "execution": {
     "iopub.execute_input": "2021-07-10T03:45:47.618463Z",
     "iopub.status.busy": "2021-07-10T03:45:47.617378Z",
     "iopub.status.idle": "2021-07-10T03:45:47.621728Z",
     "shell.execute_reply": "2021-07-10T03:45:47.622194Z",
     "shell.execute_reply.started": "2021-07-09T17:00:19.482581Z"
    },
    "papermill": {
     "duration": 0.034605,
     "end_time": "2021-07-10T03:45:47.622403",
     "exception": false,
     "start_time": "2021-07-10T03:45:47.587798",
     "status": "completed"
    },
    "tags": []
   },
   "outputs": [
    {
     "data": {
      "text/html": [
       "<div class='datatable'>\n",
       "  <table class='frame'>\n",
       "  <thead>\n",
       "    <tr class='colnames'><td class='row_index'></td><th>user</th><th>product</th><th>category</th></tr>\n",
       "    <tr class='coltypes'><td class='row_index'></td><td class='str' title='str32'>&#x25AA;&#x25AA;&#x25AA;&#x25AA;</td><td class='str' title='str32'>&#x25AA;&#x25AA;&#x25AA;&#x25AA;</td><td class='str' title='str32'>&#x25AA;&#x25AA;&#x25AA;&#x25AA;</td></tr>\n",
       "  </thead>\n",
       "  <tbody>\n",
       "    <tr><td class='row_index'>0</td><td>U1</td><td>Eggs</td><td>Dairy</td></tr>\n",
       "    <tr><td class='row_index'>1</td><td>U2</td><td>Bread</td><td><span class=na>NA</span></td></tr>\n",
       "    <tr><td class='row_index'>2</td><td>U3</td><td>Banana</td><td>Fruit</td></tr>\n",
       "    <tr><td class='row_index'>3</td><td>U1</td><td>Water</td><td>Drink</td></tr>\n",
       "    <tr><td class='row_index'>4</td><td>U4</td><td>Eggs</td><td>Dairy</td></tr>\n",
       "    <tr><td class='row_index'>5</td><td>U5</td><td>Grapes</td><td>Fruit</td></tr>\n",
       "    <tr><td class='row_index'>6</td><td>U5</td><td>Bread</td><td><span class=na>NA</span></td></tr>\n",
       "    <tr><td class='row_index'>7</td><td>U1</td><td>Banana</td><td>Fruit</td></tr>\n",
       "    <tr><td class='row_index'>8</td><td>U3</td><td>Banana</td><td>Fruit</td></tr>\n",
       "    <tr><td class='row_index'>9</td><td>U4</td><td>Grapes</td><td>Fruit</td></tr>\n",
       "    <tr><td class='row_index'>10</td><td>U1</td><td>Water</td><td>Drink</td></tr>\n",
       "    <tr><td class='row_index'>11</td><td>U4</td><td>Water</td><td>Drink</td></tr>\n",
       "    <tr><td class='row_index'>12</td><td>U1</td><td>Banana</td><td>Fruit</td></tr>\n",
       "    <tr><td class='row_index'>13</td><td>U2</td><td>Grapes</td><td>Fruit</td></tr>\n",
       "    <tr><td class='row_index'>14</td><td>U5</td><td>Water</td><td>Drink</td></tr>\n",
       "    <tr><td class='row_index'>15</td><td>U3</td><td>Banana</td><td>Fruit</td></tr>\n",
       "    <tr><td class='row_index'>16</td><td>U5</td><td>Eggs</td><td>Dairy</td></tr>\n",
       "    <tr><td class='row_index'>17</td><td>U3</td><td>Bread</td><td><span class=na>NA</span></td></tr>\n",
       "    <tr><td class='row_index'>18</td><td>U4</td><td>Eggs</td><td>Dairy</td></tr>\n",
       "    <tr><td class='row_index'>19</td><td>U4</td><td>Water</td><td>Drink</td></tr>\n",
       "  </tbody>\n",
       "  </table>\n",
       "  <div class='footer'>\n",
       "    <div class='frame_dimensions'>20 rows &times; 3 columns</div>\n",
       "  </div>\n",
       "</div>\n"
      ],
      "text/plain": [
       "<Frame#7fb2b4162f60 20x3>"
      ]
     },
     "execution_count": 6,
     "metadata": {},
     "output_type": "execute_result"
    }
   ],
   "source": [
    "data_str = data[:, str]\n",
    "data_str"
   ]
  },
  {
   "cell_type": "markdown",
   "id": "84651321",
   "metadata": {
    "papermill": {
     "duration": 0.024375,
     "end_time": "2021-07-10T03:45:47.671680",
     "exception": false,
     "start_time": "2021-07-10T03:45:47.647305",
     "status": "completed"
    },
    "tags": []
   },
   "source": [
    "**Exercise 24: Select rows 4th and 1st from `data` and assign it to `data_r41`**"
   ]
  },
  {
   "cell_type": "code",
   "execution_count": 7,
   "id": "7de3822b",
   "metadata": {
    "execution": {
     "iopub.execute_input": "2021-07-10T03:45:47.731591Z",
     "iopub.status.busy": "2021-07-10T03:45:47.730805Z",
     "iopub.status.idle": "2021-07-10T03:45:47.735896Z",
     "shell.execute_reply": "2021-07-10T03:45:47.736415Z",
     "shell.execute_reply.started": "2021-07-09T17:01:05.089537Z"
    },
    "papermill": {
     "duration": 0.040234,
     "end_time": "2021-07-10T03:45:47.736642",
     "exception": false,
     "start_time": "2021-07-10T03:45:47.696408",
     "status": "completed"
    },
    "tags": []
   },
   "outputs": [
    {
     "data": {
      "text/html": [
       "<div class='datatable'>\n",
       "  <table class='frame'>\n",
       "  <thead>\n",
       "    <tr class='colnames'><td class='row_index'></td><th>timestamp</th><th>user</th><th>age</th><th>product</th><th>category</th><th>price</th><th>quantity</th></tr>\n",
       "    <tr class='coltypes'><td class='row_index'></td><td class='time' title='time64'>&#x25AA;&#x25AA;&#x25AA;&#x25AA;&#x25AA;&#x25AA;&#x25AA;&#x25AA;</td><td class='str' title='str32'>&#x25AA;&#x25AA;&#x25AA;&#x25AA;</td><td class='int' title='int32'>&#x25AA;&#x25AA;&#x25AA;&#x25AA;</td><td class='str' title='str32'>&#x25AA;&#x25AA;&#x25AA;&#x25AA;</td><td class='str' title='str32'>&#x25AA;&#x25AA;&#x25AA;&#x25AA;</td><td class='float' title='float64'>&#x25AA;&#x25AA;&#x25AA;&#x25AA;&#x25AA;&#x25AA;&#x25AA;&#x25AA;</td><td class='int' title='int32'>&#x25AA;&#x25AA;&#x25AA;&#x25AA;</td></tr>\n",
       "  </thead>\n",
       "  <tbody>\n",
       "    <tr><td class='row_index'>0</td><td>2018-12-24<span class=sp>T</span>23:03:33</td><td>U1</td><td>21</td><td>Water</td><td>Drink</td><td>0.2</td><td>1</td></tr>\n",
       "    <tr><td class='row_index'>1</td><td>2017-01-01<span class=sp>T</span>13:22:41</td><td>U1</td><td>21</td><td>Eggs</td><td>Dairy</td><td>2.3</td><td>2</td></tr>\n",
       "  </tbody>\n",
       "  </table>\n",
       "  <div class='footer'>\n",
       "    <div class='frame_dimensions'>2 rows &times; 7 columns</div>\n",
       "  </div>\n",
       "</div>\n"
      ],
      "text/plain": [
       "<Frame#7fb2b4162d80 2x7>"
      ]
     },
     "execution_count": 7,
     "metadata": {},
     "output_type": "execute_result"
    }
   ],
   "source": [
    "data_r41 = data[[3, 0], :]\n",
    "data_r41"
   ]
  },
  {
   "cell_type": "markdown",
   "id": "26f53cfd",
   "metadata": {
    "papermill": {
     "duration": 0.031052,
     "end_time": "2021-07-10T03:45:47.799250",
     "exception": false,
     "start_time": "2021-07-10T03:45:47.768198",
     "status": "completed"
    },
    "tags": []
   },
   "source": [
    "**Exercise 25: Select the element in the 4th row and 2nd column in `data` and assign it to `value_1` and select the 3rd element of `category` column in `data` and assign it to `value_2`**"
   ]
  },
  {
   "cell_type": "code",
   "execution_count": 8,
   "id": "100363c6",
   "metadata": {
    "execution": {
     "iopub.execute_input": "2021-07-10T03:45:47.858656Z",
     "iopub.status.busy": "2021-07-10T03:45:47.857945Z",
     "iopub.status.idle": "2021-07-10T03:45:47.860829Z",
     "shell.execute_reply": "2021-07-10T03:45:47.861512Z",
     "shell.execute_reply.started": "2021-07-09T17:01:50.345437Z"
    },
    "papermill": {
     "duration": 0.034974,
     "end_time": "2021-07-10T03:45:47.861718",
     "exception": false,
     "start_time": "2021-07-10T03:45:47.826744",
     "status": "completed"
    },
    "tags": []
   },
   "outputs": [
    {
     "data": {
      "text/plain": [
       "'Eggs'"
      ]
     },
     "execution_count": 8,
     "metadata": {},
     "output_type": "execute_result"
    }
   ],
   "source": [
    "value_1 = data[4, 3]\n",
    "value_1"
   ]
  },
  {
   "cell_type": "code",
   "execution_count": 9,
   "id": "6aae483d",
   "metadata": {
    "execution": {
     "iopub.execute_input": "2021-07-10T03:45:47.917056Z",
     "iopub.status.busy": "2021-07-10T03:45:47.916253Z",
     "iopub.status.idle": "2021-07-10T03:45:47.921802Z",
     "shell.execute_reply": "2021-07-10T03:45:47.922322Z",
     "shell.execute_reply.started": "2021-07-09T17:01:52.359791Z"
    },
    "papermill": {
     "duration": 0.034935,
     "end_time": "2021-07-10T03:45:47.922514",
     "exception": false,
     "start_time": "2021-07-10T03:45:47.887579",
     "status": "completed"
    },
    "tags": []
   },
   "outputs": [
    {
     "data": {
      "text/plain": [
       "'Fruit'"
      ]
     },
     "execution_count": 9,
     "metadata": {},
     "output_type": "execute_result"
    }
   ],
   "source": [
    "value_2 = data[2, 'category']\n",
    "value_2"
   ]
  },
  {
   "cell_type": "markdown",
   "id": "46779a03",
   "metadata": {
    "papermill": {
     "duration": 0.025641,
     "end_time": "2021-07-10T03:45:47.974208",
     "exception": false,
     "start_time": "2021-07-10T03:45:47.948567",
     "status": "completed"
    },
    "tags": []
   },
   "source": [
    "**Exercise 26: Select rows from `data` where `category` is `Fruit` and assign it to `data_fruit` and select rows from `data_fruit` where `product` is `Banana` and `quantity` is more than 1 and assign it to `data_multi_banana`**"
   ]
  },
  {
   "cell_type": "code",
   "execution_count": 10,
   "id": "e6a1fda8",
   "metadata": {
    "execution": {
     "iopub.execute_input": "2021-07-10T03:45:48.033945Z",
     "iopub.status.busy": "2021-07-10T03:45:48.033214Z",
     "iopub.status.idle": "2021-07-10T03:45:48.041388Z",
     "shell.execute_reply": "2021-07-10T03:45:48.041888Z",
     "shell.execute_reply.started": "2021-07-09T17:03:50.613283Z"
    },
    "papermill": {
     "duration": 0.041038,
     "end_time": "2021-07-10T03:45:48.042110",
     "exception": false,
     "start_time": "2021-07-10T03:45:48.001072",
     "status": "completed"
    },
    "tags": []
   },
   "outputs": [
    {
     "data": {
      "text/html": [
       "<div class='datatable'>\n",
       "  <table class='frame'>\n",
       "  <thead>\n",
       "    <tr class='colnames'><td class='row_index'></td><th>timestamp</th><th>user</th><th>age</th><th>product</th><th>category</th><th>price</th><th>quantity</th></tr>\n",
       "    <tr class='coltypes'><td class='row_index'></td><td class='time' title='time64'>&#x25AA;&#x25AA;&#x25AA;&#x25AA;&#x25AA;&#x25AA;&#x25AA;&#x25AA;</td><td class='str' title='str32'>&#x25AA;&#x25AA;&#x25AA;&#x25AA;</td><td class='int' title='int32'>&#x25AA;&#x25AA;&#x25AA;&#x25AA;</td><td class='str' title='str32'>&#x25AA;&#x25AA;&#x25AA;&#x25AA;</td><td class='str' title='str32'>&#x25AA;&#x25AA;&#x25AA;&#x25AA;</td><td class='float' title='float64'>&#x25AA;&#x25AA;&#x25AA;&#x25AA;&#x25AA;&#x25AA;&#x25AA;&#x25AA;</td><td class='int' title='int32'>&#x25AA;&#x25AA;&#x25AA;&#x25AA;</td></tr>\n",
       "  </thead>\n",
       "  <tbody>\n",
       "    <tr><td class='row_index'>0</td><td>2018-11-09<span class=sp>T</span>15:00:01</td><td>U3</td><td><span class=na>NA</span></td><td>Banana</td><td>Fruit</td><td>0.7</td><td>1</td></tr>\n",
       "    <tr><td class='row_index'>1</td><td>2019-06-17<span class=sp>T</span>16:13:39</td><td>U5</td><td>25</td><td>Grapes</td><td>Fruit</td><td>1.5</td><td>1</td></tr>\n",
       "    <tr><td class='row_index'>2</td><td>2019-12-05<span class=sp>T</span>04:15:42</td><td>U1</td><td>21</td><td>Banana</td><td>Fruit</td><td>0.7</td><td>2</td></tr>\n",
       "    <tr><td class='row_index'>3</td><td>2020-02-02<span class=sp>T</span>03:45:34</td><td>U3</td><td><span class=na>NA</span></td><td>Banana</td><td>Fruit</td><td>0.7</td><td>1</td></tr>\n",
       "    <tr><td class='row_index'>4</td><td>2020-03-05<span class=sp>T</span>07:09:12</td><td>U4</td><td>19</td><td>Grapes</td><td>Fruit</td><td>1.5</td><td>1</td></tr>\n",
       "    <tr><td class='row_index'>5</td><td>2020-04-01<span class=sp>T</span>13:21:41</td><td>U1</td><td>21</td><td>Banana</td><td>Fruit</td><td>0.7</td><td>2</td></tr>\n",
       "    <tr><td class='row_index'>6</td><td>2020-07-08<span class=sp>T</span>11:45:25</td><td>U2</td><td>41</td><td>Grapes</td><td>Fruit</td><td>1.5</td><td>1</td></tr>\n",
       "    <tr><td class='row_index'>7</td><td>2020-12-03<span class=sp>T</span>16:23:48</td><td>U3</td><td><span class=na>NA</span></td><td>Banana</td><td>Fruit</td><td>0.5</td><td>3</td></tr>\n",
       "  </tbody>\n",
       "  </table>\n",
       "  <div class='footer'>\n",
       "    <div class='frame_dimensions'>8 rows &times; 7 columns</div>\n",
       "  </div>\n",
       "</div>\n"
      ],
      "text/plain": [
       "<Frame#7fb2b4162960 8x7>"
      ]
     },
     "execution_count": 10,
     "metadata": {},
     "output_type": "execute_result"
    }
   ],
   "source": [
    "data_fruit = data[dt.f.category == 'Fruit', :]\n",
    "data_fruit"
   ]
  },
  {
   "cell_type": "code",
   "execution_count": 11,
   "id": "3386fa11",
   "metadata": {
    "execution": {
     "iopub.execute_input": "2021-07-10T03:45:48.114482Z",
     "iopub.status.busy": "2021-07-10T03:45:48.113591Z",
     "iopub.status.idle": "2021-07-10T03:45:48.119539Z",
     "shell.execute_reply": "2021-07-10T03:45:48.120095Z",
     "shell.execute_reply.started": "2021-07-09T17:04:01.360049Z"
    },
    "papermill": {
     "duration": 0.046291,
     "end_time": "2021-07-10T03:45:48.120374",
     "exception": false,
     "start_time": "2021-07-10T03:45:48.074083",
     "status": "completed"
    },
    "tags": []
   },
   "outputs": [
    {
     "data": {
      "text/html": [
       "<div class='datatable'>\n",
       "  <table class='frame'>\n",
       "  <thead>\n",
       "    <tr class='colnames'><td class='row_index'></td><th>timestamp</th><th>user</th><th>age</th><th>product</th><th>category</th><th>price</th><th>quantity</th></tr>\n",
       "    <tr class='coltypes'><td class='row_index'></td><td class='time' title='time64'>&#x25AA;&#x25AA;&#x25AA;&#x25AA;&#x25AA;&#x25AA;&#x25AA;&#x25AA;</td><td class='str' title='str32'>&#x25AA;&#x25AA;&#x25AA;&#x25AA;</td><td class='int' title='int32'>&#x25AA;&#x25AA;&#x25AA;&#x25AA;</td><td class='str' title='str32'>&#x25AA;&#x25AA;&#x25AA;&#x25AA;</td><td class='str' title='str32'>&#x25AA;&#x25AA;&#x25AA;&#x25AA;</td><td class='float' title='float64'>&#x25AA;&#x25AA;&#x25AA;&#x25AA;&#x25AA;&#x25AA;&#x25AA;&#x25AA;</td><td class='int' title='int32'>&#x25AA;&#x25AA;&#x25AA;&#x25AA;</td></tr>\n",
       "  </thead>\n",
       "  <tbody>\n",
       "    <tr><td class='row_index'>0</td><td>2019-12-05<span class=sp>T</span>04:15:42</td><td>U1</td><td>21</td><td>Banana</td><td>Fruit</td><td>0.7</td><td>2</td></tr>\n",
       "    <tr><td class='row_index'>1</td><td>2020-04-01<span class=sp>T</span>13:21:41</td><td>U1</td><td>21</td><td>Banana</td><td>Fruit</td><td>0.7</td><td>2</td></tr>\n",
       "    <tr><td class='row_index'>2</td><td>2020-12-03<span class=sp>T</span>16:23:48</td><td>U3</td><td><span class=na>NA</span></td><td>Banana</td><td>Fruit</td><td>0.5</td><td>3</td></tr>\n",
       "  </tbody>\n",
       "  </table>\n",
       "  <div class='footer'>\n",
       "    <div class='frame_dimensions'>3 rows &times; 7 columns</div>\n",
       "  </div>\n",
       "</div>\n"
      ],
      "text/plain": [
       "<Frame#7fb2b4107180 3x7>"
      ]
     },
     "execution_count": 11,
     "metadata": {},
     "output_type": "execute_result"
    }
   ],
   "source": [
    "data_multi_banana = data_fruit[(dt.f.product == 'Banana') & (dt.f.quantity > 1), :]\n",
    "data_multi_banana"
   ]
  },
  {
   "cell_type": "markdown",
   "id": "7076f3c5",
   "metadata": {
    "papermill": {
     "duration": 0.02859,
     "end_time": "2021-07-10T03:45:48.184162",
     "exception": false,
     "start_time": "2021-07-10T03:45:48.155572",
     "status": "completed"
    },
    "tags": []
   },
   "source": [
    "**Exercise 27: Select columns from `data` that have no missing values and assign it to `data_nomissing_cols`**"
   ]
  },
  {
   "cell_type": "code",
   "execution_count": 12,
   "id": "7de52635",
   "metadata": {
    "execution": {
     "iopub.execute_input": "2021-07-10T03:45:48.248095Z",
     "iopub.status.busy": "2021-07-10T03:45:48.247204Z",
     "iopub.status.idle": "2021-07-10T03:45:48.252606Z",
     "shell.execute_reply": "2021-07-10T03:45:48.252004Z",
     "shell.execute_reply.started": "2021-07-09T17:04:53.636677Z"
    },
    "papermill": {
     "duration": 0.041457,
     "end_time": "2021-07-10T03:45:48.252764",
     "exception": false,
     "start_time": "2021-07-10T03:45:48.211307",
     "status": "completed"
    },
    "tags": []
   },
   "outputs": [
    {
     "data": {
      "text/html": [
       "<div class='datatable'>\n",
       "  <table class='frame'>\n",
       "  <thead>\n",
       "    <tr class='colnames'><td class='row_index'></td><th>timestamp</th><th>user</th><th>product</th><th>price</th><th>quantity</th></tr>\n",
       "    <tr class='coltypes'><td class='row_index'></td><td class='time' title='time64'>&#x25AA;&#x25AA;&#x25AA;&#x25AA;&#x25AA;&#x25AA;&#x25AA;&#x25AA;</td><td class='str' title='str32'>&#x25AA;&#x25AA;&#x25AA;&#x25AA;</td><td class='str' title='str32'>&#x25AA;&#x25AA;&#x25AA;&#x25AA;</td><td class='float' title='float64'>&#x25AA;&#x25AA;&#x25AA;&#x25AA;&#x25AA;&#x25AA;&#x25AA;&#x25AA;</td><td class='int' title='int32'>&#x25AA;&#x25AA;&#x25AA;&#x25AA;</td></tr>\n",
       "  </thead>\n",
       "  <tbody>\n",
       "    <tr><td class='row_index'>0</td><td>2017-01-01<span class=sp>T</span>13:22:41</td><td>U1</td><td>Eggs</td><td>2.3</td><td>2</td></tr>\n",
       "    <tr><td class='row_index'>1</td><td>2017-05-22<span class=sp>T</span>09:54:21</td><td>U2</td><td>Bread</td><td>0.6</td><td>2</td></tr>\n",
       "    <tr><td class='row_index'>2</td><td>2018-11-09<span class=sp>T</span>15:00:01</td><td>U3</td><td>Banana</td><td>0.7</td><td>1</td></tr>\n",
       "    <tr><td class='row_index'>3</td><td>2018-12-24<span class=sp>T</span>23:03:33</td><td>U1</td><td>Water</td><td>0.2</td><td>1</td></tr>\n",
       "    <tr><td class='row_index'>4</td><td>2019-03-03<span class=sp>T</span>06:21:58</td><td>U4</td><td>Eggs</td><td>2.3</td><td>2</td></tr>\n",
       "    <tr><td class='row_index'>5</td><td>2019-06-17<span class=sp>T</span>16:13:39</td><td>U5</td><td>Grapes</td><td>1.5</td><td>1</td></tr>\n",
       "    <tr><td class='row_index'>6</td><td>2019-07-28<span class=sp>T</span>21:03:11</td><td>U5</td><td>Bread</td><td>0.6</td><td>1</td></tr>\n",
       "    <tr><td class='row_index'>7</td><td>2019-12-05<span class=sp>T</span>04:15:42</td><td>U1</td><td>Banana</td><td>0.7</td><td>2</td></tr>\n",
       "    <tr><td class='row_index'>8</td><td>2020-02-02<span class=sp>T</span>03:45:34</td><td>U3</td><td>Banana</td><td>0.7</td><td>1</td></tr>\n",
       "    <tr><td class='row_index'>9</td><td>2020-03-05<span class=sp>T</span>07:09:12</td><td>U4</td><td>Grapes</td><td>1.5</td><td>1</td></tr>\n",
       "    <tr><td class='row_index'>10</td><td>2020-03-22<span class=sp>T</span>19:29:38</td><td>U1</td><td>Water</td><td>0.2</td><td>1</td></tr>\n",
       "    <tr><td class='row_index'>11</td><td>2020-03-30<span class=sp>T</span>09:44:30</td><td>U4</td><td>Water</td><td>0.2</td><td>1</td></tr>\n",
       "    <tr><td class='row_index'>12</td><td>2020-04-01<span class=sp>T</span>13:21:41</td><td>U1</td><td>Banana</td><td>0.7</td><td>2</td></tr>\n",
       "    <tr><td class='row_index'>13</td><td>2020-07-08<span class=sp>T</span>11:45:25</td><td>U2</td><td>Grapes</td><td>1.5</td><td>1</td></tr>\n",
       "    <tr><td class='row_index'>14</td><td>2020-11-19<span class=sp>T</span>18:51:22</td><td>U5</td><td>Water</td><td>0.2</td><td>1</td></tr>\n",
       "    <tr><td class='row_index'>15</td><td>2020-12-03<span class=sp>T</span>16:23:48</td><td>U3</td><td>Banana</td><td>0.5</td><td>3</td></tr>\n",
       "    <tr><td class='row_index'>16</td><td>2021-02-03<span class=sp>T</span>01:14:40</td><td>U5</td><td>Eggs</td><td>2.1</td><td>4</td></tr>\n",
       "    <tr><td class='row_index'>17</td><td>2021-05-26<span class=sp>T</span>22:42:15</td><td>U3</td><td>Bread</td><td>0.6</td><td>1</td></tr>\n",
       "    <tr><td class='row_index'>18</td><td>2021-06-14<span class=sp>T</span>15:49:28</td><td>U4</td><td>Eggs</td><td>2.3</td><td>2</td></tr>\n",
       "    <tr><td class='row_index'>19</td><td>2021-07-01<span class=sp>T</span>04:37:31</td><td>U4</td><td>Water</td><td>0.3</td><td>1</td></tr>\n",
       "  </tbody>\n",
       "  </table>\n",
       "  <div class='footer'>\n",
       "    <div class='frame_dimensions'>20 rows &times; 5 columns</div>\n",
       "  </div>\n",
       "</div>\n"
      ],
      "text/plain": [
       "<Frame#7fb2b4162cf0 20x5>"
      ]
     },
     "execution_count": 12,
     "metadata": {},
     "output_type": "execute_result"
    }
   ],
   "source": [
    "data_nomissing_cols = data[:, [column.countna1() == 0 for column in data]]\n",
    "data_nomissing_cols"
   ]
  },
  {
   "cell_type": "markdown",
   "id": "08158f53",
   "metadata": {
    "papermill": {
     "duration": 0.029514,
     "end_time": "2021-07-10T03:45:48.311357",
     "exception": false,
     "start_time": "2021-07-10T03:45:48.281843",
     "status": "completed"
    },
    "tags": []
   },
   "source": [
    "**Exercise 28: Select rows from `data` that have no missing values and assign it to `data_nomissing_rows`**"
   ]
  },
  {
   "cell_type": "code",
   "execution_count": 13,
   "id": "8e20fbb3",
   "metadata": {
    "execution": {
     "iopub.execute_input": "2021-07-10T03:45:48.373275Z",
     "iopub.status.busy": "2021-07-10T03:45:48.372562Z",
     "iopub.status.idle": "2021-07-10T03:45:48.381275Z",
     "shell.execute_reply": "2021-07-10T03:45:48.381812Z",
     "shell.execute_reply.started": "2021-07-09T17:05:04.266965Z"
    },
    "papermill": {
     "duration": 0.04092,
     "end_time": "2021-07-10T03:45:48.382072",
     "exception": false,
     "start_time": "2021-07-10T03:45:48.341152",
     "status": "completed"
    },
    "tags": []
   },
   "outputs": [
    {
     "data": {
      "text/html": [
       "<div class='datatable'>\n",
       "  <table class='frame'>\n",
       "  <thead>\n",
       "    <tr class='colnames'><td class='row_index'></td><th>timestamp</th><th>user</th><th>age</th><th>product</th><th>category</th><th>price</th><th>quantity</th></tr>\n",
       "    <tr class='coltypes'><td class='row_index'></td><td class='time' title='time64'>&#x25AA;&#x25AA;&#x25AA;&#x25AA;&#x25AA;&#x25AA;&#x25AA;&#x25AA;</td><td class='str' title='str32'>&#x25AA;&#x25AA;&#x25AA;&#x25AA;</td><td class='int' title='int32'>&#x25AA;&#x25AA;&#x25AA;&#x25AA;</td><td class='str' title='str32'>&#x25AA;&#x25AA;&#x25AA;&#x25AA;</td><td class='str' title='str32'>&#x25AA;&#x25AA;&#x25AA;&#x25AA;</td><td class='float' title='float64'>&#x25AA;&#x25AA;&#x25AA;&#x25AA;&#x25AA;&#x25AA;&#x25AA;&#x25AA;</td><td class='int' title='int32'>&#x25AA;&#x25AA;&#x25AA;&#x25AA;</td></tr>\n",
       "  </thead>\n",
       "  <tbody>\n",
       "    <tr><td class='row_index'>0</td><td>2017-01-01<span class=sp>T</span>13:22:41</td><td>U1</td><td>21</td><td>Eggs</td><td>Dairy</td><td>2.3</td><td>2</td></tr>\n",
       "    <tr><td class='row_index'>1</td><td>2018-12-24<span class=sp>T</span>23:03:33</td><td>U1</td><td>21</td><td>Water</td><td>Drink</td><td>0.2</td><td>1</td></tr>\n",
       "    <tr><td class='row_index'>2</td><td>2019-03-03<span class=sp>T</span>06:21:58</td><td>U4</td><td>19</td><td>Eggs</td><td>Dairy</td><td>2.3</td><td>2</td></tr>\n",
       "    <tr><td class='row_index'>3</td><td>2019-06-17<span class=sp>T</span>16:13:39</td><td>U5</td><td>25</td><td>Grapes</td><td>Fruit</td><td>1.5</td><td>1</td></tr>\n",
       "    <tr><td class='row_index'>4</td><td>2019-12-05<span class=sp>T</span>04:15:42</td><td>U1</td><td>21</td><td>Banana</td><td>Fruit</td><td>0.7</td><td>2</td></tr>\n",
       "    <tr><td class='row_index'>5</td><td>2020-03-05<span class=sp>T</span>07:09:12</td><td>U4</td><td>19</td><td>Grapes</td><td>Fruit</td><td>1.5</td><td>1</td></tr>\n",
       "    <tr><td class='row_index'>6</td><td>2020-03-22<span class=sp>T</span>19:29:38</td><td>U1</td><td>21</td><td>Water</td><td>Drink</td><td>0.2</td><td>1</td></tr>\n",
       "    <tr><td class='row_index'>7</td><td>2020-03-30<span class=sp>T</span>09:44:30</td><td>U4</td><td>19</td><td>Water</td><td>Drink</td><td>0.2</td><td>1</td></tr>\n",
       "    <tr><td class='row_index'>8</td><td>2020-04-01<span class=sp>T</span>13:21:41</td><td>U1</td><td>21</td><td>Banana</td><td>Fruit</td><td>0.7</td><td>2</td></tr>\n",
       "    <tr><td class='row_index'>9</td><td>2020-07-08<span class=sp>T</span>11:45:25</td><td>U2</td><td>41</td><td>Grapes</td><td>Fruit</td><td>1.5</td><td>1</td></tr>\n",
       "    <tr><td class='row_index'>10</td><td>2020-11-19<span class=sp>T</span>18:51:22</td><td>U5</td><td>25</td><td>Water</td><td>Drink</td><td>0.2</td><td>1</td></tr>\n",
       "    <tr><td class='row_index'>11</td><td>2021-02-03<span class=sp>T</span>01:14:40</td><td>U5</td><td>25</td><td>Eggs</td><td>Dairy</td><td>2.1</td><td>4</td></tr>\n",
       "    <tr><td class='row_index'>12</td><td>2021-06-14<span class=sp>T</span>15:49:28</td><td>U4</td><td>19</td><td>Eggs</td><td>Dairy</td><td>2.3</td><td>2</td></tr>\n",
       "    <tr><td class='row_index'>13</td><td>2021-07-01<span class=sp>T</span>04:37:31</td><td>U4</td><td>19</td><td>Water</td><td>Drink</td><td>0.3</td><td>1</td></tr>\n",
       "  </tbody>\n",
       "  </table>\n",
       "  <div class='footer'>\n",
       "    <div class='frame_dimensions'>14 rows &times; 7 columns</div>\n",
       "  </div>\n",
       "</div>\n"
      ],
      "text/plain": [
       "<Frame#7fb2b4162c90 14x7>"
      ]
     },
     "execution_count": 13,
     "metadata": {},
     "output_type": "execute_result"
    }
   ],
   "source": [
    "data_nomissing_rows = data[dt.rowall(dt.f[:] != None), :]\n",
    "data_nomissing_rows"
   ]
  },
  {
   "cell_type": "markdown",
   "id": "2eb3f27b",
   "metadata": {
    "papermill": {
     "duration": 0.030624,
     "end_time": "2021-07-10T03:45:48.446455",
     "exception": false,
     "start_time": "2021-07-10T03:45:48.415831",
     "status": "completed"
    },
    "tags": []
   },
   "source": [
    "**Exercise 29: Select unique rows from `data` and assign it to `data_unique` and select unique `product` from `data_unique` and assign it to `product_unique`**"
   ]
  },
  {
   "cell_type": "code",
   "execution_count": 14,
   "id": "4f860c64",
   "metadata": {
    "execution": {
     "iopub.execute_input": "2021-07-10T03:45:48.514123Z",
     "iopub.status.busy": "2021-07-10T03:45:48.513328Z",
     "iopub.status.idle": "2021-07-10T03:45:48.519147Z",
     "shell.execute_reply": "2021-07-10T03:45:48.519727Z",
     "shell.execute_reply.started": "2021-07-09T17:05:33.261595Z"
    },
    "papermill": {
     "duration": 0.045753,
     "end_time": "2021-07-10T03:45:48.519979",
     "exception": false,
     "start_time": "2021-07-10T03:45:48.474226",
     "status": "completed"
    },
    "tags": []
   },
   "outputs": [
    {
     "data": {
      "text/html": [
       "<div class='datatable'>\n",
       "  <table class='frame'>\n",
       "  <thead>\n",
       "    <tr class='colnames'><td class='row_index'></td><th>timestamp</th><th>user</th><th>age</th><th>product</th><th>category</th><th>price</th><th>quantity</th></tr>\n",
       "    <tr class='coltypes'><td class='row_index'></td><td class='time' title='time64'>&#x25AA;&#x25AA;&#x25AA;&#x25AA;&#x25AA;&#x25AA;&#x25AA;&#x25AA;</td><td class='str' title='str32'>&#x25AA;&#x25AA;&#x25AA;&#x25AA;</td><td class='int' title='int32'>&#x25AA;&#x25AA;&#x25AA;&#x25AA;</td><td class='str' title='str32'>&#x25AA;&#x25AA;&#x25AA;&#x25AA;</td><td class='str' title='str32'>&#x25AA;&#x25AA;&#x25AA;&#x25AA;</td><td class='float' title='float64'>&#x25AA;&#x25AA;&#x25AA;&#x25AA;&#x25AA;&#x25AA;&#x25AA;&#x25AA;</td><td class='int' title='int32'>&#x25AA;&#x25AA;&#x25AA;&#x25AA;</td></tr>\n",
       "  </thead>\n",
       "  <tbody>\n",
       "    <tr><td class='row_index'>0</td><td>2017-01-01<span class=sp>T</span>13:22:41</td><td>U1</td><td>21</td><td>Eggs</td><td>Dairy</td><td>2.3</td><td>2</td></tr>\n",
       "    <tr><td class='row_index'>1</td><td>2017-05-22<span class=sp>T</span>09:54:21</td><td>U2</td><td>41</td><td>Bread</td><td><span class=na>NA</span></td><td>0.6</td><td>2</td></tr>\n",
       "    <tr><td class='row_index'>2</td><td>2018-11-09<span class=sp>T</span>15:00:01</td><td>U3</td><td><span class=na>NA</span></td><td>Banana</td><td>Fruit</td><td>0.7</td><td>1</td></tr>\n",
       "    <tr><td class='row_index'>3</td><td>2018-12-24<span class=sp>T</span>23:03:33</td><td>U1</td><td>21</td><td>Water</td><td>Drink</td><td>0.2</td><td>1</td></tr>\n",
       "    <tr><td class='row_index'>4</td><td>2019-03-03<span class=sp>T</span>06:21:58</td><td>U4</td><td>19</td><td>Eggs</td><td>Dairy</td><td>2.3</td><td>2</td></tr>\n",
       "    <tr><td class='row_index'>5</td><td>2019-06-17<span class=sp>T</span>16:13:39</td><td>U5</td><td>25</td><td>Grapes</td><td>Fruit</td><td>1.5</td><td>1</td></tr>\n",
       "    <tr><td class='row_index'>6</td><td>2019-07-28<span class=sp>T</span>21:03:11</td><td>U5</td><td>25</td><td>Bread</td><td><span class=na>NA</span></td><td>0.6</td><td>1</td></tr>\n",
       "    <tr><td class='row_index'>7</td><td>2019-12-05<span class=sp>T</span>04:15:42</td><td>U1</td><td>21</td><td>Banana</td><td>Fruit</td><td>0.7</td><td>2</td></tr>\n",
       "    <tr><td class='row_index'>8</td><td>2020-02-02<span class=sp>T</span>03:45:34</td><td>U3</td><td><span class=na>NA</span></td><td>Banana</td><td>Fruit</td><td>0.7</td><td>1</td></tr>\n",
       "    <tr><td class='row_index'>9</td><td>2020-03-05<span class=sp>T</span>07:09:12</td><td>U4</td><td>19</td><td>Grapes</td><td>Fruit</td><td>1.5</td><td>1</td></tr>\n",
       "    <tr><td class='row_index'>10</td><td>2020-03-22<span class=sp>T</span>19:29:38</td><td>U1</td><td>21</td><td>Water</td><td>Drink</td><td>0.2</td><td>1</td></tr>\n",
       "    <tr><td class='row_index'>11</td><td>2020-03-30<span class=sp>T</span>09:44:30</td><td>U4</td><td>19</td><td>Water</td><td>Drink</td><td>0.2</td><td>1</td></tr>\n",
       "    <tr><td class='row_index'>12</td><td>2020-04-01<span class=sp>T</span>13:21:41</td><td>U1</td><td>21</td><td>Banana</td><td>Fruit</td><td>0.7</td><td>2</td></tr>\n",
       "    <tr><td class='row_index'>13</td><td>2020-07-08<span class=sp>T</span>11:45:25</td><td>U2</td><td>41</td><td>Grapes</td><td>Fruit</td><td>1.5</td><td>1</td></tr>\n",
       "    <tr><td class='row_index'>14</td><td>2020-11-19<span class=sp>T</span>18:51:22</td><td>U5</td><td>25</td><td>Water</td><td>Drink</td><td>0.2</td><td>1</td></tr>\n",
       "    <tr><td class='row_index'>15</td><td>2020-12-03<span class=sp>T</span>16:23:48</td><td>U3</td><td><span class=na>NA</span></td><td>Banana</td><td>Fruit</td><td>0.5</td><td>3</td></tr>\n",
       "    <tr><td class='row_index'>16</td><td>2021-02-03<span class=sp>T</span>01:14:40</td><td>U5</td><td>25</td><td>Eggs</td><td>Dairy</td><td>2.1</td><td>4</td></tr>\n",
       "    <tr><td class='row_index'>17</td><td>2021-05-26<span class=sp>T</span>22:42:15</td><td>U3</td><td><span class=na>NA</span></td><td>Bread</td><td><span class=na>NA</span></td><td>0.6</td><td>1</td></tr>\n",
       "    <tr><td class='row_index'>18</td><td>2021-06-14<span class=sp>T</span>15:49:28</td><td>U4</td><td>19</td><td>Eggs</td><td>Dairy</td><td>2.3</td><td>2</td></tr>\n",
       "    <tr><td class='row_index'>19</td><td>2021-07-01<span class=sp>T</span>04:37:31</td><td>U4</td><td>19</td><td>Water</td><td>Drink</td><td>0.3</td><td>1</td></tr>\n",
       "  </tbody>\n",
       "  </table>\n",
       "  <div class='footer'>\n",
       "    <div class='frame_dimensions'>20 rows &times; 7 columns</div>\n",
       "  </div>\n",
       "</div>\n"
      ],
      "text/plain": [
       "<Frame#7fb2b419c0c0 20x7>"
      ]
     },
     "execution_count": 14,
     "metadata": {},
     "output_type": "execute_result"
    }
   ],
   "source": [
    "data_unique = data[:1, :, dt.by(*data.names)]\n",
    "data_unique"
   ]
  },
  {
   "cell_type": "code",
   "execution_count": 15,
   "id": "0d2c2a75",
   "metadata": {
    "execution": {
     "iopub.execute_input": "2021-07-10T03:45:48.596327Z",
     "iopub.status.busy": "2021-07-10T03:45:48.595450Z",
     "iopub.status.idle": "2021-07-10T03:45:48.599235Z",
     "shell.execute_reply": "2021-07-10T03:45:48.596954Z",
     "shell.execute_reply.started": "2021-07-09T17:08:13.440725Z"
    },
    "papermill": {
     "duration": 0.043963,
     "end_time": "2021-07-10T03:45:48.599414",
     "exception": false,
     "start_time": "2021-07-10T03:45:48.555451",
     "status": "completed"
    },
    "tags": []
   },
   "outputs": [
    {
     "data": {
      "text/html": [
       "<div class='datatable'>\n",
       "  <table class='frame'>\n",
       "  <thead>\n",
       "    <tr class='colnames'><td class='row_index'></td><th>product</th></tr>\n",
       "    <tr class='coltypes'><td class='row_index'></td><td class='str' title='str32'>&#x25AA;&#x25AA;&#x25AA;&#x25AA;</td></tr>\n",
       "  </thead>\n",
       "  <tbody>\n",
       "    <tr><td class='row_index'>0</td><td>Banana</td></tr>\n",
       "    <tr><td class='row_index'>1</td><td>Bread</td></tr>\n",
       "    <tr><td class='row_index'>2</td><td>Eggs</td></tr>\n",
       "    <tr><td class='row_index'>3</td><td>Grapes</td></tr>\n",
       "    <tr><td class='row_index'>4</td><td>Water</td></tr>\n",
       "  </tbody>\n",
       "  </table>\n",
       "  <div class='footer'>\n",
       "    <div class='frame_dimensions'>5 rows &times; 1 column</div>\n",
       "  </div>\n",
       "</div>\n"
      ],
      "text/plain": [
       "<Frame#7fb2b419c660 5x1>"
      ]
     },
     "execution_count": 15,
     "metadata": {},
     "output_type": "execute_result"
    }
   ],
   "source": [
    "product_unique = dt.unique(data_unique['product'])\n",
    "product_unique"
   ]
  },
  {
   "cell_type": "markdown",
   "id": "4f7bbea0",
   "metadata": {
    "papermill": {
     "duration": 0.031161,
     "end_time": "2021-07-10T03:45:48.667254",
     "exception": false,
     "start_time": "2021-07-10T03:45:48.636093",
     "status": "completed"
    },
    "tags": []
   },
   "source": [
    "**Exercise 30: Select first row of each user from `data` and assign it to `data_first`**"
   ]
  },
  {
   "cell_type": "code",
   "execution_count": 16,
   "id": "141ab5f4",
   "metadata": {
    "execution": {
     "iopub.execute_input": "2021-07-10T03:45:48.735644Z",
     "iopub.status.busy": "2021-07-10T03:45:48.734838Z",
     "iopub.status.idle": "2021-07-10T03:45:48.739981Z",
     "shell.execute_reply": "2021-07-10T03:45:48.740507Z",
     "shell.execute_reply.started": "2021-07-09T17:08:29.889451Z"
    },
    "papermill": {
     "duration": 0.044093,
     "end_time": "2021-07-10T03:45:48.740738",
     "exception": false,
     "start_time": "2021-07-10T03:45:48.696645",
     "status": "completed"
    },
    "tags": []
   },
   "outputs": [
    {
     "data": {
      "text/html": [
       "<div class='datatable'>\n",
       "  <table class='frame'>\n",
       "  <thead>\n",
       "    <tr class='colnames'><td class='row_index'></td><th>user</th><th>timestamp</th><th>age</th><th>product</th><th>category</th><th>price</th><th>quantity</th></tr>\n",
       "    <tr class='coltypes'><td class='row_index'></td><td class='str' title='str32'>&#x25AA;&#x25AA;&#x25AA;&#x25AA;</td><td class='time' title='time64'>&#x25AA;&#x25AA;&#x25AA;&#x25AA;&#x25AA;&#x25AA;&#x25AA;&#x25AA;</td><td class='int' title='int32'>&#x25AA;&#x25AA;&#x25AA;&#x25AA;</td><td class='str' title='str32'>&#x25AA;&#x25AA;&#x25AA;&#x25AA;</td><td class='str' title='str32'>&#x25AA;&#x25AA;&#x25AA;&#x25AA;</td><td class='float' title='float64'>&#x25AA;&#x25AA;&#x25AA;&#x25AA;&#x25AA;&#x25AA;&#x25AA;&#x25AA;</td><td class='int' title='int32'>&#x25AA;&#x25AA;&#x25AA;&#x25AA;</td></tr>\n",
       "  </thead>\n",
       "  <tbody>\n",
       "    <tr><td class='row_index'>0</td><td>U1</td><td>2017-01-01<span class=sp>T</span>13:22:41</td><td>21</td><td>Eggs</td><td>Dairy</td><td>2.3</td><td>2</td></tr>\n",
       "    <tr><td class='row_index'>1</td><td>U2</td><td>2017-05-22<span class=sp>T</span>09:54:21</td><td>41</td><td>Bread</td><td><span class=na>NA</span></td><td>0.6</td><td>2</td></tr>\n",
       "    <tr><td class='row_index'>2</td><td>U3</td><td>2018-11-09<span class=sp>T</span>15:00:01</td><td><span class=na>NA</span></td><td>Banana</td><td>Fruit</td><td>0.7</td><td>1</td></tr>\n",
       "    <tr><td class='row_index'>3</td><td>U4</td><td>2019-03-03<span class=sp>T</span>06:21:58</td><td>19</td><td>Eggs</td><td>Dairy</td><td>2.3</td><td>2</td></tr>\n",
       "    <tr><td class='row_index'>4</td><td>U5</td><td>2019-06-17<span class=sp>T</span>16:13:39</td><td>25</td><td>Grapes</td><td>Fruit</td><td>1.5</td><td>1</td></tr>\n",
       "  </tbody>\n",
       "  </table>\n",
       "  <div class='footer'>\n",
       "    <div class='frame_dimensions'>5 rows &times; 7 columns</div>\n",
       "  </div>\n",
       "</div>\n"
      ],
      "text/plain": [
       "<Frame#7fb2b41629f0 5x7>"
      ]
     },
     "execution_count": 16,
     "metadata": {},
     "output_type": "execute_result"
    }
   ],
   "source": [
    "data_first = data[:1, :, dt.by(dt.f.user)]\n",
    "data_first"
   ]
  },
  {
   "cell_type": "markdown",
   "id": "520f6bed",
   "metadata": {
    "papermill": {
     "duration": 0.031063,
     "end_time": "2021-07-10T03:45:48.807353",
     "exception": false,
     "start_time": "2021-07-10T03:45:48.776290",
     "status": "completed"
    },
    "tags": []
   },
   "source": [
    "<center>\n",
    "    ✅ This completes Set 3: Data Selection (Exercises 21-30) of <b>DatatableTon</b>: <i>💯 datatable exercises</i>\n",
    "    <br>\n",
    "    Set 4 is coming soon!\n",
    "    <br>\n",
    "    <br>\n",
    "    You can find all the exercises and solutions on <a href=\"https://github.com/vopani/datatableton#exercises-\">GitHub</a>\n",
    "</center>"
   ]
  }
 ],
 "metadata": {
  "kernelspec": {
   "display_name": "Python 3",
   "language": "python",
   "name": "python3"
  },
  "language_info": {
   "codemirror_mode": {
    "name": "ipython",
    "version": 3
   },
   "file_extension": ".py",
   "mimetype": "text/x-python",
   "name": "python",
   "nbconvert_exporter": "python",
   "pygments_lexer": "ipython3",
   "version": "3.7.10"
  },
  "papermill": {
   "default_parameters": {},
   "duration": 21.773544,
   "end_time": "2021-07-10T03:45:49.548302",
   "environment_variables": {},
   "exception": null,
   "input_path": "__notebook__.ipynb",
   "output_path": "__notebook__.ipynb",
   "parameters": {},
   "start_time": "2021-07-10T03:45:27.774758",
   "version": "2.3.3"
  }
 },
 "nbformat": 4,
 "nbformat_minor": 5
}
