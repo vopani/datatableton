{
 "cells": [
  {
   "cell_type": "markdown",
   "id": "f87bb1f8",
   "metadata": {
    "_cell_guid": "b1076dfc-b9ad-4769-8c92-a6c4dae69d19",
    "_uuid": "8f2839f25d086af736a60e9eeb907d3b93b6e0e5",
    "papermill": {
     "duration": 0.013914,
     "end_time": "2021-07-19T00:16:21.263043",
     "exception": false,
     "start_time": "2021-07-19T00:16:21.249129",
     "status": "completed"
    },
    "tags": []
   },
   "source": [
    "<center>\n",
    "    <h1>DatatableTon</h1>\n",
    "    💯 datatable exercises\n",
    "    <br>\n",
    "    <br>\n",
    "    <a href='https://github.com/vopani/datatableton/blob/master/LICENSE'>\n",
    "        <img src='https://img.shields.io/badge/license-Apache%202.0-blue.svg?logo=apache'>\n",
    "    </a>\n",
    "    <a href='https://github.com/vopani/datatableton'>\n",
    "        <img src='https://img.shields.io/github/stars/vopani/datatableton?color=yellowgreen&logo=github'>\n",
    "    </a>\n",
    "    <a href='https://twitter.com/vopani'>\n",
    "        <img src='https://img.shields.io/twitter/follow/vopani'>\n",
    "    </a>\n",
    "</center>"
   ]
  },
  {
   "cell_type": "markdown",
   "id": "1a47163b",
   "metadata": {
    "papermill": {
     "duration": 0.012604,
     "end_time": "2021-07-19T00:16:21.289167",
     "exception": false,
     "start_time": "2021-07-19T00:16:21.276563",
     "status": "completed"
    },
    "tags": []
   },
   "source": [
    "<center>\n",
    "    This is Set 6: Grouping Methods (Exercises 51-60) of <b>DatatableTon</b>: <i>💯 datatable exercises</i>\n",
    "    <br>\n",
    "    You can find all the exercises and solutions on <a href=\"https://github.com/vopani/datatableton#exercises-\">GitHub</a>\n",
    "</center>"
   ]
  },
  {
   "cell_type": "markdown",
   "id": "8a95fbff",
   "metadata": {
    "papermill": {
     "duration": 0.012299,
     "end_time": "2021-07-19T00:16:21.314754",
     "exception": false,
     "start_time": "2021-07-19T00:16:21.302455",
     "status": "completed"
    },
    "tags": []
   },
   "source": [
    "**Prerequisites**\n",
    "* The `datatable` package should be upgraded to the latest version (or v1.0.0+).\n",
    "* The sample dataset [penguins](https://github.com/mwaskom/seaborn-data/blob/master/penguins.csv) from seaborn will be used for the exercises."
   ]
  },
  {
   "cell_type": "code",
   "execution_count": 1,
   "id": "ead24db9",
   "metadata": {
    "_kg_hide-output": true,
    "execution": {
     "iopub.execute_input": "2021-07-19T00:16:21.343624Z",
     "iopub.status.busy": "2021-07-19T00:16:21.342586Z",
     "iopub.status.idle": "2021-07-19T00:16:56.676433Z",
     "shell.execute_reply": "2021-07-19T00:16:56.675790Z",
     "shell.execute_reply.started": "2021-07-18T20:00:47.008422Z"
    },
    "papermill": {
     "duration": 35.349341,
     "end_time": "2021-07-19T00:16:56.676617",
     "exception": false,
     "start_time": "2021-07-19T00:16:21.327276",
     "status": "completed"
    },
    "tags": []
   },
   "outputs": [
    {
     "name": "stdout",
     "output_type": "stream",
     "text": [
      "Requirement already satisfied: pip in /opt/conda/lib/python3.7/site-packages (21.1.2)\r\n",
      "Collecting pip\r\n",
      "  Downloading pip-21.1.3-py3-none-any.whl (1.5 MB)\r\n",
      "\u001b[K     |████████████████████████████████| 1.5 MB 397 kB/s \r\n",
      "\u001b[?25hInstalling collected packages: pip\r\n",
      "  Attempting uninstall: pip\r\n",
      "    Found existing installation: pip 21.1.2\r\n",
      "    Uninstalling pip-21.1.2:\r\n",
      "      Successfully uninstalled pip-21.1.2\r\n",
      "Successfully installed pip-21.1.3\r\n",
      "\u001b[33mWARNING: Running pip as root will break packages and permissions. You should install packages reliably by using venv: https://pip.pypa.io/warnings/venv\u001b[0m\r\n",
      "Requirement already satisfied: datatable in /opt/conda/lib/python3.7/site-packages (1.0.0)\r\n",
      "\u001b[33mWARNING: Running pip as the 'root' user can result in broken permissions and conflicting behaviour with the system package manager. It is recommended to use a virtual environment instead: https://pip.pypa.io/warnings/venv\u001b[0m\r\n",
      "Requirement already satisfied: seaborn in /opt/conda/lib/python3.7/site-packages (0.11.1)\r\n",
      "Requirement already satisfied: pandas>=0.23 in /opt/conda/lib/python3.7/site-packages (from seaborn) (1.2.4)\r\n",
      "Requirement already satisfied: scipy>=1.0 in /opt/conda/lib/python3.7/site-packages (from seaborn) (1.6.3)\r\n",
      "Requirement already satisfied: matplotlib>=2.2 in /opt/conda/lib/python3.7/site-packages (from seaborn) (3.4.2)\r\n",
      "Requirement already satisfied: numpy>=1.15 in /opt/conda/lib/python3.7/site-packages (from seaborn) (1.19.5)\r\n",
      "Requirement already satisfied: cycler>=0.10 in /opt/conda/lib/python3.7/site-packages (from matplotlib>=2.2->seaborn) (0.10.0)\r\n",
      "Requirement already satisfied: kiwisolver>=1.0.1 in /opt/conda/lib/python3.7/site-packages (from matplotlib>=2.2->seaborn) (1.3.1)\r\n",
      "Requirement already satisfied: pillow>=6.2.0 in /opt/conda/lib/python3.7/site-packages (from matplotlib>=2.2->seaborn) (8.2.0)\r\n",
      "Requirement already satisfied: python-dateutil>=2.7 in /opt/conda/lib/python3.7/site-packages (from matplotlib>=2.2->seaborn) (2.8.1)\r\n",
      "Requirement already satisfied: pyparsing>=2.2.1 in /opt/conda/lib/python3.7/site-packages (from matplotlib>=2.2->seaborn) (2.4.7)\r\n",
      "Requirement already satisfied: six in /opt/conda/lib/python3.7/site-packages (from cycler>=0.10->matplotlib>=2.2->seaborn) (1.15.0)\r\n",
      "Requirement already satisfied: pytz>=2017.3 in /opt/conda/lib/python3.7/site-packages (from pandas>=0.23->seaborn) (2021.1)\r\n",
      "\u001b[33mWARNING: Running pip as the 'root' user can result in broken permissions and conflicting behaviour with the system package manager. It is recommended to use a virtual environment instead: https://pip.pypa.io/warnings/venv\u001b[0m\r\n"
     ]
    }
   ],
   "source": [
    "!python3 -m pip install -U pip\n",
    "!python3 -m pip install -U datatable\n",
    "!python3 -m pip install seaborn"
   ]
  },
  {
   "cell_type": "code",
   "execution_count": 2,
   "id": "04e44628",
   "metadata": {
    "execution": {
     "iopub.execute_input": "2021-07-19T00:16:56.724948Z",
     "iopub.status.busy": "2021-07-19T00:16:56.724017Z",
     "iopub.status.idle": "2021-07-19T00:16:59.717073Z",
     "shell.execute_reply": "2021-07-19T00:16:59.717657Z",
     "shell.execute_reply.started": "2021-07-18T20:01:27.079101Z"
    },
    "papermill": {
     "duration": 3.017737,
     "end_time": "2021-07-19T00:16:59.717817",
     "exception": false,
     "start_time": "2021-07-19T00:16:56.700080",
     "status": "completed"
    },
    "tags": []
   },
   "outputs": [
    {
     "data": {
      "text/html": [
       "<style type='text/css'>\n",
       ".datatable table.frame { margin-bottom: 0; }\n",
       ".datatable table.frame thead { border-bottom: none; }\n",
       ".datatable table.frame tr.coltypes td {  color: #FFFFFF;  line-height: 6px;  padding: 0 0.5em;}\n",
       ".datatable .bool    { background: #DDDD99; }\n",
       ".datatable .object  { background: #565656; }\n",
       ".datatable .int     { background: #5D9E5D; }\n",
       ".datatable .float   { background: #4040CC; }\n",
       ".datatable .str     { background: #CC4040; }\n",
       ".datatable .time    { background: #40CC40; }\n",
       ".datatable .row_index {  background: var(--jp-border-color3);  border-right: 1px solid var(--jp-border-color0);  color: var(--jp-ui-font-color3);  font-size: 9px;}\n",
       ".datatable .frame tbody td { text-align: left; }\n",
       ".datatable .frame tr.coltypes .row_index {  background: var(--jp-border-color0);}\n",
       ".datatable th:nth-child(2) { padding-left: 12px; }\n",
       ".datatable .hellipsis {  color: var(--jp-cell-editor-border-color);}\n",
       ".datatable .vellipsis {  background: var(--jp-layout-color0);  color: var(--jp-cell-editor-border-color);}\n",
       ".datatable .na {  color: var(--jp-cell-editor-border-color);  font-size: 80%;}\n",
       ".datatable .sp {  opacity: 0.25;}\n",
       ".datatable .footer { font-size: 9px; }\n",
       ".datatable .frame_dimensions {  background: var(--jp-border-color3);  border-top: 1px solid var(--jp-border-color0);  color: var(--jp-ui-font-color3);  display: inline-block;  opacity: 0.6;  padding: 1px 10px 1px 5px;}\n",
       "</style>\n"
      ],
      "text/plain": [
       "<IPython.core.display.HTML object>"
      ]
     },
     "metadata": {},
     "output_type": "display_data"
    },
    {
     "data": {
      "text/html": [
       "<div class='datatable'>\n",
       "  <table class='frame'>\n",
       "  <thead>\n",
       "    <tr class='colnames'><td class='row_index'></td><th>species</th><th>island</th><th>bill_length_mm</th><th>bill_depth_mm</th><th>flipper_length_mm</th><th>body_mass_g</th><th>sex</th></tr>\n",
       "    <tr class='coltypes'><td class='row_index'></td><td class='str' title='str32'>&#x25AA;&#x25AA;&#x25AA;&#x25AA;</td><td class='str' title='str32'>&#x25AA;&#x25AA;&#x25AA;&#x25AA;</td><td class='float' title='float64'>&#x25AA;&#x25AA;&#x25AA;&#x25AA;&#x25AA;&#x25AA;&#x25AA;&#x25AA;</td><td class='float' title='float64'>&#x25AA;&#x25AA;&#x25AA;&#x25AA;&#x25AA;&#x25AA;&#x25AA;&#x25AA;</td><td class='float' title='float64'>&#x25AA;&#x25AA;&#x25AA;&#x25AA;&#x25AA;&#x25AA;&#x25AA;&#x25AA;</td><td class='float' title='float64'>&#x25AA;&#x25AA;&#x25AA;&#x25AA;&#x25AA;&#x25AA;&#x25AA;&#x25AA;</td><td class='str' title='str32'>&#x25AA;&#x25AA;&#x25AA;&#x25AA;</td></tr>\n",
       "  </thead>\n",
       "  <tbody>\n",
       "    <tr><td class='row_index'>0</td><td>Adelie</td><td>Torgersen</td><td>39.1</td><td>18.7</td><td>181</td><td>3750</td><td>Male</td></tr>\n",
       "    <tr><td class='row_index'>1</td><td>Adelie</td><td>Torgersen</td><td>39.5</td><td>17.4</td><td>186</td><td>3800</td><td>Female</td></tr>\n",
       "    <tr><td class='row_index'>2</td><td>Adelie</td><td>Torgersen</td><td>40.3</td><td>18</td><td>195</td><td>3250</td><td>Female</td></tr>\n",
       "    <tr><td class='row_index'>3</td><td>Adelie</td><td>Torgersen</td><td><span class=na>NA</span></td><td><span class=na>NA</span></td><td><span class=na>NA</span></td><td><span class=na>NA</span></td><td><span class=na>NA</span></td></tr>\n",
       "    <tr><td class='row_index'>4</td><td>Adelie</td><td>Torgersen</td><td>36.7</td><td>19.3</td><td>193</td><td>3450</td><td>Female</td></tr>\n",
       "    <tr><td class='row_index'>5</td><td>Adelie</td><td>Torgersen</td><td>39.3</td><td>20.6</td><td>190</td><td>3650</td><td>Male</td></tr>\n",
       "    <tr><td class='row_index'>6</td><td>Adelie</td><td>Torgersen</td><td>38.9</td><td>17.8</td><td>181</td><td>3625</td><td>Female</td></tr>\n",
       "    <tr><td class='row_index'>7</td><td>Adelie</td><td>Torgersen</td><td>39.2</td><td>19.6</td><td>195</td><td>4675</td><td>Male</td></tr>\n",
       "    <tr><td class='row_index'>8</td><td>Adelie</td><td>Torgersen</td><td>34.1</td><td>18.1</td><td>193</td><td>3475</td><td><span class=na>NA</span></td></tr>\n",
       "    <tr><td class='row_index'>9</td><td>Adelie</td><td>Torgersen</td><td>42</td><td>20.2</td><td>190</td><td>4250</td><td><span class=na>NA</span></td></tr>\n",
       "    <tr><td class='row_index'>10</td><td>Adelie</td><td>Torgersen</td><td>37.8</td><td>17.1</td><td>186</td><td>3300</td><td><span class=na>NA</span></td></tr>\n",
       "    <tr><td class='row_index'>11</td><td>Adelie</td><td>Torgersen</td><td>37.8</td><td>17.3</td><td>180</td><td>3700</td><td><span class=na>NA</span></td></tr>\n",
       "    <tr><td class='row_index'>12</td><td>Adelie</td><td>Torgersen</td><td>41.1</td><td>17.6</td><td>182</td><td>3200</td><td>Female</td></tr>\n",
       "    <tr><td class='row_index'>13</td><td>Adelie</td><td>Torgersen</td><td>38.6</td><td>21.2</td><td>191</td><td>3800</td><td>Male</td></tr>\n",
       "    <tr><td class='row_index'>14</td><td>Adelie</td><td>Torgersen</td><td>34.6</td><td>21.1</td><td>198</td><td>4400</td><td>Male</td></tr>\n",
       "    <tr><td class='row_index'>&#x22EE;</td><td class='hellipsis'>&#x22EE;</td><td class='hellipsis'>&#x22EE;</td><td class='hellipsis'>&#x22EE;</td><td class='hellipsis'>&#x22EE;</td><td class='hellipsis'>&#x22EE;</td><td class='hellipsis'>&#x22EE;</td><td class='hellipsis'>&#x22EE;</td></tr>\n",
       "    <tr><td class='row_index'>339</td><td>Gentoo</td><td>Biscoe</td><td><span class=na>NA</span></td><td><span class=na>NA</span></td><td><span class=na>NA</span></td><td><span class=na>NA</span></td><td><span class=na>NA</span></td></tr>\n",
       "    <tr><td class='row_index'>340</td><td>Gentoo</td><td>Biscoe</td><td>46.8</td><td>14.3</td><td>215</td><td>4850</td><td>Female</td></tr>\n",
       "    <tr><td class='row_index'>341</td><td>Gentoo</td><td>Biscoe</td><td>50.4</td><td>15.7</td><td>222</td><td>5750</td><td>Male</td></tr>\n",
       "    <tr><td class='row_index'>342</td><td>Gentoo</td><td>Biscoe</td><td>45.2</td><td>14.8</td><td>212</td><td>5200</td><td>Female</td></tr>\n",
       "    <tr><td class='row_index'>343</td><td>Gentoo</td><td>Biscoe</td><td>49.9</td><td>16.1</td><td>213</td><td>5400</td><td>Male</td></tr>\n",
       "  </tbody>\n",
       "  </table>\n",
       "  <div class='footer'>\n",
       "    <div class='frame_dimensions'>344 rows &times; 7 columns</div>\n",
       "  </div>\n",
       "</div>\n"
      ],
      "text/plain": [
       "<Frame#7fd2fb010840 344x7>"
      ]
     },
     "execution_count": 2,
     "metadata": {},
     "output_type": "execute_result"
    }
   ],
   "source": [
    "import datatable as dt\n",
    "from seaborn import load_dataset\n",
    "\n",
    "data = dt.Frame(load_dataset('penguins'))\n",
    "data.replace('NA', None)\n",
    "data"
   ]
  },
  {
   "cell_type": "markdown",
   "id": "fab71696",
   "metadata": {
    "papermill": {
     "duration": 0.020175,
     "end_time": "2021-07-19T00:16:59.758767",
     "exception": false,
     "start_time": "2021-07-19T00:16:59.738592",
     "status": "completed"
    },
    "tags": []
   },
   "source": [
    "**Exercise 51: Calculate the number of rows of each `species` in `data`**"
   ]
  },
  {
   "cell_type": "code",
   "execution_count": null,
   "id": "c1ddce87",
   "metadata": {
    "execution": {
     "iopub.execute_input": "2021-07-18T20:04:50.291777Z",
     "iopub.status.busy": "2021-07-18T20:04:50.290998Z",
     "iopub.status.idle": "2021-07-18T20:04:50.295172Z",
     "shell.execute_reply": "2021-07-18T20:04:50.296065Z",
     "shell.execute_reply.started": "2021-07-18T20:01:44.026272Z"
    },
    "papermill": {
     "duration": 0.020167,
     "end_time": "2021-07-19T00:16:59.799467",
     "exception": false,
     "start_time": "2021-07-19T00:16:59.779300",
     "status": "completed"
    },
    "tags": []
   },
   "outputs": [],
   "source": []
  },
  {
   "cell_type": "markdown",
   "id": "241e0bcb",
   "metadata": {
    "papermill": {
     "duration": 0.020211,
     "end_time": "2021-07-19T00:16:59.840093",
     "exception": false,
     "start_time": "2021-07-19T00:16:59.819882",
     "status": "completed"
    },
    "tags": []
   },
   "source": [
    "**Exercise 52: Calculate the sum of `body_mass_g` by `island` in `data`**"
   ]
  },
  {
   "cell_type": "code",
   "execution_count": null,
   "id": "f0a8d565",
   "metadata": {
    "execution": {
     "iopub.execute_input": "2021-07-18T20:04:50.426347Z",
     "iopub.status.busy": "2021-07-18T20:04:50.425613Z",
     "iopub.status.idle": "2021-07-18T20:04:50.430156Z",
     "shell.execute_reply": "2021-07-18T20:04:50.430685Z",
     "shell.execute_reply.started": "2021-07-18T20:01:51.192248Z"
    },
    "papermill": {
     "duration": 0.020509,
     "end_time": "2021-07-19T00:16:59.881018",
     "exception": false,
     "start_time": "2021-07-19T00:16:59.860509",
     "status": "completed"
    },
    "tags": []
   },
   "outputs": [],
   "source": []
  },
  {
   "cell_type": "markdown",
   "id": "acca606f",
   "metadata": {
    "papermill": {
     "duration": 0.020228,
     "end_time": "2021-07-19T00:16:59.921792",
     "exception": false,
     "start_time": "2021-07-19T00:16:59.901564",
     "status": "completed"
    },
    "tags": []
   },
   "source": [
    "**Exercise 53: Calculate the mean of `body_mass_g` by non-null `sex` in `data`**"
   ]
  },
  {
   "cell_type": "code",
   "execution_count": null,
   "id": "89697cc0",
   "metadata": {
    "execution": {
     "iopub.execute_input": "2021-07-18T20:04:50.557979Z",
     "iopub.status.busy": "2021-07-18T20:04:50.55722Z",
     "iopub.status.idle": "2021-07-18T20:04:50.561759Z",
     "shell.execute_reply": "2021-07-18T20:04:50.562283Z",
     "shell.execute_reply.started": "2021-07-18T20:01:57.916365Z"
    },
    "papermill": {
     "duration": 0.020254,
     "end_time": "2021-07-19T00:16:59.962440",
     "exception": false,
     "start_time": "2021-07-19T00:16:59.942186",
     "status": "completed"
    },
    "tags": []
   },
   "outputs": [],
   "source": []
  },
  {
   "cell_type": "markdown",
   "id": "7de36321",
   "metadata": {
    "papermill": {
     "duration": 0.020268,
     "end_time": "2021-07-19T00:17:00.004114",
     "exception": false,
     "start_time": "2021-07-19T00:16:59.983846",
     "status": "completed"
    },
    "tags": []
   },
   "source": [
    "**Exercise 54: Calculate the maximum and minimum of `flipper_length_mm` together by `species` in `data`**"
   ]
  },
  {
   "cell_type": "code",
   "execution_count": null,
   "id": "b099726e",
   "metadata": {
    "execution": {
     "iopub.execute_input": "2021-07-18T20:04:50.694272Z",
     "iopub.status.busy": "2021-07-18T20:04:50.693451Z",
     "iopub.status.idle": "2021-07-18T20:04:50.698351Z",
     "shell.execute_reply": "2021-07-18T20:04:50.698892Z",
     "shell.execute_reply.started": "2021-07-18T20:02:01.139963Z"
    },
    "papermill": {
     "duration": 0.020411,
     "end_time": "2021-07-19T00:17:00.046254",
     "exception": false,
     "start_time": "2021-07-19T00:17:00.025843",
     "status": "completed"
    },
    "tags": []
   },
   "outputs": [],
   "source": []
  },
  {
   "cell_type": "markdown",
   "id": "3da806c0",
   "metadata": {
    "papermill": {
     "duration": 0.02035,
     "end_time": "2021-07-19T00:17:00.087201",
     "exception": false,
     "start_time": "2021-07-19T00:17:00.066851",
     "status": "completed"
    },
    "tags": []
   },
   "source": [
    "**Exercise 55: Calculate the median of `body_mass_g` by `species` and `sex` in `data`**"
   ]
  },
  {
   "cell_type": "code",
   "execution_count": null,
   "id": "43d58b57",
   "metadata": {
    "execution": {
     "iopub.execute_input": "2021-07-18T20:04:50.832599Z",
     "iopub.status.busy": "2021-07-18T20:04:50.831833Z",
     "iopub.status.idle": "2021-07-18T20:04:50.836428Z",
     "shell.execute_reply": "2021-07-18T20:04:50.836931Z",
     "shell.execute_reply.started": "2021-07-18T20:02:09.211297Z"
    },
    "papermill": {
     "duration": 0.020195,
     "end_time": "2021-07-19T00:17:00.127868",
     "exception": false,
     "start_time": "2021-07-19T00:17:00.107673",
     "status": "completed"
    },
    "tags": []
   },
   "outputs": [],
   "source": []
  },
  {
   "cell_type": "markdown",
   "id": "c100940c",
   "metadata": {
    "papermill": {
     "duration": 0.020296,
     "end_time": "2021-07-19T00:17:00.168623",
     "exception": false,
     "start_time": "2021-07-19T00:17:00.148327",
     "status": "completed"
    },
    "tags": []
   },
   "source": [
    "**Exercise 56: Calculate the standard deviation of `bill_depth_mm` in cm instead of mm by `island` in `data`**"
   ]
  },
  {
   "cell_type": "code",
   "execution_count": null,
   "id": "fbd2240f",
   "metadata": {
    "execution": {
     "iopub.execute_input": "2021-07-18T20:04:50.968839Z",
     "iopub.status.busy": "2021-07-18T20:04:50.968086Z",
     "iopub.status.idle": "2021-07-18T20:04:50.97266Z",
     "shell.execute_reply": "2021-07-18T20:04:50.973169Z",
     "shell.execute_reply.started": "2021-07-18T20:02:15.3242Z"
    },
    "papermill": {
     "duration": 0.020383,
     "end_time": "2021-07-19T00:17:00.209477",
     "exception": false,
     "start_time": "2021-07-19T00:17:00.189094",
     "status": "completed"
    },
    "tags": []
   },
   "outputs": [],
   "source": []
  },
  {
   "cell_type": "markdown",
   "id": "d2f2109b",
   "metadata": {
    "papermill": {
     "duration": 0.020427,
     "end_time": "2021-07-19T00:17:00.250651",
     "exception": false,
     "start_time": "2021-07-19T00:17:00.230224",
     "status": "completed"
    },
    "tags": []
   },
   "source": [
    "**Exercise 57: Calculate the covariance between `flipper_length_mm` and `body_mass_g` by `species` and `island` in `data`**"
   ]
  },
  {
   "cell_type": "code",
   "execution_count": null,
   "id": "fe603bc5",
   "metadata": {
    "execution": {
     "iopub.execute_input": "2021-07-18T20:04:51.108407Z",
     "iopub.status.busy": "2021-07-18T20:04:51.107661Z",
     "iopub.status.idle": "2021-07-18T20:04:51.112348Z",
     "shell.execute_reply": "2021-07-18T20:04:51.112858Z",
     "shell.execute_reply.started": "2021-07-18T20:02:26.850979Z"
    },
    "papermill": {
     "duration": 0.020464,
     "end_time": "2021-07-19T00:17:00.291850",
     "exception": false,
     "start_time": "2021-07-19T00:17:00.271386",
     "status": "completed"
    },
    "tags": []
   },
   "outputs": [],
   "source": []
  },
  {
   "cell_type": "markdown",
   "id": "42bd0b62",
   "metadata": {
    "papermill": {
     "duration": 0.020511,
     "end_time": "2021-07-19T00:17:00.333412",
     "exception": false,
     "start_time": "2021-07-19T00:17:00.312901",
     "status": "completed"
    },
    "tags": []
   },
   "source": [
    "**Exercise 58: Calculate the absolute correlation between `bill_length_mm` and `bill_depth_mm` by `species` and `sex` in `data`**"
   ]
  },
  {
   "cell_type": "code",
   "execution_count": null,
   "id": "99258ccc",
   "metadata": {
    "execution": {
     "iopub.execute_input": "2021-07-18T20:04:51.248341Z",
     "iopub.status.busy": "2021-07-18T20:04:51.247612Z",
     "iopub.status.idle": "2021-07-18T20:04:51.25209Z",
     "shell.execute_reply": "2021-07-18T20:04:51.252615Z",
     "shell.execute_reply.started": "2021-07-18T20:03:04.122235Z"
    },
    "papermill": {
     "duration": 0.020347,
     "end_time": "2021-07-19T00:17:00.374368",
     "exception": false,
     "start_time": "2021-07-19T00:17:00.354021",
     "status": "completed"
    },
    "tags": []
   },
   "outputs": [],
   "source": []
  },
  {
   "cell_type": "markdown",
   "id": "f6a6bf4a",
   "metadata": {
    "papermill": {
     "duration": 0.020406,
     "end_time": "2021-07-19T00:17:00.415261",
     "exception": false,
     "start_time": "2021-07-19T00:17:00.394855",
     "status": "completed"
    },
    "tags": []
   },
   "source": [
    "**Exercise 59: Calculate the number of null values in `sex` by `island` in `data`**"
   ]
  },
  {
   "cell_type": "code",
   "execution_count": null,
   "id": "1075a16b",
   "metadata": {
    "execution": {
     "iopub.execute_input": "2021-07-18T20:04:51.388548Z",
     "iopub.status.busy": "2021-07-18T20:04:51.387705Z",
     "iopub.status.idle": "2021-07-18T20:04:51.390996Z",
     "shell.execute_reply": "2021-07-18T20:04:51.391553Z",
     "shell.execute_reply.started": "2021-07-18T20:03:24.119707Z"
    },
    "papermill": {
     "duration": 0.02071,
     "end_time": "2021-07-19T00:17:00.456659",
     "exception": false,
     "start_time": "2021-07-19T00:17:00.435949",
     "status": "completed"
    },
    "tags": []
   },
   "outputs": [],
   "source": []
  },
  {
   "cell_type": "markdown",
   "id": "9f517f36",
   "metadata": {
    "papermill": {
     "duration": 0.020317,
     "end_time": "2021-07-19T00:17:00.497693",
     "exception": false,
     "start_time": "2021-07-19T00:17:00.477376",
     "status": "completed"
    },
    "tags": []
   },
   "source": [
    "**Exercise 60: Sort `data` on `bill_depth_mm` grouped by `sex` and assign it to `data_gs`**"
   ]
  },
  {
   "cell_type": "code",
   "execution_count": null,
   "id": "6cfa6322",
   "metadata": {
    "execution": {
     "iopub.execute_input": "2021-07-18T20:04:51.539731Z",
     "iopub.status.busy": "2021-07-18T20:04:51.538974Z",
     "iopub.status.idle": "2021-07-18T20:04:51.543738Z",
     "shell.execute_reply": "2021-07-18T20:04:51.544375Z",
     "shell.execute_reply.started": "2021-07-18T20:03:28.055063Z"
    },
    "papermill": {
     "duration": 0.020409,
     "end_time": "2021-07-19T00:17:00.538697",
     "exception": false,
     "start_time": "2021-07-19T00:17:00.518288",
     "status": "completed"
    },
    "tags": []
   },
   "outputs": [],
   "source": []
  },
  {
   "cell_type": "markdown",
   "id": "639ec087",
   "metadata": {
    "papermill": {
     "duration": 0.020305,
     "end_time": "2021-07-19T00:17:00.579544",
     "exception": false,
     "start_time": "2021-07-19T00:17:00.559239",
     "status": "completed"
    },
    "tags": []
   },
   "source": [
    "<center>\n",
    "    ✅ This completes Set 6: Grouping Methods (Exercises 51-60) of <b>DatatableTon</b>: <i>💯 datatable exercises</i>\n",
    "    <br>\n",
    "    Set 7 is coming soon!\n",
    "    <br>\n",
    "    <br>\n",
    "    You can find all the exercises and solutions on <a href=\"https://github.com/vopani/datatableton#exercises-\">GitHub</a>\n",
    "</center>"
   ]
  }
 ],
 "metadata": {
  "kernelspec": {
   "display_name": "Python 3",
   "language": "python",
   "name": "python3"
  },
  "language_info": {
   "codemirror_mode": {
    "name": "ipython",
    "version": 3
   },
   "file_extension": ".py",
   "mimetype": "text/x-python",
   "name": "python",
   "nbconvert_exporter": "python",
   "pygments_lexer": "ipython3",
   "version": "3.7.10"
  },
  "papermill": {
   "default_parameters": {},
   "duration": 46.613926,
   "end_time": "2021-07-19T00:17:01.208798",
   "environment_variables": {},
   "exception": null,
   "input_path": "__notebook__.ipynb",
   "output_path": "__notebook__.ipynb",
   "parameters": {},
   "start_time": "2021-07-19T00:16:14.594872",
   "version": "2.3.3"
  }
 },
 "nbformat": 4,
 "nbformat_minor": 5
}
