{
 "cells": [
  {
   "cell_type": "markdown",
   "id": "08b80abc",
   "metadata": {
    "_cell_guid": "b1076dfc-b9ad-4769-8c92-a6c4dae69d19",
    "_uuid": "8f2839f25d086af736a60e9eeb907d3b93b6e0e5",
    "papermill": {
     "duration": 0.016826,
     "end_time": "2021-07-10T03:49:51.341815",
     "exception": false,
     "start_time": "2021-07-10T03:49:51.324989",
     "status": "completed"
    },
    "tags": []
   },
   "source": [
    "<center>\n",
    "    <h1>DatatableTon</h1>\n",
    "    💯 datatable exercises\n",
    "    <br>\n",
    "    <br>\n",
    "    <a href='https://github.com/vopani/datatableton/blob/master/LICENSE'>\n",
    "        <img src='https://img.shields.io/badge/license-Apache%202.0-blue.svg?logo=apache'>\n",
    "    </a>\n",
    "    <a href='https://github.com/vopani/datatableton'>\n",
    "        <img src='https://img.shields.io/github/stars/vopani/datatableton?color=yellowgreen&logo=github'>\n",
    "    </a>\n",
    "    <a href='https://twitter.com/vopani'>\n",
    "        <img src='https://img.shields.io/twitter/follow/vopani'>\n",
    "    </a>\n",
    "</center>"
   ]
  },
  {
   "cell_type": "markdown",
   "id": "9dafd6e8",
   "metadata": {
    "papermill": {
     "duration": 0.014994,
     "end_time": "2021-07-10T03:49:51.372155",
     "exception": false,
     "start_time": "2021-07-10T03:49:51.357161",
     "status": "completed"
    },
    "tags": []
   },
   "source": [
    "<center>\n",
    "    This is Set 3: Data Selection (Exercises 21-30) of <b>DatatableTon</b>: <i>💯 datatable exercises</i>\n",
    "    <br>\n",
    "    You can find all the exercises and solutions on <a href=\"https://github.com/vopani/datatableton#exercises-\">GitHub</a>\n",
    "</center>"
   ]
  },
  {
   "cell_type": "markdown",
   "id": "3112e511",
   "metadata": {
    "papermill": {
     "duration": 0.01488,
     "end_time": "2021-07-10T03:49:51.402858",
     "exception": false,
     "start_time": "2021-07-10T03:49:51.387978",
     "status": "completed"
    },
    "tags": []
   },
   "source": [
    "**Prerequisites**\n",
    "* The `datatable` package should be upgraded to the latest version (or v1.0.0+).\n",
    "* The sample dataset [datatableton_sample.csv](https://github.com/vopani/datatableton/blob/main/data/datatableton_sample.csv) will be used for the exercises."
   ]
  },
  {
   "cell_type": "code",
   "execution_count": 1,
   "id": "518d4e96",
   "metadata": {
    "_kg_hide-output": true,
    "execution": {
     "iopub.execute_input": "2021-07-10T03:49:51.445390Z",
     "iopub.status.busy": "2021-07-10T03:49:51.444757Z",
     "iopub.status.idle": "2021-07-10T03:50:00.251068Z",
     "shell.execute_reply": "2021-07-10T03:50:00.250288Z",
     "shell.execute_reply.started": "2021-07-09T16:57:01.831667Z"
    },
    "papermill": {
     "duration": 8.833477,
     "end_time": "2021-07-10T03:50:00.251224",
     "exception": false,
     "start_time": "2021-07-10T03:49:51.417747",
     "status": "completed"
    },
    "tags": []
   },
   "outputs": [
    {
     "name": "stdout",
     "output_type": "stream",
     "text": [
      "Requirement already satisfied: datatable in /opt/conda/lib/python3.7/site-packages (1.0.0)\r\n",
      "\u001b[33mWARNING: Running pip as root will break packages and permissions. You should install packages reliably by using venv: https://pip.pypa.io/warnings/venv\u001b[0m\r\n",
      "--2021-07-10 03:49:59--  https://raw.githubusercontent.com/vopani/datatableton/main/data/datatableton_sample.csv\r\n",
      "Resolving raw.githubusercontent.com (raw.githubusercontent.com)... 185.199.110.133, 185.199.109.133, 185.199.111.133, ...\r\n",
      "Connecting to raw.githubusercontent.com (raw.githubusercontent.com)|185.199.110.133|:443... connected.\r\n",
      "HTTP request sent, awaiting response... 200 OK\r\n",
      "Length: 940 [text/plain]\r\n",
      "Saving to: ‘datatableton_sample.csv’\r\n",
      "\r\n",
      "datatableton_sample 100%[===================>]     940  --.-KB/s    in 0s      \r\n",
      "\r\n",
      "2021-07-10 03:50:00 (32.0 MB/s) - ‘datatableton_sample.csv’ saved [940/940]\r\n",
      "\r\n"
     ]
    }
   ],
   "source": [
    "!python3 -m pip install datatable --upgrade\n",
    "!wget https://raw.githubusercontent.com/vopani/datatableton/main/data/datatableton_sample.csv"
   ]
  },
  {
   "cell_type": "code",
   "execution_count": 2,
   "id": "48ade9ad",
   "metadata": {
    "execution": {
     "iopub.execute_input": "2021-07-10T03:50:00.290519Z",
     "iopub.status.busy": "2021-07-10T03:50:00.289876Z",
     "iopub.status.idle": "2021-07-10T03:50:00.499750Z",
     "shell.execute_reply": "2021-07-10T03:50:00.499147Z",
     "shell.execute_reply.started": "2021-07-09T16:57:11.178992Z"
    },
    "papermill": {
     "duration": 0.231743,
     "end_time": "2021-07-10T03:50:00.499907",
     "exception": false,
     "start_time": "2021-07-10T03:50:00.268164",
     "status": "completed"
    },
    "tags": []
   },
   "outputs": [
    {
     "data": {
      "text/html": [
       "<style type='text/css'>\n",
       ".datatable table.frame { margin-bottom: 0; }\n",
       ".datatable table.frame thead { border-bottom: none; }\n",
       ".datatable table.frame tr.coltypes td {  color: #FFFFFF;  line-height: 6px;  padding: 0 0.5em;}\n",
       ".datatable .bool    { background: #DDDD99; }\n",
       ".datatable .object  { background: #565656; }\n",
       ".datatable .int     { background: #5D9E5D; }\n",
       ".datatable .float   { background: #4040CC; }\n",
       ".datatable .str     { background: #CC4040; }\n",
       ".datatable .time    { background: #40CC40; }\n",
       ".datatable .row_index {  background: var(--jp-border-color3);  border-right: 1px solid var(--jp-border-color0);  color: var(--jp-ui-font-color3);  font-size: 9px;}\n",
       ".datatable .frame tbody td { text-align: left; }\n",
       ".datatable .frame tr.coltypes .row_index {  background: var(--jp-border-color0);}\n",
       ".datatable th:nth-child(2) { padding-left: 12px; }\n",
       ".datatable .hellipsis {  color: var(--jp-cell-editor-border-color);}\n",
       ".datatable .vellipsis {  background: var(--jp-layout-color0);  color: var(--jp-cell-editor-border-color);}\n",
       ".datatable .na {  color: var(--jp-cell-editor-border-color);  font-size: 80%;}\n",
       ".datatable .sp {  opacity: 0.25;}\n",
       ".datatable .footer { font-size: 9px; }\n",
       ".datatable .frame_dimensions {  background: var(--jp-border-color3);  border-top: 1px solid var(--jp-border-color0);  color: var(--jp-ui-font-color3);  display: inline-block;  opacity: 0.6;  padding: 1px 10px 1px 5px;}\n",
       "</style>\n"
      ],
      "text/plain": [
       "<IPython.core.display.HTML object>"
      ]
     },
     "metadata": {},
     "output_type": "display_data"
    },
    {
     "data": {
      "text/html": [
       "<div class='datatable'>\n",
       "  <table class='frame'>\n",
       "  <thead>\n",
       "    <tr class='colnames'><td class='row_index'></td><th>timestamp</th><th>user</th><th>age</th><th>product</th><th>category</th><th>price</th><th>quantity</th></tr>\n",
       "    <tr class='coltypes'><td class='row_index'></td><td class='time' title='time64'>&#x25AA;&#x25AA;&#x25AA;&#x25AA;&#x25AA;&#x25AA;&#x25AA;&#x25AA;</td><td class='str' title='str32'>&#x25AA;&#x25AA;&#x25AA;&#x25AA;</td><td class='int' title='int32'>&#x25AA;&#x25AA;&#x25AA;&#x25AA;</td><td class='str' title='str32'>&#x25AA;&#x25AA;&#x25AA;&#x25AA;</td><td class='str' title='str32'>&#x25AA;&#x25AA;&#x25AA;&#x25AA;</td><td class='float' title='float64'>&#x25AA;&#x25AA;&#x25AA;&#x25AA;&#x25AA;&#x25AA;&#x25AA;&#x25AA;</td><td class='int' title='int32'>&#x25AA;&#x25AA;&#x25AA;&#x25AA;</td></tr>\n",
       "  </thead>\n",
       "  <tbody>\n",
       "    <tr><td class='row_index'>0</td><td>2017-01-01<span class=sp>T</span>13:22:41</td><td>U1</td><td>21</td><td>Eggs</td><td>Dairy</td><td>2.3</td><td>2</td></tr>\n",
       "    <tr><td class='row_index'>1</td><td>2017-05-22<span class=sp>T</span>09:54:21</td><td>U2</td><td>41</td><td>Bread</td><td><span class=na>NA</span></td><td>0.6</td><td>2</td></tr>\n",
       "    <tr><td class='row_index'>2</td><td>2018-11-09<span class=sp>T</span>15:00:01</td><td>U3</td><td><span class=na>NA</span></td><td>Banana</td><td>Fruit</td><td>0.7</td><td>1</td></tr>\n",
       "    <tr><td class='row_index'>3</td><td>2018-12-24<span class=sp>T</span>23:03:33</td><td>U1</td><td>21</td><td>Water</td><td>Drink</td><td>0.2</td><td>1</td></tr>\n",
       "    <tr><td class='row_index'>4</td><td>2019-03-03<span class=sp>T</span>06:21:58</td><td>U4</td><td>19</td><td>Eggs</td><td>Dairy</td><td>2.3</td><td>2</td></tr>\n",
       "    <tr><td class='row_index'>5</td><td>2019-06-17<span class=sp>T</span>16:13:39</td><td>U5</td><td>25</td><td>Grapes</td><td>Fruit</td><td>1.5</td><td>1</td></tr>\n",
       "    <tr><td class='row_index'>6</td><td>2019-07-28<span class=sp>T</span>21:03:11</td><td>U5</td><td>25</td><td>Bread</td><td><span class=na>NA</span></td><td>0.6</td><td>1</td></tr>\n",
       "    <tr><td class='row_index'>7</td><td>2019-12-05<span class=sp>T</span>04:15:42</td><td>U1</td><td>21</td><td>Banana</td><td>Fruit</td><td>0.7</td><td>2</td></tr>\n",
       "    <tr><td class='row_index'>8</td><td>2020-02-02<span class=sp>T</span>03:45:34</td><td>U3</td><td><span class=na>NA</span></td><td>Banana</td><td>Fruit</td><td>0.7</td><td>1</td></tr>\n",
       "    <tr><td class='row_index'>9</td><td>2020-03-05<span class=sp>T</span>07:09:12</td><td>U4</td><td>19</td><td>Grapes</td><td>Fruit</td><td>1.5</td><td>1</td></tr>\n",
       "    <tr><td class='row_index'>10</td><td>2020-03-22<span class=sp>T</span>19:29:38</td><td>U1</td><td>21</td><td>Water</td><td>Drink</td><td>0.2</td><td>1</td></tr>\n",
       "    <tr><td class='row_index'>11</td><td>2020-03-30<span class=sp>T</span>09:44:30</td><td>U4</td><td>19</td><td>Water</td><td>Drink</td><td>0.2</td><td>1</td></tr>\n",
       "    <tr><td class='row_index'>12</td><td>2020-04-01<span class=sp>T</span>13:21:41</td><td>U1</td><td>21</td><td>Banana</td><td>Fruit</td><td>0.7</td><td>2</td></tr>\n",
       "    <tr><td class='row_index'>13</td><td>2020-07-08<span class=sp>T</span>11:45:25</td><td>U2</td><td>41</td><td>Grapes</td><td>Fruit</td><td>1.5</td><td>1</td></tr>\n",
       "    <tr><td class='row_index'>14</td><td>2020-11-19<span class=sp>T</span>18:51:22</td><td>U5</td><td>25</td><td>Water</td><td>Drink</td><td>0.2</td><td>1</td></tr>\n",
       "    <tr><td class='row_index'>15</td><td>2020-12-03<span class=sp>T</span>16:23:48</td><td>U3</td><td><span class=na>NA</span></td><td>Banana</td><td>Fruit</td><td>0.5</td><td>3</td></tr>\n",
       "    <tr><td class='row_index'>16</td><td>2021-02-03<span class=sp>T</span>01:14:40</td><td>U5</td><td>25</td><td>Eggs</td><td>Dairy</td><td>2.1</td><td>4</td></tr>\n",
       "    <tr><td class='row_index'>17</td><td>2021-05-26<span class=sp>T</span>22:42:15</td><td>U3</td><td><span class=na>NA</span></td><td>Bread</td><td><span class=na>NA</span></td><td>0.6</td><td>1</td></tr>\n",
       "    <tr><td class='row_index'>18</td><td>2021-06-14<span class=sp>T</span>15:49:28</td><td>U4</td><td>19</td><td>Eggs</td><td>Dairy</td><td>2.3</td><td>2</td></tr>\n",
       "    <tr><td class='row_index'>19</td><td>2021-07-01<span class=sp>T</span>04:37:31</td><td>U4</td><td>19</td><td>Water</td><td>Drink</td><td>0.3</td><td>1</td></tr>\n",
       "  </tbody>\n",
       "  </table>\n",
       "  <div class='footer'>\n",
       "    <div class='frame_dimensions'>20 rows &times; 7 columns</div>\n",
       "  </div>\n",
       "</div>\n"
      ],
      "text/plain": [
       "<Frame#7fcddbb711e0 20x7>"
      ]
     },
     "execution_count": 2,
     "metadata": {},
     "output_type": "execute_result"
    }
   ],
   "source": [
    "import datatable as dt\n",
    "\n",
    "data = dt.fread('datatableton_sample.csv')\n",
    "data"
   ]
  },
  {
   "cell_type": "markdown",
   "id": "9035809a",
   "metadata": {
    "papermill": {
     "duration": 0.016777,
     "end_time": "2021-07-10T03:50:00.533821",
     "exception": false,
     "start_time": "2021-07-10T03:50:00.517044",
     "status": "completed"
    },
    "tags": []
   },
   "source": [
    "**Exercise 21: Select the columns `user`, `product` and `quantity` from `data` and assign it to `data_upq` and select the `user` column from `data_upq` and assign it to `data_u`**"
   ]
  },
  {
   "cell_type": "code",
   "execution_count": null,
   "id": "e49a7707",
   "metadata": {
    "execution": {
     "iopub.execute_input": "2021-07-10T03:45:47.347063Z",
     "iopub.status.busy": "2021-07-10T03:45:47.346303Z",
     "iopub.status.idle": "2021-07-10T03:45:47.349484Z",
     "shell.execute_reply": "2021-07-10T03:45:47.349981Z",
     "shell.execute_reply.started": "2021-07-09T16:57:11.398425Z"
    },
    "papermill": {
     "duration": 0.016604,
     "end_time": "2021-07-10T03:50:00.567296",
     "exception": false,
     "start_time": "2021-07-10T03:50:00.550692",
     "status": "completed"
    },
    "tags": []
   },
   "outputs": [],
   "source": []
  },
  {
   "cell_type": "code",
   "execution_count": null,
   "id": "7b361521",
   "metadata": {
    "execution": {
     "iopub.execute_input": "2021-07-10T03:45:47.401297Z",
     "iopub.status.busy": "2021-07-10T03:45:47.400593Z",
     "iopub.status.idle": "2021-07-10T03:45:47.407143Z",
     "shell.execute_reply": "2021-07-10T03:45:47.406444Z",
     "shell.execute_reply.started": "2021-07-09T16:57:57.848188Z"
    },
    "papermill": {
     "duration": 0.017037,
     "end_time": "2021-07-10T03:50:00.601298",
     "exception": false,
     "start_time": "2021-07-10T03:50:00.584261",
     "status": "completed"
    },
    "tags": []
   },
   "outputs": [],
   "source": []
  },
  {
   "cell_type": "markdown",
   "id": "cf8b0da6",
   "metadata": {
    "papermill": {
     "duration": 0.017625,
     "end_time": "2021-07-10T03:50:00.636069",
     "exception": false,
     "start_time": "2021-07-10T03:50:00.618444",
     "status": "completed"
    },
    "tags": []
   },
   "source": [
    "**Exercise 22: Select columns 2nd to 4th using indices from `data` and assign it to `data_c234`**"
   ]
  },
  {
   "cell_type": "code",
   "execution_count": null,
   "id": "3f2edaa6",
   "metadata": {
    "execution": {
     "iopub.execute_input": "2021-07-10T03:45:47.509214Z",
     "iopub.status.busy": "2021-07-10T03:45:47.508512Z",
     "iopub.status.idle": "2021-07-10T03:45:47.514814Z",
     "shell.execute_reply": "2021-07-10T03:45:47.514256Z",
     "shell.execute_reply.started": "2021-07-09T17:00:00.763530Z"
    },
    "papermill": {
     "duration": 0.016596,
     "end_time": "2021-07-10T03:50:00.669544",
     "exception": false,
     "start_time": "2021-07-10T03:50:00.652948",
     "status": "completed"
    },
    "tags": []
   },
   "outputs": [],
   "source": []
  },
  {
   "cell_type": "markdown",
   "id": "d01b2e19",
   "metadata": {
    "papermill": {
     "duration": 0.016715,
     "end_time": "2021-07-10T03:50:00.703202",
     "exception": false,
     "start_time": "2021-07-10T03:50:00.686487",
     "status": "completed"
    },
    "tags": []
   },
   "source": [
    "**Exercise 23: Select all string columns from `data` and assign it to `data_str`**"
   ]
  },
  {
   "cell_type": "code",
   "execution_count": null,
   "id": "aca4922f",
   "metadata": {
    "execution": {
     "iopub.execute_input": "2021-07-10T03:45:47.618463Z",
     "iopub.status.busy": "2021-07-10T03:45:47.617378Z",
     "iopub.status.idle": "2021-07-10T03:45:47.621728Z",
     "shell.execute_reply": "2021-07-10T03:45:47.622194Z",
     "shell.execute_reply.started": "2021-07-09T17:00:19.482581Z"
    },
    "papermill": {
     "duration": 0.016718,
     "end_time": "2021-07-10T03:50:00.736867",
     "exception": false,
     "start_time": "2021-07-10T03:50:00.720149",
     "status": "completed"
    },
    "tags": []
   },
   "outputs": [],
   "source": []
  },
  {
   "cell_type": "markdown",
   "id": "1baf2dcf",
   "metadata": {
    "papermill": {
     "duration": 0.016765,
     "end_time": "2021-07-10T03:50:00.770595",
     "exception": false,
     "start_time": "2021-07-10T03:50:00.753830",
     "status": "completed"
    },
    "tags": []
   },
   "source": [
    "**Exercise 24: Select rows 4th and 1st from `data` and assign it to `data_r41`**"
   ]
  },
  {
   "cell_type": "code",
   "execution_count": null,
   "id": "8ce3088f",
   "metadata": {
    "execution": {
     "iopub.execute_input": "2021-07-10T03:45:47.731591Z",
     "iopub.status.busy": "2021-07-10T03:45:47.730805Z",
     "iopub.status.idle": "2021-07-10T03:45:47.735896Z",
     "shell.execute_reply": "2021-07-10T03:45:47.736415Z",
     "shell.execute_reply.started": "2021-07-09T17:01:05.089537Z"
    },
    "papermill": {
     "duration": 0.016551,
     "end_time": "2021-07-10T03:50:00.804128",
     "exception": false,
     "start_time": "2021-07-10T03:50:00.787577",
     "status": "completed"
    },
    "tags": []
   },
   "outputs": [],
   "source": []
  },
  {
   "cell_type": "markdown",
   "id": "ee65349d",
   "metadata": {
    "papermill": {
     "duration": 0.01671,
     "end_time": "2021-07-10T03:50:00.837865",
     "exception": false,
     "start_time": "2021-07-10T03:50:00.821155",
     "status": "completed"
    },
    "tags": []
   },
   "source": [
    "**Exercise 25: Select the element in the 4th row and 2nd column in `data` and assign it to `value_1` and select the 3rd element of `category` column in `data` and assign it to `value_2`**"
   ]
  },
  {
   "cell_type": "code",
   "execution_count": null,
   "id": "bcd664fa",
   "metadata": {
    "execution": {
     "iopub.execute_input": "2021-07-10T03:45:47.858656Z",
     "iopub.status.busy": "2021-07-10T03:45:47.857945Z",
     "iopub.status.idle": "2021-07-10T03:45:47.860829Z",
     "shell.execute_reply": "2021-07-10T03:45:47.861512Z",
     "shell.execute_reply.started": "2021-07-09T17:01:50.345437Z"
    },
    "papermill": {
     "duration": 0.016522,
     "end_time": "2021-07-10T03:50:00.871374",
     "exception": false,
     "start_time": "2021-07-10T03:50:00.854852",
     "status": "completed"
    },
    "tags": []
   },
   "outputs": [],
   "source": []
  },
  {
   "cell_type": "code",
   "execution_count": null,
   "id": "77fcc55e",
   "metadata": {
    "execution": {
     "iopub.execute_input": "2021-07-10T03:45:47.917056Z",
     "iopub.status.busy": "2021-07-10T03:45:47.916253Z",
     "iopub.status.idle": "2021-07-10T03:45:47.921802Z",
     "shell.execute_reply": "2021-07-10T03:45:47.922322Z",
     "shell.execute_reply.started": "2021-07-09T17:01:52.359791Z"
    },
    "papermill": {
     "duration": 0.016672,
     "end_time": "2021-07-10T03:50:00.905009",
     "exception": false,
     "start_time": "2021-07-10T03:50:00.888337",
     "status": "completed"
    },
    "tags": []
   },
   "outputs": [],
   "source": []
  },
  {
   "cell_type": "markdown",
   "id": "26b0598e",
   "metadata": {
    "papermill": {
     "duration": 0.016523,
     "end_time": "2021-07-10T03:50:00.938392",
     "exception": false,
     "start_time": "2021-07-10T03:50:00.921869",
     "status": "completed"
    },
    "tags": []
   },
   "source": [
    "**Exercise 26: Select rows from `data` where `category` is `Fruit` and assign it to `data_fruit` and select rows from `data_fruit` where `product` is `Banana` and `quantity` is more than 1 and assign it to `data_multi_banana`**"
   ]
  },
  {
   "cell_type": "code",
   "execution_count": null,
   "id": "c424fc3b",
   "metadata": {
    "execution": {
     "iopub.execute_input": "2021-07-10T03:45:48.033945Z",
     "iopub.status.busy": "2021-07-10T03:45:48.033214Z",
     "iopub.status.idle": "2021-07-10T03:45:48.041388Z",
     "shell.execute_reply": "2021-07-10T03:45:48.041888Z",
     "shell.execute_reply.started": "2021-07-09T17:03:50.613283Z"
    },
    "papermill": {
     "duration": 0.016611,
     "end_time": "2021-07-10T03:50:00.971898",
     "exception": false,
     "start_time": "2021-07-10T03:50:00.955287",
     "status": "completed"
    },
    "tags": []
   },
   "outputs": [],
   "source": []
  },
  {
   "cell_type": "code",
   "execution_count": null,
   "id": "3bbe102e",
   "metadata": {
    "execution": {
     "iopub.execute_input": "2021-07-10T03:45:48.114482Z",
     "iopub.status.busy": "2021-07-10T03:45:48.113591Z",
     "iopub.status.idle": "2021-07-10T03:45:48.119539Z",
     "shell.execute_reply": "2021-07-10T03:45:48.120095Z",
     "shell.execute_reply.started": "2021-07-09T17:04:01.360049Z"
    },
    "papermill": {
     "duration": 0.017224,
     "end_time": "2021-07-10T03:50:01.006042",
     "exception": false,
     "start_time": "2021-07-10T03:50:00.988818",
     "status": "completed"
    },
    "tags": []
   },
   "outputs": [],
   "source": []
  },
  {
   "cell_type": "markdown",
   "id": "0eee7b39",
   "metadata": {
    "papermill": {
     "duration": 0.016831,
     "end_time": "2021-07-10T03:50:01.039993",
     "exception": false,
     "start_time": "2021-07-10T03:50:01.023162",
     "status": "completed"
    },
    "tags": []
   },
   "source": [
    "**Exercise 27: Select columns from `data` that have no missing values and assign it to `data_nomissing_cols`**"
   ]
  },
  {
   "cell_type": "code",
   "execution_count": null,
   "id": "44821a0f",
   "metadata": {
    "execution": {
     "iopub.execute_input": "2021-07-10T03:45:48.248095Z",
     "iopub.status.busy": "2021-07-10T03:45:48.247204Z",
     "iopub.status.idle": "2021-07-10T03:45:48.252606Z",
     "shell.execute_reply": "2021-07-10T03:45:48.252004Z",
     "shell.execute_reply.started": "2021-07-09T17:04:53.636677Z"
    },
    "papermill": {
     "duration": 0.016747,
     "end_time": "2021-07-10T03:50:01.073913",
     "exception": false,
     "start_time": "2021-07-10T03:50:01.057166",
     "status": "completed"
    },
    "tags": []
   },
   "outputs": [],
   "source": []
  },
  {
   "cell_type": "markdown",
   "id": "9ba7c590",
   "metadata": {
    "papermill": {
     "duration": 0.017038,
     "end_time": "2021-07-10T03:50:01.108011",
     "exception": false,
     "start_time": "2021-07-10T03:50:01.090973",
     "status": "completed"
    },
    "tags": []
   },
   "source": [
    "**Exercise 28: Select rows from `data` that have no missing values and assign it to `data_nomissing_rows`**"
   ]
  },
  {
   "cell_type": "code",
   "execution_count": null,
   "id": "0a00e245",
   "metadata": {
    "execution": {
     "iopub.execute_input": "2021-07-10T03:45:48.373275Z",
     "iopub.status.busy": "2021-07-10T03:45:48.372562Z",
     "iopub.status.idle": "2021-07-10T03:45:48.381275Z",
     "shell.execute_reply": "2021-07-10T03:45:48.381812Z",
     "shell.execute_reply.started": "2021-07-09T17:05:04.266965Z"
    },
    "papermill": {
     "duration": 0.016676,
     "end_time": "2021-07-10T03:50:01.142102",
     "exception": false,
     "start_time": "2021-07-10T03:50:01.125426",
     "status": "completed"
    },
    "tags": []
   },
   "outputs": [],
   "source": []
  },
  {
   "cell_type": "markdown",
   "id": "476526bc",
   "metadata": {
    "papermill": {
     "duration": 0.016677,
     "end_time": "2021-07-10T03:50:01.175840",
     "exception": false,
     "start_time": "2021-07-10T03:50:01.159163",
     "status": "completed"
    },
    "tags": []
   },
   "source": [
    "**Exercise 29: Select unique rows from `data` and assign it to `data_unique` and select unique `product` from `data_unique` and assign it to `product_unique`**"
   ]
  },
  {
   "cell_type": "code",
   "execution_count": null,
   "id": "1b0fb5ef",
   "metadata": {
    "execution": {
     "iopub.execute_input": "2021-07-10T03:45:48.514123Z",
     "iopub.status.busy": "2021-07-10T03:45:48.513328Z",
     "iopub.status.idle": "2021-07-10T03:45:48.519147Z",
     "shell.execute_reply": "2021-07-10T03:45:48.519727Z",
     "shell.execute_reply.started": "2021-07-09T17:05:33.261595Z"
    },
    "papermill": {
     "duration": 0.016744,
     "end_time": "2021-07-10T03:50:01.209672",
     "exception": false,
     "start_time": "2021-07-10T03:50:01.192928",
     "status": "completed"
    },
    "tags": []
   },
   "outputs": [],
   "source": []
  },
  {
   "cell_type": "code",
   "execution_count": null,
   "id": "e8cf9212",
   "metadata": {
    "execution": {
     "iopub.execute_input": "2021-07-10T03:45:48.596327Z",
     "iopub.status.busy": "2021-07-10T03:45:48.595450Z",
     "iopub.status.idle": "2021-07-10T03:45:48.599235Z",
     "shell.execute_reply": "2021-07-10T03:45:48.596954Z",
     "shell.execute_reply.started": "2021-07-09T17:08:13.440725Z"
    },
    "papermill": {
     "duration": 0.016723,
     "end_time": "2021-07-10T03:50:01.243422",
     "exception": false,
     "start_time": "2021-07-10T03:50:01.226699",
     "status": "completed"
    },
    "tags": []
   },
   "outputs": [],
   "source": []
  },
  {
   "cell_type": "markdown",
   "id": "e43101cc",
   "metadata": {
    "papermill": {
     "duration": 0.016691,
     "end_time": "2021-07-10T03:50:01.276930",
     "exception": false,
     "start_time": "2021-07-10T03:50:01.260239",
     "status": "completed"
    },
    "tags": []
   },
   "source": [
    "**Exercise 30: Select first row of each user from `data` and assign it to `data_first`**"
   ]
  },
  {
   "cell_type": "code",
   "execution_count": null,
   "id": "d2217c40",
   "metadata": {
    "execution": {
     "iopub.execute_input": "2021-07-10T03:45:48.735644Z",
     "iopub.status.busy": "2021-07-10T03:45:48.734838Z",
     "iopub.status.idle": "2021-07-10T03:45:48.739981Z",
     "shell.execute_reply": "2021-07-10T03:45:48.740507Z",
     "shell.execute_reply.started": "2021-07-09T17:08:29.889451Z"
    },
    "papermill": {
     "duration": 0.016626,
     "end_time": "2021-07-10T03:50:01.310499",
     "exception": false,
     "start_time": "2021-07-10T03:50:01.293873",
     "status": "completed"
    },
    "tags": []
   },
   "outputs": [],
   "source": []
  },
  {
   "cell_type": "markdown",
   "id": "d88d2434",
   "metadata": {
    "papermill": {
     "duration": 0.016669,
     "end_time": "2021-07-10T03:50:01.344154",
     "exception": false,
     "start_time": "2021-07-10T03:50:01.327485",
     "status": "completed"
    },
    "tags": []
   },
   "source": [
    "<center>\n",
    "    ✅ This completes Set 3: Data Selection (Exercises 21-30) of <b>DatatableTon</b>: <i>💯 datatable exercises</i>\n",
    "    <br>\n",
    "    Set 4 is coming soon!\n",
    "    <br>\n",
    "    <br>\n",
    "    You can find all the exercises and solutions on <a href=\"https://github.com/vopani/datatableton#exercises-\">GitHub</a>\n",
    "</center>"
   ]
  }
 ],
 "metadata": {
  "kernelspec": {
   "display_name": "Python 3",
   "language": "python",
   "name": "python3"
  },
  "language_info": {
   "codemirror_mode": {
    "name": "ipython",
    "version": 3
   },
   "file_extension": ".py",
   "mimetype": "text/x-python",
   "name": "python",
   "nbconvert_exporter": "python",
   "pygments_lexer": "ipython3",
   "version": "3.7.10"
  },
  "papermill": {
   "default_parameters": {},
   "duration": 18.499333,
   "end_time": "2021-07-10T03:50:02.073680",
   "environment_variables": {},
   "exception": null,
   "input_path": "__notebook__.ipynb",
   "output_path": "__notebook__.ipynb",
   "parameters": {},
   "start_time": "2021-07-10T03:49:43.574347",
   "version": "2.3.3"
  }
 },
 "nbformat": 4,
 "nbformat_minor": 5
}
