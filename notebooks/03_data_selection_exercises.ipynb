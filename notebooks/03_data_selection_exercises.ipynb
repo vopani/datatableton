{
 "cells": [
  {
   "cell_type": "markdown",
   "id": "bb85f8b2",
   "metadata": {
    "_cell_guid": "b1076dfc-b9ad-4769-8c92-a6c4dae69d19",
    "_uuid": "8f2839f25d086af736a60e9eeb907d3b93b6e0e5",
    "papermill": {
     "duration": 0.019514,
     "end_time": "2021-07-13T06:21:48.291129",
     "exception": false,
     "start_time": "2021-07-13T06:21:48.271615",
     "status": "completed"
    },
    "tags": []
   },
   "source": [
    "<center>\n",
    "    <h1>DatatableTon</h1>\n",
    "    💯 datatable exercises\n",
    "    <br>\n",
    "    <br>\n",
    "    <a href='https://github.com/vopani/datatableton/blob/master/LICENSE'>\n",
    "        <img src='https://img.shields.io/badge/license-Apache%202.0-blue.svg?logo=apache'>\n",
    "    </a>\n",
    "    <a href='https://github.com/vopani/datatableton'>\n",
    "        <img src='https://img.shields.io/github/stars/vopani/datatableton?color=yellowgreen&logo=github'>\n",
    "    </a>\n",
    "    <a href='https://twitter.com/vopani'>\n",
    "        <img src='https://img.shields.io/twitter/follow/vopani'>\n",
    "    </a>\n",
    "</center>"
   ]
  },
  {
   "cell_type": "markdown",
   "id": "d0754598",
   "metadata": {
    "papermill": {
     "duration": 0.017668,
     "end_time": "2021-07-13T06:21:48.327709",
     "exception": false,
     "start_time": "2021-07-13T06:21:48.310041",
     "status": "completed"
    },
    "tags": []
   },
   "source": [
    "<center>\n",
    "    This is Set 3: Data Selection (Exercises 21-30) of <b>DatatableTon</b>: <i>💯 datatable exercises</i>\n",
    "    <br>\n",
    "    You can find all the exercises and solutions on <a href=\"https://github.com/vopani/datatableton#exercises-\">GitHub</a>\n",
    "</center>"
   ]
  },
  {
   "cell_type": "markdown",
   "id": "39ac5f92",
   "metadata": {
    "papermill": {
     "duration": 0.01749,
     "end_time": "2021-07-13T06:21:48.363013",
     "exception": false,
     "start_time": "2021-07-13T06:21:48.345523",
     "status": "completed"
    },
    "tags": []
   },
   "source": [
    "**Prerequisites**\n",
    "* The `datatable` package should be upgraded to the latest version (or v1.0.0+).\n",
    "* The sample dataset [datatableton_sample.csv](https://github.com/vopani/datatableton/blob/main/data/datatableton_sample.csv) will be used for the exercises."
   ]
  },
  {
   "cell_type": "code",
   "execution_count": 1,
   "id": "75433678",
   "metadata": {
    "_kg_hide-output": true,
    "execution": {
     "iopub.execute_input": "2021-07-13T06:21:48.411941Z",
     "iopub.status.busy": "2021-07-13T06:21:48.411385Z",
     "iopub.status.idle": "2021-07-13T06:22:16.869865Z",
     "shell.execute_reply": "2021-07-13T06:22:16.869175Z",
     "shell.execute_reply.started": "2021-07-09T16:57:01.831667Z"
    },
    "papermill": {
     "duration": 28.48944,
     "end_time": "2021-07-13T06:22:16.870003",
     "exception": false,
     "start_time": "2021-07-13T06:21:48.380563",
     "status": "completed"
    },
    "tags": []
   },
   "outputs": [
    {
     "name": "stdout",
     "output_type": "stream",
     "text": [
      "Requirement already satisfied: pip in /opt/conda/lib/python3.7/site-packages (21.1.2)\r\n",
      "Collecting pip\r\n",
      "  Downloading pip-21.1.3-py3-none-any.whl (1.5 MB)\r\n",
      "\u001b[K     |████████████████████████████████| 1.5 MB 1.1 MB/s \r\n",
      "\u001b[?25hInstalling collected packages: pip\r\n",
      "  Attempting uninstall: pip\r\n",
      "    Found existing installation: pip 21.1.2\r\n",
      "    Uninstalling pip-21.1.2:\r\n",
      "      Successfully uninstalled pip-21.1.2\r\n",
      "Successfully installed pip-21.1.3\r\n",
      "\u001b[33mWARNING: Running pip as root will break packages and permissions. You should install packages reliably by using venv: https://pip.pypa.io/warnings/venv\u001b[0m\r\n",
      "Requirement already satisfied: datatable in /opt/conda/lib/python3.7/site-packages (1.0.0)\r\n",
      "\u001b[33mWARNING: Running pip as the 'root' user can result in broken permissions and conflicting behaviour with the system package manager. It is recommended to use a virtual environment instead: https://pip.pypa.io/warnings/venv\u001b[0m\r\n",
      "--2021-07-13 06:22:16--  https://raw.githubusercontent.com/vopani/datatableton/main/data/datatableton_sample.csv\r\n",
      "Resolving raw.githubusercontent.com (raw.githubusercontent.com)... 185.199.108.133, 185.199.111.133, 185.199.109.133, ...\r\n",
      "Connecting to raw.githubusercontent.com (raw.githubusercontent.com)|185.199.108.133|:443... connected.\r\n",
      "HTTP request sent, awaiting response... 200 OK\r\n",
      "Length: 940 [text/plain]\r\n",
      "Saving to: ‘datatableton_sample.csv’\r\n",
      "\r\n",
      "datatableton_sample 100%[===================>]     940  --.-KB/s    in 0s      \r\n",
      "\r\n",
      "2021-07-13 06:22:16 (60.9 MB/s) - ‘datatableton_sample.csv’ saved [940/940]\r\n",
      "\r\n"
     ]
    }
   ],
   "source": [
    "!python3 -m pip install -U pip\n",
    "!python3 -m pip install -U datatable\n",
    "!wget https://raw.githubusercontent.com/vopani/datatableton/main/data/datatableton_sample.csv"
   ]
  },
  {
   "cell_type": "code",
   "execution_count": 2,
   "id": "483e12a1",
   "metadata": {
    "execution": {
     "iopub.execute_input": "2021-07-13T06:22:16.922007Z",
     "iopub.status.busy": "2021-07-13T06:22:16.921187Z",
     "iopub.status.idle": "2021-07-13T06:22:17.075393Z",
     "shell.execute_reply": "2021-07-13T06:22:17.075906Z",
     "shell.execute_reply.started": "2021-07-09T16:57:11.178992Z"
    },
    "papermill": {
     "duration": 0.183177,
     "end_time": "2021-07-13T06:22:17.076054",
     "exception": false,
     "start_time": "2021-07-13T06:22:16.892877",
     "status": "completed"
    },
    "tags": []
   },
   "outputs": [
    {
     "data": {
      "text/html": [
       "<style type='text/css'>\n",
       ".datatable table.frame { margin-bottom: 0; }\n",
       ".datatable table.frame thead { border-bottom: none; }\n",
       ".datatable table.frame tr.coltypes td {  color: #FFFFFF;  line-height: 6px;  padding: 0 0.5em;}\n",
       ".datatable .bool    { background: #DDDD99; }\n",
       ".datatable .object  { background: #565656; }\n",
       ".datatable .int     { background: #5D9E5D; }\n",
       ".datatable .float   { background: #4040CC; }\n",
       ".datatable .str     { background: #CC4040; }\n",
       ".datatable .time    { background: #40CC40; }\n",
       ".datatable .row_index {  background: var(--jp-border-color3);  border-right: 1px solid var(--jp-border-color0);  color: var(--jp-ui-font-color3);  font-size: 9px;}\n",
       ".datatable .frame tbody td { text-align: left; }\n",
       ".datatable .frame tr.coltypes .row_index {  background: var(--jp-border-color0);}\n",
       ".datatable th:nth-child(2) { padding-left: 12px; }\n",
       ".datatable .hellipsis {  color: var(--jp-cell-editor-border-color);}\n",
       ".datatable .vellipsis {  background: var(--jp-layout-color0);  color: var(--jp-cell-editor-border-color);}\n",
       ".datatable .na {  color: var(--jp-cell-editor-border-color);  font-size: 80%;}\n",
       ".datatable .sp {  opacity: 0.25;}\n",
       ".datatable .footer { font-size: 9px; }\n",
       ".datatable .frame_dimensions {  background: var(--jp-border-color3);  border-top: 1px solid var(--jp-border-color0);  color: var(--jp-ui-font-color3);  display: inline-block;  opacity: 0.6;  padding: 1px 10px 1px 5px;}\n",
       "</style>\n"
      ],
      "text/plain": [
       "<IPython.core.display.HTML object>"
      ]
     },
     "metadata": {},
     "output_type": "display_data"
    },
    {
     "data": {
      "text/html": [
       "<div class='datatable'>\n",
       "  <table class='frame'>\n",
       "  <thead>\n",
       "    <tr class='colnames'><td class='row_index'></td><th>timestamp</th><th>user</th><th>age</th><th>product</th><th>category</th><th>price</th><th>quantity</th></tr>\n",
       "    <tr class='coltypes'><td class='row_index'></td><td class='time' title='time64'>&#x25AA;&#x25AA;&#x25AA;&#x25AA;&#x25AA;&#x25AA;&#x25AA;&#x25AA;</td><td class='str' title='str32'>&#x25AA;&#x25AA;&#x25AA;&#x25AA;</td><td class='int' title='int32'>&#x25AA;&#x25AA;&#x25AA;&#x25AA;</td><td class='str' title='str32'>&#x25AA;&#x25AA;&#x25AA;&#x25AA;</td><td class='str' title='str32'>&#x25AA;&#x25AA;&#x25AA;&#x25AA;</td><td class='float' title='float64'>&#x25AA;&#x25AA;&#x25AA;&#x25AA;&#x25AA;&#x25AA;&#x25AA;&#x25AA;</td><td class='int' title='int32'>&#x25AA;&#x25AA;&#x25AA;&#x25AA;</td></tr>\n",
       "  </thead>\n",
       "  <tbody>\n",
       "    <tr><td class='row_index'>0</td><td>2017-01-01<span class=sp>T</span>13:22:41</td><td>U1</td><td>21</td><td>Eggs</td><td>Dairy</td><td>2.3</td><td>2</td></tr>\n",
       "    <tr><td class='row_index'>1</td><td>2017-05-22<span class=sp>T</span>09:54:21</td><td>U2</td><td>41</td><td>Bread</td><td><span class=na>NA</span></td><td>0.6</td><td>2</td></tr>\n",
       "    <tr><td class='row_index'>2</td><td>2018-11-09<span class=sp>T</span>15:00:01</td><td>U3</td><td><span class=na>NA</span></td><td>Banana</td><td>Fruit</td><td>0.7</td><td>1</td></tr>\n",
       "    <tr><td class='row_index'>3</td><td>2018-12-24<span class=sp>T</span>23:03:33</td><td>U1</td><td>21</td><td>Water</td><td>Drink</td><td>0.2</td><td>1</td></tr>\n",
       "    <tr><td class='row_index'>4</td><td>2019-03-03<span class=sp>T</span>06:21:58</td><td>U4</td><td>19</td><td>Eggs</td><td>Dairy</td><td>2.3</td><td>2</td></tr>\n",
       "    <tr><td class='row_index'>5</td><td>2019-06-17<span class=sp>T</span>16:13:39</td><td>U5</td><td>25</td><td>Grapes</td><td>Fruit</td><td>1.5</td><td>1</td></tr>\n",
       "    <tr><td class='row_index'>6</td><td>2019-07-28<span class=sp>T</span>21:03:11</td><td>U5</td><td>25</td><td>Bread</td><td><span class=na>NA</span></td><td>0.6</td><td>1</td></tr>\n",
       "    <tr><td class='row_index'>7</td><td>2019-12-05<span class=sp>T</span>04:15:42</td><td>U1</td><td>21</td><td>Banana</td><td>Fruit</td><td>0.7</td><td>2</td></tr>\n",
       "    <tr><td class='row_index'>8</td><td>2020-02-02<span class=sp>T</span>03:45:34</td><td>U3</td><td><span class=na>NA</span></td><td>Banana</td><td>Fruit</td><td>0.7</td><td>1</td></tr>\n",
       "    <tr><td class='row_index'>9</td><td>2020-03-05<span class=sp>T</span>07:09:12</td><td>U4</td><td>19</td><td>Grapes</td><td>Fruit</td><td>1.5</td><td>1</td></tr>\n",
       "    <tr><td class='row_index'>10</td><td>2020-03-22<span class=sp>T</span>19:29:38</td><td>U1</td><td>21</td><td>Water</td><td>Drink</td><td>0.2</td><td>1</td></tr>\n",
       "    <tr><td class='row_index'>11</td><td>2020-03-30<span class=sp>T</span>09:44:30</td><td>U4</td><td>19</td><td>Water</td><td>Drink</td><td>0.2</td><td>1</td></tr>\n",
       "    <tr><td class='row_index'>12</td><td>2020-04-01<span class=sp>T</span>13:21:41</td><td>U1</td><td>21</td><td>Banana</td><td>Fruit</td><td>0.7</td><td>2</td></tr>\n",
       "    <tr><td class='row_index'>13</td><td>2020-07-08<span class=sp>T</span>11:45:25</td><td>U2</td><td>41</td><td>Grapes</td><td>Fruit</td><td>1.5</td><td>1</td></tr>\n",
       "    <tr><td class='row_index'>14</td><td>2020-11-19<span class=sp>T</span>18:51:22</td><td>U5</td><td>25</td><td>Water</td><td>Drink</td><td>0.2</td><td>1</td></tr>\n",
       "    <tr><td class='row_index'>15</td><td>2020-12-03<span class=sp>T</span>16:23:48</td><td>U3</td><td><span class=na>NA</span></td><td>Banana</td><td>Fruit</td><td>0.5</td><td>3</td></tr>\n",
       "    <tr><td class='row_index'>16</td><td>2021-02-03<span class=sp>T</span>01:14:40</td><td>U5</td><td>25</td><td>Eggs</td><td>Dairy</td><td>2.1</td><td>4</td></tr>\n",
       "    <tr><td class='row_index'>17</td><td>2021-05-26<span class=sp>T</span>22:42:15</td><td>U3</td><td><span class=na>NA</span></td><td>Bread</td><td><span class=na>NA</span></td><td>0.6</td><td>1</td></tr>\n",
       "    <tr><td class='row_index'>18</td><td>2021-06-14<span class=sp>T</span>15:49:28</td><td>U4</td><td>19</td><td>Eggs</td><td>Dairy</td><td>2.3</td><td>2</td></tr>\n",
       "    <tr><td class='row_index'>19</td><td>2021-07-01<span class=sp>T</span>04:37:31</td><td>U4</td><td>19</td><td>Water</td><td>Drink</td><td>0.3</td><td>1</td></tr>\n",
       "  </tbody>\n",
       "  </table>\n",
       "  <div class='footer'>\n",
       "    <div class='frame_dimensions'>20 rows &times; 7 columns</div>\n",
       "  </div>\n",
       "</div>\n"
      ],
      "text/plain": [
       "<Frame#7fc188e17870 20x7>"
      ]
     },
     "execution_count": 2,
     "metadata": {},
     "output_type": "execute_result"
    }
   ],
   "source": [
    "import datatable as dt\n",
    "\n",
    "data = dt.fread('datatableton_sample.csv')\n",
    "data"
   ]
  },
  {
   "cell_type": "markdown",
   "id": "6ca4f445",
   "metadata": {
    "papermill": {
     "duration": 0.029309,
     "end_time": "2021-07-13T06:22:17.133745",
     "exception": false,
     "start_time": "2021-07-13T06:22:17.104436",
     "status": "completed"
    },
    "tags": []
   },
   "source": [
    "**Exercise 21: Select the columns `user`, `product` and `quantity` from `data` and assign it to `data_upq` and select the `user` column from `data_upq` and assign it to `data_u`**"
   ]
  },
  {
   "cell_type": "code",
   "execution_count": null,
   "id": "8d19d727",
   "metadata": {
    "execution": {
     "iopub.execute_input": "2021-07-10T03:45:47.347063Z",
     "iopub.status.busy": "2021-07-10T03:45:47.346303Z",
     "iopub.status.idle": "2021-07-10T03:45:47.349484Z",
     "shell.execute_reply": "2021-07-10T03:45:47.349981Z",
     "shell.execute_reply.started": "2021-07-09T16:57:11.398425Z"
    },
    "papermill": {
     "duration": 0.029402,
     "end_time": "2021-07-13T06:22:17.186258",
     "exception": false,
     "start_time": "2021-07-13T06:22:17.156856",
     "status": "completed"
    },
    "tags": []
   },
   "outputs": [],
   "source": []
  },
  {
   "cell_type": "code",
   "execution_count": null,
   "id": "0db7a5a5",
   "metadata": {
    "execution": {
     "iopub.execute_input": "2021-07-10T03:45:47.401297Z",
     "iopub.status.busy": "2021-07-10T03:45:47.400593Z",
     "iopub.status.idle": "2021-07-10T03:45:47.407143Z",
     "shell.execute_reply": "2021-07-10T03:45:47.406444Z",
     "shell.execute_reply.started": "2021-07-09T16:57:57.848188Z"
    },
    "papermill": {
     "duration": 0.023768,
     "end_time": "2021-07-13T06:22:17.233672",
     "exception": false,
     "start_time": "2021-07-13T06:22:17.209904",
     "status": "completed"
    },
    "tags": []
   },
   "outputs": [],
   "source": []
  },
  {
   "cell_type": "markdown",
   "id": "42adcb4b",
   "metadata": {
    "papermill": {
     "duration": 0.027044,
     "end_time": "2021-07-13T06:22:17.286592",
     "exception": false,
     "start_time": "2021-07-13T06:22:17.259548",
     "status": "completed"
    },
    "tags": []
   },
   "source": [
    "**Exercise 22: Select columns 2nd to 4th using indices from `data` and assign it to `data_c234`**"
   ]
  },
  {
   "cell_type": "code",
   "execution_count": null,
   "id": "e047af44",
   "metadata": {
    "execution": {
     "iopub.execute_input": "2021-07-10T03:45:47.509214Z",
     "iopub.status.busy": "2021-07-10T03:45:47.508512Z",
     "iopub.status.idle": "2021-07-10T03:45:47.514814Z",
     "shell.execute_reply": "2021-07-10T03:45:47.514256Z",
     "shell.execute_reply.started": "2021-07-09T17:00:00.76353Z"
    },
    "papermill": {
     "duration": 0.032678,
     "end_time": "2021-07-13T06:22:17.342630",
     "exception": false,
     "start_time": "2021-07-13T06:22:17.309952",
     "status": "completed"
    },
    "tags": []
   },
   "outputs": [],
   "source": []
  },
  {
   "cell_type": "markdown",
   "id": "c8b3f1a9",
   "metadata": {
    "papermill": {
     "duration": 0.023018,
     "end_time": "2021-07-13T06:22:17.396710",
     "exception": false,
     "start_time": "2021-07-13T06:22:17.373692",
     "status": "completed"
    },
    "tags": []
   },
   "source": [
    "**Exercise 23: Select all string columns from `data` and assign it to `data_str`**"
   ]
  },
  {
   "cell_type": "code",
   "execution_count": null,
   "id": "94e62b84",
   "metadata": {
    "execution": {
     "iopub.execute_input": "2021-07-10T03:45:47.618463Z",
     "iopub.status.busy": "2021-07-10T03:45:47.617378Z",
     "iopub.status.idle": "2021-07-10T03:45:47.621728Z",
     "shell.execute_reply": "2021-07-10T03:45:47.622194Z",
     "shell.execute_reply.started": "2021-07-09T17:00:19.482581Z"
    },
    "papermill": {
     "duration": 0.023554,
     "end_time": "2021-07-13T06:22:17.443382",
     "exception": false,
     "start_time": "2021-07-13T06:22:17.419828",
     "status": "completed"
    },
    "tags": []
   },
   "outputs": [],
   "source": []
  },
  {
   "cell_type": "markdown",
   "id": "b2f3487d",
   "metadata": {
    "papermill": {
     "duration": 0.023222,
     "end_time": "2021-07-13T06:22:17.489740",
     "exception": false,
     "start_time": "2021-07-13T06:22:17.466518",
     "status": "completed"
    },
    "tags": []
   },
   "source": [
    "**Exercise 24: Select rows 4th and 1st from `data` and assign it to `data_r41`**"
   ]
  },
  {
   "cell_type": "code",
   "execution_count": null,
   "id": "faab4ff1",
   "metadata": {
    "execution": {
     "iopub.execute_input": "2021-07-10T03:45:47.731591Z",
     "iopub.status.busy": "2021-07-10T03:45:47.730805Z",
     "iopub.status.idle": "2021-07-10T03:45:47.735896Z",
     "shell.execute_reply": "2021-07-10T03:45:47.736415Z",
     "shell.execute_reply.started": "2021-07-09T17:01:05.089537Z"
    },
    "papermill": {
     "duration": 0.023442,
     "end_time": "2021-07-13T06:22:17.536925",
     "exception": false,
     "start_time": "2021-07-13T06:22:17.513483",
     "status": "completed"
    },
    "tags": []
   },
   "outputs": [],
   "source": []
  },
  {
   "cell_type": "markdown",
   "id": "8c357f8d",
   "metadata": {
    "papermill": {
     "duration": 0.02343,
     "end_time": "2021-07-13T06:22:17.583628",
     "exception": false,
     "start_time": "2021-07-13T06:22:17.560198",
     "status": "completed"
    },
    "tags": []
   },
   "source": [
    "**Exercise 25: Select the element in the 4th row and 2nd column in `data` and assign it to `value_1` and select the 3rd element of `category` column in `data` and assign it to `value_2`**"
   ]
  },
  {
   "cell_type": "code",
   "execution_count": null,
   "id": "610e1df0",
   "metadata": {
    "execution": {
     "iopub.execute_input": "2021-07-10T03:45:47.858656Z",
     "iopub.status.busy": "2021-07-10T03:45:47.857945Z",
     "iopub.status.idle": "2021-07-10T03:45:47.860829Z",
     "shell.execute_reply": "2021-07-10T03:45:47.861512Z",
     "shell.execute_reply.started": "2021-07-09T17:01:50.345437Z"
    },
    "papermill": {
     "duration": 0.023511,
     "end_time": "2021-07-13T06:22:17.630576",
     "exception": false,
     "start_time": "2021-07-13T06:22:17.607065",
     "status": "completed"
    },
    "tags": []
   },
   "outputs": [],
   "source": []
  },
  {
   "cell_type": "code",
   "execution_count": null,
   "id": "3c178def",
   "metadata": {
    "execution": {
     "iopub.execute_input": "2021-07-10T03:45:47.917056Z",
     "iopub.status.busy": "2021-07-10T03:45:47.916253Z",
     "iopub.status.idle": "2021-07-10T03:45:47.921802Z",
     "shell.execute_reply": "2021-07-10T03:45:47.922322Z",
     "shell.execute_reply.started": "2021-07-09T17:01:52.359791Z"
    },
    "papermill": {
     "duration": 0.023369,
     "end_time": "2021-07-13T06:22:17.678137",
     "exception": false,
     "start_time": "2021-07-13T06:22:17.654768",
     "status": "completed"
    },
    "tags": []
   },
   "outputs": [],
   "source": []
  },
  {
   "cell_type": "markdown",
   "id": "65e97f9d",
   "metadata": {
    "papermill": {
     "duration": 0.026019,
     "end_time": "2021-07-13T06:22:17.729176",
     "exception": false,
     "start_time": "2021-07-13T06:22:17.703157",
     "status": "completed"
    },
    "tags": []
   },
   "source": [
    "**Exercise 26: Select rows from `data` where `category` is `Fruit` and assign it to `data_fruit` and select rows from `data_fruit` where `product` is `Banana` and `quantity` is more than 1 and assign it to `data_multi_banana`**"
   ]
  },
  {
   "cell_type": "code",
   "execution_count": null,
   "id": "7e99c7c3",
   "metadata": {
    "execution": {
     "iopub.execute_input": "2021-07-10T03:45:48.033945Z",
     "iopub.status.busy": "2021-07-10T03:45:48.033214Z",
     "iopub.status.idle": "2021-07-10T03:45:48.041388Z",
     "shell.execute_reply": "2021-07-10T03:45:48.041888Z",
     "shell.execute_reply.started": "2021-07-09T17:03:50.613283Z"
    },
    "papermill": {
     "duration": 0.024718,
     "end_time": "2021-07-13T06:22:17.779480",
     "exception": false,
     "start_time": "2021-07-13T06:22:17.754762",
     "status": "completed"
    },
    "tags": []
   },
   "outputs": [],
   "source": []
  },
  {
   "cell_type": "code",
   "execution_count": null,
   "id": "d4fc0d98",
   "metadata": {
    "execution": {
     "iopub.execute_input": "2021-07-10T03:45:48.114482Z",
     "iopub.status.busy": "2021-07-10T03:45:48.113591Z",
     "iopub.status.idle": "2021-07-10T03:45:48.119539Z",
     "shell.execute_reply": "2021-07-10T03:45:48.120095Z",
     "shell.execute_reply.started": "2021-07-09T17:04:01.360049Z"
    },
    "papermill": {
     "duration": 0.02281,
     "end_time": "2021-07-13T06:22:17.826157",
     "exception": false,
     "start_time": "2021-07-13T06:22:17.803347",
     "status": "completed"
    },
    "tags": []
   },
   "outputs": [],
   "source": []
  },
  {
   "cell_type": "markdown",
   "id": "2215f1ef",
   "metadata": {
    "papermill": {
     "duration": 0.02294,
     "end_time": "2021-07-13T06:22:17.872156",
     "exception": false,
     "start_time": "2021-07-13T06:22:17.849216",
     "status": "completed"
    },
    "tags": []
   },
   "source": [
    "**Exercise 27: Select columns from `data` that have no missing values and assign it to `data_nomissing_cols`**"
   ]
  },
  {
   "cell_type": "code",
   "execution_count": null,
   "id": "9f7dfb28",
   "metadata": {
    "execution": {
     "iopub.execute_input": "2021-07-10T03:45:48.248095Z",
     "iopub.status.busy": "2021-07-10T03:45:48.247204Z",
     "iopub.status.idle": "2021-07-10T03:45:48.252606Z",
     "shell.execute_reply": "2021-07-10T03:45:48.252004Z",
     "shell.execute_reply.started": "2021-07-09T17:04:53.636677Z"
    },
    "papermill": {
     "duration": 0.022833,
     "end_time": "2021-07-13T06:22:17.918291",
     "exception": false,
     "start_time": "2021-07-13T06:22:17.895458",
     "status": "completed"
    },
    "tags": []
   },
   "outputs": [],
   "source": []
  },
  {
   "cell_type": "markdown",
   "id": "1578f433",
   "metadata": {
    "papermill": {
     "duration": 0.022816,
     "end_time": "2021-07-13T06:22:17.964547",
     "exception": false,
     "start_time": "2021-07-13T06:22:17.941731",
     "status": "completed"
    },
    "tags": []
   },
   "source": [
    "**Exercise 28: Select rows from `data` that have no missing values and assign it to `data_nomissing_rows`**"
   ]
  },
  {
   "cell_type": "code",
   "execution_count": null,
   "id": "18945f43",
   "metadata": {
    "execution": {
     "iopub.execute_input": "2021-07-10T03:45:48.373275Z",
     "iopub.status.busy": "2021-07-10T03:45:48.372562Z",
     "iopub.status.idle": "2021-07-10T03:45:48.381275Z",
     "shell.execute_reply": "2021-07-10T03:45:48.381812Z",
     "shell.execute_reply.started": "2021-07-09T17:05:04.266965Z"
    },
    "papermill": {
     "duration": 0.023203,
     "end_time": "2021-07-13T06:22:18.010860",
     "exception": false,
     "start_time": "2021-07-13T06:22:17.987657",
     "status": "completed"
    },
    "tags": []
   },
   "outputs": [],
   "source": []
  },
  {
   "cell_type": "markdown",
   "id": "f9dcb5f8",
   "metadata": {
    "papermill": {
     "duration": 0.023177,
     "end_time": "2021-07-13T06:22:18.057433",
     "exception": false,
     "start_time": "2021-07-13T06:22:18.034256",
     "status": "completed"
    },
    "tags": []
   },
   "source": [
    "**Exercise 29: Select unique rows from `data` and assign it to `data_unique` and select unique `product` from `data_unique` and assign it to `product_unique`**"
   ]
  },
  {
   "cell_type": "code",
   "execution_count": null,
   "id": "7bfb89f5",
   "metadata": {
    "execution": {
     "iopub.execute_input": "2021-07-10T03:45:48.514123Z",
     "iopub.status.busy": "2021-07-10T03:45:48.513328Z",
     "iopub.status.idle": "2021-07-10T03:45:48.519147Z",
     "shell.execute_reply": "2021-07-10T03:45:48.519727Z",
     "shell.execute_reply.started": "2021-07-09T17:05:33.261595Z"
    },
    "papermill": {
     "duration": 0.023427,
     "end_time": "2021-07-13T06:22:18.104261",
     "exception": false,
     "start_time": "2021-07-13T06:22:18.080834",
     "status": "completed"
    },
    "tags": []
   },
   "outputs": [],
   "source": []
  },
  {
   "cell_type": "code",
   "execution_count": null,
   "id": "e798ad2a",
   "metadata": {
    "execution": {
     "iopub.execute_input": "2021-07-10T03:45:48.596327Z",
     "iopub.status.busy": "2021-07-10T03:45:48.59545Z",
     "iopub.status.idle": "2021-07-10T03:45:48.599235Z",
     "shell.execute_reply": "2021-07-10T03:45:48.596954Z",
     "shell.execute_reply.started": "2021-07-09T17:08:13.440725Z"
    },
    "papermill": {
     "duration": 0.023788,
     "end_time": "2021-07-13T06:22:18.152138",
     "exception": false,
     "start_time": "2021-07-13T06:22:18.128350",
     "status": "completed"
    },
    "tags": []
   },
   "outputs": [],
   "source": []
  },
  {
   "cell_type": "markdown",
   "id": "598599ae",
   "metadata": {
    "papermill": {
     "duration": 0.023629,
     "end_time": "2021-07-13T06:22:18.199638",
     "exception": false,
     "start_time": "2021-07-13T06:22:18.176009",
     "status": "completed"
    },
    "tags": []
   },
   "source": [
    "**Exercise 30: Select first row of each user from `data` and assign it to `data_first`**"
   ]
  },
  {
   "cell_type": "code",
   "execution_count": null,
   "id": "10f07cb6",
   "metadata": {
    "execution": {
     "iopub.execute_input": "2021-07-10T03:45:48.735644Z",
     "iopub.status.busy": "2021-07-10T03:45:48.734838Z",
     "iopub.status.idle": "2021-07-10T03:45:48.739981Z",
     "shell.execute_reply": "2021-07-10T03:45:48.740507Z",
     "shell.execute_reply.started": "2021-07-09T17:08:29.889451Z"
    },
    "papermill": {
     "duration": 0.024686,
     "end_time": "2021-07-13T06:22:18.249236",
     "exception": false,
     "start_time": "2021-07-13T06:22:18.224550",
     "status": "completed"
    },
    "tags": []
   },
   "outputs": [],
   "source": []
  },
  {
   "cell_type": "markdown",
   "id": "630f3740",
   "metadata": {
    "papermill": {
     "duration": 0.024623,
     "end_time": "2021-07-13T06:22:18.297833",
     "exception": false,
     "start_time": "2021-07-13T06:22:18.273210",
     "status": "completed"
    },
    "tags": []
   },
   "source": [
    "✅ This completes Set 3: Data Selection (Exercises 21-30) of **DatatableTon**: *💯 datatable exercises*\n",
    "\n",
    "#### Set 04 • Frame Operations • Beginner • Exercises 31-40\n",
    "\n",
    "| Style | Colab | Kaggle | Binder | GitHub |\n",
    "| ----- | ----- | ------ | ------ | ------ |\n",
    "| Exercises | [![Open in Colab](https://img.shields.io/static/v1?label=&message=Open%20in%20Colab&labelColor=grey&color=blue&logo=google-colab)](https://colab.research.google.com/github/vopani/datatableton/blob/main/notebooks/04_frame_operations_exercises.ipynb) | [![Open in Kaggle](https://img.shields.io/static/v1?label=&message=Open%20in%20Kaggle&labelColor=grey&color=blue&logo=kaggle)](https://www.kaggle.com/rohanrao/datatableton-frame-operations-exercises) | [![Open in Binder](https://img.shields.io/static/v1?label=&message=Open%20in%20Binder&labelColor=grey&color=blue&logo=data:image/png;base64,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)](https://mybinder.org/v2/gh/vopani/datatableton/main?filepath=notebooks%2F04_frame_operations_exercises.ipynb) | [![Open in GitHub](https://img.shields.io/static/v1?label=&message=Open%20in%20GitHub&labelColor=grey&color=blue&logo=github)](https://github.com/vopani/datatableton/blob/main/notebooks/04_frame_operations_exercises.ipynb) |\n",
    "| Solutions | [![Open in Colab](https://img.shields.io/static/v1?label=&message=Open%20in%20Colab&labelColor=grey&color=blue&logo=google-colab)](https://colab.research.google.com/github/vopani/datatableton/blob/main/notebooks/04_frame_operations_solutions.ipynb) | [![Open in Kaggle](https://img.shields.io/static/v1?label=&message=Open%20in%20Kaggle&labelColor=grey&color=blue&logo=kaggle)](https://www.kaggle.com/rohanrao/datatableton-frame-operations-solutions) | [![Open in Binder](https://img.shields.io/static/v1?label=&message=Open%20in%20Binder&labelColor=grey&color=blue&logo=data:image/png;base64,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)](https://mybinder.org/v2/gh/vopani/datatableton/main?filepath=notebooks%2F04_frame_operations_solutions.ipynb) | [![Open in GitHub](https://img.shields.io/static/v1?label=&message=Open%20in%20GitHub&labelColor=grey&color=blue&logo=github)](https://github.com/vopani/datatableton/blob/main/notebooks/04_frame_operations_solutions.ipynb) |\n",
    "\n",
    "You can find all the exercises and solutions on [GitHub](https://github.com/vopani/datatableton#exercises-)"
   ]
  }
 ],
 "metadata": {
  "kernelspec": {
   "display_name": "Python 3",
   "language": "python",
   "name": "python3"
  },
  "language_info": {
   "codemirror_mode": {
    "name": "ipython",
    "version": 3
   },
   "file_extension": ".py",
   "mimetype": "text/x-python",
   "name": "python",
   "nbconvert_exporter": "python",
   "pygments_lexer": "ipython3",
   "version": "3.7.10"
  },
  "papermill": {
   "default_parameters": {},
   "duration": 37.378194,
   "end_time": "2021-07-13T06:22:18.842712",
   "environment_variables": {},
   "exception": null,
   "input_path": "__notebook__.ipynb",
   "output_path": "__notebook__.ipynb",
   "parameters": {},
   "start_time": "2021-07-13T06:21:41.464518",
   "version": "2.3.3"
  }
 },
 "nbformat": 4,
 "nbformat_minor": 5
}
