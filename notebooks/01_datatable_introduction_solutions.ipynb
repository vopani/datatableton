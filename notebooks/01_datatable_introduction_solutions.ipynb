{
 "cells": [
  {
   "cell_type": "markdown",
   "id": "b2ad10d0",
   "metadata": {
    "_cell_guid": "b1076dfc-b9ad-4769-8c92-a6c4dae69d19",
    "_uuid": "8f2839f25d086af736a60e9eeb907d3b93b6e0e5",
    "papermill": {
     "duration": 0.018517,
     "end_time": "2021-07-13T06:09:07.656945",
     "exception": false,
     "start_time": "2021-07-13T06:09:07.638428",
     "status": "completed"
    },
    "tags": []
   },
   "source": [
    "<center>\n",
    "    <h1>DatatableTon</h1>\n",
    "    💯 datatable exercises\n",
    "    <br>\n",
    "    <br>\n",
    "    <a href='https://github.com/vopani/datatableton/blob/master/LICENSE'>\n",
    "        <img src='https://img.shields.io/badge/license-Apache%202.0-blue.svg?logo=apache'>\n",
    "    </a>\n",
    "    <a href='https://github.com/vopani/datatableton'>\n",
    "        <img src='https://img.shields.io/github/stars/vopani/datatableton?color=yellowgreen&logo=github'>\n",
    "    </a>\n",
    "    <a href='https://twitter.com/vopani'>\n",
    "        <img src='https://img.shields.io/twitter/follow/vopani'>\n",
    "    </a>\n",
    "</center>"
   ]
  },
  {
   "cell_type": "markdown",
   "id": "544248bb",
   "metadata": {
    "papermill": {
     "duration": 0.017416,
     "end_time": "2021-07-13T06:09:07.692059",
     "exception": false,
     "start_time": "2021-07-13T06:09:07.674643",
     "status": "completed"
    },
    "tags": []
   },
   "source": [
    "<center>\n",
    "    This is Set 1: Datatable Introduction (Exercises 1-10) of <b>DatatableTon</b>: <i>💯 datatable exercises</i>\n",
    "    <br>\n",
    "    You can find all the exercises and solutions on <a href=\"https://github.com/vopani/datatableton#exercises-\">GitHub</a>\n",
    "</center>"
   ]
  },
  {
   "cell_type": "markdown",
   "id": "0a4147d4",
   "metadata": {
    "papermill": {
     "duration": 0.016772,
     "end_time": "2021-07-13T06:09:07.726016",
     "exception": false,
     "start_time": "2021-07-13T06:09:07.709244",
     "status": "completed"
    },
    "tags": []
   },
   "source": [
    "**Exercise 1: Install the latest version of datatable**"
   ]
  },
  {
   "cell_type": "code",
   "execution_count": 1,
   "id": "b5a9e1bf",
   "metadata": {
    "execution": {
     "iopub.execute_input": "2021-07-13T06:09:07.775039Z",
     "iopub.status.busy": "2021-07-13T06:09:07.769871Z",
     "iopub.status.idle": "2021-07-13T06:09:48.691282Z",
     "shell.execute_reply": "2021-07-13T06:09:48.690059Z",
     "shell.execute_reply.started": "2021-07-13T06:07:57.619391Z"
    },
    "papermill": {
     "duration": 40.94823,
     "end_time": "2021-07-13T06:09:48.691481",
     "exception": false,
     "start_time": "2021-07-13T06:09:07.743251",
     "status": "completed"
    },
    "tags": []
   },
   "outputs": [
    {
     "name": "stdout",
     "output_type": "stream",
     "text": [
      "Requirement already satisfied: pip in /opt/conda/lib/python3.7/site-packages (21.1.2)\r\n",
      "Collecting pip\r\n",
      "  Downloading pip-21.1.3-py3-none-any.whl (1.5 MB)\r\n",
      "\u001b[K     |████████████████████████████████| 1.5 MB 877 kB/s \r\n",
      "\u001b[?25hInstalling collected packages: pip\r\n",
      "  Attempting uninstall: pip\r\n",
      "    Found existing installation: pip 21.1.2\r\n",
      "    Uninstalling pip-21.1.2:\r\n",
      "      Successfully uninstalled pip-21.1.2\r\n",
      "Successfully installed pip-21.1.3\r\n",
      "\u001b[33mWARNING: Running pip as root will break packages and permissions. You should install packages reliably by using venv: https://pip.pypa.io/warnings/venv\u001b[0m\r\n",
      "Requirement already satisfied: datatable in /opt/conda/lib/python3.7/site-packages (1.0.0)\r\n",
      "\u001b[33mWARNING: Running pip as the 'root' user can result in broken permissions and conflicting behaviour with the system package manager. It is recommended to use a virtual environment instead: https://pip.pypa.io/warnings/venv\u001b[0m\r\n"
     ]
    }
   ],
   "source": [
    "!python3 -m pip install -U pip\n",
    "!python3 -m pip install -U datatable"
   ]
  },
  {
   "cell_type": "markdown",
   "id": "3b4fc616",
   "metadata": {
    "papermill": {
     "duration": 0.026278,
     "end_time": "2021-07-13T06:09:48.743764",
     "exception": false,
     "start_time": "2021-07-13T06:09:48.717486",
     "status": "completed"
    },
    "tags": []
   },
   "source": [
    "**Exercise 2: Import the datatable package as `dt`**"
   ]
  },
  {
   "cell_type": "code",
   "execution_count": 2,
   "id": "da7fc7a4",
   "metadata": {
    "execution": {
     "iopub.execute_input": "2021-07-13T06:09:48.805410Z",
     "iopub.status.busy": "2021-07-13T06:09:48.803993Z",
     "iopub.status.idle": "2021-07-13T06:09:49.089952Z",
     "shell.execute_reply": "2021-07-13T06:09:49.089224Z",
     "shell.execute_reply.started": "2021-07-07T06:21:05.384879Z"
    },
    "papermill": {
     "duration": 0.320159,
     "end_time": "2021-07-13T06:09:49.090134",
     "exception": false,
     "start_time": "2021-07-13T06:09:48.769975",
     "status": "completed"
    },
    "tags": []
   },
   "outputs": [
    {
     "data": {
      "text/html": [
       "<style type='text/css'>\n",
       ".datatable table.frame { margin-bottom: 0; }\n",
       ".datatable table.frame thead { border-bottom: none; }\n",
       ".datatable table.frame tr.coltypes td {  color: #FFFFFF;  line-height: 6px;  padding: 0 0.5em;}\n",
       ".datatable .bool    { background: #DDDD99; }\n",
       ".datatable .object  { background: #565656; }\n",
       ".datatable .int     { background: #5D9E5D; }\n",
       ".datatable .float   { background: #4040CC; }\n",
       ".datatable .str     { background: #CC4040; }\n",
       ".datatable .time    { background: #40CC40; }\n",
       ".datatable .row_index {  background: var(--jp-border-color3);  border-right: 1px solid var(--jp-border-color0);  color: var(--jp-ui-font-color3);  font-size: 9px;}\n",
       ".datatable .frame tbody td { text-align: left; }\n",
       ".datatable .frame tr.coltypes .row_index {  background: var(--jp-border-color0);}\n",
       ".datatable th:nth-child(2) { padding-left: 12px; }\n",
       ".datatable .hellipsis {  color: var(--jp-cell-editor-border-color);}\n",
       ".datatable .vellipsis {  background: var(--jp-layout-color0);  color: var(--jp-cell-editor-border-color);}\n",
       ".datatable .na {  color: var(--jp-cell-editor-border-color);  font-size: 80%;}\n",
       ".datatable .sp {  opacity: 0.25;}\n",
       ".datatable .footer { font-size: 9px; }\n",
       ".datatable .frame_dimensions {  background: var(--jp-border-color3);  border-top: 1px solid var(--jp-border-color0);  color: var(--jp-ui-font-color3);  display: inline-block;  opacity: 0.6;  padding: 1px 10px 1px 5px;}\n",
       "</style>\n"
      ],
      "text/plain": [
       "<IPython.core.display.HTML object>"
      ]
     },
     "metadata": {},
     "output_type": "display_data"
    }
   ],
   "source": [
    "import datatable as dt"
   ]
  },
  {
   "cell_type": "markdown",
   "id": "4420f360",
   "metadata": {
    "papermill": {
     "duration": 0.025614,
     "end_time": "2021-07-13T06:09:49.143183",
     "exception": false,
     "start_time": "2021-07-13T06:09:49.117569",
     "status": "completed"
    },
    "tags": []
   },
   "source": [
    "**Exercise 3: Display the version of the datatable package**"
   ]
  },
  {
   "cell_type": "code",
   "execution_count": 3,
   "id": "d4f81527",
   "metadata": {
    "execution": {
     "iopub.execute_input": "2021-07-13T06:09:49.201260Z",
     "iopub.status.busy": "2021-07-13T06:09:49.200520Z",
     "iopub.status.idle": "2021-07-13T06:09:49.205375Z",
     "shell.execute_reply": "2021-07-13T06:09:49.204658Z",
     "shell.execute_reply.started": "2021-07-07T06:21:07.676613Z"
    },
    "papermill": {
     "duration": 0.036278,
     "end_time": "2021-07-13T06:09:49.205537",
     "exception": false,
     "start_time": "2021-07-13T06:09:49.169259",
     "status": "completed"
    },
    "tags": []
   },
   "outputs": [
    {
     "data": {
      "text/plain": [
       "'1.0.0'"
      ]
     },
     "execution_count": 3,
     "metadata": {},
     "output_type": "execute_result"
    }
   ],
   "source": [
    "dt.__version__"
   ]
  },
  {
   "cell_type": "markdown",
   "id": "e5f1dea1",
   "metadata": {
    "papermill": {
     "duration": 0.025264,
     "end_time": "2021-07-13T06:09:49.258803",
     "exception": false,
     "start_time": "2021-07-13T06:09:49.233539",
     "status": "completed"
    },
    "tags": []
   },
   "source": [
    "**Exercise 4: Create an empty datatable frame and assign it to `data`**"
   ]
  },
  {
   "cell_type": "code",
   "execution_count": 4,
   "id": "7cb79fb9",
   "metadata": {
    "execution": {
     "iopub.execute_input": "2021-07-13T06:09:49.319057Z",
     "iopub.status.busy": "2021-07-13T06:09:49.317677Z",
     "iopub.status.idle": "2021-07-13T06:09:49.321169Z",
     "shell.execute_reply": "2021-07-13T06:09:49.321811Z",
     "shell.execute_reply.started": "2021-07-07T06:21:20.367765Z"
    },
    "papermill": {
     "duration": 0.037674,
     "end_time": "2021-07-13T06:09:49.322067",
     "exception": false,
     "start_time": "2021-07-13T06:09:49.284393",
     "status": "completed"
    },
    "tags": []
   },
   "outputs": [],
   "source": [
    "data = dt.Frame()"
   ]
  },
  {
   "cell_type": "markdown",
   "id": "99cdfe68",
   "metadata": {
    "papermill": {
     "duration": 0.025229,
     "end_time": "2021-07-13T06:09:49.373634",
     "exception": false,
     "start_time": "2021-07-13T06:09:49.348405",
     "status": "completed"
    },
    "tags": []
   },
   "source": [
    "**Exercise 5: Create a frame with a column `v1` with integer values from 0 to 9, a column `v2` with values ['Y', 'O', 'U', 'C', 'A', 'N', 'D', 'O', 'I', 'T'] and assign it to `data`**"
   ]
  },
  {
   "cell_type": "code",
   "execution_count": 5,
   "id": "46b49352",
   "metadata": {
    "execution": {
     "iopub.execute_input": "2021-07-13T06:09:49.437219Z",
     "iopub.status.busy": "2021-07-13T06:09:49.436346Z",
     "iopub.status.idle": "2021-07-13T06:09:49.440562Z",
     "shell.execute_reply": "2021-07-13T06:09:49.439844Z",
     "shell.execute_reply.started": "2021-07-07T06:21:20.897395Z"
    },
    "papermill": {
     "duration": 0.040175,
     "end_time": "2021-07-13T06:09:49.440776",
     "exception": false,
     "start_time": "2021-07-13T06:09:49.400601",
     "status": "completed"
    },
    "tags": []
   },
   "outputs": [],
   "source": [
    "data = dt.Frame(v1=range(10), v2=['Y', 'O', 'U', 'C', 'A', 'N', 'D', 'O', 'I', 'T'])"
   ]
  },
  {
   "cell_type": "markdown",
   "id": "bf0c36ed",
   "metadata": {
    "papermill": {
     "duration": 0.027107,
     "end_time": "2021-07-13T06:09:49.496083",
     "exception": false,
     "start_time": "2021-07-13T06:09:49.468976",
     "status": "completed"
    },
    "tags": []
   },
   "source": [
    "**Exercise 6: Display `data`**"
   ]
  },
  {
   "cell_type": "code",
   "execution_count": 6,
   "id": "031c439f",
   "metadata": {
    "execution": {
     "iopub.execute_input": "2021-07-13T06:09:49.554082Z",
     "iopub.status.busy": "2021-07-13T06:09:49.553299Z",
     "iopub.status.idle": "2021-07-13T06:09:49.558894Z",
     "shell.execute_reply": "2021-07-13T06:09:49.558046Z",
     "shell.execute_reply.started": "2021-07-07T06:21:22.038249Z"
    },
    "papermill": {
     "duration": 0.037201,
     "end_time": "2021-07-13T06:09:49.559093",
     "exception": false,
     "start_time": "2021-07-13T06:09:49.521892",
     "status": "completed"
    },
    "tags": []
   },
   "outputs": [
    {
     "data": {
      "text/html": [
       "<div class='datatable'>\n",
       "  <table class='frame'>\n",
       "  <thead>\n",
       "    <tr class='colnames'><td class='row_index'></td><th>v1</th><th>v2</th></tr>\n",
       "    <tr class='coltypes'><td class='row_index'></td><td class='int' title='int32'>&#x25AA;&#x25AA;&#x25AA;&#x25AA;</td><td class='str' title='str32'>&#x25AA;&#x25AA;&#x25AA;&#x25AA;</td></tr>\n",
       "  </thead>\n",
       "  <tbody>\n",
       "    <tr><td class='row_index'>0</td><td>0</td><td>Y</td></tr>\n",
       "    <tr><td class='row_index'>1</td><td>1</td><td>O</td></tr>\n",
       "    <tr><td class='row_index'>2</td><td>2</td><td>U</td></tr>\n",
       "    <tr><td class='row_index'>3</td><td>3</td><td>C</td></tr>\n",
       "    <tr><td class='row_index'>4</td><td>4</td><td>A</td></tr>\n",
       "    <tr><td class='row_index'>5</td><td>5</td><td>N</td></tr>\n",
       "    <tr><td class='row_index'>6</td><td>6</td><td>D</td></tr>\n",
       "    <tr><td class='row_index'>7</td><td>7</td><td>O</td></tr>\n",
       "    <tr><td class='row_index'>8</td><td>8</td><td>I</td></tr>\n",
       "    <tr><td class='row_index'>9</td><td>9</td><td>T</td></tr>\n",
       "  </tbody>\n",
       "  </table>\n",
       "  <div class='footer'>\n",
       "    <div class='frame_dimensions'>10 rows &times; 2 columns</div>\n",
       "  </div>\n",
       "</div>\n"
      ],
      "text/plain": [
       "<Frame#7f3ad450b420 10x2>"
      ]
     },
     "execution_count": 6,
     "metadata": {},
     "output_type": "execute_result"
    }
   ],
   "source": [
    "data"
   ]
  },
  {
   "cell_type": "markdown",
   "id": "9989d1c9",
   "metadata": {
    "papermill": {
     "duration": 0.027138,
     "end_time": "2021-07-13T06:09:49.613404",
     "exception": false,
     "start_time": "2021-07-13T06:09:49.586266",
     "status": "completed"
    },
    "tags": []
   },
   "source": [
    "**Exercise 7: Display the first 5 rows and the last 3 rows of `data`**"
   ]
  },
  {
   "cell_type": "code",
   "execution_count": 7,
   "id": "03e4a972",
   "metadata": {
    "execution": {
     "iopub.execute_input": "2021-07-13T06:09:49.675405Z",
     "iopub.status.busy": "2021-07-13T06:09:49.674647Z",
     "iopub.status.idle": "2021-07-13T06:09:49.679200Z",
     "shell.execute_reply": "2021-07-13T06:09:49.678608Z",
     "shell.execute_reply.started": "2021-07-06T07:03:04.153601Z"
    },
    "papermill": {
     "duration": 0.037155,
     "end_time": "2021-07-13T06:09:49.679371",
     "exception": false,
     "start_time": "2021-07-13T06:09:49.642216",
     "status": "completed"
    },
    "tags": []
   },
   "outputs": [
    {
     "data": {
      "text/html": [
       "<div class='datatable'>\n",
       "  <table class='frame'>\n",
       "  <thead>\n",
       "    <tr class='colnames'><td class='row_index'></td><th>v1</th><th>v2</th></tr>\n",
       "    <tr class='coltypes'><td class='row_index'></td><td class='int' title='int32'>&#x25AA;&#x25AA;&#x25AA;&#x25AA;</td><td class='str' title='str32'>&#x25AA;&#x25AA;&#x25AA;&#x25AA;</td></tr>\n",
       "  </thead>\n",
       "  <tbody>\n",
       "    <tr><td class='row_index'>0</td><td>0</td><td>Y</td></tr>\n",
       "    <tr><td class='row_index'>1</td><td>1</td><td>O</td></tr>\n",
       "    <tr><td class='row_index'>2</td><td>2</td><td>U</td></tr>\n",
       "    <tr><td class='row_index'>3</td><td>3</td><td>C</td></tr>\n",
       "    <tr><td class='row_index'>4</td><td>4</td><td>A</td></tr>\n",
       "  </tbody>\n",
       "  </table>\n",
       "  <div class='footer'>\n",
       "    <div class='frame_dimensions'>5 rows &times; 2 columns</div>\n",
       "  </div>\n",
       "</div>\n"
      ],
      "text/plain": [
       "<Frame#7f3ad450b3c0 5x2>"
      ]
     },
     "execution_count": 7,
     "metadata": {},
     "output_type": "execute_result"
    }
   ],
   "source": [
    "data.head(5)"
   ]
  },
  {
   "cell_type": "code",
   "execution_count": 8,
   "id": "0fbe419c",
   "metadata": {
    "execution": {
     "iopub.execute_input": "2021-07-13T06:09:49.742384Z",
     "iopub.status.busy": "2021-07-13T06:09:49.741259Z",
     "iopub.status.idle": "2021-07-13T06:09:49.745300Z",
     "shell.execute_reply": "2021-07-13T06:09:49.745798Z",
     "shell.execute_reply.started": "2021-07-06T07:03:05.022659Z"
    },
    "papermill": {
     "duration": 0.038669,
     "end_time": "2021-07-13T06:09:49.746009",
     "exception": false,
     "start_time": "2021-07-13T06:09:49.707340",
     "status": "completed"
    },
    "tags": []
   },
   "outputs": [
    {
     "data": {
      "text/html": [
       "<div class='datatable'>\n",
       "  <table class='frame'>\n",
       "  <thead>\n",
       "    <tr class='colnames'><td class='row_index'></td><th>v1</th><th>v2</th></tr>\n",
       "    <tr class='coltypes'><td class='row_index'></td><td class='int' title='int32'>&#x25AA;&#x25AA;&#x25AA;&#x25AA;</td><td class='str' title='str32'>&#x25AA;&#x25AA;&#x25AA;&#x25AA;</td></tr>\n",
       "  </thead>\n",
       "  <tbody>\n",
       "    <tr><td class='row_index'>0</td><td>7</td><td>O</td></tr>\n",
       "    <tr><td class='row_index'>1</td><td>8</td><td>I</td></tr>\n",
       "    <tr><td class='row_index'>2</td><td>9</td><td>T</td></tr>\n",
       "  </tbody>\n",
       "  </table>\n",
       "  <div class='footer'>\n",
       "    <div class='frame_dimensions'>3 rows &times; 2 columns</div>\n",
       "  </div>\n",
       "</div>\n"
      ],
      "text/plain": [
       "<Frame#7f3ad450b480 3x2>"
      ]
     },
     "execution_count": 8,
     "metadata": {},
     "output_type": "execute_result"
    }
   ],
   "source": [
    "data.tail(3)"
   ]
  },
  {
   "cell_type": "markdown",
   "id": "0220ff68",
   "metadata": {
    "papermill": {
     "duration": 0.026835,
     "end_time": "2021-07-13T06:09:49.798941",
     "exception": false,
     "start_time": "2021-07-13T06:09:49.772106",
     "status": "completed"
    },
    "tags": []
   },
   "source": [
    "**Exercise 8: Display the number of rows and number of columns in `data`**"
   ]
  },
  {
   "cell_type": "code",
   "execution_count": 9,
   "id": "34266556",
   "metadata": {
    "execution": {
     "iopub.execute_input": "2021-07-13T06:09:49.859162Z",
     "iopub.status.busy": "2021-07-13T06:09:49.858092Z",
     "iopub.status.idle": "2021-07-13T06:09:49.863429Z",
     "shell.execute_reply": "2021-07-13T06:09:49.862696Z",
     "shell.execute_reply.started": "2021-07-06T07:03:07.529202Z"
    },
    "papermill": {
     "duration": 0.038523,
     "end_time": "2021-07-13T06:09:49.863594",
     "exception": false,
     "start_time": "2021-07-13T06:09:49.825071",
     "status": "completed"
    },
    "tags": []
   },
   "outputs": [
    {
     "data": {
      "text/plain": [
       "10"
      ]
     },
     "execution_count": 9,
     "metadata": {},
     "output_type": "execute_result"
    }
   ],
   "source": [
    "data.nrows"
   ]
  },
  {
   "cell_type": "code",
   "execution_count": 10,
   "id": "939fdf17",
   "metadata": {
    "execution": {
     "iopub.execute_input": "2021-07-13T06:09:49.924064Z",
     "iopub.status.busy": "2021-07-13T06:09:49.923331Z",
     "iopub.status.idle": "2021-07-13T06:09:49.929958Z",
     "shell.execute_reply": "2021-07-13T06:09:49.929198Z",
     "shell.execute_reply.started": "2021-07-06T07:03:08.103302Z"
    },
    "papermill": {
     "duration": 0.040069,
     "end_time": "2021-07-13T06:09:49.930130",
     "exception": false,
     "start_time": "2021-07-13T06:09:49.890061",
     "status": "completed"
    },
    "tags": []
   },
   "outputs": [
    {
     "data": {
      "text/plain": [
       "2"
      ]
     },
     "execution_count": 10,
     "metadata": {},
     "output_type": "execute_result"
    }
   ],
   "source": [
    "data.ncols"
   ]
  },
  {
   "cell_type": "markdown",
   "id": "fc7d5140",
   "metadata": {
    "papermill": {
     "duration": 0.027734,
     "end_time": "2021-07-13T06:09:49.987098",
     "exception": false,
     "start_time": "2021-07-13T06:09:49.959364",
     "status": "completed"
    },
    "tags": []
   },
   "source": [
    "**Exercise 9: Display the shape of `data`**"
   ]
  },
  {
   "cell_type": "code",
   "execution_count": 11,
   "id": "1a046a10",
   "metadata": {
    "execution": {
     "iopub.execute_input": "2021-07-13T06:09:50.045147Z",
     "iopub.status.busy": "2021-07-13T06:09:50.044392Z",
     "iopub.status.idle": "2021-07-13T06:09:50.050755Z",
     "shell.execute_reply": "2021-07-13T06:09:50.051369Z",
     "shell.execute_reply.started": "2021-07-06T07:03:09.755932Z"
    },
    "papermill": {
     "duration": 0.037782,
     "end_time": "2021-07-13T06:09:50.051571",
     "exception": false,
     "start_time": "2021-07-13T06:09:50.013789",
     "status": "completed"
    },
    "tags": []
   },
   "outputs": [
    {
     "data": {
      "text/plain": [
       "(10, 2)"
      ]
     },
     "execution_count": 11,
     "metadata": {},
     "output_type": "execute_result"
    }
   ],
   "source": [
    "data.shape"
   ]
  },
  {
   "cell_type": "markdown",
   "id": "088222e8",
   "metadata": {
    "papermill": {
     "duration": 0.027822,
     "end_time": "2021-07-13T06:09:50.107103",
     "exception": false,
     "start_time": "2021-07-13T06:09:50.079281",
     "status": "completed"
    },
    "tags": []
   },
   "source": [
    "**Exercise 10: Display the column names of `data`**"
   ]
  },
  {
   "cell_type": "code",
   "execution_count": 12,
   "id": "9364a9d1",
   "metadata": {
    "execution": {
     "iopub.execute_input": "2021-07-13T06:09:50.167021Z",
     "iopub.status.busy": "2021-07-13T06:09:50.166223Z",
     "iopub.status.idle": "2021-07-13T06:09:50.172766Z",
     "shell.execute_reply": "2021-07-13T06:09:50.172155Z",
     "shell.execute_reply.started": "2021-07-06T07:03:15.221534Z"
    },
    "papermill": {
     "duration": 0.03704,
     "end_time": "2021-07-13T06:09:50.172957",
     "exception": false,
     "start_time": "2021-07-13T06:09:50.135917",
     "status": "completed"
    },
    "tags": []
   },
   "outputs": [
    {
     "data": {
      "text/plain": [
       "('v1', 'v2')"
      ]
     },
     "execution_count": 12,
     "metadata": {},
     "output_type": "execute_result"
    }
   ],
   "source": [
    "data.names"
   ]
  },
  {
   "cell_type": "markdown",
   "id": "f4a31e8b",
   "metadata": {
    "papermill": {
     "duration": 0.027615,
     "end_time": "2021-07-13T06:09:50.228032",
     "exception": false,
     "start_time": "2021-07-13T06:09:50.200417",
     "status": "completed"
    },
    "tags": []
   },
   "source": [
    "✅ This completes Set 1: Datatable Introduction (Exercises 1-10) of **DatatableTon**: *💯 datatable exercises*\n",
    "\n",
    "#### Set 02 • Files and Formats • Beginner • Exercises 11-20\n",
    "\n",
    "| Style | Colab | Kaggle | Binder | GitHub |\n",
    "| ----- | ----- | ------ | ------ | ------ |\n",
    "| Exercises | [![Open in Colab](https://img.shields.io/static/v1?label=&message=Open%20in%20Colab&labelColor=grey&color=blue&logo=google-colab)](https://colab.research.google.com/github/vopani/datatableton/blob/main/notebooks/02_files_and_formats_exercises.ipynb) | [![Open in Kaggle](https://img.shields.io/static/v1?label=&message=Open%20in%20Kaggle&labelColor=grey&color=blue&logo=kaggle)](https://www.kaggle.com/rohanrao/datatableton-files-and-formats-exercises) | [![Open in Binder](https://img.shields.io/static/v1?label=&message=Open%20in%20Binder&labelColor=grey&color=blue&logo=data:image/png;base64,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)](https://mybinder.org/v2/gh/vopani/datatableton/main?filepath=notebooks%2F02_files_and_formats_exercises.ipynb) | [![Open in GitHub](https://img.shields.io/static/v1?label=&message=Open%20in%20GitHub&labelColor=grey&color=blue&logo=github)](https://github.com/vopani/datatableton/blob/main/notebooks/02_files_and_formats_exercises.ipynb) |\n",
    "| Solutions | [![Open in Colab](https://img.shields.io/static/v1?label=&message=Open%20in%20Colab&labelColor=grey&color=blue&logo=google-colab)](https://colab.research.google.com/github/vopani/datatableton/blob/main/notebooks/02_files_and_formats_solutions.ipynb) | [![Open in Kaggle](https://img.shields.io/static/v1?label=&message=Open%20in%20Kaggle&labelColor=grey&color=blue&logo=kaggle)](https://www.kaggle.com/rohanrao/datatableton-files-and-formats-solutions) | [![Open in Binder](https://img.shields.io/static/v1?label=&message=Open%20in%20Binder&labelColor=grey&color=blue&logo=data:image/png;base64,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)](https://mybinder.org/v2/gh/vopani/datatableton/main?filepath=notebooks%2F02_files_and_formats_solutions.ipynb) | [![Open in GitHub](https://img.shields.io/static/v1?label=&message=Open%20in%20GitHub&labelColor=grey&color=blue&logo=github)](https://github.com/vopani/datatableton/blob/main/notebooks/02_files_and_formats_solutions.ipynb) |\n",
    "\n",
    "You can find all the exercises and solutions on [GitHub](https://github.com/vopani/datatableton#exercises-)"
   ]
  }
 ],
 "metadata": {
  "kernelspec": {
   "display_name": "Python 3",
   "language": "python",
   "name": "python3"
  },
  "language_info": {
   "codemirror_mode": {
    "name": "ipython",
    "version": 3
   },
   "file_extension": ".py",
   "mimetype": "text/x-python",
   "name": "python",
   "nbconvert_exporter": "python",
   "pygments_lexer": "ipython3",
   "version": "3.7.10"
  },
  "papermill": {
   "default_parameters": {},
   "duration": 56.086158,
   "end_time": "2021-07-13T06:09:52.129164",
   "environment_variables": {},
   "exception": null,
   "input_path": "__notebook__.ipynb",
   "output_path": "__notebook__.ipynb",
   "parameters": {},
   "start_time": "2021-07-13T06:08:56.043006",
   "version": "2.3.3"
  }
 },
 "nbformat": 4,
 "nbformat_minor": 5
}
