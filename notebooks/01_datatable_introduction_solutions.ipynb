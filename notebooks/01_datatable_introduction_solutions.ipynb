{
 "cells": [
  {
   "cell_type": "markdown",
   "id": "technological-testimony",
   "metadata": {
    "_cell_guid": "b1076dfc-b9ad-4769-8c92-a6c4dae69d19",
    "_uuid": "8f2839f25d086af736a60e9eeb907d3b93b6e0e5",
    "papermill": {
     "duration": 0.017755,
     "end_time": "2021-07-07T06:24:57.431025",
     "exception": false,
     "start_time": "2021-07-07T06:24:57.413270",
     "status": "completed"
    },
    "tags": []
   },
   "source": [
    "<center>\n",
    "    <h1>DatatableTon</h1>\n",
    "    💯 datatable exercises\n",
    "    <br>\n",
    "    <br>\n",
    "    <a href='https://github.com/vopani/datatableton/blob/master/LICENSE'>\n",
    "        <img src='https://img.shields.io/badge/license-Apache%202.0-blue.svg?logo=apache'>\n",
    "    </a>\n",
    "    <a href='https://github.com/vopani/datatableton'>\n",
    "        <img src='https://img.shields.io/github/stars/vopani/datatableton?color=yellowgreen&logo=github'>\n",
    "    </a>\n",
    "    <a href='https://twitter.com/vopani'>\n",
    "        <img src='https://img.shields.io/twitter/follow/vopani'>\n",
    "    </a>\n",
    "</center>"
   ]
  },
  {
   "cell_type": "markdown",
   "id": "absent-zealand",
   "metadata": {
    "papermill": {
     "duration": 0.016188,
     "end_time": "2021-07-07T06:24:57.463871",
     "exception": false,
     "start_time": "2021-07-07T06:24:57.447683",
     "status": "completed"
    },
    "tags": []
   },
   "source": [
    "<center>\n",
    "    This is Set 1: Datatable Introduction (Exercises 1-10) of <b>DatatableTon</b>: <i>💯 datatable exercises</i>\n",
    "    <br>\n",
    "    You can find all the exercises and solutions on <a href=\"https://github.com/vopani/datatableton#exercises-\">GitHub</a>\n",
    "</center>"
   ]
  },
  {
   "cell_type": "markdown",
   "id": "express-reaction",
   "metadata": {
    "papermill": {
     "duration": 0.016395,
     "end_time": "2021-07-07T06:24:57.496773",
     "exception": false,
     "start_time": "2021-07-07T06:24:57.480378",
     "status": "completed"
    },
    "tags": []
   },
   "source": [
    "**Exercise 1: Install the latest version of datatable**"
   ]
  },
  {
   "cell_type": "code",
   "execution_count": 1,
   "id": "transsexual-forty",
   "metadata": {
    "execution": {
     "iopub.execute_input": "2021-07-07T06:24:57.533767Z",
     "iopub.status.busy": "2021-07-07T06:24:57.532632Z",
     "iopub.status.idle": "2021-07-07T06:25:34.620299Z",
     "shell.execute_reply": "2021-07-07T06:25:34.619478Z",
     "shell.execute_reply.started": "2021-07-07T06:20:28.965644Z"
    },
    "papermill": {
     "duration": 37.107317,
     "end_time": "2021-07-07T06:25:34.620455",
     "exception": false,
     "start_time": "2021-07-07T06:24:57.513138",
     "status": "completed"
    },
    "tags": []
   },
   "outputs": [
    {
     "name": "stdout",
     "output_type": "stream",
     "text": [
      "Requirement already satisfied: pip in /opt/conda/lib/python3.7/site-packages (21.0.1)\r\n",
      "Collecting pip\r\n",
      "  Downloading pip-21.1.3-py3-none-any.whl (1.5 MB)\r\n",
      "\u001b[K     |████████████████████████████████| 1.5 MB 1.1 MB/s \r\n",
      "\u001b[?25hInstalling collected packages: pip\r\n",
      "  Attempting uninstall: pip\r\n",
      "    Found existing installation: pip 21.0.1\r\n",
      "    Uninstalling pip-21.0.1:\r\n",
      "      Successfully uninstalled pip-21.0.1\r\n",
      "Successfully installed pip-21.1.3\r\n",
      "Requirement already satisfied: datatable in /opt/conda/lib/python3.7/site-packages (0.11.1)\r\n",
      "Collecting datatable\r\n",
      "  Downloading datatable-1.0.0-cp37-cp37m-manylinux_2_12_x86_64.whl (96.9 MB)\r\n",
      "\u001b[K     |████████████████████████████████| 96.9 MB 42.2 MB/s \r\n",
      "\u001b[?25hInstalling collected packages: datatable\r\n",
      "  Attempting uninstall: datatable\r\n",
      "    Found existing installation: datatable 0.11.1\r\n",
      "    Uninstalling datatable-0.11.1:\r\n",
      "      Successfully uninstalled datatable-0.11.1\r\n",
      "Successfully installed datatable-1.0.0\r\n",
      "\u001b[33mWARNING: Running pip as the 'root' user can result in broken permissions and conflicting behaviour with the system package manager. It is recommended to use a virtual environment instead: https://pip.pypa.io/warnings/venv\u001b[0m\r\n"
     ]
    }
   ],
   "source": [
    "!python3 -m pip install pip --upgrade\n",
    "!python3 -m pip install datatable --upgrade"
   ]
  },
  {
   "cell_type": "markdown",
   "id": "oriental-portrait",
   "metadata": {
    "papermill": {
     "duration": 0.063761,
     "end_time": "2021-07-07T06:25:34.748880",
     "exception": false,
     "start_time": "2021-07-07T06:25:34.685119",
     "status": "completed"
    },
    "tags": []
   },
   "source": [
    "**Exercise 2: Import the datatable package as `dt`**"
   ]
  },
  {
   "cell_type": "code",
   "execution_count": 2,
   "id": "sophisticated-convenience",
   "metadata": {
    "execution": {
     "iopub.execute_input": "2021-07-07T06:25:34.883233Z",
     "iopub.status.busy": "2021-07-07T06:25:34.882313Z",
     "iopub.status.idle": "2021-07-07T06:25:34.910773Z",
     "shell.execute_reply": "2021-07-07T06:25:34.910123Z",
     "shell.execute_reply.started": "2021-07-07T06:21:05.384879Z"
    },
    "papermill": {
     "duration": 0.097398,
     "end_time": "2021-07-07T06:25:34.910913",
     "exception": false,
     "start_time": "2021-07-07T06:25:34.813515",
     "status": "completed"
    },
    "tags": []
   },
   "outputs": [
    {
     "data": {
      "text/html": [
       "<style type='text/css'>\n",
       ".datatable table.frame { margin-bottom: 0; }\n",
       ".datatable table.frame thead { border-bottom: none; }\n",
       ".datatable table.frame tr.coltypes td {  color: #FFFFFF;  line-height: 6px;  padding: 0 0.5em;}\n",
       ".datatable .bool    { background: #DDDD99; }\n",
       ".datatable .object  { background: #565656; }\n",
       ".datatable .int     { background: #5D9E5D; }\n",
       ".datatable .float   { background: #4040CC; }\n",
       ".datatable .str     { background: #CC4040; }\n",
       ".datatable .time    { background: #40CC40; }\n",
       ".datatable .row_index {  background: var(--jp-border-color3);  border-right: 1px solid var(--jp-border-color0);  color: var(--jp-ui-font-color3);  font-size: 9px;}\n",
       ".datatable .frame tbody td { text-align: left; }\n",
       ".datatable .frame tr.coltypes .row_index {  background: var(--jp-border-color0);}\n",
       ".datatable th:nth-child(2) { padding-left: 12px; }\n",
       ".datatable .hellipsis {  color: var(--jp-cell-editor-border-color);}\n",
       ".datatable .vellipsis {  background: var(--jp-layout-color0);  color: var(--jp-cell-editor-border-color);}\n",
       ".datatable .na {  color: var(--jp-cell-editor-border-color);  font-size: 80%;}\n",
       ".datatable .sp {  opacity: 0.25;}\n",
       ".datatable .footer { font-size: 9px; }\n",
       ".datatable .frame_dimensions {  background: var(--jp-border-color3);  border-top: 1px solid var(--jp-border-color0);  color: var(--jp-ui-font-color3);  display: inline-block;  opacity: 0.6;  padding: 1px 10px 1px 5px;}\n",
       "</style>\n"
      ],
      "text/plain": [
       "<IPython.core.display.HTML object>"
      ]
     },
     "metadata": {},
     "output_type": "display_data"
    }
   ],
   "source": [
    "import datatable as dt"
   ]
  },
  {
   "cell_type": "markdown",
   "id": "respective-shelter",
   "metadata": {
    "papermill": {
     "duration": 0.064177,
     "end_time": "2021-07-07T06:25:35.040536",
     "exception": false,
     "start_time": "2021-07-07T06:25:34.976359",
     "status": "completed"
    },
    "tags": []
   },
   "source": [
    "**Exercise 3: Display the version of the datatable package**"
   ]
  },
  {
   "cell_type": "code",
   "execution_count": 3,
   "id": "manual-stability",
   "metadata": {
    "execution": {
     "iopub.execute_input": "2021-07-07T06:25:35.175729Z",
     "iopub.status.busy": "2021-07-07T06:25:35.174797Z",
     "iopub.status.idle": "2021-07-07T06:25:35.178574Z",
     "shell.execute_reply": "2021-07-07T06:25:35.179024Z",
     "shell.execute_reply.started": "2021-07-07T06:21:07.676613Z"
    },
    "papermill": {
     "duration": 0.07377,
     "end_time": "2021-07-07T06:25:35.179191",
     "exception": false,
     "start_time": "2021-07-07T06:25:35.105421",
     "status": "completed"
    },
    "tags": []
   },
   "outputs": [
    {
     "data": {
      "text/plain": [
       "'1.0.0'"
      ]
     },
     "execution_count": 3,
     "metadata": {},
     "output_type": "execute_result"
    }
   ],
   "source": [
    "dt.__version__"
   ]
  },
  {
   "cell_type": "markdown",
   "id": "retained-session",
   "metadata": {
    "papermill": {
     "duration": 0.064038,
     "end_time": "2021-07-07T06:25:35.307649",
     "exception": false,
     "start_time": "2021-07-07T06:25:35.243611",
     "status": "completed"
    },
    "tags": []
   },
   "source": [
    "**Exercise 4: Create an empty datatable frame and assign it to `data`**"
   ]
  },
  {
   "cell_type": "code",
   "execution_count": 4,
   "id": "suffering-going",
   "metadata": {
    "execution": {
     "iopub.execute_input": "2021-07-07T06:25:35.440705Z",
     "iopub.status.busy": "2021-07-07T06:25:35.440052Z",
     "iopub.status.idle": "2021-07-07T06:25:35.443182Z",
     "shell.execute_reply": "2021-07-07T06:25:35.442553Z",
     "shell.execute_reply.started": "2021-07-07T06:21:20.367765Z"
    },
    "papermill": {
     "duration": 0.071423,
     "end_time": "2021-07-07T06:25:35.443341",
     "exception": false,
     "start_time": "2021-07-07T06:25:35.371918",
     "status": "completed"
    },
    "tags": []
   },
   "outputs": [],
   "source": [
    "data = dt.Frame()"
   ]
  },
  {
   "cell_type": "markdown",
   "id": "unlike-carter",
   "metadata": {
    "papermill": {
     "duration": 0.064253,
     "end_time": "2021-07-07T06:25:35.572297",
     "exception": false,
     "start_time": "2021-07-07T06:25:35.508044",
     "status": "completed"
    },
    "tags": []
   },
   "source": [
    "**Exercise 5: Create a frame with a column `v1` with integer values from 0 to 9, a column `v2` with values ['Y', 'O', 'U', 'C', 'A', 'N', 'D', 'O', 'I', 'T'] and assign it to `data`**"
   ]
  },
  {
   "cell_type": "code",
   "execution_count": 5,
   "id": "limiting-paragraph",
   "metadata": {
    "execution": {
     "iopub.execute_input": "2021-07-07T06:25:35.707198Z",
     "iopub.status.busy": "2021-07-07T06:25:35.706470Z",
     "iopub.status.idle": "2021-07-07T06:25:35.709757Z",
     "shell.execute_reply": "2021-07-07T06:25:35.709132Z",
     "shell.execute_reply.started": "2021-07-07T06:21:20.897395Z"
    },
    "papermill": {
     "duration": 0.073113,
     "end_time": "2021-07-07T06:25:35.709892",
     "exception": false,
     "start_time": "2021-07-07T06:25:35.636779",
     "status": "completed"
    },
    "tags": []
   },
   "outputs": [],
   "source": [
    "data = dt.Frame(v1=range(10), v2=['Y', 'O', 'U', 'C', 'A', 'N', 'D', 'O', 'I', 'T'])"
   ]
  },
  {
   "cell_type": "markdown",
   "id": "stock-sucking",
   "metadata": {
    "papermill": {
     "duration": 0.064024,
     "end_time": "2021-07-07T06:25:35.837538",
     "exception": false,
     "start_time": "2021-07-07T06:25:35.773514",
     "status": "completed"
    },
    "tags": []
   },
   "source": [
    "**Exercise 6: Display `data`**"
   ]
  },
  {
   "cell_type": "code",
   "execution_count": 6,
   "id": "absent-alexander",
   "metadata": {
    "execution": {
     "iopub.execute_input": "2021-07-07T06:25:35.975710Z",
     "iopub.status.busy": "2021-07-07T06:25:35.974769Z",
     "iopub.status.idle": "2021-07-07T06:25:35.979309Z",
     "shell.execute_reply": "2021-07-07T06:25:35.978823Z",
     "shell.execute_reply.started": "2021-07-07T06:21:22.038249Z"
    },
    "papermill": {
     "duration": 0.078028,
     "end_time": "2021-07-07T06:25:35.979445",
     "exception": false,
     "start_time": "2021-07-07T06:25:35.901417",
     "status": "completed"
    },
    "tags": []
   },
   "outputs": [
    {
     "data": {
      "text/html": [
       "<div class='datatable'>\n",
       "  <table class='frame'>\n",
       "  <thead>\n",
       "    <tr class='colnames'><td class='row_index'></td><th>v1</th><th>v2</th></tr>\n",
       "    <tr class='coltypes'><td class='row_index'></td><td class='int' title='int32'>&#x25AA;&#x25AA;&#x25AA;&#x25AA;</td><td class='str' title='str32'>&#x25AA;&#x25AA;&#x25AA;&#x25AA;</td></tr>\n",
       "  </thead>\n",
       "  <tbody>\n",
       "    <tr><td class='row_index'>0</td><td>0</td><td>Y</td></tr>\n",
       "    <tr><td class='row_index'>1</td><td>1</td><td>O</td></tr>\n",
       "    <tr><td class='row_index'>2</td><td>2</td><td>U</td></tr>\n",
       "    <tr><td class='row_index'>3</td><td>3</td><td>C</td></tr>\n",
       "    <tr><td class='row_index'>4</td><td>4</td><td>A</td></tr>\n",
       "    <tr><td class='row_index'>5</td><td>5</td><td>N</td></tr>\n",
       "    <tr><td class='row_index'>6</td><td>6</td><td>D</td></tr>\n",
       "    <tr><td class='row_index'>7</td><td>7</td><td>O</td></tr>\n",
       "    <tr><td class='row_index'>8</td><td>8</td><td>I</td></tr>\n",
       "    <tr><td class='row_index'>9</td><td>9</td><td>T</td></tr>\n",
       "  </tbody>\n",
       "  </table>\n",
       "  <div class='footer'>\n",
       "    <div class='frame_dimensions'>10 rows &times; 2 columns</div>\n",
       "  </div>\n",
       "</div>\n"
      ],
      "text/plain": [
       "<Frame#7fd3ed7b9450 10x2>"
      ]
     },
     "execution_count": 6,
     "metadata": {},
     "output_type": "execute_result"
    }
   ],
   "source": [
    "data"
   ]
  },
  {
   "cell_type": "markdown",
   "id": "innovative-vocabulary",
   "metadata": {
    "papermill": {
     "duration": 0.064853,
     "end_time": "2021-07-07T06:25:36.110274",
     "exception": false,
     "start_time": "2021-07-07T06:25:36.045421",
     "status": "completed"
    },
    "tags": []
   },
   "source": [
    "**Exercise 7: Display the first 5 rows and the last 3 rows of `data`**"
   ]
  },
  {
   "cell_type": "code",
   "execution_count": 7,
   "id": "computational-trainer",
   "metadata": {
    "execution": {
     "iopub.execute_input": "2021-07-07T06:25:36.246085Z",
     "iopub.status.busy": "2021-07-07T06:25:36.245347Z",
     "iopub.status.idle": "2021-07-07T06:25:36.248677Z",
     "shell.execute_reply": "2021-07-07T06:25:36.248059Z",
     "shell.execute_reply.started": "2021-07-06T07:03:04.153601Z"
    },
    "papermill": {
     "duration": 0.072859,
     "end_time": "2021-07-07T06:25:36.248820",
     "exception": false,
     "start_time": "2021-07-07T06:25:36.175961",
     "status": "completed"
    },
    "tags": []
   },
   "outputs": [
    {
     "data": {
      "text/html": [
       "<div class='datatable'>\n",
       "  <table class='frame'>\n",
       "  <thead>\n",
       "    <tr class='colnames'><td class='row_index'></td><th>v1</th><th>v2</th></tr>\n",
       "    <tr class='coltypes'><td class='row_index'></td><td class='int' title='int32'>&#x25AA;&#x25AA;&#x25AA;&#x25AA;</td><td class='str' title='str32'>&#x25AA;&#x25AA;&#x25AA;&#x25AA;</td></tr>\n",
       "  </thead>\n",
       "  <tbody>\n",
       "    <tr><td class='row_index'>0</td><td>0</td><td>Y</td></tr>\n",
       "    <tr><td class='row_index'>1</td><td>1</td><td>O</td></tr>\n",
       "    <tr><td class='row_index'>2</td><td>2</td><td>U</td></tr>\n",
       "    <tr><td class='row_index'>3</td><td>3</td><td>C</td></tr>\n",
       "    <tr><td class='row_index'>4</td><td>4</td><td>A</td></tr>\n",
       "  </tbody>\n",
       "  </table>\n",
       "  <div class='footer'>\n",
       "    <div class='frame_dimensions'>5 rows &times; 2 columns</div>\n",
       "  </div>\n",
       "</div>\n"
      ],
      "text/plain": [
       "<Frame#7fd3ed7b95d0 5x2>"
      ]
     },
     "execution_count": 7,
     "metadata": {},
     "output_type": "execute_result"
    }
   ],
   "source": [
    "data.head(5)"
   ]
  },
  {
   "cell_type": "code",
   "execution_count": 8,
   "id": "wired-liquid",
   "metadata": {
    "execution": {
     "iopub.execute_input": "2021-07-07T06:25:36.383645Z",
     "iopub.status.busy": "2021-07-07T06:25:36.382974Z",
     "iopub.status.idle": "2021-07-07T06:25:36.386545Z",
     "shell.execute_reply": "2021-07-07T06:25:36.385946Z",
     "shell.execute_reply.started": "2021-07-06T07:03:05.022659Z"
    },
    "papermill": {
     "duration": 0.072419,
     "end_time": "2021-07-07T06:25:36.386694",
     "exception": false,
     "start_time": "2021-07-07T06:25:36.314275",
     "status": "completed"
    },
    "tags": []
   },
   "outputs": [
    {
     "data": {
      "text/html": [
       "<div class='datatable'>\n",
       "  <table class='frame'>\n",
       "  <thead>\n",
       "    <tr class='colnames'><td class='row_index'></td><th>v1</th><th>v2</th></tr>\n",
       "    <tr class='coltypes'><td class='row_index'></td><td class='int' title='int32'>&#x25AA;&#x25AA;&#x25AA;&#x25AA;</td><td class='str' title='str32'>&#x25AA;&#x25AA;&#x25AA;&#x25AA;</td></tr>\n",
       "  </thead>\n",
       "  <tbody>\n",
       "    <tr><td class='row_index'>0</td><td>7</td><td>O</td></tr>\n",
       "    <tr><td class='row_index'>1</td><td>8</td><td>I</td></tr>\n",
       "    <tr><td class='row_index'>2</td><td>9</td><td>T</td></tr>\n",
       "  </tbody>\n",
       "  </table>\n",
       "  <div class='footer'>\n",
       "    <div class='frame_dimensions'>3 rows &times; 2 columns</div>\n",
       "  </div>\n",
       "</div>\n"
      ],
      "text/plain": [
       "<Frame#7fd3ed7b9480 3x2>"
      ]
     },
     "execution_count": 8,
     "metadata": {},
     "output_type": "execute_result"
    }
   ],
   "source": [
    "data.tail(3)"
   ]
  },
  {
   "cell_type": "markdown",
   "id": "colored-feelings",
   "metadata": {
    "papermill": {
     "duration": 0.063713,
     "end_time": "2021-07-07T06:25:36.515148",
     "exception": false,
     "start_time": "2021-07-07T06:25:36.451435",
     "status": "completed"
    },
    "tags": []
   },
   "source": [
    "**Exercise 8: Display the number of rows and number of columns in `data`**"
   ]
  },
  {
   "cell_type": "code",
   "execution_count": 9,
   "id": "handled-latex",
   "metadata": {
    "execution": {
     "iopub.execute_input": "2021-07-07T06:25:36.647558Z",
     "iopub.status.busy": "2021-07-07T06:25:36.646924Z",
     "iopub.status.idle": "2021-07-07T06:25:36.651202Z",
     "shell.execute_reply": "2021-07-07T06:25:36.651740Z",
     "shell.execute_reply.started": "2021-07-06T07:03:07.529202Z"
    },
    "papermill": {
     "duration": 0.072682,
     "end_time": "2021-07-07T06:25:36.651912",
     "exception": false,
     "start_time": "2021-07-07T06:25:36.579230",
     "status": "completed"
    },
    "tags": []
   },
   "outputs": [
    {
     "data": {
      "text/plain": [
       "10"
      ]
     },
     "execution_count": 9,
     "metadata": {},
     "output_type": "execute_result"
    }
   ],
   "source": [
    "data.nrows"
   ]
  },
  {
   "cell_type": "code",
   "execution_count": 10,
   "id": "inclusive-smith",
   "metadata": {
    "execution": {
     "iopub.execute_input": "2021-07-07T06:25:36.785592Z",
     "iopub.status.busy": "2021-07-07T06:25:36.784936Z",
     "iopub.status.idle": "2021-07-07T06:25:36.789366Z",
     "shell.execute_reply": "2021-07-07T06:25:36.789835Z",
     "shell.execute_reply.started": "2021-07-06T07:03:08.103302Z"
    },
    "papermill": {
     "duration": 0.072836,
     "end_time": "2021-07-07T06:25:36.790009",
     "exception": false,
     "start_time": "2021-07-07T06:25:36.717173",
     "status": "completed"
    },
    "tags": []
   },
   "outputs": [
    {
     "data": {
      "text/plain": [
       "2"
      ]
     },
     "execution_count": 10,
     "metadata": {},
     "output_type": "execute_result"
    }
   ],
   "source": [
    "data.ncols"
   ]
  },
  {
   "cell_type": "markdown",
   "id": "prerequisite-median",
   "metadata": {
    "papermill": {
     "duration": 0.065941,
     "end_time": "2021-07-07T06:25:36.922186",
     "exception": false,
     "start_time": "2021-07-07T06:25:36.856245",
     "status": "completed"
    },
    "tags": []
   },
   "source": [
    "**Exercise 9: Display the shape of `data`**"
   ]
  },
  {
   "cell_type": "code",
   "execution_count": 11,
   "id": "immune-burst",
   "metadata": {
    "execution": {
     "iopub.execute_input": "2021-07-07T06:25:37.059955Z",
     "iopub.status.busy": "2021-07-07T06:25:37.059253Z",
     "iopub.status.idle": "2021-07-07T06:25:37.062175Z",
     "shell.execute_reply": "2021-07-07T06:25:37.062776Z",
     "shell.execute_reply.started": "2021-07-06T07:03:09.755932Z"
    },
    "papermill": {
     "duration": 0.074294,
     "end_time": "2021-07-07T06:25:37.062954",
     "exception": false,
     "start_time": "2021-07-07T06:25:36.988660",
     "status": "completed"
    },
    "tags": []
   },
   "outputs": [
    {
     "data": {
      "text/plain": [
       "(10, 2)"
      ]
     },
     "execution_count": 11,
     "metadata": {},
     "output_type": "execute_result"
    }
   ],
   "source": [
    "data.shape"
   ]
  },
  {
   "cell_type": "markdown",
   "id": "objective-childhood",
   "metadata": {
    "papermill": {
     "duration": 0.067334,
     "end_time": "2021-07-07T06:25:37.197855",
     "exception": false,
     "start_time": "2021-07-07T06:25:37.130521",
     "status": "completed"
    },
    "tags": []
   },
   "source": [
    "**Exercise 10: Display the column names of `data`**"
   ]
  },
  {
   "cell_type": "code",
   "execution_count": 12,
   "id": "played-defeat",
   "metadata": {
    "execution": {
     "iopub.execute_input": "2021-07-07T06:25:37.333701Z",
     "iopub.status.busy": "2021-07-07T06:25:37.333066Z",
     "iopub.status.idle": "2021-07-07T06:25:37.337463Z",
     "shell.execute_reply": "2021-07-07T06:25:37.338004Z",
     "shell.execute_reply.started": "2021-07-06T07:03:15.221534Z"
    },
    "papermill": {
     "duration": 0.073831,
     "end_time": "2021-07-07T06:25:37.338165",
     "exception": false,
     "start_time": "2021-07-07T06:25:37.264334",
     "status": "completed"
    },
    "tags": []
   },
   "outputs": [
    {
     "data": {
      "text/plain": [
       "('v1', 'v2')"
      ]
     },
     "execution_count": 12,
     "metadata": {},
     "output_type": "execute_result"
    }
   ],
   "source": [
    "data.names"
   ]
  },
  {
   "cell_type": "markdown",
   "id": "german-excess",
   "metadata": {
    "papermill": {
     "duration": 0.065573,
     "end_time": "2021-07-07T06:25:37.470148",
     "exception": false,
     "start_time": "2021-07-07T06:25:37.404575",
     "status": "completed"
    },
    "tags": []
   },
   "source": [
    "✅ This completes Set 1: Datatable Introduction (Exercises 1-10) of **DatatableTon**: *💯 datatable exercises*\n",
    "\n",
    "#### Set 02 • Files and Formats • Beginner • Exercises 11-20\n",
    "\n",
    "| Style | Colab | Kaggle | Binder | GitHub |\n",
    "| ----- | ----- | ------ | ------ | ------ |\n",
    "| Exercises | [![Open in Colab](https://img.shields.io/static/v1?label=&message=Open%20in%20Colab&labelColor=grey&color=blue&logo=google-colab)](https://colab.research.google.com/github/vopani/datatableton/blob/main/notebooks/02_files_and_formats_exercises.ipynb) | [![Open in Kaggle](https://img.shields.io/static/v1?label=&message=Open%20in%20Kaggle&labelColor=grey&color=blue&logo=kaggle)](https://www.kaggle.com/rohanrao/datatableton-files-and-formats-exercises) | [![Open in Binder](https://img.shields.io/static/v1?label=&message=Open%20in%20Binder&labelColor=grey&color=blue&logo=data:image/png;base64,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)](https://mybinder.org/v2/gh/vopani/datatableton/main?filepath=notebooks%2F02_files_and_formats_exercises.ipynb) | [![Open in GitHub](https://img.shields.io/static/v1?label=&message=Open%20in%20GitHub&labelColor=grey&color=blue&logo=github)](https://github.com/vopani/datatableton/blob/main/notebooks/02_files_and_formats_exercises.ipynb) |\n",
    "| Solutions | [![Open in Colab](https://img.shields.io/static/v1?label=&message=Open%20in%20Colab&labelColor=grey&color=blue&logo=google-colab)](https://colab.research.google.com/github/vopani/datatableton/blob/main/notebooks/02_files_and_formats_solutions.ipynb) | [![Open in Kaggle](https://img.shields.io/static/v1?label=&message=Open%20in%20Kaggle&labelColor=grey&color=blue&logo=kaggle)](https://www.kaggle.com/rohanrao/datatableton-files-and-formats-solutions) | [![Open in Binder](https://img.shields.io/static/v1?label=&message=Open%20in%20Binder&labelColor=grey&color=blue&logo=data:image/png;base64,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)](https://mybinder.org/v2/gh/vopani/datatableton/main?filepath=notebooks%2F02_files_and_formats_solutions.ipynb) | [![Open in GitHub](https://img.shields.io/static/v1?label=&message=Open%20in%20GitHub&labelColor=grey&color=blue&logo=github)](https://github.com/vopani/datatableton/blob/main/notebooks/02_files_and_formats_solutions.ipynb) |\n",
    "\n",
    "You can find all the exercises and solutions on [GitHub](https://github.com/vopani/datatableton#exercises-)"
   ]
  }
 ],
 "metadata": {
  "kernelspec": {
   "display_name": "Python 3",
   "language": "python",
   "name": "python3"
  },
  "language_info": {
   "codemirror_mode": {
    "name": "ipython",
    "version": 3
   },
   "file_extension": ".py",
   "mimetype": "text/x-python",
   "name": "python",
   "nbconvert_exporter": "python",
   "pygments_lexer": "ipython3",
   "version": "3.7.10"
  },
  "papermill": {
   "default_parameters": {},
   "duration": 49.886125,
   "end_time": "2021-07-07T06:25:39.149596",
   "environment_variables": {},
   "exception": null,
   "input_path": "__notebook__.ipynb",
   "output_path": "__notebook__.ipynb",
   "parameters": {},
   "start_time": "2021-07-07T06:24:49.263471",
   "version": "2.3.3"
  }
 },
 "nbformat": 4,
 "nbformat_minor": 5
}
