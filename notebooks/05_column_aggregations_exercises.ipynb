{
 "cells": [
  {
   "cell_type": "markdown",
   "id": "84eee8fd",
   "metadata": {
    "_cell_guid": "b1076dfc-b9ad-4769-8c92-a6c4dae69d19",
    "_uuid": "8f2839f25d086af736a60e9eeb907d3b93b6e0e5",
    "papermill": {
     "duration": 0.015337,
     "end_time": "2021-07-18T20:13:47.711867",
     "exception": false,
     "start_time": "2021-07-18T20:13:47.696530",
     "status": "completed"
    },
    "tags": []
   },
   "source": [
    "<center>\n",
    "    <h1>DatatableTon</h1>\n",
    "    💯 datatable exercises\n",
    "    <br>\n",
    "    <br>\n",
    "    <a href='https://github.com/vopani/datatableton/blob/master/LICENSE'>\n",
    "        <img src='https://img.shields.io/badge/license-Apache%202.0-blue.svg?logo=apache'>\n",
    "    </a>\n",
    "    <a href='https://github.com/vopani/datatableton'>\n",
    "        <img src='https://img.shields.io/github/stars/vopani/datatableton?color=yellowgreen&logo=github'>\n",
    "    </a>\n",
    "    <a href='https://twitter.com/vopani'>\n",
    "        <img src='https://img.shields.io/twitter/follow/vopani'>\n",
    "    </a>\n",
    "</center>"
   ]
  },
  {
   "cell_type": "markdown",
   "id": "65e32032",
   "metadata": {
    "papermill": {
     "duration": 0.018226,
     "end_time": "2021-07-18T20:13:47.752596",
     "exception": false,
     "start_time": "2021-07-18T20:13:47.734370",
     "status": "completed"
    },
    "tags": []
   },
   "source": [
    "<center>\n",
    "    This is Set 5: Column Aggregations (Exercises 41-50) of <b>DatatableTon</b>: <i>💯 datatable exercises</i>\n",
    "    <br>\n",
    "    You can find all the exercises and solutions on <a href=\"https://github.com/vopani/datatableton#exercises-\">GitHub</a>\n",
    "</center>"
   ]
  },
  {
   "cell_type": "markdown",
   "id": "80f75e8a",
   "metadata": {
    "papermill": {
     "duration": 0.021099,
     "end_time": "2021-07-18T20:13:47.792130",
     "exception": false,
     "start_time": "2021-07-18T20:13:47.771031",
     "status": "completed"
    },
    "tags": []
   },
   "source": [
    "**Prerequisites**\n",
    "* The `datatable` package should be upgraded to the latest version (or v1.0.0+).\n",
    "* The sample dataset [wine](https://scikit-learn.org/stable/modules/generated/sklearn.datasets.load_wine.html) from sklearn will be used for the exercises."
   ]
  },
  {
   "cell_type": "code",
   "execution_count": 1,
   "id": "3a574727",
   "metadata": {
    "_kg_hide-output": true,
    "execution": {
     "iopub.execute_input": "2021-07-18T20:13:47.847121Z",
     "iopub.status.busy": "2021-07-18T20:13:47.846487Z",
     "iopub.status.idle": "2021-07-18T20:14:24.324353Z",
     "shell.execute_reply": "2021-07-18T20:14:24.323639Z",
     "shell.execute_reply.started": "2021-07-15T18:00:49.903147Z"
    },
    "papermill": {
     "duration": 36.510565,
     "end_time": "2021-07-18T20:14:24.324533",
     "exception": false,
     "start_time": "2021-07-18T20:13:47.813968",
     "status": "completed"
    },
    "tags": []
   },
   "outputs": [
    {
     "name": "stdout",
     "output_type": "stream",
     "text": [
      "Requirement already satisfied: pip in /opt/conda/lib/python3.7/site-packages (21.1.2)\r\n",
      "Collecting pip\r\n",
      "  Downloading pip-21.1.3-py3-none-any.whl (1.5 MB)\r\n",
      "\u001b[K     |████████████████████████████████| 1.5 MB 4.7 MB/s \r\n",
      "\u001b[?25hInstalling collected packages: pip\r\n",
      "  Attempting uninstall: pip\r\n",
      "    Found existing installation: pip 21.1.2\r\n",
      "    Uninstalling pip-21.1.2:\r\n",
      "      Successfully uninstalled pip-21.1.2\r\n",
      "Successfully installed pip-21.1.3\r\n",
      "\u001b[33mWARNING: Running pip as root will break packages and permissions. You should install packages reliably by using venv: https://pip.pypa.io/warnings/venv\u001b[0m\r\n",
      "Requirement already satisfied: datatable in /opt/conda/lib/python3.7/site-packages (1.0.0)\r\n",
      "\u001b[33mWARNING: Running pip as the 'root' user can result in broken permissions and conflicting behaviour with the system package manager. It is recommended to use a virtual environment instead: https://pip.pypa.io/warnings/venv\u001b[0m\r\n",
      "Requirement already satisfied: scikit-learn in /opt/conda/lib/python3.7/site-packages (0.23.2)\r\n",
      "Requirement already satisfied: joblib>=0.11 in /opt/conda/lib/python3.7/site-packages (from scikit-learn) (1.0.1)\r\n",
      "Requirement already satisfied: threadpoolctl>=2.0.0 in /opt/conda/lib/python3.7/site-packages (from scikit-learn) (2.1.0)\r\n",
      "Requirement already satisfied: numpy>=1.13.3 in /opt/conda/lib/python3.7/site-packages (from scikit-learn) (1.19.5)\r\n",
      "Requirement already satisfied: scipy>=0.19.1 in /opt/conda/lib/python3.7/site-packages (from scikit-learn) (1.6.3)\r\n",
      "\u001b[33mWARNING: Running pip as the 'root' user can result in broken permissions and conflicting behaviour with the system package manager. It is recommended to use a virtual environment instead: https://pip.pypa.io/warnings/venv\u001b[0m\r\n"
     ]
    }
   ],
   "source": [
    "!python3 -m pip install -U pip\n",
    "!python3 -m pip install -U datatable\n",
    "!python3 -m pip install scikit-learn"
   ]
  },
  {
   "cell_type": "code",
   "execution_count": 2,
   "id": "3442f569",
   "metadata": {
    "execution": {
     "iopub.execute_input": "2021-07-18T20:14:24.367424Z",
     "iopub.status.busy": "2021-07-18T20:14:24.366851Z",
     "iopub.status.idle": "2021-07-18T20:14:25.449437Z",
     "shell.execute_reply": "2021-07-18T20:14:25.449908Z",
     "shell.execute_reply.started": "2021-07-15T18:01:29.329039Z"
    },
    "papermill": {
     "duration": 1.106743,
     "end_time": "2021-07-18T20:14:25.450077",
     "exception": false,
     "start_time": "2021-07-18T20:14:24.343334",
     "status": "completed"
    },
    "tags": []
   },
   "outputs": [
    {
     "data": {
      "text/html": [
       "<style type='text/css'>\n",
       ".datatable table.frame { margin-bottom: 0; }\n",
       ".datatable table.frame thead { border-bottom: none; }\n",
       ".datatable table.frame tr.coltypes td {  color: #FFFFFF;  line-height: 6px;  padding: 0 0.5em;}\n",
       ".datatable .bool    { background: #DDDD99; }\n",
       ".datatable .object  { background: #565656; }\n",
       ".datatable .int     { background: #5D9E5D; }\n",
       ".datatable .float   { background: #4040CC; }\n",
       ".datatable .str     { background: #CC4040; }\n",
       ".datatable .time    { background: #40CC40; }\n",
       ".datatable .row_index {  background: var(--jp-border-color3);  border-right: 1px solid var(--jp-border-color0);  color: var(--jp-ui-font-color3);  font-size: 9px;}\n",
       ".datatable .frame tbody td { text-align: left; }\n",
       ".datatable .frame tr.coltypes .row_index {  background: var(--jp-border-color0);}\n",
       ".datatable th:nth-child(2) { padding-left: 12px; }\n",
       ".datatable .hellipsis {  color: var(--jp-cell-editor-border-color);}\n",
       ".datatable .vellipsis {  background: var(--jp-layout-color0);  color: var(--jp-cell-editor-border-color);}\n",
       ".datatable .na {  color: var(--jp-cell-editor-border-color);  font-size: 80%;}\n",
       ".datatable .sp {  opacity: 0.25;}\n",
       ".datatable .footer { font-size: 9px; }\n",
       ".datatable .frame_dimensions {  background: var(--jp-border-color3);  border-top: 1px solid var(--jp-border-color0);  color: var(--jp-ui-font-color3);  display: inline-block;  opacity: 0.6;  padding: 1px 10px 1px 5px;}\n",
       "</style>\n"
      ],
      "text/plain": [
       "<IPython.core.display.HTML object>"
      ]
     },
     "metadata": {},
     "output_type": "display_data"
    },
    {
     "data": {
      "text/html": [
       "<div class='datatable'>\n",
       "  <table class='frame'>\n",
       "  <thead>\n",
       "    <tr class='colnames'><td class='row_index'></td><th>alcohol</th><th>malic_acid</th><th>ash</th><th>alcalinity_of_ash</th><th>magnesium</th><th>total_phenols</th><th>flavanoids</th><th>nonflavanoid_phenols</th><th>proanthocyanins</th><th>color_intensity</th><th>hue</th><th>od280/od315_of_diluted_wines</th><th>proline</th><th>target</th></tr>\n",
       "    <tr class='coltypes'><td class='row_index'></td><td class='float' title='float64'>&#x25AA;&#x25AA;&#x25AA;&#x25AA;&#x25AA;&#x25AA;&#x25AA;&#x25AA;</td><td class='float' title='float64'>&#x25AA;&#x25AA;&#x25AA;&#x25AA;&#x25AA;&#x25AA;&#x25AA;&#x25AA;</td><td class='float' title='float64'>&#x25AA;&#x25AA;&#x25AA;&#x25AA;&#x25AA;&#x25AA;&#x25AA;&#x25AA;</td><td class='float' title='float64'>&#x25AA;&#x25AA;&#x25AA;&#x25AA;&#x25AA;&#x25AA;&#x25AA;&#x25AA;</td><td class='float' title='float64'>&#x25AA;&#x25AA;&#x25AA;&#x25AA;&#x25AA;&#x25AA;&#x25AA;&#x25AA;</td><td class='float' title='float64'>&#x25AA;&#x25AA;&#x25AA;&#x25AA;&#x25AA;&#x25AA;&#x25AA;&#x25AA;</td><td class='float' title='float64'>&#x25AA;&#x25AA;&#x25AA;&#x25AA;&#x25AA;&#x25AA;&#x25AA;&#x25AA;</td><td class='float' title='float64'>&#x25AA;&#x25AA;&#x25AA;&#x25AA;&#x25AA;&#x25AA;&#x25AA;&#x25AA;</td><td class='float' title='float64'>&#x25AA;&#x25AA;&#x25AA;&#x25AA;&#x25AA;&#x25AA;&#x25AA;&#x25AA;</td><td class='float' title='float64'>&#x25AA;&#x25AA;&#x25AA;&#x25AA;&#x25AA;&#x25AA;&#x25AA;&#x25AA;</td><td class='float' title='float64'>&#x25AA;&#x25AA;&#x25AA;&#x25AA;&#x25AA;&#x25AA;&#x25AA;&#x25AA;</td><td class='float' title='float64'>&#x25AA;&#x25AA;&#x25AA;&#x25AA;&#x25AA;&#x25AA;&#x25AA;&#x25AA;</td><td class='float' title='float64'>&#x25AA;&#x25AA;&#x25AA;&#x25AA;&#x25AA;&#x25AA;&#x25AA;&#x25AA;</td><td class='int' title='int64'>&#x25AA;&#x25AA;&#x25AA;&#x25AA;&#x25AA;&#x25AA;&#x25AA;&#x25AA;</td></tr>\n",
       "  </thead>\n",
       "  <tbody>\n",
       "    <tr><td class='row_index'>0</td><td>14.23</td><td>1.71</td><td>2.43</td><td>15.6</td><td>127</td><td>2.8</td><td>3.06</td><td>0.28</td><td>2.29</td><td>5.64</td><td>1.04</td><td>3.92</td><td>1065</td><td>0</td></tr>\n",
       "    <tr><td class='row_index'>1</td><td>13.2</td><td>1.78</td><td>2.14</td><td>11.2</td><td>100</td><td>2.65</td><td>2.76</td><td>0.26</td><td>1.28</td><td>4.38</td><td>1.05</td><td>3.4</td><td>1050</td><td>0</td></tr>\n",
       "    <tr><td class='row_index'>2</td><td>13.16</td><td>2.36</td><td>2.67</td><td>18.6</td><td>101</td><td>2.8</td><td>3.24</td><td>0.3</td><td>2.81</td><td>5.68</td><td>1.03</td><td>3.17</td><td>1185</td><td>0</td></tr>\n",
       "    <tr><td class='row_index'>3</td><td>14.37</td><td>1.95</td><td>2.5</td><td>16.8</td><td>113</td><td>3.85</td><td>3.49</td><td>0.24</td><td>2.18</td><td>7.8</td><td>0.86</td><td>3.45</td><td>1480</td><td>0</td></tr>\n",
       "    <tr><td class='row_index'>4</td><td>13.24</td><td>2.59</td><td>2.87</td><td>21</td><td>118</td><td>2.8</td><td>2.69</td><td>0.39</td><td>1.82</td><td>4.32</td><td>1.04</td><td>2.93</td><td>735</td><td>0</td></tr>\n",
       "    <tr><td class='row_index'>5</td><td>14.2</td><td>1.76</td><td>2.45</td><td>15.2</td><td>112</td><td>3.27</td><td>3.39</td><td>0.34</td><td>1.97</td><td>6.75</td><td>1.05</td><td>2.85</td><td>1450</td><td>0</td></tr>\n",
       "    <tr><td class='row_index'>6</td><td>14.39</td><td>1.87</td><td>2.45</td><td>14.6</td><td>96</td><td>2.5</td><td>2.52</td><td>0.3</td><td>1.98</td><td>5.25</td><td>1.02</td><td>3.58</td><td>1290</td><td>0</td></tr>\n",
       "    <tr><td class='row_index'>7</td><td>14.06</td><td>2.15</td><td>2.61</td><td>17.6</td><td>121</td><td>2.6</td><td>2.51</td><td>0.31</td><td>1.25</td><td>5.05</td><td>1.06</td><td>3.58</td><td>1295</td><td>0</td></tr>\n",
       "    <tr><td class='row_index'>8</td><td>14.83</td><td>1.64</td><td>2.17</td><td>14</td><td>97</td><td>2.8</td><td>2.98</td><td>0.29</td><td>1.98</td><td>5.2</td><td>1.08</td><td>2.85</td><td>1045</td><td>0</td></tr>\n",
       "    <tr><td class='row_index'>9</td><td>13.86</td><td>1.35</td><td>2.27</td><td>16</td><td>98</td><td>2.98</td><td>3.15</td><td>0.22</td><td>1.85</td><td>7.22</td><td>1.01</td><td>3.55</td><td>1045</td><td>0</td></tr>\n",
       "    <tr><td class='row_index'>10</td><td>14.1</td><td>2.16</td><td>2.3</td><td>18</td><td>105</td><td>2.95</td><td>3.32</td><td>0.22</td><td>2.38</td><td>5.75</td><td>1.25</td><td>3.17</td><td>1510</td><td>0</td></tr>\n",
       "    <tr><td class='row_index'>11</td><td>14.12</td><td>1.48</td><td>2.32</td><td>16.8</td><td>95</td><td>2.2</td><td>2.43</td><td>0.26</td><td>1.57</td><td>5</td><td>1.17</td><td>2.82</td><td>1280</td><td>0</td></tr>\n",
       "    <tr><td class='row_index'>12</td><td>13.75</td><td>1.73</td><td>2.41</td><td>16</td><td>89</td><td>2.6</td><td>2.76</td><td>0.29</td><td>1.81</td><td>5.6</td><td>1.15</td><td>2.9</td><td>1320</td><td>0</td></tr>\n",
       "    <tr><td class='row_index'>13</td><td>14.75</td><td>1.73</td><td>2.39</td><td>11.4</td><td>91</td><td>3.1</td><td>3.69</td><td>0.43</td><td>2.81</td><td>5.4</td><td>1.25</td><td>2.73</td><td>1150</td><td>0</td></tr>\n",
       "    <tr><td class='row_index'>14</td><td>14.38</td><td>1.87</td><td>2.38</td><td>12</td><td>102</td><td>3.3</td><td>3.64</td><td>0.29</td><td>2.96</td><td>7.5</td><td>1.2</td><td>3</td><td>1547</td><td>0</td></tr>\n",
       "    <tr><td class='row_index'>&#x22EE;</td><td class='hellipsis'>&#x22EE;</td><td class='hellipsis'>&#x22EE;</td><td class='hellipsis'>&#x22EE;</td><td class='hellipsis'>&#x22EE;</td><td class='hellipsis'>&#x22EE;</td><td class='hellipsis'>&#x22EE;</td><td class='hellipsis'>&#x22EE;</td><td class='hellipsis'>&#x22EE;</td><td class='hellipsis'>&#x22EE;</td><td class='hellipsis'>&#x22EE;</td><td class='hellipsis'>&#x22EE;</td><td class='hellipsis'>&#x22EE;</td><td class='hellipsis'>&#x22EE;</td><td class='hellipsis'>&#x22EE;</td></tr>\n",
       "    <tr><td class='row_index'>173</td><td>13.71</td><td>5.65</td><td>2.45</td><td>20.5</td><td>95</td><td>1.68</td><td>0.61</td><td>0.52</td><td>1.06</td><td>7.7</td><td>0.64</td><td>1.74</td><td>740</td><td>2</td></tr>\n",
       "    <tr><td class='row_index'>174</td><td>13.4</td><td>3.91</td><td>2.48</td><td>23</td><td>102</td><td>1.8</td><td>0.75</td><td>0.43</td><td>1.41</td><td>7.3</td><td>0.7</td><td>1.56</td><td>750</td><td>2</td></tr>\n",
       "    <tr><td class='row_index'>175</td><td>13.27</td><td>4.28</td><td>2.26</td><td>20</td><td>120</td><td>1.59</td><td>0.69</td><td>0.43</td><td>1.35</td><td>10.2</td><td>0.59</td><td>1.56</td><td>835</td><td>2</td></tr>\n",
       "    <tr><td class='row_index'>176</td><td>13.17</td><td>2.59</td><td>2.37</td><td>20</td><td>120</td><td>1.65</td><td>0.68</td><td>0.53</td><td>1.46</td><td>9.3</td><td>0.6</td><td>1.62</td><td>840</td><td>2</td></tr>\n",
       "    <tr><td class='row_index'>177</td><td>14.13</td><td>4.1</td><td>2.74</td><td>24.5</td><td>96</td><td>2.05</td><td>0.76</td><td>0.56</td><td>1.35</td><td>9.2</td><td>0.61</td><td>1.6</td><td>560</td><td>2</td></tr>\n",
       "  </tbody>\n",
       "  </table>\n",
       "  <div class='footer'>\n",
       "    <div class='frame_dimensions'>178 rows &times; 14 columns</div>\n",
       "  </div>\n",
       "</div>\n"
      ],
      "text/plain": [
       "<Frame#7fccd1a94b10 178x14>"
      ]
     },
     "execution_count": 2,
     "metadata": {},
     "output_type": "execute_result"
    }
   ],
   "source": [
    "import datatable as dt\n",
    "from sklearn.datasets import load_wine\n",
    "\n",
    "data=dt.Frame(load_wine(as_frame=True).frame)\n",
    "data"
   ]
  },
  {
   "cell_type": "markdown",
   "id": "5b0b064c",
   "metadata": {
    "papermill": {
     "duration": 0.018543,
     "end_time": "2021-07-18T20:14:25.488174",
     "exception": false,
     "start_time": "2021-07-18T20:14:25.469631",
     "status": "completed"
    },
    "tags": []
   },
   "source": [
    "**Exercise 41: Calculate the sum of column `ash` in `data`**"
   ]
  },
  {
   "cell_type": "code",
   "execution_count": null,
   "id": "518ab382",
   "metadata": {
    "execution": {
     "iopub.execute_input": "2021-07-15T18:08:28.783241Z",
     "iopub.status.busy": "2021-07-15T18:08:28.782719Z",
     "iopub.status.idle": "2021-07-15T18:08:28.787714Z",
     "shell.execute_reply": "2021-07-15T18:08:28.787282Z",
     "shell.execute_reply.started": "2021-07-15T18:01:30.387942Z"
    },
    "papermill": {
     "duration": 0.018671,
     "end_time": "2021-07-18T20:14:25.525578",
     "exception": false,
     "start_time": "2021-07-18T20:14:25.506907",
     "status": "completed"
    },
    "tags": []
   },
   "outputs": [],
   "source": []
  },
  {
   "cell_type": "markdown",
   "id": "fd99e633",
   "metadata": {
    "papermill": {
     "duration": 0.018431,
     "end_time": "2021-07-18T20:14:25.562934",
     "exception": false,
     "start_time": "2021-07-18T20:14:25.544503",
     "status": "completed"
    },
    "tags": []
   },
   "source": [
    "**Exercise 42: Calculate the average value of each column in `data`**"
   ]
  },
  {
   "cell_type": "code",
   "execution_count": null,
   "id": "8b8acafb",
   "metadata": {
    "execution": {
     "iopub.execute_input": "2021-07-15T18:08:28.915922Z",
     "iopub.status.busy": "2021-07-15T18:08:28.915281Z",
     "iopub.status.idle": "2021-07-15T18:08:28.917878Z",
     "shell.execute_reply": "2021-07-15T18:08:28.916413Z",
     "shell.execute_reply.started": "2021-07-15T18:01:30.396605Z"
    },
    "papermill": {
     "duration": 0.019236,
     "end_time": "2021-07-18T20:14:25.602044",
     "exception": false,
     "start_time": "2021-07-18T20:14:25.582808",
     "status": "completed"
    },
    "tags": []
   },
   "outputs": [],
   "source": []
  },
  {
   "cell_type": "markdown",
   "id": "72a0d07c",
   "metadata": {
    "papermill": {
     "duration": 0.018515,
     "end_time": "2021-07-18T20:14:25.639498",
     "exception": false,
     "start_time": "2021-07-18T20:14:25.620983",
     "status": "completed"
    },
    "tags": []
   },
   "source": [
    "**Exercise 43: Calculate the minimum value and maximum value of each column in `data` where `target` is 1**"
   ]
  },
  {
   "cell_type": "code",
   "execution_count": null,
   "id": "73591857",
   "metadata": {
    "execution": {
     "iopub.execute_input": "2021-07-15T18:08:29.025432Z",
     "iopub.status.busy": "2021-07-15T18:08:29.024906Z",
     "iopub.status.idle": "2021-07-15T18:08:29.028274Z",
     "shell.execute_reply": "2021-07-15T18:08:29.028647Z",
     "shell.execute_reply.started": "2021-07-15T18:01:30.42013Z"
    },
    "papermill": {
     "duration": 0.019023,
     "end_time": "2021-07-18T20:14:25.677353",
     "exception": false,
     "start_time": "2021-07-18T20:14:25.658330",
     "status": "completed"
    },
    "tags": []
   },
   "outputs": [],
   "source": []
  },
  {
   "cell_type": "code",
   "execution_count": null,
   "id": "0a1e3dde",
   "metadata": {
    "execution": {
     "iopub.execute_input": "2021-07-15T18:08:29.090301Z",
     "iopub.status.busy": "2021-07-15T18:08:29.089774Z",
     "iopub.status.idle": "2021-07-15T18:08:29.093112Z",
     "shell.execute_reply": "2021-07-15T18:08:29.093485Z",
     "shell.execute_reply.started": "2021-07-15T18:01:30.433621Z"
    },
    "papermill": {
     "duration": 0.019199,
     "end_time": "2021-07-18T20:14:25.716484",
     "exception": false,
     "start_time": "2021-07-18T20:14:25.697285",
     "status": "completed"
    },
    "tags": []
   },
   "outputs": [],
   "source": []
  },
  {
   "cell_type": "markdown",
   "id": "3db2e635",
   "metadata": {
    "papermill": {
     "duration": 0.019178,
     "end_time": "2021-07-18T20:14:25.755167",
     "exception": false,
     "start_time": "2021-07-18T20:14:25.735989",
     "status": "completed"
    },
    "tags": []
   },
   "source": [
    "**Exercise 44: Calculate the median value of columns `flavanoids`, `hue` and `magnesium` in `data`**"
   ]
  },
  {
   "cell_type": "code",
   "execution_count": null,
   "id": "fab3b9ff",
   "metadata": {
    "execution": {
     "iopub.execute_input": "2021-07-15T18:08:29.201209Z",
     "iopub.status.busy": "2021-07-15T18:08:29.200516Z",
     "iopub.status.idle": "2021-07-15T18:08:29.203151Z",
     "shell.execute_reply": "2021-07-15T18:08:29.201665Z",
     "shell.execute_reply.started": "2021-07-15T18:01:30.447166Z"
    },
    "papermill": {
     "duration": 0.019462,
     "end_time": "2021-07-18T20:14:25.794246",
     "exception": false,
     "start_time": "2021-07-18T20:14:25.774784",
     "status": "completed"
    },
    "tags": []
   },
   "outputs": [],
   "source": []
  },
  {
   "cell_type": "markdown",
   "id": "296eca69",
   "metadata": {
    "papermill": {
     "duration": 0.018828,
     "end_time": "2021-07-18T20:14:25.832029",
     "exception": false,
     "start_time": "2021-07-18T20:14:25.813201",
     "status": "completed"
    },
    "tags": []
   },
   "source": [
    "**Exercise 45: Calculate the mode of columns `alcohol` and `proline` in `data`**"
   ]
  },
  {
   "cell_type": "code",
   "execution_count": null,
   "id": "da3dbc43",
   "metadata": {
    "execution": {
     "iopub.execute_input": "2021-07-15T18:08:29.3161Z",
     "iopub.status.busy": "2021-07-15T18:08:29.315426Z",
     "iopub.status.idle": "2021-07-15T18:08:29.318066Z",
     "shell.execute_reply": "2021-07-15T18:08:29.316574Z",
     "shell.execute_reply.started": "2021-07-15T18:01:43.963242Z"
    },
    "papermill": {
     "duration": 0.019162,
     "end_time": "2021-07-18T20:14:25.870582",
     "exception": false,
     "start_time": "2021-07-18T20:14:25.851420",
     "status": "completed"
    },
    "tags": []
   },
   "outputs": [],
   "source": []
  },
  {
   "cell_type": "markdown",
   "id": "03cebac2",
   "metadata": {
    "papermill": {
     "duration": 0.018887,
     "end_time": "2021-07-18T20:14:25.908420",
     "exception": false,
     "start_time": "2021-07-18T20:14:25.889533",
     "status": "completed"
    },
    "tags": []
   },
   "source": [
    "**Exercise 46: Calculate the standard deviation, skewness and excess kurtosis of each column in `data`**"
   ]
  },
  {
   "cell_type": "code",
   "execution_count": null,
   "id": "7e0f8e4f",
   "metadata": {
    "execution": {
     "iopub.execute_input": "2021-07-15T18:08:29.427833Z",
     "iopub.status.busy": "2021-07-15T18:08:29.427266Z",
     "iopub.status.idle": "2021-07-15T18:08:29.429796Z",
     "shell.execute_reply": "2021-07-15T18:08:29.430222Z",
     "shell.execute_reply.started": "2021-07-15T18:01:49.729164Z"
    },
    "papermill": {
     "duration": 0.019468,
     "end_time": "2021-07-18T20:14:25.947601",
     "exception": false,
     "start_time": "2021-07-18T20:14:25.928133",
     "status": "completed"
    },
    "tags": []
   },
   "outputs": [],
   "source": []
  },
  {
   "cell_type": "code",
   "execution_count": null,
   "id": "2f56e7f0",
   "metadata": {
    "execution": {
     "iopub.execute_input": "2021-07-15T18:08:29.482792Z",
     "iopub.status.busy": "2021-07-15T18:08:29.482184Z",
     "iopub.status.idle": "2021-07-15T18:08:29.487617Z",
     "shell.execute_reply": "2021-07-15T18:08:29.488012Z",
     "shell.execute_reply.started": "2021-07-15T18:01:50.511123Z"
    },
    "papermill": {
     "duration": 0.018896,
     "end_time": "2021-07-18T20:14:25.985829",
     "exception": false,
     "start_time": "2021-07-18T20:14:25.966933",
     "status": "completed"
    },
    "tags": []
   },
   "outputs": [],
   "source": []
  },
  {
   "cell_type": "code",
   "execution_count": null,
   "id": "0483b7d1",
   "metadata": {
    "execution": {
     "iopub.execute_input": "2021-07-15T18:08:29.549432Z",
     "iopub.status.busy": "2021-07-15T18:08:29.548957Z",
     "iopub.status.idle": "2021-07-15T18:08:29.552087Z",
     "shell.execute_reply": "2021-07-15T18:08:29.551634Z",
     "shell.execute_reply.started": "2021-07-15T18:01:51.137565Z"
    },
    "papermill": {
     "duration": 0.018846,
     "end_time": "2021-07-18T20:14:26.024537",
     "exception": false,
     "start_time": "2021-07-18T20:14:26.005691",
     "status": "completed"
    },
    "tags": []
   },
   "outputs": [],
   "source": []
  },
  {
   "cell_type": "markdown",
   "id": "59871cc4",
   "metadata": {
    "papermill": {
     "duration": 0.019119,
     "end_time": "2021-07-18T20:14:26.062806",
     "exception": false,
     "start_time": "2021-07-18T20:14:26.043687",
     "status": "completed"
    },
    "tags": []
   },
   "source": [
    "**Exercise 47: Calculate the number of unique values in each column of `data`**"
   ]
  },
  {
   "cell_type": "code",
   "execution_count": null,
   "id": "073b7587",
   "metadata": {
    "execution": {
     "iopub.execute_input": "2021-07-15T18:08:29.664543Z",
     "iopub.status.busy": "2021-07-15T18:08:29.656607Z",
     "iopub.status.idle": "2021-07-15T18:08:29.671476Z",
     "shell.execute_reply": "2021-07-15T18:08:29.671881Z",
     "shell.execute_reply.started": "2021-07-15T18:02:28.068775Z"
    },
    "papermill": {
     "duration": 0.018614,
     "end_time": "2021-07-18T20:14:26.100625",
     "exception": false,
     "start_time": "2021-07-18T20:14:26.082011",
     "status": "completed"
    },
    "tags": []
   },
   "outputs": [],
   "source": []
  },
  {
   "cell_type": "markdown",
   "id": "c4acdfb2",
   "metadata": {
    "papermill": {
     "duration": 0.018988,
     "end_time": "2021-07-18T20:14:26.138612",
     "exception": false,
     "start_time": "2021-07-18T20:14:26.119624",
     "status": "completed"
    },
    "tags": []
   },
   "source": [
    "**Exercise 48: Calculate the covariance between columns `alcohol` and `color_intensity` in `data`**"
   ]
  },
  {
   "cell_type": "code",
   "execution_count": null,
   "id": "41fa8ae3",
   "metadata": {
    "execution": {
     "iopub.execute_input": "2021-07-15T18:08:29.787779Z",
     "iopub.status.busy": "2021-07-15T18:08:29.787123Z",
     "iopub.status.idle": "2021-07-15T18:08:29.792056Z",
     "shell.execute_reply": "2021-07-15T18:08:29.791568Z",
     "shell.execute_reply.started": "2021-07-15T18:02:47.522887Z"
    },
    "papermill": {
     "duration": 0.018637,
     "end_time": "2021-07-18T20:14:26.176234",
     "exception": false,
     "start_time": "2021-07-18T20:14:26.157597",
     "status": "completed"
    },
    "tags": []
   },
   "outputs": [],
   "source": []
  },
  {
   "cell_type": "markdown",
   "id": "e20f0a06",
   "metadata": {
    "papermill": {
     "duration": 0.018701,
     "end_time": "2021-07-18T20:14:26.214128",
     "exception": false,
     "start_time": "2021-07-18T20:14:26.195427",
     "status": "completed"
    },
    "tags": []
   },
   "source": [
    "**Exercise 49: Calculate the correlation between columns `hue` and `color_intensity` in `data`**"
   ]
  },
  {
   "cell_type": "code",
   "execution_count": null,
   "id": "69685e60",
   "metadata": {
    "execution": {
     "iopub.execute_input": "2021-07-15T18:08:29.899443Z",
     "iopub.status.busy": "2021-07-15T18:08:29.8988Z",
     "iopub.status.idle": "2021-07-15T18:08:29.903317Z",
     "shell.execute_reply": "2021-07-15T18:08:29.90282Z",
     "shell.execute_reply.started": "2021-07-15T18:02:55.436783Z"
    },
    "papermill": {
     "duration": 0.018676,
     "end_time": "2021-07-18T20:14:26.251742",
     "exception": false,
     "start_time": "2021-07-18T20:14:26.233066",
     "status": "completed"
    },
    "tags": []
   },
   "outputs": [],
   "source": []
  },
  {
   "cell_type": "markdown",
   "id": "0f2edfb3",
   "metadata": {
    "papermill": {
     "duration": 0.018551,
     "end_time": "2021-07-18T20:14:26.289216",
     "exception": false,
     "start_time": "2021-07-18T20:14:26.270665",
     "status": "completed"
    },
    "tags": []
   },
   "source": [
    "**Exercise 50: Calculate the correlation matrix between all pairs of columns in `data` and assign it to `corr_matrix`**"
   ]
  },
  {
   "cell_type": "code",
   "execution_count": null,
   "id": "c9e8aa99",
   "metadata": {
    "execution": {
     "iopub.execute_input": "2021-07-15T18:08:30.020496Z",
     "iopub.status.busy": "2021-07-15T18:08:30.019049Z",
     "iopub.status.idle": "2021-07-15T18:08:30.025481Z",
     "shell.execute_reply": "2021-07-15T18:08:30.024928Z",
     "shell.execute_reply.started": "2021-07-15T18:06:32.207309Z"
    },
    "papermill": {
     "duration": 0.018834,
     "end_time": "2021-07-18T20:14:26.327081",
     "exception": false,
     "start_time": "2021-07-18T20:14:26.308247",
     "status": "completed"
    },
    "tags": []
   },
   "outputs": [],
   "source": []
  },
  {
   "cell_type": "markdown",
   "id": "1584ca2e",
   "metadata": {
    "papermill": {
     "duration": 0.018514,
     "end_time": "2021-07-18T20:14:26.364432",
     "exception": false,
     "start_time": "2021-07-18T20:14:26.345918",
     "status": "completed"
    },
    "tags": []
   },
   "source": [
    "✅ This completes Set 5: Column Aggregations (Exercises 41-50) of **DatatableTon**: *💯 datatable exercises*\n",
    "\n",
    "#### Set 06 • Grouping Options • Intermediate • Exercises 51-60\n",
    "\n",
    "| Style | Colab | Kaggle | Binder | GitHub |\n",
    "| ----- | ----- | ------ | ------ | ------ |\n",
    "| Exercises | [![Open in Colab](https://img.shields.io/static/v1?label=&message=Open%20in%20Colab&labelColor=grey&color=blue&logo=google-colab)](https://colab.research.google.com/github/vopani/datatableton/blob/main/notebooks/06_grouping_methods_exercises.ipynb) | [![Open in Kaggle](https://img.shields.io/static/v1?label=&message=Open%20in%20Kaggle&labelColor=grey&color=blue&logo=kaggle)](https://www.kaggle.com/rohanrao/datatableton-grouping-methods-exercises) | [![Open in Binder](https://img.shields.io/static/v1?label=&message=Open%20in%20Binder&labelColor=grey&color=blue&logo=data:image/png;base64,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)](https://mybinder.org/v2/gh/vopani/datatableton/main?filepath=notebooks%2F06_grouping_methods_exercises.ipynb) | [![Open in GitHub](https://img.shields.io/static/v1?label=&message=Open%20in%20GitHub&labelColor=grey&color=blue&logo=github)](https://github.com/vopani/datatableton/blob/main/notebooks/06_grouping_methods_exercises.ipynb) |\n",
    "| Solutions | [![Open in Colab](https://img.shields.io/static/v1?label=&message=Open%20in%20Colab&labelColor=grey&color=blue&logo=google-colab)](https://colab.research.google.com/github/vopani/datatableton/blob/main/notebooks/06_grouping_methods_solutions.ipynb) | [![Open in Kaggle](https://img.shields.io/static/v1?label=&message=Open%20in%20Kaggle&labelColor=grey&color=blue&logo=kaggle)](https://www.kaggle.com/rohanrao/datatableton-grouping-methods-solutions) | [![Open in Binder](https://img.shields.io/static/v1?label=&message=Open%20in%20Binder&labelColor=grey&color=blue&logo=data:image/png;base64,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)](https://mybinder.org/v2/gh/vopani/datatableton/main?filepath=notebooks%2F06_grouping_methods_solutions.ipynb) | [![Open in GitHub](https://img.shields.io/static/v1?label=&message=Open%20in%20GitHub&labelColor=grey&color=blue&logo=github)](https://github.com/vopani/datatableton/blob/main/notebooks/06_grouping_methods_solutions.ipynb) |\n",
    "\n",
    "You can find all the exercises and solutions on [GitHub](https://github.com/vopani/datatableton#exercises-)"
   ]
  }
 ],
 "metadata": {
  "kernelspec": {
   "display_name": "Python 3",
   "language": "python",
   "name": "python3"
  },
  "language_info": {
   "codemirror_mode": {
    "name": "ipython",
    "version": 3
   },
   "file_extension": ".py",
   "mimetype": "text/x-python",
   "name": "python",
   "nbconvert_exporter": "python",
   "pygments_lexer": "ipython3",
   "version": "3.7.10"
  },
  "papermill": {
   "default_parameters": {},
   "duration": 46.467444,
   "end_time": "2021-07-18T20:14:27.093010",
   "environment_variables": {},
   "exception": null,
   "input_path": "__notebook__.ipynb",
   "output_path": "__notebook__.ipynb",
   "parameters": {},
   "start_time": "2021-07-18T20:13:40.625566",
   "version": "2.3.3"
  }
 },
 "nbformat": 4,
 "nbformat_minor": 5
}
