{
 "cells": [
  {
   "cell_type": "markdown",
   "id": "herbal-kazakhstan",
   "metadata": {
    "_cell_guid": "b1076dfc-b9ad-4769-8c92-a6c4dae69d19",
    "_uuid": "8f2839f25d086af736a60e9eeb907d3b93b6e0e5",
    "papermill": {
     "duration": 0.013851,
     "end_time": "2021-07-07T06:25:38.175679",
     "exception": false,
     "start_time": "2021-07-07T06:25:38.161828",
     "status": "completed"
    },
    "tags": []
   },
   "source": [
    "<center>\n",
    "    <h1>DatatableTon</h1>\n",
    "    💯 datatable exercises\n",
    "    <br>\n",
    "    <br>\n",
    "    <a href='https://github.com/vopani/datatableton/blob/master/LICENSE'>\n",
    "        <img src='https://img.shields.io/badge/license-Apache%202.0-blue.svg?logo=apache'>\n",
    "    </a>\n",
    "    <a href='https://github.com/vopani/datatableton'>\n",
    "        <img src='https://img.shields.io/github/stars/vopani/datatableton?color=yellowgreen&logo=github'>\n",
    "    </a>\n",
    "    <a href='https://twitter.com/vopani'>\n",
    "        <img src='https://img.shields.io/twitter/follow/vopani'>\n",
    "    </a>\n",
    "</center>"
   ]
  },
  {
   "cell_type": "markdown",
   "id": "buried-encounter",
   "metadata": {
    "papermill": {
     "duration": 0.012515,
     "end_time": "2021-07-07T06:25:38.201766",
     "exception": false,
     "start_time": "2021-07-07T06:25:38.189251",
     "status": "completed"
    },
    "tags": []
   },
   "source": [
    "<center>\n",
    "    This is Set 1: Datatable Introduction (Exercises 1-10) of <b>DatatableTon</b>: <i>💯 datatable exercises</i>\n",
    "    <br>\n",
    "    You can find all the exercises and solutions on <a href=\"https://github.com/vopani/datatableton#exercises-\">GitHub</a>\n",
    "</center>"
   ]
  },
  {
   "cell_type": "markdown",
   "id": "conditional-layout",
   "metadata": {
    "papermill": {
     "duration": 0.012639,
     "end_time": "2021-07-07T06:25:38.227099",
     "exception": false,
     "start_time": "2021-07-07T06:25:38.214460",
     "status": "completed"
    },
    "tags": []
   },
   "source": [
    "**Exercise 1: Install the latest version of datatable**"
   ]
  },
  {
   "cell_type": "code",
   "execution_count": null,
   "id": "elegant-programmer",
   "metadata": {
    "execution": {
     "iopub.execute_input": "2021-07-07T06:21:45.908579Z",
     "iopub.status.busy": "2021-07-07T06:21:45.907484Z",
     "iopub.status.idle": "2021-07-07T06:22:24.282200Z",
     "shell.execute_reply": "2021-07-07T06:22:24.280520Z",
     "shell.execute_reply.started": "2021-07-07T06:20:28.965644Z"
    },
    "papermill": {
     "duration": 0.013167,
     "end_time": "2021-07-07T06:25:38.254184",
     "exception": false,
     "start_time": "2021-07-07T06:25:38.241017",
     "status": "completed"
    },
    "tags": []
   },
   "outputs": [],
   "source": []
  },
  {
   "cell_type": "markdown",
   "id": "polyphonic-concept",
   "metadata": {
    "papermill": {
     "duration": 0.012494,
     "end_time": "2021-07-07T06:25:38.280071",
     "exception": false,
     "start_time": "2021-07-07T06:25:38.267577",
     "status": "completed"
    },
    "tags": []
   },
   "source": [
    "**Exercise 2: Import the datatable package as `dt`**"
   ]
  },
  {
   "cell_type": "code",
   "execution_count": null,
   "id": "transparent-meeting",
   "metadata": {
    "execution": {
     "iopub.execute_input": "2021-07-07T06:22:24.589283Z",
     "iopub.status.busy": "2021-07-07T06:22:24.588361Z",
     "iopub.status.idle": "2021-07-07T06:22:24.614891Z",
     "shell.execute_reply": "2021-07-07T06:22:24.614262Z",
     "shell.execute_reply.started": "2021-07-07T06:21:05.384879Z"
    },
    "papermill": {
     "duration": 0.012536,
     "end_time": "2021-07-07T06:25:38.307397",
     "exception": false,
     "start_time": "2021-07-07T06:25:38.294861",
     "status": "completed"
    },
    "tags": []
   },
   "outputs": [],
   "source": []
  },
  {
   "cell_type": "markdown",
   "id": "opposite-alias",
   "metadata": {
    "papermill": {
     "duration": 0.012227,
     "end_time": "2021-07-07T06:25:38.332197",
     "exception": false,
     "start_time": "2021-07-07T06:25:38.319970",
     "status": "completed"
    },
    "tags": []
   },
   "source": [
    "**Exercise 3: Display the version of the datatable package**"
   ]
  },
  {
   "cell_type": "code",
   "execution_count": null,
   "id": "defined-leadership",
   "metadata": {
    "execution": {
     "iopub.execute_input": "2021-07-07T06:22:24.922135Z",
     "iopub.status.busy": "2021-07-07T06:22:24.921194Z",
     "iopub.status.idle": "2021-07-07T06:22:24.925610Z",
     "shell.execute_reply": "2021-07-07T06:22:24.925021Z",
     "shell.execute_reply.started": "2021-07-07T06:21:07.676613Z"
    },
    "papermill": {
     "duration": 0.012969,
     "end_time": "2021-07-07T06:25:38.357765",
     "exception": false,
     "start_time": "2021-07-07T06:25:38.344796",
     "status": "completed"
    },
    "tags": []
   },
   "outputs": [],
   "source": []
  },
  {
   "cell_type": "markdown",
   "id": "complete-isaac",
   "metadata": {
    "papermill": {
     "duration": 0.013513,
     "end_time": "2021-07-07T06:25:38.388291",
     "exception": false,
     "start_time": "2021-07-07T06:25:38.374778",
     "status": "completed"
    },
    "tags": []
   },
   "source": [
    "**Exercise 4: Create an empty datatable frame and assign it to `data`**"
   ]
  },
  {
   "cell_type": "code",
   "execution_count": null,
   "id": "dominican-surveillance",
   "metadata": {
    "execution": {
     "iopub.execute_input": "2021-07-07T06:22:25.232509Z",
     "iopub.status.busy": "2021-07-07T06:22:25.231899Z",
     "iopub.status.idle": "2021-07-07T06:22:25.235175Z",
     "shell.execute_reply": "2021-07-07T06:22:25.234556Z",
     "shell.execute_reply.started": "2021-07-07T06:21:20.367765Z"
    },
    "papermill": {
     "duration": 0.013553,
     "end_time": "2021-07-07T06:25:38.415653",
     "exception": false,
     "start_time": "2021-07-07T06:25:38.402100",
     "status": "completed"
    },
    "tags": []
   },
   "outputs": [],
   "source": []
  },
  {
   "cell_type": "markdown",
   "id": "interstate-complex",
   "metadata": {
    "papermill": {
     "duration": 0.012498,
     "end_time": "2021-07-07T06:25:38.441930",
     "exception": false,
     "start_time": "2021-07-07T06:25:38.429432",
     "status": "completed"
    },
    "tags": []
   },
   "source": [
    "**Exercise 5: Create a frame with a column `v1` with integer values from 0 to 9, a column `v2` with values ['Y', 'O', 'U', 'C', 'A', 'N', 'D', 'O', 'I', 'T'] and assign it to `data`**"
   ]
  },
  {
   "cell_type": "code",
   "execution_count": null,
   "id": "authorized-disabled",
   "metadata": {
    "execution": {
     "iopub.execute_input": "2021-07-07T06:22:25.536792Z",
     "iopub.status.busy": "2021-07-07T06:22:25.536130Z",
     "iopub.status.idle": "2021-07-07T06:22:25.538611Z",
     "shell.execute_reply": "2021-07-07T06:22:25.538021Z",
     "shell.execute_reply.started": "2021-07-07T06:21:20.897395Z"
    },
    "papermill": {
     "duration": 0.013051,
     "end_time": "2021-07-07T06:25:38.467899",
     "exception": false,
     "start_time": "2021-07-07T06:25:38.454848",
     "status": "completed"
    },
    "tags": []
   },
   "outputs": [],
   "source": []
  },
  {
   "cell_type": "markdown",
   "id": "confirmed-payroll",
   "metadata": {
    "papermill": {
     "duration": 0.012372,
     "end_time": "2021-07-07T06:25:38.493022",
     "exception": false,
     "start_time": "2021-07-07T06:25:38.480650",
     "status": "completed"
    },
    "tags": []
   },
   "source": [
    "**Exercise 6: Display `data`**"
   ]
  },
  {
   "cell_type": "code",
   "execution_count": null,
   "id": "unlike-digit",
   "metadata": {
    "execution": {
     "iopub.execute_input": "2021-07-07T06:22:25.842100Z",
     "iopub.status.busy": "2021-07-07T06:22:25.841402Z",
     "iopub.status.idle": "2021-07-07T06:22:25.844262Z",
     "shell.execute_reply": "2021-07-07T06:22:25.844811Z",
     "shell.execute_reply.started": "2021-07-07T06:21:22.038249Z"
    },
    "papermill": {
     "duration": 0.012327,
     "end_time": "2021-07-07T06:25:38.518146",
     "exception": false,
     "start_time": "2021-07-07T06:25:38.505819",
     "status": "completed"
    },
    "tags": []
   },
   "outputs": [],
   "source": []
  },
  {
   "cell_type": "markdown",
   "id": "distant-trouble",
   "metadata": {
    "papermill": {
     "duration": 0.013061,
     "end_time": "2021-07-07T06:25:38.544235",
     "exception": false,
     "start_time": "2021-07-07T06:25:38.531174",
     "status": "completed"
    },
    "tags": []
   },
   "source": [
    "**Exercise 7: Display the first 5 rows and the last 3 rows of `data`**"
   ]
  },
  {
   "cell_type": "code",
   "execution_count": null,
   "id": "broadband-chrome",
   "metadata": {
    "execution": {
     "iopub.execute_input": "2021-07-07T06:22:26.147862Z",
     "iopub.status.busy": "2021-07-07T06:22:26.147222Z",
     "iopub.status.idle": "2021-07-07T06:22:26.151741Z",
     "shell.execute_reply": "2021-07-07T06:22:26.152251Z",
     "shell.execute_reply.started": "2021-07-06T07:03:04.153601Z"
    },
    "papermill": {
     "duration": 0.013146,
     "end_time": "2021-07-07T06:25:38.570235",
     "exception": false,
     "start_time": "2021-07-07T06:25:38.557089",
     "status": "completed"
    },
    "tags": []
   },
   "outputs": [],
   "source": []
  },
  {
   "cell_type": "code",
   "execution_count": null,
   "id": "incoming-visit",
   "metadata": {
    "execution": {
     "iopub.execute_input": "2021-07-07T06:22:26.304956Z",
     "iopub.status.busy": "2021-07-07T06:22:26.304331Z",
     "iopub.status.idle": "2021-07-07T06:22:26.309218Z",
     "shell.execute_reply": "2021-07-07T06:22:26.309810Z",
     "shell.execute_reply.started": "2021-07-06T07:03:05.022659Z"
    },
    "papermill": {
     "duration": 0.012992,
     "end_time": "2021-07-07T06:25:38.595908",
     "exception": false,
     "start_time": "2021-07-07T06:25:38.582916",
     "status": "completed"
    },
    "tags": []
   },
   "outputs": [],
   "source": []
  },
  {
   "cell_type": "markdown",
   "id": "adapted-familiar",
   "metadata": {
    "papermill": {
     "duration": 0.012366,
     "end_time": "2021-07-07T06:25:38.620822",
     "exception": false,
     "start_time": "2021-07-07T06:25:38.608456",
     "status": "completed"
    },
    "tags": []
   },
   "source": [
    "**Exercise 8: Display the number of rows and number of columns in `data`**"
   ]
  },
  {
   "cell_type": "code",
   "execution_count": null,
   "id": "functional-restoration",
   "metadata": {
    "execution": {
     "iopub.execute_input": "2021-07-07T06:22:26.614759Z",
     "iopub.status.busy": "2021-07-07T06:22:26.614117Z",
     "iopub.status.idle": "2021-07-07T06:22:26.618264Z",
     "shell.execute_reply": "2021-07-07T06:22:26.618798Z",
     "shell.execute_reply.started": "2021-07-06T07:03:07.529202Z"
    },
    "papermill": {
     "duration": 0.01223,
     "end_time": "2021-07-07T06:25:38.647209",
     "exception": false,
     "start_time": "2021-07-07T06:25:38.634979",
     "status": "completed"
    },
    "tags": []
   },
   "outputs": [],
   "source": []
  },
  {
   "cell_type": "code",
   "execution_count": null,
   "id": "impressed-belle",
   "metadata": {
    "execution": {
     "iopub.execute_input": "2021-07-07T06:22:26.773541Z",
     "iopub.status.busy": "2021-07-07T06:22:26.772937Z",
     "iopub.status.idle": "2021-07-07T06:22:26.778184Z",
     "shell.execute_reply": "2021-07-07T06:22:26.777697Z",
     "shell.execute_reply.started": "2021-07-06T07:03:08.103302Z"
    },
    "papermill": {
     "duration": 0.012309,
     "end_time": "2021-07-07T06:25:38.672151",
     "exception": false,
     "start_time": "2021-07-07T06:25:38.659842",
     "status": "completed"
    },
    "tags": []
   },
   "outputs": [],
   "source": []
  },
  {
   "cell_type": "markdown",
   "id": "molecular-wright",
   "metadata": {
    "papermill": {
     "duration": 0.013482,
     "end_time": "2021-07-07T06:25:38.698323",
     "exception": false,
     "start_time": "2021-07-07T06:25:38.684841",
     "status": "completed"
    },
    "tags": []
   },
   "source": [
    "**Exercise 9: Display the shape of `data`**"
   ]
  },
  {
   "cell_type": "code",
   "execution_count": null,
   "id": "minimal-cornell",
   "metadata": {
    "execution": {
     "iopub.execute_input": "2021-07-07T06:22:27.086089Z",
     "iopub.status.busy": "2021-07-07T06:22:27.085217Z",
     "iopub.status.idle": "2021-07-07T06:22:27.088630Z",
     "shell.execute_reply": "2021-07-07T06:22:27.089137Z",
     "shell.execute_reply.started": "2021-07-06T07:03:09.755932Z"
    },
    "papermill": {
     "duration": 0.013086,
     "end_time": "2021-07-07T06:25:38.724169",
     "exception": false,
     "start_time": "2021-07-07T06:25:38.711083",
     "status": "completed"
    },
    "tags": []
   },
   "outputs": [],
   "source": []
  },
  {
   "cell_type": "markdown",
   "id": "impressive-defense",
   "metadata": {
    "papermill": {
     "duration": 0.01215,
     "end_time": "2021-07-07T06:25:38.749319",
     "exception": false,
     "start_time": "2021-07-07T06:25:38.737169",
     "status": "completed"
    },
    "tags": []
   },
   "source": [
    "**Exercise 10: Display the column names of `data`**"
   ]
  },
  {
   "cell_type": "code",
   "execution_count": null,
   "id": "executed-tulsa",
   "metadata": {
    "execution": {
     "iopub.execute_input": "2021-07-07T06:22:27.397070Z",
     "iopub.status.busy": "2021-07-07T06:22:27.396113Z",
     "iopub.status.idle": "2021-07-07T06:22:27.401002Z",
     "shell.execute_reply": "2021-07-07T06:22:27.401504Z",
     "shell.execute_reply.started": "2021-07-06T07:03:15.221534Z"
    },
    "papermill": {
     "duration": 0.012154,
     "end_time": "2021-07-07T06:25:38.774192",
     "exception": false,
     "start_time": "2021-07-07T06:25:38.762038",
     "status": "completed"
    },
    "tags": []
   },
   "outputs": [],
   "source": []
  },
  {
   "cell_type": "markdown",
   "id": "endangered-physiology",
   "metadata": {
    "papermill": {
     "duration": 0.013236,
     "end_time": "2021-07-07T06:25:38.799963",
     "exception": false,
     "start_time": "2021-07-07T06:25:38.786727",
     "status": "completed"
    },
    "tags": []
   },
   "source": [
    "✅ This completes Set 1: Datatable Introduction (Exercises 1-10) of **DatatableTon**: *💯 datatable exercises*\n",
    "\n",
    "#### Set 02 • Files and Formats • Beginner • Exercises 11-20\n",
    "\n",
    "| Style | Colab | Kaggle | Binder | GitHub |\n",
    "| ----- | ----- | ------ | ------ | ------ |\n",
    "| Exercises | [![Open in Colab](https://img.shields.io/static/v1?label=&message=Open%20in%20Colab&labelColor=grey&color=blue&logo=google-colab)](https://colab.research.google.com/github/vopani/datatableton/blob/main/notebooks/02_files_and_formats_exercises.ipynb) | [![Open in Kaggle](https://img.shields.io/static/v1?label=&message=Open%20in%20Kaggle&labelColor=grey&color=blue&logo=kaggle)](https://www.kaggle.com/rohanrao/datatableton-files-and-formats-exercises) | [![Open in Binder](https://img.shields.io/static/v1?label=&message=Open%20in%20Binder&labelColor=grey&color=blue&logo=data:image/png;base64,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)](https://mybinder.org/v2/gh/vopani/datatableton/main?filepath=notebooks%2F02_files_and_formats_exercises.ipynb) | [![Open in GitHub](https://img.shields.io/static/v1?label=&message=Open%20in%20GitHub&labelColor=grey&color=blue&logo=github)](https://github.com/vopani/datatableton/blob/main/notebooks/02_files_and_formats_exercises.ipynb) |\n",
    "| Solutions | [![Open in Colab](https://img.shields.io/static/v1?label=&message=Open%20in%20Colab&labelColor=grey&color=blue&logo=google-colab)](https://colab.research.google.com/github/vopani/datatableton/blob/main/notebooks/02_files_and_formats_solutions.ipynb) | [![Open in Kaggle](https://img.shields.io/static/v1?label=&message=Open%20in%20Kaggle&labelColor=grey&color=blue&logo=kaggle)](https://www.kaggle.com/rohanrao/datatableton-files-and-formats-solutions) | [![Open in Binder](https://img.shields.io/static/v1?label=&message=Open%20in%20Binder&labelColor=grey&color=blue&logo=data:image/png;base64,iVBORw0KGgoAAAANSUhEUgAAAFkAAABZCAMAAABi1XidAAAB8lBMVEX///9XmsrmZYH1olJXmsr1olJXmsrmZYH1olJXmsr1olJXmsrmZYH1olL1olJXmsr1olJXmsrmZYH1olL1olJXmsrmZYH1olJXmsr1olL1olJXmsrmZYH1olL1olJXmsrmZYH1olL1olL0nFf1olJXmsrmZYH1olJXmsq8dZb1olJXmsrmZYH1olJXmspXmspXmsr1olL1olJXmsrmZYH1olJXmsr1olL1olJXmsrmZYH1olL1olLeaIVXmsrmZYH1olL1olL1olJXmsrmZYH1olLna31Xmsr1olJXmsr1olJXmsrmZYH1olLqoVr1olJXmsr1olJXmsrmZYH1olL1olKkfaPobXvviGabgadXmsqThKuofKHmZ4Dobnr1olJXmsr1olJXmspXmsr1olJXmsrfZ4TuhWn1olL1olJXmsqBi7X1olJXmspZmslbmMhbmsdemsVfl8ZgmsNim8Jpk8F0m7R4m7F5nLB6jbh7jbiDirOEibOGnKaMhq+PnaCVg6qWg6qegKaff6WhnpKofKGtnomxeZy3noG6dZi+n3vCcpPDcpPGn3bLb4/Mb47UbIrVa4rYoGjdaIbeaIXhoWHmZYHobXvpcHjqdHXreHLroVrsfG/uhGnuh2bwj2Hxk17yl1vzmljzm1j0nlX1olL3AJXWAAAAbXRSTlMAEBAQHx8gICAuLjAwMDw9PUBAQEpQUFBXV1hgYGBkcHBwcXl8gICAgoiIkJCQlJicnJ2goKCmqK+wsLC4usDAwMjP0NDQ1NbW3Nzg4ODi5+3v8PDw8/T09PX29vb39/f5+fr7+/z8/Pz9/v7+zczCxgAABC5JREFUeAHN1ul3k0UUBvCb1CTVpmpaitAGSLSpSuKCLWpbTKNJFGlcSMAFF63iUmRccNG6gLbuxkXU66JAUef/9LSpmXnyLr3T5AO/rzl5zj137p136BISy44fKJXuGN/d19PUfYeO67Znqtf2KH33Id1psXoFdW30sPZ1sMvs2D060AHqws4FHeJojLZqnw53cmfvg+XR8mC0OEjuxrXEkX5ydeVJLVIlV0e10PXk5k7dYeHu7Cj1j+49uKg7uLU61tGLw1lq27ugQYlclHC4bgv7VQ+TAyj5Zc/UjsPvs1sd5cWryWObtvWT2EPa4rtnWW3JkpjggEpbOsPr7F7EyNewtpBIslA7p43HCsnwooXTEc3UmPmCNn5lrqTJxy6nRmcavGZVt/3Da2pD5NHvsOHJCrdc1G2r3DITpU7yic7w/7Rxnjc0kt5GC4djiv2Sz3Fb2iEZg41/ddsFDoyuYrIkmFehz0HR2thPgQqMyQYb2OtB0WxsZ3BeG3+wpRb1vzl2UYBog8FfGhttFKjtAclnZYrRo9ryG9uG/FZQU4AEg8ZE9LjGMzTmqKXPLnlWVnIlQQTvxJf8ip7VgjZjyVPrjw1te5otM7RmP7xm+sK2Gv9I8Gi++BRbEkR9EBw8zRUcKxwp73xkaLiqQb+kGduJTNHG72zcW9LoJgqQxpP3/Tj//c3yB0tqzaml05/+orHLksVO+95kX7/7qgJvnjlrfr2Ggsyx0eoy9uPzN5SPd86aXggOsEKW2Prz7du3VID3/tzs/sSRs2w7ovVHKtjrX2pd7ZMlTxAYfBAL9jiDwfLkq55Tm7ifhMlTGPyCAs7RFRhn47JnlcB9RM5T97ASuZXIcVNuUDIndpDbdsfrqsOppeXl5Y+XVKdjFCTh+zGaVuj0d9zy05PPK3QzBamxdwtTCrzyg/2Rvf2EstUjordGwa/kx9mSJLr8mLLtCW8HHGJc2R5hS219IiF6PnTusOqcMl57gm0Z8kanKMAQg0qSyuZfn7zItsbGyO9QlnxY0eCuD1XL2ys/MsrQhltE7Ug0uFOzufJFE2PxBo/YAx8XPPdDwWN0MrDRYIZF0mSMKCNHgaIVFoBbNoLJ7tEQDKxGF0kcLQimojCZopv0OkNOyWCCg9XMVAi7ARJzQdM2QUh0gmBozjc3Skg6dSBRqDGYSUOu66Zg+I2fNZs/M3/f/Grl/XnyF1Gw3VKCez0PN5IUfFLqvgUN4C0qNqYs5YhPL+aVZYDE4IpUk57oSFnJm4FyCqqOE0jhY2SMyLFoo56zyo6becOS5UVDdj7Vih0zp+tcMhwRpBeLyqtIjlJKAIZSbI8SGSF3k0pA3mR5tHuwPFoa7N7reoq2bqCsAk1HqCu5uvI1n6JuRXI+S1Mco54YmYTwcn6Aeic+kssXi8XpXC4V3t7/ADuTNKaQJdScAAAAAElFTkSuQmCC)](https://mybinder.org/v2/gh/vopani/datatableton/main?filepath=notebooks%2F02_files_and_formats_solutions.ipynb) | [![Open in GitHub](https://img.shields.io/static/v1?label=&message=Open%20in%20GitHub&labelColor=grey&color=blue&logo=github)](https://github.com/vopani/datatableton/blob/main/notebooks/02_files_and_formats_solutions.ipynb) |\n",
    "\n",
    "You can find all the exercises and solutions on [GitHub](https://github.com/vopani/datatableton#exercises-)"
   ]
  }
 ],
 "metadata": {
  "kernelspec": {
   "display_name": "Python 3",
   "language": "python",
   "name": "python3"
  },
  "language_info": {
   "codemirror_mode": {
    "name": "ipython",
    "version": 3
   },
   "file_extension": ".py",
   "mimetype": "text/x-python",
   "name": "python",
   "nbconvert_exporter": "python",
   "pygments_lexer": "ipython3",
   "version": "3.7.10"
  },
  "papermill": {
   "default_parameters": {},
   "duration": 9.893322,
   "end_time": "2021-07-07T06:25:40.070449",
   "environment_variables": {},
   "exception": null,
   "input_path": "__notebook__.ipynb",
   "output_path": "__notebook__.ipynb",
   "parameters": {},
   "start_time": "2021-07-07T06:25:30.177127",
   "version": "2.3.3"
  }
 },
 "nbformat": 4,
 "nbformat_minor": 5
}
