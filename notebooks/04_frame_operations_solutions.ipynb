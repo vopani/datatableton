{
 "cells": [
  {
   "cell_type": "markdown",
   "id": "4e74d48c",
   "metadata": {
    "_cell_guid": "b1076dfc-b9ad-4769-8c92-a6c4dae69d19",
    "_uuid": "8f2839f25d086af736a60e9eeb907d3b93b6e0e5",
    "papermill": {
     "duration": 0.019516,
     "end_time": "2021-07-15T18:24:39.587647",
     "exception": false,
     "start_time": "2021-07-15T18:24:39.568131",
     "status": "completed"
    },
    "tags": []
   },
   "source": [
    "<center>\n",
    "    <h1>DatatableTon</h1>\n",
    "    💯 datatable exercises\n",
    "    <br>\n",
    "    <br>\n",
    "    <a href='https://github.com/vopani/datatableton/blob/master/LICENSE'>\n",
    "        <img src='https://img.shields.io/badge/license-Apache%202.0-blue.svg?logo=apache'>\n",
    "    </a>\n",
    "    <a href='https://github.com/vopani/datatableton'>\n",
    "        <img src='https://img.shields.io/github/stars/vopani/datatableton?color=yellowgreen&logo=github'>\n",
    "    </a>\n",
    "    <a href='https://twitter.com/vopani'>\n",
    "        <img src='https://img.shields.io/twitter/follow/vopani'>\n",
    "    </a>\n",
    "</center>"
   ]
  },
  {
   "cell_type": "markdown",
   "id": "9e1630ef",
   "metadata": {
    "papermill": {
     "duration": 0.018035,
     "end_time": "2021-07-15T18:24:39.624059",
     "exception": false,
     "start_time": "2021-07-15T18:24:39.606024",
     "status": "completed"
    },
    "tags": []
   },
   "source": [
    "<center>\n",
    "    This is Set 4: Frame Operations (Exercises 31-40) of <b>DatatableTon</b>: <i>💯 datatable exercises</i>\n",
    "    <br>\n",
    "    You can find all the exercises and solutions on <a href=\"https://github.com/vopani/datatableton#exercises-\">GitHub</a>\n",
    "</center>"
   ]
  },
  {
   "cell_type": "markdown",
   "id": "eab02ba0",
   "metadata": {
    "papermill": {
     "duration": 0.017555,
     "end_time": "2021-07-15T18:24:39.659941",
     "exception": false,
     "start_time": "2021-07-15T18:24:39.642386",
     "status": "completed"
    },
    "tags": []
   },
   "source": [
    "**Prerequisites**\n",
    "* The `datatable` package should be upgraded to the latest version (or v1.0.0+).\n",
    "* The sample dataset [titanic](https://www.openml.org/d/40945) from openml will be used for the exercises."
   ]
  },
  {
   "cell_type": "code",
   "execution_count": 1,
   "id": "5efe3e73",
   "metadata": {
    "_kg_hide-output": true,
    "execution": {
     "iopub.execute_input": "2021-07-15T18:24:39.700267Z",
     "iopub.status.busy": "2021-07-15T18:24:39.699102Z",
     "iopub.status.idle": "2021-07-15T18:25:15.476596Z",
     "shell.execute_reply": "2021-07-15T18:25:15.475268Z",
     "shell.execute_reply.started": "2021-07-13T05:58:15.965858Z"
    },
    "papermill": {
     "duration": 35.798946,
     "end_time": "2021-07-15T18:25:15.476809",
     "exception": false,
     "start_time": "2021-07-15T18:24:39.677863",
     "status": "completed"
    },
    "tags": []
   },
   "outputs": [
    {
     "name": "stdout",
     "output_type": "stream",
     "text": [
      "Requirement already satisfied: pip in /opt/conda/lib/python3.7/site-packages (21.1.2)\r\n",
      "Collecting pip\r\n",
      "  Downloading pip-21.1.3-py3-none-any.whl (1.5 MB)\r\n",
      "\u001b[K     |████████████████████████████████| 1.5 MB 1.2 MB/s \r\n",
      "\u001b[?25hInstalling collected packages: pip\r\n",
      "  Attempting uninstall: pip\r\n",
      "    Found existing installation: pip 21.1.2\r\n",
      "    Uninstalling pip-21.1.2:\r\n",
      "      Successfully uninstalled pip-21.1.2\r\n",
      "Successfully installed pip-21.1.3\r\n",
      "\u001b[33mWARNING: Running pip as root will break packages and permissions. You should install packages reliably by using venv: https://pip.pypa.io/warnings/venv\u001b[0m\r\n",
      "Requirement already satisfied: datatable in /opt/conda/lib/python3.7/site-packages (1.0.0)\r\n",
      "\u001b[33mWARNING: Running pip as the 'root' user can result in broken permissions and conflicting behaviour with the system package manager. It is recommended to use a virtual environment instead: https://pip.pypa.io/warnings/venv\u001b[0m\r\n",
      "--2021-07-15 18:25:14--  https://www.openml.org/data/get_csv/16826755/titanic.csv\r\n",
      "Resolving www.openml.org (www.openml.org)... 131.155.11.11\r\n",
      "Connecting to www.openml.org (www.openml.org)|131.155.11.11|:443... connected.\r\n",
      "HTTP request sent, awaiting response... 200 OK\r\n",
      "Length: unspecified [text/plain]\r\n",
      "Saving to: ‘titanic.csv’\r\n",
      "\r\n",
      "titanic.csv             [  <=>               ] 114.98K   282KB/s    in 0.4s    \r\n",
      "\r\n",
      "2021-07-15 18:25:15 (282 KB/s) - ‘titanic.csv’ saved [117743]\r\n",
      "\r\n"
     ]
    }
   ],
   "source": [
    "!python3 -m pip install -U pip\n",
    "!python3 -m pip install -U datatable\n",
    "!wget https://www.openml.org/data/get_csv/16826755/titanic.csv"
   ]
  },
  {
   "cell_type": "code",
   "execution_count": 2,
   "id": "9f222886",
   "metadata": {
    "execution": {
     "iopub.execute_input": "2021-07-15T18:25:15.535143Z",
     "iopub.status.busy": "2021-07-15T18:25:15.534465Z",
     "iopub.status.idle": "2021-07-15T18:25:15.742974Z",
     "shell.execute_reply": "2021-07-15T18:25:15.742347Z",
     "shell.execute_reply.started": "2021-07-13T05:58:26.396318Z"
    },
    "papermill": {
     "duration": 0.239614,
     "end_time": "2021-07-15T18:25:15.743115",
     "exception": false,
     "start_time": "2021-07-15T18:25:15.503501",
     "status": "completed"
    },
    "tags": []
   },
   "outputs": [
    {
     "data": {
      "text/html": [
       "<style type='text/css'>\n",
       ".datatable table.frame { margin-bottom: 0; }\n",
       ".datatable table.frame thead { border-bottom: none; }\n",
       ".datatable table.frame tr.coltypes td {  color: #FFFFFF;  line-height: 6px;  padding: 0 0.5em;}\n",
       ".datatable .bool    { background: #DDDD99; }\n",
       ".datatable .object  { background: #565656; }\n",
       ".datatable .int     { background: #5D9E5D; }\n",
       ".datatable .float   { background: #4040CC; }\n",
       ".datatable .str     { background: #CC4040; }\n",
       ".datatable .time    { background: #40CC40; }\n",
       ".datatable .row_index {  background: var(--jp-border-color3);  border-right: 1px solid var(--jp-border-color0);  color: var(--jp-ui-font-color3);  font-size: 9px;}\n",
       ".datatable .frame tbody td { text-align: left; }\n",
       ".datatable .frame tr.coltypes .row_index {  background: var(--jp-border-color0);}\n",
       ".datatable th:nth-child(2) { padding-left: 12px; }\n",
       ".datatable .hellipsis {  color: var(--jp-cell-editor-border-color);}\n",
       ".datatable .vellipsis {  background: var(--jp-layout-color0);  color: var(--jp-cell-editor-border-color);}\n",
       ".datatable .na {  color: var(--jp-cell-editor-border-color);  font-size: 80%;}\n",
       ".datatable .sp {  opacity: 0.25;}\n",
       ".datatable .footer { font-size: 9px; }\n",
       ".datatable .frame_dimensions {  background: var(--jp-border-color3);  border-top: 1px solid var(--jp-border-color0);  color: var(--jp-ui-font-color3);  display: inline-block;  opacity: 0.6;  padding: 1px 10px 1px 5px;}\n",
       "</style>\n"
      ],
      "text/plain": [
       "<IPython.core.display.HTML object>"
      ]
     },
     "metadata": {},
     "output_type": "display_data"
    },
    {
     "data": {
      "text/html": [
       "<div class='datatable'>\n",
       "  <table class='frame'>\n",
       "  <thead>\n",
       "    <tr class='colnames'><td class='row_index'></td><th>pclass</th><th>survived</th><th>name</th><th>sex</th><th>age</th><th>sibsp</th><th>parch</th><th>ticket</th><th>fare</th><th>cabin</th><th>embarked</th><th>boat</th><th>body</th><th>home.dest</th></tr>\n",
       "    <tr class='coltypes'><td class='row_index'></td><td class='int' title='int32'>&#x25AA;&#x25AA;&#x25AA;&#x25AA;</td><td class='bool' title='bool8'>&#x25AA;</td><td class='str' title='str32'>&#x25AA;&#x25AA;&#x25AA;&#x25AA;</td><td class='str' title='str32'>&#x25AA;&#x25AA;&#x25AA;&#x25AA;</td><td class='str' title='str32'>&#x25AA;&#x25AA;&#x25AA;&#x25AA;</td><td class='int' title='int32'>&#x25AA;&#x25AA;&#x25AA;&#x25AA;</td><td class='int' title='int32'>&#x25AA;&#x25AA;&#x25AA;&#x25AA;</td><td class='str' title='str32'>&#x25AA;&#x25AA;&#x25AA;&#x25AA;</td><td class='str' title='str32'>&#x25AA;&#x25AA;&#x25AA;&#x25AA;</td><td class='str' title='str32'>&#x25AA;&#x25AA;&#x25AA;&#x25AA;</td><td class='str' title='str32'>&#x25AA;&#x25AA;&#x25AA;&#x25AA;</td><td class='str' title='str32'>&#x25AA;&#x25AA;&#x25AA;&#x25AA;</td><td class='str' title='str32'>&#x25AA;&#x25AA;&#x25AA;&#x25AA;</td><td class='str' title='str32'>&#x25AA;&#x25AA;&#x25AA;&#x25AA;</td></tr>\n",
       "  </thead>\n",
       "  <tbody>\n",
       "    <tr><td class='row_index'>0</td><td>1</td><td>1</td><td>Allen, Miss. Elisabeth Walton</td><td>female</td><td>29</td><td>0</td><td>0</td><td>24160</td><td>211.3375</td><td>B5</td><td>S</td><td>2</td><td>?</td><td>St Louis, MO</td></tr>\n",
       "    <tr><td class='row_index'>1</td><td>1</td><td>1</td><td>Allison, Master. Hudson Trevor</td><td>male</td><td>0.9167</td><td>1</td><td>2</td><td>113781</td><td>151.55</td><td>C22 C26</td><td>S</td><td>11</td><td>?</td><td>Montreal, PQ / Chesterville, ON</td></tr>\n",
       "    <tr><td class='row_index'>2</td><td>1</td><td>0</td><td>Allison, Miss. Helen Loraine</td><td>female</td><td>2</td><td>1</td><td>2</td><td>113781</td><td>151.55</td><td>C22 C26</td><td>S</td><td>?</td><td>?</td><td>Montreal, PQ / Chesterville, ON</td></tr>\n",
       "    <tr><td class='row_index'>3</td><td>1</td><td>0</td><td>Allison, Mr. Hudson Joshua Creighton</td><td>male</td><td>30</td><td>1</td><td>2</td><td>113781</td><td>151.55</td><td>C22 C26</td><td>S</td><td>?</td><td>135</td><td>Montreal, PQ / Chesterville, ON</td></tr>\n",
       "    <tr><td class='row_index'>4</td><td>1</td><td>0</td><td>Allison, Mrs. Hudson J C (Bessie Waldo Daniels)</td><td>female</td><td>25</td><td>1</td><td>2</td><td>113781</td><td>151.55</td><td>C22 C26</td><td>S</td><td>?</td><td>?</td><td>Montreal, PQ / Chesterville, ON</td></tr>\n",
       "    <tr><td class='row_index'>5</td><td>1</td><td>1</td><td>Anderson, Mr. Harry</td><td>male</td><td>48</td><td>0</td><td>0</td><td>19952</td><td>26.55</td><td>E12</td><td>S</td><td>3</td><td>?</td><td>New York, NY</td></tr>\n",
       "    <tr><td class='row_index'>6</td><td>1</td><td>1</td><td>Andrews, Miss. Kornelia Theodosia</td><td>female</td><td>63</td><td>1</td><td>0</td><td>13502</td><td>77.9583</td><td>D7</td><td>S</td><td>10</td><td>?</td><td>Hudson, NY</td></tr>\n",
       "    <tr><td class='row_index'>7</td><td>1</td><td>0</td><td>Andrews, Mr. Thomas Jr</td><td>male</td><td>39</td><td>0</td><td>0</td><td>112050</td><td>0</td><td>A36</td><td>S</td><td>?</td><td>?</td><td>Belfast, NI</td></tr>\n",
       "    <tr><td class='row_index'>8</td><td>1</td><td>1</td><td>Appleton, Mrs. Edward Dale (Charlotte Lamson)</td><td>female</td><td>53</td><td>2</td><td>0</td><td>11769</td><td>51.4792</td><td>C101</td><td>S</td><td>D</td><td>?</td><td>Bayside, Queens, NY</td></tr>\n",
       "    <tr><td class='row_index'>9</td><td>1</td><td>0</td><td>Artagaveytia, Mr. Ramon</td><td>male</td><td>71</td><td>0</td><td>0</td><td>PC 17609</td><td>49.5042</td><td>?</td><td>C</td><td>?</td><td>22</td><td>Montevideo, Uruguay</td></tr>\n",
       "  </tbody>\n",
       "  </table>\n",
       "  <div class='footer'>\n",
       "    <div class='frame_dimensions'>10 rows &times; 14 columns</div>\n",
       "  </div>\n",
       "</div>\n"
      ],
      "text/plain": [
       "<Frame#7ff712b66270 10x14>"
      ]
     },
     "execution_count": 2,
     "metadata": {},
     "output_type": "execute_result"
    }
   ],
   "source": [
    "import datatable as dt\n",
    "\n",
    "data = dt.fread('titanic.csv')\n",
    "data.head()"
   ]
  },
  {
   "cell_type": "markdown",
   "id": "b54f9937",
   "metadata": {
    "execution": {
     "iopub.execute_input": "2021-07-12T10:35:52.5097Z",
     "iopub.status.busy": "2021-07-12T10:35:52.509278Z",
     "iopub.status.idle": "2021-07-12T10:35:52.517897Z",
     "shell.execute_reply": "2021-07-12T10:35:52.51596Z",
     "shell.execute_reply.started": "2021-07-12T10:35:52.509666Z"
    },
    "papermill": {
     "duration": 0.02653,
     "end_time": "2021-07-15T18:25:15.796644",
     "exception": false,
     "start_time": "2021-07-15T18:25:15.770114",
     "status": "completed"
    },
    "tags": []
   },
   "source": [
    "**Exercise 31: Print all the column names and column types of `data` in `column-name : column-type` format**"
   ]
  },
  {
   "cell_type": "code",
   "execution_count": 3,
   "id": "34b01f70",
   "metadata": {
    "execution": {
     "iopub.execute_input": "2021-07-15T18:25:15.856866Z",
     "iopub.status.busy": "2021-07-15T18:25:15.855776Z",
     "iopub.status.idle": "2021-07-15T18:25:15.861276Z",
     "shell.execute_reply": "2021-07-15T18:25:15.860743Z",
     "shell.execute_reply.started": "2021-07-13T05:58:26.63898Z"
    },
    "papermill": {
     "duration": 0.037285,
     "end_time": "2021-07-15T18:25:15.861411",
     "exception": false,
     "start_time": "2021-07-15T18:25:15.824126",
     "status": "completed"
    },
    "tags": []
   },
   "outputs": [
    {
     "name": "stdout",
     "output_type": "stream",
     "text": [
      "pclass : int32\n",
      "survived : bool8\n",
      "name : str32\n",
      "sex : str32\n",
      "age : str32\n",
      "sibsp : int32\n",
      "parch : int32\n",
      "ticket : str32\n",
      "fare : str32\n",
      "cabin : str32\n",
      "embarked : str32\n",
      "boat : str32\n",
      "body : str32\n",
      "home.dest : str32\n"
     ]
    }
   ],
   "source": [
    "for i in range(data.ncols):\n",
    "    print(f'{data.names[i]} : {data.types[i].name}')"
   ]
  },
  {
   "cell_type": "markdown",
   "id": "7970e6f9",
   "metadata": {
    "papermill": {
     "duration": 0.027597,
     "end_time": "2021-07-15T18:25:15.916293",
     "exception": false,
     "start_time": "2021-07-15T18:25:15.888696",
     "status": "completed"
    },
    "tags": []
   },
   "source": [
    "**Exercise 32: Convert the type of column `age` in `data` from `str32` to `float`**"
   ]
  },
  {
   "cell_type": "code",
   "execution_count": 4,
   "id": "ec9a9cdc",
   "metadata": {
    "execution": {
     "iopub.execute_input": "2021-07-15T18:25:15.977253Z",
     "iopub.status.busy": "2021-07-15T18:25:15.976332Z",
     "iopub.status.idle": "2021-07-15T18:25:15.980138Z",
     "shell.execute_reply": "2021-07-15T18:25:15.980600Z",
     "shell.execute_reply.started": "2021-07-13T05:58:32.942534Z"
    },
    "papermill": {
     "duration": 0.037083,
     "end_time": "2021-07-15T18:25:15.980785",
     "exception": false,
     "start_time": "2021-07-15T18:25:15.943702",
     "status": "completed"
    },
    "tags": []
   },
   "outputs": [
    {
     "data": {
      "text/plain": [
       "'float64'"
      ]
     },
     "execution_count": 4,
     "metadata": {},
     "output_type": "execute_result"
    }
   ],
   "source": [
    "data['age'] = dt.as_type(dt.f.age, float)\n",
    "data['age'].types[0].name"
   ]
  },
  {
   "cell_type": "markdown",
   "id": "6bff3b27",
   "metadata": {
    "papermill": {
     "duration": 0.027784,
     "end_time": "2021-07-15T18:25:16.035967",
     "exception": false,
     "start_time": "2021-07-15T18:25:16.008183",
     "status": "completed"
    },
    "tags": []
   },
   "source": [
    "**Exercise 33: Rename the column `home.dest` in `data` to `address`**"
   ]
  },
  {
   "cell_type": "code",
   "execution_count": 5,
   "id": "b9fd502e",
   "metadata": {
    "execution": {
     "iopub.execute_input": "2021-07-15T18:25:16.097613Z",
     "iopub.status.busy": "2021-07-15T18:25:16.096677Z",
     "iopub.status.idle": "2021-07-15T18:25:16.101229Z",
     "shell.execute_reply": "2021-07-15T18:25:16.100685Z",
     "shell.execute_reply.started": "2021-07-13T05:58:34.027487Z"
    },
    "papermill": {
     "duration": 0.037728,
     "end_time": "2021-07-15T18:25:16.101367",
     "exception": false,
     "start_time": "2021-07-15T18:25:16.063639",
     "status": "completed"
    },
    "tags": []
   },
   "outputs": [
    {
     "data": {
      "text/plain": [
       "('pclass',\n",
       " 'survived',\n",
       " 'name',\n",
       " 'sex',\n",
       " 'age',\n",
       " 'sibsp',\n",
       " 'parch',\n",
       " 'ticket',\n",
       " 'fare',\n",
       " 'cabin',\n",
       " 'embarked',\n",
       " 'boat',\n",
       " 'body',\n",
       " 'address')"
      ]
     },
     "execution_count": 5,
     "metadata": {},
     "output_type": "execute_result"
    }
   ],
   "source": [
    "data.names = {'home.dest': 'address'}\n",
    "data.names"
   ]
  },
  {
   "cell_type": "markdown",
   "id": "f13a7485",
   "metadata": {
    "papermill": {
     "duration": 0.027465,
     "end_time": "2021-07-15T18:25:16.157749",
     "exception": false,
     "start_time": "2021-07-15T18:25:16.130284",
     "status": "completed"
    },
    "tags": []
   },
   "source": [
    "**Exercise 34: Sort `data` in descending order of `fare`**"
   ]
  },
  {
   "cell_type": "code",
   "execution_count": 6,
   "id": "46059411",
   "metadata": {
    "execution": {
     "iopub.execute_input": "2021-07-15T18:25:16.299047Z",
     "iopub.status.busy": "2021-07-15T18:25:16.298280Z",
     "iopub.status.idle": "2021-07-15T18:25:16.305632Z",
     "shell.execute_reply": "2021-07-15T18:25:16.306172Z",
     "shell.execute_reply.started": "2021-07-13T05:59:43.688133Z"
    },
    "papermill": {
     "duration": 0.120713,
     "end_time": "2021-07-15T18:25:16.306374",
     "exception": false,
     "start_time": "2021-07-15T18:25:16.185661",
     "status": "completed"
    },
    "tags": []
   },
   "outputs": [
    {
     "data": {
      "text/html": [
       "<div class='datatable'>\n",
       "  <table class='frame'>\n",
       "  <thead>\n",
       "    <tr class='colnames'><td class='row_index'></td><th>pclass</th><th>survived</th><th>name</th><th>sex</th><th>age</th><th>sibsp</th><th>parch</th><th>ticket</th><th>fare</th><th>cabin</th><th>embarked</th><th>boat</th><th>body</th><th>address</th></tr>\n",
       "    <tr class='coltypes'><td class='row_index'></td><td class='int' title='int32'>&#x25AA;&#x25AA;&#x25AA;&#x25AA;</td><td class='bool' title='bool8'>&#x25AA;</td><td class='str' title='str32'>&#x25AA;&#x25AA;&#x25AA;&#x25AA;</td><td class='str' title='str32'>&#x25AA;&#x25AA;&#x25AA;&#x25AA;</td><td class='float' title='float64'>&#x25AA;&#x25AA;&#x25AA;&#x25AA;&#x25AA;&#x25AA;&#x25AA;&#x25AA;</td><td class='int' title='int32'>&#x25AA;&#x25AA;&#x25AA;&#x25AA;</td><td class='int' title='int32'>&#x25AA;&#x25AA;&#x25AA;&#x25AA;</td><td class='str' title='str32'>&#x25AA;&#x25AA;&#x25AA;&#x25AA;</td><td class='str' title='str32'>&#x25AA;&#x25AA;&#x25AA;&#x25AA;</td><td class='str' title='str32'>&#x25AA;&#x25AA;&#x25AA;&#x25AA;</td><td class='str' title='str32'>&#x25AA;&#x25AA;&#x25AA;&#x25AA;</td><td class='str' title='str32'>&#x25AA;&#x25AA;&#x25AA;&#x25AA;</td><td class='str' title='str32'>&#x25AA;&#x25AA;&#x25AA;&#x25AA;</td><td class='str' title='str32'>&#x25AA;&#x25AA;&#x25AA;&#x25AA;</td></tr>\n",
       "  </thead>\n",
       "  <tbody>\n",
       "    <tr><td class='row_index'>0</td><td>3</td><td>0</td><td>Storey, Mr. Thomas</td><td>male</td><td>60.5</td><td>0</td><td>0</td><td>3701</td><td>?</td><td>?</td><td>S</td><td>?</td><td>261</td><td>?</td></tr>\n",
       "    <tr><td class='row_index'>1</td><td>1</td><td>1</td><td>Cardeza, Mr. Thomas Drake Martinez</td><td>male</td><td>36</td><td>0</td><td>1</td><td>PC 17755</td><td>512.3292</td><td>B51 B53 B55</td><td>C</td><td>3</td><td>?</td><td>Austria-Hungary / Germantown, Philadelphia, PA</td></tr>\n",
       "    <tr><td class='row_index'>2</td><td>1</td><td>1</td><td>Cardeza, Mrs. James Warburton Martinez (Charlotte &#133;</td><td>female</td><td>58</td><td>0</td><td>1</td><td>PC 17755</td><td>512.3292</td><td>B51 B53 B55</td><td>C</td><td>3</td><td>?</td><td>Germantown, Philadelphia, PA</td></tr>\n",
       "    <tr><td class='row_index'>3</td><td>1</td><td>1</td><td>Lesurer, Mr. Gustave J</td><td>male</td><td>35</td><td>0</td><td>0</td><td>PC 17755</td><td>512.3292</td><td>B101</td><td>C</td><td>3</td><td>?</td><td>?</td></tr>\n",
       "    <tr><td class='row_index'>4</td><td>1</td><td>1</td><td>Ward, Miss. Anna</td><td>female</td><td>35</td><td>0</td><td>0</td><td>PC 17755</td><td>512.3292</td><td>?</td><td>C</td><td>3</td><td>?</td><td>?</td></tr>\n",
       "    <tr><td class='row_index'>5</td><td>1</td><td>1</td><td>Fortune, Miss. Alice Elizabeth</td><td>female</td><td>24</td><td>3</td><td>2</td><td>19950</td><td>263</td><td>C23 C25 C27</td><td>S</td><td>10</td><td>?</td><td>Winnipeg, MB</td></tr>\n",
       "    <tr><td class='row_index'>6</td><td>1</td><td>1</td><td>Fortune, Miss. Ethel Flora</td><td>female</td><td>28</td><td>3</td><td>2</td><td>19950</td><td>263</td><td>C23 C25 C27</td><td>S</td><td>10</td><td>?</td><td>Winnipeg, MB</td></tr>\n",
       "    <tr><td class='row_index'>7</td><td>1</td><td>1</td><td>Fortune, Miss. Mabel Helen</td><td>female</td><td>23</td><td>3</td><td>2</td><td>19950</td><td>263</td><td>C23 C25 C27</td><td>S</td><td>10</td><td>?</td><td>Winnipeg, MB</td></tr>\n",
       "    <tr><td class='row_index'>8</td><td>1</td><td>0</td><td>Fortune, Mr. Charles Alexander</td><td>male</td><td>19</td><td>3</td><td>2</td><td>19950</td><td>263</td><td>C23 C25 C27</td><td>S</td><td>?</td><td>?</td><td>Winnipeg, MB</td></tr>\n",
       "    <tr><td class='row_index'>9</td><td>1</td><td>0</td><td>Fortune, Mr. Mark</td><td>male</td><td>64</td><td>1</td><td>4</td><td>19950</td><td>263</td><td>C23 C25 C27</td><td>S</td><td>?</td><td>?</td><td>Winnipeg, MB</td></tr>\n",
       "  </tbody>\n",
       "  </table>\n",
       "  <div class='footer'>\n",
       "    <div class='frame_dimensions'>10 rows &times; 14 columns</div>\n",
       "  </div>\n",
       "</div>\n"
      ],
      "text/plain": [
       "<Frame#7ff6d1de0ba0 10x14>"
      ]
     },
     "execution_count": 6,
     "metadata": {},
     "output_type": "execute_result"
    }
   ],
   "source": [
    "data = data.sort(-dt.as_type(dt.f.fare, float))\n",
    "data.head()"
   ]
  },
  {
   "cell_type": "markdown",
   "id": "db915dec",
   "metadata": {
    "papermill": {
     "duration": 0.030204,
     "end_time": "2021-07-15T18:25:16.371279",
     "exception": false,
     "start_time": "2021-07-15T18:25:16.341075",
     "status": "completed"
    },
    "tags": []
   },
   "source": [
    "**Exercise 35: Create a column `deck` in `data` containing only the first character of `cabin`**"
   ]
  },
  {
   "cell_type": "code",
   "execution_count": 7,
   "id": "ce93ea99",
   "metadata": {
    "execution": {
     "iopub.execute_input": "2021-07-15T18:25:16.435322Z",
     "iopub.status.busy": "2021-07-15T18:25:16.434600Z",
     "iopub.status.idle": "2021-07-15T18:25:16.438517Z",
     "shell.execute_reply": "2021-07-15T18:25:16.437885Z",
     "shell.execute_reply.started": "2021-07-13T04:28:11.055227Z"
    },
    "papermill": {
     "duration": 0.037903,
     "end_time": "2021-07-15T18:25:16.438658",
     "exception": false,
     "start_time": "2021-07-15T18:25:16.400755",
     "status": "completed"
    },
    "tags": []
   },
   "outputs": [
    {
     "data": {
      "text/html": [
       "<div class='datatable'>\n",
       "  <table class='frame'>\n",
       "  <thead>\n",
       "    <tr class='colnames'><td class='row_index'></td><th>pclass</th><th>survived</th><th>name</th><th>sex</th><th>age</th><th>sibsp</th><th>parch</th><th>ticket</th><th>fare</th><th>cabin</th><th>embarked</th><th>boat</th><th>body</th><th>address</th><th>deck</th></tr>\n",
       "    <tr class='coltypes'><td class='row_index'></td><td class='int' title='int32'>&#x25AA;&#x25AA;&#x25AA;&#x25AA;</td><td class='bool' title='bool8'>&#x25AA;</td><td class='str' title='str32'>&#x25AA;&#x25AA;&#x25AA;&#x25AA;</td><td class='str' title='str32'>&#x25AA;&#x25AA;&#x25AA;&#x25AA;</td><td class='float' title='float64'>&#x25AA;&#x25AA;&#x25AA;&#x25AA;&#x25AA;&#x25AA;&#x25AA;&#x25AA;</td><td class='int' title='int32'>&#x25AA;&#x25AA;&#x25AA;&#x25AA;</td><td class='int' title='int32'>&#x25AA;&#x25AA;&#x25AA;&#x25AA;</td><td class='str' title='str32'>&#x25AA;&#x25AA;&#x25AA;&#x25AA;</td><td class='str' title='str32'>&#x25AA;&#x25AA;&#x25AA;&#x25AA;</td><td class='str' title='str32'>&#x25AA;&#x25AA;&#x25AA;&#x25AA;</td><td class='str' title='str32'>&#x25AA;&#x25AA;&#x25AA;&#x25AA;</td><td class='str' title='str32'>&#x25AA;&#x25AA;&#x25AA;&#x25AA;</td><td class='str' title='str32'>&#x25AA;&#x25AA;&#x25AA;&#x25AA;</td><td class='str' title='str32'>&#x25AA;&#x25AA;&#x25AA;&#x25AA;</td><td class='str' title='str32'>&#x25AA;&#x25AA;&#x25AA;&#x25AA;</td></tr>\n",
       "  </thead>\n",
       "  <tbody>\n",
       "    <tr><td class='row_index'>0</td><td>3</td><td>0</td><td>Storey, Mr. Thomas</td><td>male</td><td>60.5</td><td>0</td><td>0</td><td>3701</td><td>?</td><td>?</td><td>S</td><td>?</td><td>261</td><td>?</td><td>?</td></tr>\n",
       "    <tr><td class='row_index'>1</td><td>1</td><td>1</td><td>Cardeza, Mr. Thomas Drake Martinez</td><td>male</td><td>36</td><td>0</td><td>1</td><td>PC 17755</td><td>512.3292</td><td>B51 B53 B55</td><td>C</td><td>3</td><td>?</td><td>Austria-Hungary / Germantown, Philadelphia, PA</td><td>B</td></tr>\n",
       "    <tr><td class='row_index'>2</td><td>1</td><td>1</td><td>Cardeza, Mrs. James Warburton Martinez (Charlotte &#133;</td><td>female</td><td>58</td><td>0</td><td>1</td><td>PC 17755</td><td>512.3292</td><td>B51 B53 B55</td><td>C</td><td>3</td><td>?</td><td>Germantown, Philadelphia, PA</td><td>B</td></tr>\n",
       "    <tr><td class='row_index'>3</td><td>1</td><td>1</td><td>Lesurer, Mr. Gustave J</td><td>male</td><td>35</td><td>0</td><td>0</td><td>PC 17755</td><td>512.3292</td><td>B101</td><td>C</td><td>3</td><td>?</td><td>?</td><td>B</td></tr>\n",
       "    <tr><td class='row_index'>4</td><td>1</td><td>1</td><td>Ward, Miss. Anna</td><td>female</td><td>35</td><td>0</td><td>0</td><td>PC 17755</td><td>512.3292</td><td>?</td><td>C</td><td>3</td><td>?</td><td>?</td><td>?</td></tr>\n",
       "    <tr><td class='row_index'>5</td><td>1</td><td>1</td><td>Fortune, Miss. Alice Elizabeth</td><td>female</td><td>24</td><td>3</td><td>2</td><td>19950</td><td>263</td><td>C23 C25 C27</td><td>S</td><td>10</td><td>?</td><td>Winnipeg, MB</td><td>C</td></tr>\n",
       "    <tr><td class='row_index'>6</td><td>1</td><td>1</td><td>Fortune, Miss. Ethel Flora</td><td>female</td><td>28</td><td>3</td><td>2</td><td>19950</td><td>263</td><td>C23 C25 C27</td><td>S</td><td>10</td><td>?</td><td>Winnipeg, MB</td><td>C</td></tr>\n",
       "    <tr><td class='row_index'>7</td><td>1</td><td>1</td><td>Fortune, Miss. Mabel Helen</td><td>female</td><td>23</td><td>3</td><td>2</td><td>19950</td><td>263</td><td>C23 C25 C27</td><td>S</td><td>10</td><td>?</td><td>Winnipeg, MB</td><td>C</td></tr>\n",
       "    <tr><td class='row_index'>8</td><td>1</td><td>0</td><td>Fortune, Mr. Charles Alexander</td><td>male</td><td>19</td><td>3</td><td>2</td><td>19950</td><td>263</td><td>C23 C25 C27</td><td>S</td><td>?</td><td>?</td><td>Winnipeg, MB</td><td>C</td></tr>\n",
       "    <tr><td class='row_index'>9</td><td>1</td><td>0</td><td>Fortune, Mr. Mark</td><td>male</td><td>64</td><td>1</td><td>4</td><td>19950</td><td>263</td><td>C23 C25 C27</td><td>S</td><td>?</td><td>?</td><td>Winnipeg, MB</td><td>C</td></tr>\n",
       "  </tbody>\n",
       "  </table>\n",
       "  <div class='footer'>\n",
       "    <div class='frame_dimensions'>10 rows &times; 15 columns</div>\n",
       "  </div>\n",
       "</div>\n"
      ],
      "text/plain": [
       "<Frame#7ff6d1de0f00 10x15>"
      ]
     },
     "execution_count": 7,
     "metadata": {},
     "output_type": "execute_result"
    }
   ],
   "source": [
    "data['deck'] = dt.str.slice(dt.f.cabin, None, 1)\n",
    "data.head()"
   ]
  },
  {
   "cell_type": "markdown",
   "id": "9876f86a",
   "metadata": {
    "papermill": {
     "duration": 0.028352,
     "end_time": "2021-07-15T18:25:16.495942",
     "exception": false,
     "start_time": "2021-07-15T18:25:16.467590",
     "status": "completed"
    },
    "tags": []
   },
   "source": [
    "**Exercise 36: Create a column `family` in `data` which is the sum of two columns `sibsp` and `parch`**"
   ]
  },
  {
   "cell_type": "code",
   "execution_count": 8,
   "id": "f35637b8",
   "metadata": {
    "execution": {
     "iopub.execute_input": "2021-07-15T18:25:16.559413Z",
     "iopub.status.busy": "2021-07-15T18:25:16.558747Z",
     "iopub.status.idle": "2021-07-15T18:25:16.563210Z",
     "shell.execute_reply": "2021-07-15T18:25:16.562599Z",
     "shell.execute_reply.started": "2021-07-13T04:28:36.35308Z"
    },
    "papermill": {
     "duration": 0.038763,
     "end_time": "2021-07-15T18:25:16.563349",
     "exception": false,
     "start_time": "2021-07-15T18:25:16.524586",
     "status": "completed"
    },
    "tags": []
   },
   "outputs": [
    {
     "data": {
      "text/html": [
       "<div class='datatable'>\n",
       "  <table class='frame'>\n",
       "  <thead>\n",
       "    <tr class='colnames'><td class='row_index'></td><th>pclass</th><th>survived</th><th>name</th><th>sex</th><th>age</th><th>sibsp</th><th>parch</th><th>ticket</th><th>fare</th><th>cabin</th><th class='vellipsis'>&hellip;</th><th>boat</th><th>body</th><th>address</th><th>deck</th><th>family</th></tr>\n",
       "    <tr class='coltypes'><td class='row_index'></td><td class='int' title='int32'>&#x25AA;&#x25AA;&#x25AA;&#x25AA;</td><td class='bool' title='bool8'>&#x25AA;</td><td class='str' title='str32'>&#x25AA;&#x25AA;&#x25AA;&#x25AA;</td><td class='str' title='str32'>&#x25AA;&#x25AA;&#x25AA;&#x25AA;</td><td class='float' title='float64'>&#x25AA;&#x25AA;&#x25AA;&#x25AA;&#x25AA;&#x25AA;&#x25AA;&#x25AA;</td><td class='int' title='int32'>&#x25AA;&#x25AA;&#x25AA;&#x25AA;</td><td class='int' title='int32'>&#x25AA;&#x25AA;&#x25AA;&#x25AA;</td><td class='str' title='str32'>&#x25AA;&#x25AA;&#x25AA;&#x25AA;</td><td class='str' title='str32'>&#x25AA;&#x25AA;&#x25AA;&#x25AA;</td><td class='str' title='str32'>&#x25AA;&#x25AA;&#x25AA;&#x25AA;</td><td></td><td class='str' title='str32'>&#x25AA;&#x25AA;&#x25AA;&#x25AA;</td><td class='str' title='str32'>&#x25AA;&#x25AA;&#x25AA;&#x25AA;</td><td class='str' title='str32'>&#x25AA;&#x25AA;&#x25AA;&#x25AA;</td><td class='str' title='str32'>&#x25AA;&#x25AA;&#x25AA;&#x25AA;</td><td class='int' title='int32'>&#x25AA;&#x25AA;&#x25AA;&#x25AA;</td></tr>\n",
       "  </thead>\n",
       "  <tbody>\n",
       "    <tr><td class='row_index'>0</td><td>3</td><td>0</td><td>Storey, Mr. Thomas</td><td>male</td><td>60.5</td><td>0</td><td>0</td><td>3701</td><td>?</td><td>?</td><td class=vellipsis>&hellip;</td><td>?</td><td>261</td><td>?</td><td>?</td><td>0</td></tr>\n",
       "    <tr><td class='row_index'>1</td><td>1</td><td>1</td><td>Cardeza, Mr. Thomas Drake Martinez</td><td>male</td><td>36</td><td>0</td><td>1</td><td>PC 17755</td><td>512.3292</td><td>B51 B53 B55</td><td class=vellipsis>&hellip;</td><td>3</td><td>?</td><td>Austria-Hungary / Germantown, Philadelphia, PA</td><td>B</td><td>1</td></tr>\n",
       "    <tr><td class='row_index'>2</td><td>1</td><td>1</td><td>Cardeza, Mrs. James Warburton Martinez (Charlotte &#133;</td><td>female</td><td>58</td><td>0</td><td>1</td><td>PC 17755</td><td>512.3292</td><td>B51 B53 B55</td><td class=vellipsis>&hellip;</td><td>3</td><td>?</td><td>Germantown, Philadelphia, PA</td><td>B</td><td>1</td></tr>\n",
       "    <tr><td class='row_index'>3</td><td>1</td><td>1</td><td>Lesurer, Mr. Gustave J</td><td>male</td><td>35</td><td>0</td><td>0</td><td>PC 17755</td><td>512.3292</td><td>B101</td><td class=vellipsis>&hellip;</td><td>3</td><td>?</td><td>?</td><td>B</td><td>0</td></tr>\n",
       "    <tr><td class='row_index'>4</td><td>1</td><td>1</td><td>Ward, Miss. Anna</td><td>female</td><td>35</td><td>0</td><td>0</td><td>PC 17755</td><td>512.3292</td><td>?</td><td class=vellipsis>&hellip;</td><td>3</td><td>?</td><td>?</td><td>?</td><td>0</td></tr>\n",
       "    <tr><td class='row_index'>5</td><td>1</td><td>1</td><td>Fortune, Miss. Alice Elizabeth</td><td>female</td><td>24</td><td>3</td><td>2</td><td>19950</td><td>263</td><td>C23 C25 C27</td><td class=vellipsis>&hellip;</td><td>10</td><td>?</td><td>Winnipeg, MB</td><td>C</td><td>5</td></tr>\n",
       "    <tr><td class='row_index'>6</td><td>1</td><td>1</td><td>Fortune, Miss. Ethel Flora</td><td>female</td><td>28</td><td>3</td><td>2</td><td>19950</td><td>263</td><td>C23 C25 C27</td><td class=vellipsis>&hellip;</td><td>10</td><td>?</td><td>Winnipeg, MB</td><td>C</td><td>5</td></tr>\n",
       "    <tr><td class='row_index'>7</td><td>1</td><td>1</td><td>Fortune, Miss. Mabel Helen</td><td>female</td><td>23</td><td>3</td><td>2</td><td>19950</td><td>263</td><td>C23 C25 C27</td><td class=vellipsis>&hellip;</td><td>10</td><td>?</td><td>Winnipeg, MB</td><td>C</td><td>5</td></tr>\n",
       "    <tr><td class='row_index'>8</td><td>1</td><td>0</td><td>Fortune, Mr. Charles Alexander</td><td>male</td><td>19</td><td>3</td><td>2</td><td>19950</td><td>263</td><td>C23 C25 C27</td><td class=vellipsis>&hellip;</td><td>?</td><td>?</td><td>Winnipeg, MB</td><td>C</td><td>5</td></tr>\n",
       "    <tr><td class='row_index'>9</td><td>1</td><td>0</td><td>Fortune, Mr. Mark</td><td>male</td><td>64</td><td>1</td><td>4</td><td>19950</td><td>263</td><td>C23 C25 C27</td><td class=vellipsis>&hellip;</td><td>?</td><td>?</td><td>Winnipeg, MB</td><td>C</td><td>5</td></tr>\n",
       "  </tbody>\n",
       "  </table>\n",
       "  <div class='footer'>\n",
       "    <div class='frame_dimensions'>10 rows &times; 16 columns</div>\n",
       "  </div>\n",
       "</div>\n"
      ],
      "text/plain": [
       "<Frame#7ff6d1de0a20 10x16>"
      ]
     },
     "execution_count": 8,
     "metadata": {},
     "output_type": "execute_result"
    }
   ],
   "source": [
    "data['family'] = dt.f.sibsp + dt.f.parch\n",
    "data.head()"
   ]
  },
  {
   "cell_type": "markdown",
   "id": "c144da98",
   "metadata": {
    "papermill": {
     "duration": 0.029358,
     "end_time": "2021-07-15T18:25:16.622306",
     "exception": false,
     "start_time": "2021-07-15T18:25:16.592948",
     "status": "completed"
    },
    "tags": []
   },
   "source": [
    "**Exercise 37: Create a column `total_passengers` in `data` which is the sum of `family` and the passenger included and round the values of column `age` in `data` to the nearest integer, both together using a single inplace operation**"
   ]
  },
  {
   "cell_type": "code",
   "execution_count": 9,
   "id": "a9757e13",
   "metadata": {
    "execution": {
     "iopub.execute_input": "2021-07-15T18:25:16.687817Z",
     "iopub.status.busy": "2021-07-15T18:25:16.687162Z",
     "iopub.status.idle": "2021-07-15T18:25:16.691438Z",
     "shell.execute_reply": "2021-07-15T18:25:16.690904Z",
     "shell.execute_reply.started": "2021-07-13T04:28:58.075163Z"
    },
    "papermill": {
     "duration": 0.039877,
     "end_time": "2021-07-15T18:25:16.691586",
     "exception": false,
     "start_time": "2021-07-15T18:25:16.651709",
     "status": "completed"
    },
    "tags": []
   },
   "outputs": [
    {
     "data": {
      "text/html": [
       "<div class='datatable'>\n",
       "  <table class='frame'>\n",
       "  <thead>\n",
       "    <tr class='colnames'><td class='row_index'></td><th>pclass</th><th>survived</th><th>name</th><th>sex</th><th>age</th><th>sibsp</th><th>parch</th><th>ticket</th><th>fare</th><th>cabin</th><th class='vellipsis'>&hellip;</th><th>body</th><th>address</th><th>deck</th><th>family</th><th>total_passengers</th></tr>\n",
       "    <tr class='coltypes'><td class='row_index'></td><td class='int' title='int32'>&#x25AA;&#x25AA;&#x25AA;&#x25AA;</td><td class='bool' title='bool8'>&#x25AA;</td><td class='str' title='str32'>&#x25AA;&#x25AA;&#x25AA;&#x25AA;</td><td class='str' title='str32'>&#x25AA;&#x25AA;&#x25AA;&#x25AA;</td><td class='int' title='int64'>&#x25AA;&#x25AA;&#x25AA;&#x25AA;&#x25AA;&#x25AA;&#x25AA;&#x25AA;</td><td class='int' title='int32'>&#x25AA;&#x25AA;&#x25AA;&#x25AA;</td><td class='int' title='int32'>&#x25AA;&#x25AA;&#x25AA;&#x25AA;</td><td class='str' title='str32'>&#x25AA;&#x25AA;&#x25AA;&#x25AA;</td><td class='str' title='str32'>&#x25AA;&#x25AA;&#x25AA;&#x25AA;</td><td class='str' title='str32'>&#x25AA;&#x25AA;&#x25AA;&#x25AA;</td><td></td><td class='str' title='str32'>&#x25AA;&#x25AA;&#x25AA;&#x25AA;</td><td class='str' title='str32'>&#x25AA;&#x25AA;&#x25AA;&#x25AA;</td><td class='str' title='str32'>&#x25AA;&#x25AA;&#x25AA;&#x25AA;</td><td class='int' title='int32'>&#x25AA;&#x25AA;&#x25AA;&#x25AA;</td><td class='int' title='int32'>&#x25AA;&#x25AA;&#x25AA;&#x25AA;</td></tr>\n",
       "  </thead>\n",
       "  <tbody>\n",
       "    <tr><td class='row_index'>0</td><td>3</td><td>0</td><td>Storey, Mr. Thomas</td><td>male</td><td>60</td><td>0</td><td>0</td><td>3701</td><td>?</td><td>?</td><td class=vellipsis>&hellip;</td><td>261</td><td>?</td><td>?</td><td>0</td><td>1</td></tr>\n",
       "    <tr><td class='row_index'>1</td><td>1</td><td>1</td><td>Cardeza, Mr. Thomas Drake Martinez</td><td>male</td><td>36</td><td>0</td><td>1</td><td>PC 17755</td><td>512.3292</td><td>B51 B53 B55</td><td class=vellipsis>&hellip;</td><td>?</td><td>Austria-Hungary / Germantown, Philadelphia, PA</td><td>B</td><td>1</td><td>2</td></tr>\n",
       "    <tr><td class='row_index'>2</td><td>1</td><td>1</td><td>Cardeza, Mrs. James Warburton Martinez (Charlotte &#133;</td><td>female</td><td>58</td><td>0</td><td>1</td><td>PC 17755</td><td>512.3292</td><td>B51 B53 B55</td><td class=vellipsis>&hellip;</td><td>?</td><td>Germantown, Philadelphia, PA</td><td>B</td><td>1</td><td>2</td></tr>\n",
       "    <tr><td class='row_index'>3</td><td>1</td><td>1</td><td>Lesurer, Mr. Gustave J</td><td>male</td><td>35</td><td>0</td><td>0</td><td>PC 17755</td><td>512.3292</td><td>B101</td><td class=vellipsis>&hellip;</td><td>?</td><td>?</td><td>B</td><td>0</td><td>1</td></tr>\n",
       "    <tr><td class='row_index'>4</td><td>1</td><td>1</td><td>Ward, Miss. Anna</td><td>female</td><td>35</td><td>0</td><td>0</td><td>PC 17755</td><td>512.3292</td><td>?</td><td class=vellipsis>&hellip;</td><td>?</td><td>?</td><td>?</td><td>0</td><td>1</td></tr>\n",
       "    <tr><td class='row_index'>5</td><td>1</td><td>1</td><td>Fortune, Miss. Alice Elizabeth</td><td>female</td><td>24</td><td>3</td><td>2</td><td>19950</td><td>263</td><td>C23 C25 C27</td><td class=vellipsis>&hellip;</td><td>?</td><td>Winnipeg, MB</td><td>C</td><td>5</td><td>6</td></tr>\n",
       "    <tr><td class='row_index'>6</td><td>1</td><td>1</td><td>Fortune, Miss. Ethel Flora</td><td>female</td><td>28</td><td>3</td><td>2</td><td>19950</td><td>263</td><td>C23 C25 C27</td><td class=vellipsis>&hellip;</td><td>?</td><td>Winnipeg, MB</td><td>C</td><td>5</td><td>6</td></tr>\n",
       "    <tr><td class='row_index'>7</td><td>1</td><td>1</td><td>Fortune, Miss. Mabel Helen</td><td>female</td><td>23</td><td>3</td><td>2</td><td>19950</td><td>263</td><td>C23 C25 C27</td><td class=vellipsis>&hellip;</td><td>?</td><td>Winnipeg, MB</td><td>C</td><td>5</td><td>6</td></tr>\n",
       "    <tr><td class='row_index'>8</td><td>1</td><td>0</td><td>Fortune, Mr. Charles Alexander</td><td>male</td><td>19</td><td>3</td><td>2</td><td>19950</td><td>263</td><td>C23 C25 C27</td><td class=vellipsis>&hellip;</td><td>?</td><td>Winnipeg, MB</td><td>C</td><td>5</td><td>6</td></tr>\n",
       "    <tr><td class='row_index'>9</td><td>1</td><td>0</td><td>Fortune, Mr. Mark</td><td>male</td><td>64</td><td>1</td><td>4</td><td>19950</td><td>263</td><td>C23 C25 C27</td><td class=vellipsis>&hellip;</td><td>?</td><td>Winnipeg, MB</td><td>C</td><td>5</td><td>6</td></tr>\n",
       "  </tbody>\n",
       "  </table>\n",
       "  <div class='footer'>\n",
       "    <div class='frame_dimensions'>10 rows &times; 17 columns</div>\n",
       "  </div>\n",
       "</div>\n"
      ],
      "text/plain": [
       "<Frame#7ff6d1de0ab0 10x17>"
      ]
     },
     "execution_count": 9,
     "metadata": {},
     "output_type": "execute_result"
    }
   ],
   "source": [
    "data[:, dt.update(total_passengers = dt.f.family + 1, age = dt.math.round(dt.f.age))]\n",
    "data.head()"
   ]
  },
  {
   "cell_type": "markdown",
   "id": "0a4f6e12",
   "metadata": {
    "papermill": {
     "duration": 0.029579,
     "end_time": "2021-07-15T18:25:16.751253",
     "exception": false,
     "start_time": "2021-07-15T18:25:16.721674",
     "status": "completed"
    },
    "tags": []
   },
   "source": [
    "**Exercise 38: Delete the used columns `sibsp` and `parch` and the outlier rows first and last from `data`**"
   ]
  },
  {
   "cell_type": "code",
   "execution_count": 10,
   "id": "c1797d8a",
   "metadata": {
    "execution": {
     "iopub.execute_input": "2021-07-15T18:25:16.816961Z",
     "iopub.status.busy": "2021-07-15T18:25:16.816166Z",
     "iopub.status.idle": "2021-07-15T18:25:16.819485Z",
     "shell.execute_reply": "2021-07-15T18:25:16.819995Z",
     "shell.execute_reply.started": "2021-07-13T06:01:00.084112Z"
    },
    "papermill": {
     "duration": 0.039184,
     "end_time": "2021-07-15T18:25:16.820168",
     "exception": false,
     "start_time": "2021-07-15T18:25:16.780984",
     "status": "completed"
    },
    "tags": []
   },
   "outputs": [
    {
     "data": {
      "text/html": [
       "<div class='datatable'>\n",
       "  <table class='frame'>\n",
       "  <thead>\n",
       "    <tr class='colnames'><td class='row_index'></td><th>pclass</th><th>survived</th><th>name</th><th>sex</th><th>age</th><th>ticket</th><th>fare</th><th>cabin</th><th>embarked</th><th>boat</th><th>body</th><th>address</th><th>deck</th><th>family</th><th>total_passengers</th></tr>\n",
       "    <tr class='coltypes'><td class='row_index'></td><td class='int' title='int32'>&#x25AA;&#x25AA;&#x25AA;&#x25AA;</td><td class='bool' title='bool8'>&#x25AA;</td><td class='str' title='str32'>&#x25AA;&#x25AA;&#x25AA;&#x25AA;</td><td class='str' title='str32'>&#x25AA;&#x25AA;&#x25AA;&#x25AA;</td><td class='int' title='int64'>&#x25AA;&#x25AA;&#x25AA;&#x25AA;&#x25AA;&#x25AA;&#x25AA;&#x25AA;</td><td class='str' title='str32'>&#x25AA;&#x25AA;&#x25AA;&#x25AA;</td><td class='str' title='str32'>&#x25AA;&#x25AA;&#x25AA;&#x25AA;</td><td class='str' title='str32'>&#x25AA;&#x25AA;&#x25AA;&#x25AA;</td><td class='str' title='str32'>&#x25AA;&#x25AA;&#x25AA;&#x25AA;</td><td class='str' title='str32'>&#x25AA;&#x25AA;&#x25AA;&#x25AA;</td><td class='str' title='str32'>&#x25AA;&#x25AA;&#x25AA;&#x25AA;</td><td class='str' title='str32'>&#x25AA;&#x25AA;&#x25AA;&#x25AA;</td><td class='str' title='str32'>&#x25AA;&#x25AA;&#x25AA;&#x25AA;</td><td class='int' title='int32'>&#x25AA;&#x25AA;&#x25AA;&#x25AA;</td><td class='int' title='int32'>&#x25AA;&#x25AA;&#x25AA;&#x25AA;</td></tr>\n",
       "  </thead>\n",
       "  <tbody>\n",
       "    <tr><td class='row_index'>0</td><td>3</td><td>0</td><td>Storey, Mr. Thomas</td><td>male</td><td>60</td><td>3701</td><td>?</td><td>?</td><td>S</td><td>?</td><td>261</td><td>?</td><td>?</td><td>0</td><td>1</td></tr>\n",
       "    <tr><td class='row_index'>1</td><td>1</td><td>1</td><td>Cardeza, Mr. Thomas Drake Martinez</td><td>male</td><td>36</td><td>PC 17755</td><td>512.3292</td><td>B51 B53 B55</td><td>C</td><td>3</td><td>?</td><td>Austria-Hungary / Germantown, Philadelphia, PA</td><td>B</td><td>1</td><td>2</td></tr>\n",
       "    <tr><td class='row_index'>2</td><td>1</td><td>1</td><td>Cardeza, Mrs. James Warburton Martinez (Charlotte &#133;</td><td>female</td><td>58</td><td>PC 17755</td><td>512.3292</td><td>B51 B53 B55</td><td>C</td><td>3</td><td>?</td><td>Germantown, Philadelphia, PA</td><td>B</td><td>1</td><td>2</td></tr>\n",
       "    <tr><td class='row_index'>3</td><td>1</td><td>1</td><td>Lesurer, Mr. Gustave J</td><td>male</td><td>35</td><td>PC 17755</td><td>512.3292</td><td>B101</td><td>C</td><td>3</td><td>?</td><td>?</td><td>B</td><td>0</td><td>1</td></tr>\n",
       "    <tr><td class='row_index'>4</td><td>1</td><td>1</td><td>Ward, Miss. Anna</td><td>female</td><td>35</td><td>PC 17755</td><td>512.3292</td><td>?</td><td>C</td><td>3</td><td>?</td><td>?</td><td>?</td><td>0</td><td>1</td></tr>\n",
       "    <tr><td class='row_index'>5</td><td>1</td><td>1</td><td>Fortune, Miss. Alice Elizabeth</td><td>female</td><td>24</td><td>19950</td><td>263</td><td>C23 C25 C27</td><td>S</td><td>10</td><td>?</td><td>Winnipeg, MB</td><td>C</td><td>5</td><td>6</td></tr>\n",
       "    <tr><td class='row_index'>6</td><td>1</td><td>1</td><td>Fortune, Miss. Ethel Flora</td><td>female</td><td>28</td><td>19950</td><td>263</td><td>C23 C25 C27</td><td>S</td><td>10</td><td>?</td><td>Winnipeg, MB</td><td>C</td><td>5</td><td>6</td></tr>\n",
       "    <tr><td class='row_index'>7</td><td>1</td><td>1</td><td>Fortune, Miss. Mabel Helen</td><td>female</td><td>23</td><td>19950</td><td>263</td><td>C23 C25 C27</td><td>S</td><td>10</td><td>?</td><td>Winnipeg, MB</td><td>C</td><td>5</td><td>6</td></tr>\n",
       "    <tr><td class='row_index'>8</td><td>1</td><td>0</td><td>Fortune, Mr. Charles Alexander</td><td>male</td><td>19</td><td>19950</td><td>263</td><td>C23 C25 C27</td><td>S</td><td>?</td><td>?</td><td>Winnipeg, MB</td><td>C</td><td>5</td><td>6</td></tr>\n",
       "    <tr><td class='row_index'>9</td><td>1</td><td>0</td><td>Fortune, Mr. Mark</td><td>male</td><td>64</td><td>19950</td><td>263</td><td>C23 C25 C27</td><td>S</td><td>?</td><td>?</td><td>Winnipeg, MB</td><td>C</td><td>5</td><td>6</td></tr>\n",
       "  </tbody>\n",
       "  </table>\n",
       "  <div class='footer'>\n",
       "    <div class='frame_dimensions'>10 rows &times; 15 columns</div>\n",
       "  </div>\n",
       "</div>\n"
      ],
      "text/plain": [
       "<Frame#7ff6d1de08d0 10x15>"
      ]
     },
     "execution_count": 10,
     "metadata": {},
     "output_type": "execute_result"
    }
   ],
   "source": [
    "del data[:, ['sibsp', 'parch']]\n",
    "data.head()"
   ]
  },
  {
   "cell_type": "code",
   "execution_count": 11,
   "id": "19792502",
   "metadata": {
    "execution": {
     "iopub.execute_input": "2021-07-15T18:25:16.887897Z",
     "iopub.status.busy": "2021-07-15T18:25:16.884124Z",
     "iopub.status.idle": "2021-07-15T18:25:16.891933Z",
     "shell.execute_reply": "2021-07-15T18:25:16.892460Z",
     "shell.execute_reply.started": "2021-07-13T06:01:01.120639Z"
    },
    "papermill": {
     "duration": 0.041868,
     "end_time": "2021-07-15T18:25:16.892664",
     "exception": false,
     "start_time": "2021-07-15T18:25:16.850796",
     "status": "completed"
    },
    "tags": []
   },
   "outputs": [
    {
     "data": {
      "text/html": [
       "<div class='datatable'>\n",
       "  <table class='frame'>\n",
       "  <thead>\n",
       "    <tr class='colnames'><td class='row_index'></td><th>pclass</th><th>survived</th><th>name</th><th>sex</th><th>age</th><th>ticket</th><th>fare</th><th>cabin</th><th>embarked</th><th>boat</th><th>body</th><th>address</th><th>deck</th><th>family</th><th>total_passengers</th></tr>\n",
       "    <tr class='coltypes'><td class='row_index'></td><td class='int' title='int32'>&#x25AA;&#x25AA;&#x25AA;&#x25AA;</td><td class='bool' title='bool8'>&#x25AA;</td><td class='str' title='str32'>&#x25AA;&#x25AA;&#x25AA;&#x25AA;</td><td class='str' title='str32'>&#x25AA;&#x25AA;&#x25AA;&#x25AA;</td><td class='int' title='int64'>&#x25AA;&#x25AA;&#x25AA;&#x25AA;&#x25AA;&#x25AA;&#x25AA;&#x25AA;</td><td class='str' title='str32'>&#x25AA;&#x25AA;&#x25AA;&#x25AA;</td><td class='str' title='str32'>&#x25AA;&#x25AA;&#x25AA;&#x25AA;</td><td class='str' title='str32'>&#x25AA;&#x25AA;&#x25AA;&#x25AA;</td><td class='str' title='str32'>&#x25AA;&#x25AA;&#x25AA;&#x25AA;</td><td class='str' title='str32'>&#x25AA;&#x25AA;&#x25AA;&#x25AA;</td><td class='str' title='str32'>&#x25AA;&#x25AA;&#x25AA;&#x25AA;</td><td class='str' title='str32'>&#x25AA;&#x25AA;&#x25AA;&#x25AA;</td><td class='str' title='str32'>&#x25AA;&#x25AA;&#x25AA;&#x25AA;</td><td class='int' title='int32'>&#x25AA;&#x25AA;&#x25AA;&#x25AA;</td><td class='int' title='int32'>&#x25AA;&#x25AA;&#x25AA;&#x25AA;</td></tr>\n",
       "  </thead>\n",
       "  <tbody>\n",
       "    <tr><td class='row_index'>0</td><td>1</td><td>1</td><td>Cardeza, Mr. Thomas Drake Martinez</td><td>male</td><td>36</td><td>PC 17755</td><td>512.3292</td><td>B51 B53 B55</td><td>C</td><td>3</td><td>?</td><td>Austria-Hungary / Germantown, Philadelphia, PA</td><td>B</td><td>1</td><td>2</td></tr>\n",
       "    <tr><td class='row_index'>1</td><td>1</td><td>1</td><td>Cardeza, Mrs. James Warburton Martinez (Charlotte &#133;</td><td>female</td><td>58</td><td>PC 17755</td><td>512.3292</td><td>B51 B53 B55</td><td>C</td><td>3</td><td>?</td><td>Germantown, Philadelphia, PA</td><td>B</td><td>1</td><td>2</td></tr>\n",
       "    <tr><td class='row_index'>2</td><td>1</td><td>1</td><td>Lesurer, Mr. Gustave J</td><td>male</td><td>35</td><td>PC 17755</td><td>512.3292</td><td>B101</td><td>C</td><td>3</td><td>?</td><td>?</td><td>B</td><td>0</td><td>1</td></tr>\n",
       "    <tr><td class='row_index'>3</td><td>1</td><td>1</td><td>Ward, Miss. Anna</td><td>female</td><td>35</td><td>PC 17755</td><td>512.3292</td><td>?</td><td>C</td><td>3</td><td>?</td><td>?</td><td>?</td><td>0</td><td>1</td></tr>\n",
       "    <tr><td class='row_index'>4</td><td>1</td><td>1</td><td>Fortune, Miss. Alice Elizabeth</td><td>female</td><td>24</td><td>19950</td><td>263</td><td>C23 C25 C27</td><td>S</td><td>10</td><td>?</td><td>Winnipeg, MB</td><td>C</td><td>5</td><td>6</td></tr>\n",
       "    <tr><td class='row_index'>5</td><td>1</td><td>1</td><td>Fortune, Miss. Ethel Flora</td><td>female</td><td>28</td><td>19950</td><td>263</td><td>C23 C25 C27</td><td>S</td><td>10</td><td>?</td><td>Winnipeg, MB</td><td>C</td><td>5</td><td>6</td></tr>\n",
       "    <tr><td class='row_index'>6</td><td>1</td><td>1</td><td>Fortune, Miss. Mabel Helen</td><td>female</td><td>23</td><td>19950</td><td>263</td><td>C23 C25 C27</td><td>S</td><td>10</td><td>?</td><td>Winnipeg, MB</td><td>C</td><td>5</td><td>6</td></tr>\n",
       "    <tr><td class='row_index'>7</td><td>1</td><td>0</td><td>Fortune, Mr. Charles Alexander</td><td>male</td><td>19</td><td>19950</td><td>263</td><td>C23 C25 C27</td><td>S</td><td>?</td><td>?</td><td>Winnipeg, MB</td><td>C</td><td>5</td><td>6</td></tr>\n",
       "    <tr><td class='row_index'>8</td><td>1</td><td>0</td><td>Fortune, Mr. Mark</td><td>male</td><td>64</td><td>19950</td><td>263</td><td>C23 C25 C27</td><td>S</td><td>?</td><td>?</td><td>Winnipeg, MB</td><td>C</td><td>5</td><td>6</td></tr>\n",
       "    <tr><td class='row_index'>9</td><td>1</td><td>1</td><td>Fortune, Mrs. Mark (Mary McDougald)</td><td>female</td><td>60</td><td>19950</td><td>263</td><td>C23 C25 C27</td><td>S</td><td>10</td><td>?</td><td>Winnipeg, MB</td><td>C</td><td>5</td><td>6</td></tr>\n",
       "  </tbody>\n",
       "  </table>\n",
       "  <div class='footer'>\n",
       "    <div class='frame_dimensions'>10 rows &times; 15 columns</div>\n",
       "  </div>\n",
       "</div>\n"
      ],
      "text/plain": [
       "<Frame#7ff6d1de0ea0 10x15>"
      ]
     },
     "execution_count": 11,
     "metadata": {},
     "output_type": "execute_result"
    }
   ],
   "source": [
    "del data[[0, -1], :]\n",
    "data.head()"
   ]
  },
  {
   "cell_type": "markdown",
   "id": "06f91db0",
   "metadata": {
    "papermill": {
     "duration": 0.032751,
     "end_time": "2021-07-15T18:25:16.962817",
     "exception": false,
     "start_time": "2021-07-15T18:25:16.930066",
     "status": "completed"
    },
    "tags": []
   },
   "source": [
    "**Exercise 39: Replace all `'?'` values with `NA` or `null` as missing values in `data`**"
   ]
  },
  {
   "cell_type": "code",
   "execution_count": 12,
   "id": "df399755",
   "metadata": {
    "execution": {
     "iopub.execute_input": "2021-07-15T18:25:17.031770Z",
     "iopub.status.busy": "2021-07-15T18:25:17.031084Z",
     "iopub.status.idle": "2021-07-15T18:25:17.033924Z",
     "shell.execute_reply": "2021-07-15T18:25:17.034403Z",
     "shell.execute_reply.started": "2021-07-13T06:01:04.01253Z"
    },
    "papermill": {
     "duration": 0.040459,
     "end_time": "2021-07-15T18:25:17.034586",
     "exception": false,
     "start_time": "2021-07-15T18:25:16.994127",
     "status": "completed"
    },
    "tags": []
   },
   "outputs": [
    {
     "data": {
      "text/html": [
       "<div class='datatable'>\n",
       "  <table class='frame'>\n",
       "  <thead>\n",
       "    <tr class='colnames'><td class='row_index'></td><th>pclass</th><th>survived</th><th>name</th><th>sex</th><th>age</th><th>ticket</th><th>fare</th><th>cabin</th><th>embarked</th><th>boat</th><th>body</th><th>address</th><th>deck</th><th>family</th><th>total_passengers</th></tr>\n",
       "    <tr class='coltypes'><td class='row_index'></td><td class='int' title='int32'>&#x25AA;&#x25AA;&#x25AA;&#x25AA;</td><td class='bool' title='bool8'>&#x25AA;</td><td class='str' title='str32'>&#x25AA;&#x25AA;&#x25AA;&#x25AA;</td><td class='str' title='str32'>&#x25AA;&#x25AA;&#x25AA;&#x25AA;</td><td class='int' title='int64'>&#x25AA;&#x25AA;&#x25AA;&#x25AA;&#x25AA;&#x25AA;&#x25AA;&#x25AA;</td><td class='str' title='str32'>&#x25AA;&#x25AA;&#x25AA;&#x25AA;</td><td class='str' title='str32'>&#x25AA;&#x25AA;&#x25AA;&#x25AA;</td><td class='str' title='str32'>&#x25AA;&#x25AA;&#x25AA;&#x25AA;</td><td class='str' title='str32'>&#x25AA;&#x25AA;&#x25AA;&#x25AA;</td><td class='str' title='str32'>&#x25AA;&#x25AA;&#x25AA;&#x25AA;</td><td class='str' title='str32'>&#x25AA;&#x25AA;&#x25AA;&#x25AA;</td><td class='str' title='str32'>&#x25AA;&#x25AA;&#x25AA;&#x25AA;</td><td class='str' title='str32'>&#x25AA;&#x25AA;&#x25AA;&#x25AA;</td><td class='int' title='int32'>&#x25AA;&#x25AA;&#x25AA;&#x25AA;</td><td class='int' title='int32'>&#x25AA;&#x25AA;&#x25AA;&#x25AA;</td></tr>\n",
       "  </thead>\n",
       "  <tbody>\n",
       "    <tr><td class='row_index'>0</td><td>1</td><td>1</td><td>Cardeza, Mr. Thomas Drake Martinez</td><td>male</td><td>36</td><td>PC 17755</td><td>512.3292</td><td>B51 B53 B55</td><td>C</td><td>3</td><td><span class=na>NA</span></td><td>Austria-Hungary / Germantown, Philadelphia, PA</td><td>B</td><td>1</td><td>2</td></tr>\n",
       "    <tr><td class='row_index'>1</td><td>1</td><td>1</td><td>Cardeza, Mrs. James Warburton Martinez (Charlotte &#133;</td><td>female</td><td>58</td><td>PC 17755</td><td>512.3292</td><td>B51 B53 B55</td><td>C</td><td>3</td><td><span class=na>NA</span></td><td>Germantown, Philadelphia, PA</td><td>B</td><td>1</td><td>2</td></tr>\n",
       "    <tr><td class='row_index'>2</td><td>1</td><td>1</td><td>Lesurer, Mr. Gustave J</td><td>male</td><td>35</td><td>PC 17755</td><td>512.3292</td><td>B101</td><td>C</td><td>3</td><td><span class=na>NA</span></td><td><span class=na>NA</span></td><td>B</td><td>0</td><td>1</td></tr>\n",
       "    <tr><td class='row_index'>3</td><td>1</td><td>1</td><td>Ward, Miss. Anna</td><td>female</td><td>35</td><td>PC 17755</td><td>512.3292</td><td><span class=na>NA</span></td><td>C</td><td>3</td><td><span class=na>NA</span></td><td><span class=na>NA</span></td><td><span class=na>NA</span></td><td>0</td><td>1</td></tr>\n",
       "    <tr><td class='row_index'>4</td><td>1</td><td>1</td><td>Fortune, Miss. Alice Elizabeth</td><td>female</td><td>24</td><td>19950</td><td>263</td><td>C23 C25 C27</td><td>S</td><td>10</td><td><span class=na>NA</span></td><td>Winnipeg, MB</td><td>C</td><td>5</td><td>6</td></tr>\n",
       "    <tr><td class='row_index'>5</td><td>1</td><td>1</td><td>Fortune, Miss. Ethel Flora</td><td>female</td><td>28</td><td>19950</td><td>263</td><td>C23 C25 C27</td><td>S</td><td>10</td><td><span class=na>NA</span></td><td>Winnipeg, MB</td><td>C</td><td>5</td><td>6</td></tr>\n",
       "    <tr><td class='row_index'>6</td><td>1</td><td>1</td><td>Fortune, Miss. Mabel Helen</td><td>female</td><td>23</td><td>19950</td><td>263</td><td>C23 C25 C27</td><td>S</td><td>10</td><td><span class=na>NA</span></td><td>Winnipeg, MB</td><td>C</td><td>5</td><td>6</td></tr>\n",
       "    <tr><td class='row_index'>7</td><td>1</td><td>0</td><td>Fortune, Mr. Charles Alexander</td><td>male</td><td>19</td><td>19950</td><td>263</td><td>C23 C25 C27</td><td>S</td><td><span class=na>NA</span></td><td><span class=na>NA</span></td><td>Winnipeg, MB</td><td>C</td><td>5</td><td>6</td></tr>\n",
       "    <tr><td class='row_index'>8</td><td>1</td><td>0</td><td>Fortune, Mr. Mark</td><td>male</td><td>64</td><td>19950</td><td>263</td><td>C23 C25 C27</td><td>S</td><td><span class=na>NA</span></td><td><span class=na>NA</span></td><td>Winnipeg, MB</td><td>C</td><td>5</td><td>6</td></tr>\n",
       "    <tr><td class='row_index'>9</td><td>1</td><td>1</td><td>Fortune, Mrs. Mark (Mary McDougald)</td><td>female</td><td>60</td><td>19950</td><td>263</td><td>C23 C25 C27</td><td>S</td><td>10</td><td><span class=na>NA</span></td><td>Winnipeg, MB</td><td>C</td><td>5</td><td>6</td></tr>\n",
       "  </tbody>\n",
       "  </table>\n",
       "  <div class='footer'>\n",
       "    <div class='frame_dimensions'>10 rows &times; 15 columns</div>\n",
       "  </div>\n",
       "</div>\n"
      ],
      "text/plain": [
       "<Frame#7ff6d1de09f0 10x15>"
      ]
     },
     "execution_count": 12,
     "metadata": {},
     "output_type": "execute_result"
    }
   ],
   "source": [
    "data.replace('?', None)\n",
    "data.head()"
   ]
  },
  {
   "cell_type": "markdown",
   "id": "e6349769",
   "metadata": {
    "papermill": {
     "duration": 0.03774,
     "end_time": "2021-07-15T18:25:17.109799",
     "exception": false,
     "start_time": "2021-07-15T18:25:17.072059",
     "status": "completed"
    },
    "tags": []
   },
   "source": [
    "**Exercise 40: Impute all the missing values in `data` with `-1` for numeric columns and `'unknown'` for string columns**"
   ]
  },
  {
   "cell_type": "code",
   "execution_count": 13,
   "id": "faf151e7",
   "metadata": {
    "execution": {
     "iopub.execute_input": "2021-07-15T18:25:17.175597Z",
     "iopub.status.busy": "2021-07-15T18:25:17.174948Z",
     "iopub.status.idle": "2021-07-15T18:25:17.183798Z",
     "shell.execute_reply": "2021-07-15T18:25:17.184310Z",
     "shell.execute_reply.started": "2021-07-13T04:29:25.784011Z"
    },
    "papermill": {
     "duration": 0.042882,
     "end_time": "2021-07-15T18:25:17.184526",
     "exception": false,
     "start_time": "2021-07-15T18:25:17.141644",
     "status": "completed"
    },
    "tags": []
   },
   "outputs": [
    {
     "data": {
      "text/html": [
       "<div class='datatable'>\n",
       "  <table class='frame'>\n",
       "  <thead>\n",
       "    <tr class='colnames'><td class='row_index'></td><th>pclass</th><th>survived</th><th>name</th><th>sex</th><th>age</th><th>ticket</th><th>fare</th><th>cabin</th><th>embarked</th><th>boat</th><th>body</th><th>address</th><th>deck</th><th>family</th><th>total_passengers</th></tr>\n",
       "    <tr class='coltypes'><td class='row_index'></td><td class='int' title='int32'>&#x25AA;&#x25AA;&#x25AA;&#x25AA;</td><td class='bool' title='bool8'>&#x25AA;</td><td class='str' title='str32'>&#x25AA;&#x25AA;&#x25AA;&#x25AA;</td><td class='str' title='str32'>&#x25AA;&#x25AA;&#x25AA;&#x25AA;</td><td class='int' title='int64'>&#x25AA;&#x25AA;&#x25AA;&#x25AA;&#x25AA;&#x25AA;&#x25AA;&#x25AA;</td><td class='str' title='str32'>&#x25AA;&#x25AA;&#x25AA;&#x25AA;</td><td class='str' title='str32'>&#x25AA;&#x25AA;&#x25AA;&#x25AA;</td><td class='str' title='str32'>&#x25AA;&#x25AA;&#x25AA;&#x25AA;</td><td class='str' title='str32'>&#x25AA;&#x25AA;&#x25AA;&#x25AA;</td><td class='str' title='str32'>&#x25AA;&#x25AA;&#x25AA;&#x25AA;</td><td class='str' title='str32'>&#x25AA;&#x25AA;&#x25AA;&#x25AA;</td><td class='str' title='str32'>&#x25AA;&#x25AA;&#x25AA;&#x25AA;</td><td class='str' title='str32'>&#x25AA;&#x25AA;&#x25AA;&#x25AA;</td><td class='int' title='int32'>&#x25AA;&#x25AA;&#x25AA;&#x25AA;</td><td class='int' title='int32'>&#x25AA;&#x25AA;&#x25AA;&#x25AA;</td></tr>\n",
       "  </thead>\n",
       "  <tbody>\n",
       "    <tr><td class='row_index'>0</td><td>1</td><td>1</td><td>Cardeza, Mr. Thomas Drake Martinez</td><td>male</td><td>36</td><td>PC 17755</td><td>512.3292</td><td>B51 B53 B55</td><td>C</td><td>3</td><td>unknown</td><td>Austria-Hungary / Germantown, Philadelphia, PA</td><td>B</td><td>1</td><td>2</td></tr>\n",
       "    <tr><td class='row_index'>1</td><td>1</td><td>1</td><td>Cardeza, Mrs. James Warburton Martinez (Charlotte &#133;</td><td>female</td><td>58</td><td>PC 17755</td><td>512.3292</td><td>B51 B53 B55</td><td>C</td><td>3</td><td>unknown</td><td>Germantown, Philadelphia, PA</td><td>B</td><td>1</td><td>2</td></tr>\n",
       "    <tr><td class='row_index'>2</td><td>1</td><td>1</td><td>Lesurer, Mr. Gustave J</td><td>male</td><td>35</td><td>PC 17755</td><td>512.3292</td><td>B101</td><td>C</td><td>3</td><td>unknown</td><td>unknown</td><td>B</td><td>0</td><td>1</td></tr>\n",
       "    <tr><td class='row_index'>3</td><td>1</td><td>1</td><td>Ward, Miss. Anna</td><td>female</td><td>35</td><td>PC 17755</td><td>512.3292</td><td>unknown</td><td>C</td><td>3</td><td>unknown</td><td>unknown</td><td>unknown</td><td>0</td><td>1</td></tr>\n",
       "    <tr><td class='row_index'>4</td><td>1</td><td>1</td><td>Fortune, Miss. Alice Elizabeth</td><td>female</td><td>24</td><td>19950</td><td>263</td><td>C23 C25 C27</td><td>S</td><td>10</td><td>unknown</td><td>Winnipeg, MB</td><td>C</td><td>5</td><td>6</td></tr>\n",
       "    <tr><td class='row_index'>5</td><td>1</td><td>1</td><td>Fortune, Miss. Ethel Flora</td><td>female</td><td>28</td><td>19950</td><td>263</td><td>C23 C25 C27</td><td>S</td><td>10</td><td>unknown</td><td>Winnipeg, MB</td><td>C</td><td>5</td><td>6</td></tr>\n",
       "    <tr><td class='row_index'>6</td><td>1</td><td>1</td><td>Fortune, Miss. Mabel Helen</td><td>female</td><td>23</td><td>19950</td><td>263</td><td>C23 C25 C27</td><td>S</td><td>10</td><td>unknown</td><td>Winnipeg, MB</td><td>C</td><td>5</td><td>6</td></tr>\n",
       "    <tr><td class='row_index'>7</td><td>1</td><td>0</td><td>Fortune, Mr. Charles Alexander</td><td>male</td><td>19</td><td>19950</td><td>263</td><td>C23 C25 C27</td><td>S</td><td>unknown</td><td>unknown</td><td>Winnipeg, MB</td><td>C</td><td>5</td><td>6</td></tr>\n",
       "    <tr><td class='row_index'>8</td><td>1</td><td>0</td><td>Fortune, Mr. Mark</td><td>male</td><td>64</td><td>19950</td><td>263</td><td>C23 C25 C27</td><td>S</td><td>unknown</td><td>unknown</td><td>Winnipeg, MB</td><td>C</td><td>5</td><td>6</td></tr>\n",
       "    <tr><td class='row_index'>9</td><td>1</td><td>1</td><td>Fortune, Mrs. Mark (Mary McDougald)</td><td>female</td><td>60</td><td>19950</td><td>263</td><td>C23 C25 C27</td><td>S</td><td>10</td><td>unknown</td><td>Winnipeg, MB</td><td>C</td><td>5</td><td>6</td></tr>\n",
       "  </tbody>\n",
       "  </table>\n",
       "  <div class='footer'>\n",
       "    <div class='frame_dimensions'>10 rows &times; 15 columns</div>\n",
       "  </div>\n",
       "</div>\n"
      ],
      "text/plain": [
       "<Frame#7ff6d261dcf0 10x15>"
      ]
     },
     "execution_count": 13,
     "metadata": {},
     "output_type": "execute_result"
    }
   ],
   "source": [
    "data.replace({dt.math.nan: -1.0, None: 'unknown'})\n",
    "data.head()"
   ]
  },
  {
   "cell_type": "markdown",
   "id": "04ff51c2",
   "metadata": {
    "papermill": {
     "duration": 0.033715,
     "end_time": "2021-07-15T18:25:17.256928",
     "exception": false,
     "start_time": "2021-07-15T18:25:17.223213",
     "status": "completed"
    },
    "tags": []
   },
   "source": [
    "✅ This completes Set 4: Frame Operations (Exercises 31-40) of **DatatableTon**: *💯 datatable exercises*\n",
    "\n",
    "#### Set 05 • Column Aggregations • Beginner • Exercises 41-50\n",
    "\n",
    "| Style | Colab | Kaggle | Binder | GitHub |\n",
    "| ----- | ----- | ------ | ------ | ------ |\n",
    "| Exercises | [![Open in Colab](https://img.shields.io/static/v1?label=&message=Open%20in%20Colab&labelColor=grey&color=blue&logo=google-colab)](https://colab.research.google.com/github/vopani/datatableton/blob/main/notebooks/05_column_aggregations_exercises.ipynb) | [![Open in Kaggle](https://img.shields.io/static/v1?label=&message=Open%20in%20Kaggle&labelColor=grey&color=blue&logo=kaggle)](https://www.kaggle.com/rohanrao/datatableton-column-aggregations-exercises) | [![Open in Binder](https://img.shields.io/static/v1?label=&message=Open%20in%20Binder&labelColor=grey&color=blue&logo=data:image/png;base64,iVBORw0KGgoAAAANSUhEUgAAAFkAAABZCAMAAABi1XidAAAB8lBMVEX///9XmsrmZYH1olJXmsr1olJXmsrmZYH1olJXmsr1olJXmsrmZYH1olL1olJXmsr1olJXmsrmZYH1olL1olJXmsrmZYH1olJXmsr1olL1olJXmsrmZYH1olL1olJXmsrmZYH1olL1olL0nFf1olJXmsrmZYH1olJXmsq8dZb1olJXmsrmZYH1olJXmspXmspXmsr1olL1olJXmsrmZYH1olJXmsr1olL1olJXmsrmZYH1olL1olLeaIVXmsrmZYH1olL1olL1olJXmsrmZYH1olLna31Xmsr1olJXmsr1olJXmsrmZYH1olLqoVr1olJXmsr1olJXmsrmZYH1olL1olKkfaPobXvviGabgadXmsqThKuofKHmZ4Dobnr1olJXmsr1olJXmspXmsr1olJXmsrfZ4TuhWn1olL1olJXmsqBi7X1olJXmspZmslbmMhbmsdemsVfl8ZgmsNim8Jpk8F0m7R4m7F5nLB6jbh7jbiDirOEibOGnKaMhq+PnaCVg6qWg6qegKaff6WhnpKofKGtnomxeZy3noG6dZi+n3vCcpPDcpPGn3bLb4/Mb47UbIrVa4rYoGjdaIbeaIXhoWHmZYHobXvpcHjqdHXreHLroVrsfG/uhGnuh2bwj2Hxk17yl1vzmljzm1j0nlX1olL3AJXWAAAAbXRSTlMAEBAQHx8gICAuLjAwMDw9PUBAQEpQUFBXV1hgYGBkcHBwcXl8gICAgoiIkJCQlJicnJ2goKCmqK+wsLC4usDAwMjP0NDQ1NbW3Nzg4ODi5+3v8PDw8/T09PX29vb39/f5+fr7+/z8/Pz9/v7+zczCxgAABC5JREFUeAHN1ul3k0UUBvCb1CTVpmpaitAGSLSpSuKCLWpbTKNJFGlcSMAFF63iUmRccNG6gLbuxkXU66JAUef/9LSpmXnyLr3T5AO/rzl5zj137p136BISy44fKJXuGN/d19PUfYeO67Znqtf2KH33Id1psXoFdW30sPZ1sMvs2D060AHqws4FHeJojLZqnw53cmfvg+XR8mC0OEjuxrXEkX5ydeVJLVIlV0e10PXk5k7dYeHu7Cj1j+49uKg7uLU61tGLw1lq27ugQYlclHC4bgv7VQ+TAyj5Zc/UjsPvs1sd5cWryWObtvWT2EPa4rtnWW3JkpjggEpbOsPr7F7EyNewtpBIslA7p43HCsnwooXTEc3UmPmCNn5lrqTJxy6nRmcavGZVt/3Da2pD5NHvsOHJCrdc1G2r3DITpU7yic7w/7Rxnjc0kt5GC4djiv2Sz3Fb2iEZg41/ddsFDoyuYrIkmFehz0HR2thPgQqMyQYb2OtB0WxsZ3BeG3+wpRb1vzl2UYBog8FfGhttFKjtAclnZYrRo9ryG9uG/FZQU4AEg8ZE9LjGMzTmqKXPLnlWVnIlQQTvxJf8ip7VgjZjyVPrjw1te5otM7RmP7xm+sK2Gv9I8Gi++BRbEkR9EBw8zRUcKxwp73xkaLiqQb+kGduJTNHG72zcW9LoJgqQxpP3/Tj//c3yB0tqzaml05/+orHLksVO+95kX7/7qgJvnjlrfr2Ggsyx0eoy9uPzN5SPd86aXggOsEKW2Prz7du3VID3/tzs/sSRs2w7ovVHKtjrX2pd7ZMlTxAYfBAL9jiDwfLkq55Tm7ifhMlTGPyCAs7RFRhn47JnlcB9RM5T97ASuZXIcVNuUDIndpDbdsfrqsOppeXl5Y+XVKdjFCTh+zGaVuj0d9zy05PPK3QzBamxdwtTCrzyg/2Rvf2EstUjordGwa/kx9mSJLr8mLLtCW8HHGJc2R5hS219IiF6PnTusOqcMl57gm0Z8kanKMAQg0qSyuZfn7zItsbGyO9QlnxY0eCuD1XL2ys/MsrQhltE7Ug0uFOzufJFE2PxBo/YAx8XPPdDwWN0MrDRYIZF0mSMKCNHgaIVFoBbNoLJ7tEQDKxGF0kcLQimojCZopv0OkNOyWCCg9XMVAi7ARJzQdM2QUh0gmBozjc3Skg6dSBRqDGYSUOu66Zg+I2fNZs/M3/f/Grl/XnyF1Gw3VKCez0PN5IUfFLqvgUN4C0qNqYs5YhPL+aVZYDE4IpUk57oSFnJm4FyCqqOE0jhY2SMyLFoo56zyo6becOS5UVDdj7Vih0zp+tcMhwRpBeLyqtIjlJKAIZSbI8SGSF3k0pA3mR5tHuwPFoa7N7reoq2bqCsAk1HqCu5uvI1n6JuRXI+S1Mco54YmYTwcn6Aeic+kssXi8XpXC4V3t7/ADuTNKaQJdScAAAAAElFTkSuQmCC)](https://mybinder.org/v2/gh/vopani/datatableton/main?filepath=notebooks%2F05_column_aggregations_exercises.ipynb) | [![Open in GitHub](https://img.shields.io/static/v1?label=&message=Open%20in%20GitHub&labelColor=grey&color=blue&logo=github)](https://github.com/vopani/datatableton/blob/main/notebooks/05_column_aggregations_exercises.ipynb) |\n",
    "| Solutions | [![Open in Colab](https://img.shields.io/static/v1?label=&message=Open%20in%20Colab&labelColor=grey&color=blue&logo=google-colab)](https://colab.research.google.com/github/vopani/datatableton/blob/main/notebooks/05_column_aggregations_solutions.ipynb) | [![Open in Kaggle](https://img.shields.io/static/v1?label=&message=Open%20in%20Kaggle&labelColor=grey&color=blue&logo=kaggle)](https://www.kaggle.com/rohanrao/datatableton-column-aggregations-solutions) | [![Open in Binder](https://img.shields.io/static/v1?label=&message=Open%20in%20Binder&labelColor=grey&color=blue&logo=data:image/png;base64,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)](https://mybinder.org/v2/gh/vopani/datatableton/main?filepath=notebooks%2F05_column_aggregations_solutions.ipynb) | [![Open in GitHub](https://img.shields.io/static/v1?label=&message=Open%20in%20GitHub&labelColor=grey&color=blue&logo=github)](https://github.com/vopani/datatableton/blob/main/notebooks/05_column_aggregations_solutions.ipynb) |\n",
    "\n",
    "You can find all the exercises and solutions on [GitHub](https://github.com/vopani/datatableton#exercises-)"
   ]
  }
 ],
 "metadata": {
  "kernelspec": {
   "display_name": "Python 3",
   "language": "python",
   "name": "python3"
  },
  "language_info": {
   "codemirror_mode": {
    "name": "ipython",
    "version": 3
   },
   "file_extension": ".py",
   "mimetype": "text/x-python",
   "name": "python",
   "nbconvert_exporter": "python",
   "pygments_lexer": "ipython3",
   "version": "3.7.10"
  },
  "papermill": {
   "default_parameters": {},
   "duration": 46.411458,
   "end_time": "2021-07-15T18:25:18.000305",
   "environment_variables": {},
   "exception": null,
   "input_path": "__notebook__.ipynb",
   "output_path": "__notebook__.ipynb",
   "parameters": {},
   "start_time": "2021-07-15T18:24:31.588847",
   "version": "2.3.3"
  }
 },
 "nbformat": 4,
 "nbformat_minor": 5
}
