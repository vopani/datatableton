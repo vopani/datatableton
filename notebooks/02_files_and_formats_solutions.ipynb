{
 "cells": [
  {
   "cell_type": "markdown",
   "id": "answering-nashville",
   "metadata": {
    "_cell_guid": "b1076dfc-b9ad-4769-8c92-a6c4dae69d19",
    "_uuid": "8f2839f25d086af736a60e9eeb907d3b93b6e0e5",
    "papermill": {
     "duration": 0.030335,
     "end_time": "2021-07-10T03:58:52.424815",
     "exception": false,
     "start_time": "2021-07-10T03:58:52.394480",
     "status": "completed"
    },
    "tags": []
   },
   "source": [
    "<center>\n",
    "    <h1>DatatableTon</h1>\n",
    "    💯 datatable exercises\n",
    "    <br>\n",
    "    <br>\n",
    "    <a href='https://github.com/vopani/datatableton/blob/master/LICENSE'>\n",
    "        <img src='https://img.shields.io/badge/license-Apache%202.0-blue.svg?logo=apache'>\n",
    "    </a>\n",
    "    <a href='https://github.com/vopani/datatableton'>\n",
    "        <img src='https://img.shields.io/github/stars/vopani/datatableton?color=yellowgreen&logo=github'>\n",
    "    </a>\n",
    "    <a href='https://twitter.com/vopani'>\n",
    "        <img src='https://img.shields.io/twitter/follow/vopani'>\n",
    "    </a>\n",
    "</center>"
   ]
  },
  {
   "cell_type": "markdown",
   "id": "political-subject",
   "metadata": {
    "papermill": {
     "duration": 0.028407,
     "end_time": "2021-07-10T03:58:52.482992",
     "exception": false,
     "start_time": "2021-07-10T03:58:52.454585",
     "status": "completed"
    },
    "tags": []
   },
   "source": [
    "<center>\n",
    "    This is Set 2: Files and Formats (Exercises 11-20) of <b>DatatableTon</b>: <i>💯 datatable exercises</i>\n",
    "    <br>\n",
    "    You can find all the exercises and solutions on <a href=\"https://github.com/vopani/datatableton#exercises-\">GitHub</a>\n",
    "</center>"
   ]
  },
  {
   "cell_type": "markdown",
   "id": "scenic-bacteria",
   "metadata": {
    "papermill": {
     "duration": 0.028435,
     "end_time": "2021-07-10T03:58:52.540187",
     "exception": false,
     "start_time": "2021-07-10T03:58:52.511752",
     "status": "completed"
    },
    "tags": []
   },
   "source": [
    "**Prerequisites**\n",
    "* The `datatable` package should be upgraded to the latest version (or v1.0.0+).\n",
    "* Additional packages of `numpy`, `pandas` and `pyarrow` should be installed.\n",
    "* Small example values along with the sample dataset [datatableton_sample.zip](https://github.com/vopani/datatableton/blob/main/data/datatableton_sample.zip) will be used for the exercises."
   ]
  },
  {
   "cell_type": "code",
   "execution_count": 1,
   "id": "surrounded-bernard",
   "metadata": {
    "_kg_hide-output": true,
    "execution": {
     "iopub.execute_input": "2021-07-10T03:58:52.602683Z",
     "iopub.status.busy": "2021-07-10T03:58:52.601502Z",
     "iopub.status.idle": "2021-07-10T03:59:26.031066Z",
     "shell.execute_reply": "2021-07-10T03:59:26.030414Z",
     "shell.execute_reply.started": "2021-07-07T05:45:14.98941Z"
    },
    "papermill": {
     "duration": 33.462303,
     "end_time": "2021-07-10T03:59:26.031241",
     "exception": false,
     "start_time": "2021-07-10T03:58:52.568938",
     "status": "completed"
    },
    "tags": []
   },
   "outputs": [
    {
     "name": "stdout",
     "output_type": "stream",
     "text": [
      "Requirement already satisfied: datatable in /opt/conda/lib/python3.7/site-packages (0.11.1)\r\n",
      "Collecting datatable\r\n",
      "  Downloading datatable-1.0.0-cp37-cp37m-manylinux_2_12_x86_64.whl (96.9 MB)\r\n",
      "\u001b[K     |████████████████████████████████| 96.9 MB 182 kB/s \r\n",
      "\u001b[?25hInstalling collected packages: datatable\r\n",
      "  Attempting uninstall: datatable\r\n",
      "    Found existing installation: datatable 0.11.1\r\n",
      "    Uninstalling datatable-0.11.1:\r\n",
      "      Successfully uninstalled datatable-0.11.1\r\n",
      "Successfully installed datatable-1.0.0\r\n",
      "Requirement already satisfied: numpy in /opt/conda/lib/python3.7/site-packages (1.19.5)\r\n",
      "Requirement already satisfied: pandas in /opt/conda/lib/python3.7/site-packages (1.2.3)\r\n",
      "Requirement already satisfied: python-dateutil>=2.7.3 in /opt/conda/lib/python3.7/site-packages (from pandas) (2.8.1)\r\n",
      "Requirement already satisfied: pytz>=2017.3 in /opt/conda/lib/python3.7/site-packages (from pandas) (2021.1)\r\n",
      "Requirement already satisfied: numpy>=1.16.5 in /opt/conda/lib/python3.7/site-packages (from pandas) (1.19.5)\r\n",
      "Requirement already satisfied: six>=1.5 in /opt/conda/lib/python3.7/site-packages (from python-dateutil>=2.7.3->pandas) (1.15.0)\r\n",
      "Requirement already satisfied: pyarrow in /opt/conda/lib/python3.7/site-packages (3.0.0)\r\n",
      "Requirement already satisfied: numpy>=1.16.6 in /opt/conda/lib/python3.7/site-packages (from pyarrow) (1.19.5)\r\n",
      "--2021-07-10 03:59:25--  https://raw.githubusercontent.com/vopani/datatableton/main/data/datatableton_sample.zip\r\n",
      "Resolving raw.githubusercontent.com (raw.githubusercontent.com)... 185.199.111.133, 185.199.108.133, 185.199.109.133, ...\r\n",
      "Connecting to raw.githubusercontent.com (raw.githubusercontent.com)|185.199.111.133|:443... connected.\r\n",
      "HTTP request sent, awaiting response... 200 OK\r\n",
      "Length: 1911 (1.9K) [application/zip]\r\n",
      "Saving to: ‘datatableton_sample.zip’\r\n",
      "\r\n",
      "datatableton_sample 100%[===================>]   1.87K  --.-KB/s    in 0s      \r\n",
      "\r\n",
      "2021-07-10 03:59:25 (31.0 MB/s) - ‘datatableton_sample.zip’ saved [1911/1911]\r\n",
      "\r\n"
     ]
    }
   ],
   "source": [
    "!python3 -m pip install datatable --upgrade\n",
    "!python3 -m pip install numpy\n",
    "!python3 -m pip install pandas\n",
    "!python3 -m pip install pyarrow\n",
    "!wget https://raw.githubusercontent.com/vopani/datatableton/main/data/datatableton_sample.zip"
   ]
  },
  {
   "cell_type": "code",
   "execution_count": 2,
   "id": "threatened-prefix",
   "metadata": {
    "execution": {
     "iopub.execute_input": "2021-07-10T03:59:26.243209Z",
     "iopub.status.busy": "2021-07-10T03:59:26.242562Z",
     "iopub.status.idle": "2021-07-10T03:59:26.303196Z",
     "shell.execute_reply": "2021-07-10T03:59:26.302638Z",
     "shell.execute_reply.started": "2021-07-07T05:46:46.878823Z"
    },
    "papermill": {
     "duration": 0.169967,
     "end_time": "2021-07-10T03:59:26.303317",
     "exception": false,
     "start_time": "2021-07-10T03:59:26.133350",
     "status": "completed"
    },
    "tags": []
   },
   "outputs": [
    {
     "data": {
      "text/html": [
       "<style type='text/css'>\n",
       ".datatable table.frame { margin-bottom: 0; }\n",
       ".datatable table.frame thead { border-bottom: none; }\n",
       ".datatable table.frame tr.coltypes td {  color: #FFFFFF;  line-height: 6px;  padding: 0 0.5em;}\n",
       ".datatable .bool    { background: #DDDD99; }\n",
       ".datatable .object  { background: #565656; }\n",
       ".datatable .int     { background: #5D9E5D; }\n",
       ".datatable .float   { background: #4040CC; }\n",
       ".datatable .str     { background: #CC4040; }\n",
       ".datatable .time    { background: #40CC40; }\n",
       ".datatable .row_index {  background: var(--jp-border-color3);  border-right: 1px solid var(--jp-border-color0);  color: var(--jp-ui-font-color3);  font-size: 9px;}\n",
       ".datatable .frame tbody td { text-align: left; }\n",
       ".datatable .frame tr.coltypes .row_index {  background: var(--jp-border-color0);}\n",
       ".datatable th:nth-child(2) { padding-left: 12px; }\n",
       ".datatable .hellipsis {  color: var(--jp-cell-editor-border-color);}\n",
       ".datatable .vellipsis {  background: var(--jp-layout-color0);  color: var(--jp-cell-editor-border-color);}\n",
       ".datatable .na {  color: var(--jp-cell-editor-border-color);  font-size: 80%;}\n",
       ".datatable .sp {  opacity: 0.25;}\n",
       ".datatable .footer { font-size: 9px; }\n",
       ".datatable .frame_dimensions {  background: var(--jp-border-color3);  border-top: 1px solid var(--jp-border-color0);  color: var(--jp-ui-font-color3);  display: inline-block;  opacity: 0.6;  padding: 1px 10px 1px 5px;}\n",
       "</style>\n"
      ],
      "text/plain": [
       "<IPython.core.display.HTML object>"
      ]
     },
     "metadata": {},
     "output_type": "display_data"
    }
   ],
   "source": [
    "import datatable as dt\n",
    "import numpy as np\n",
    "import pandas as pd\n",
    "import pyarrow as pa\n",
    "\n",
    "dtable = dt.Frame(f1=range(10), f2=['Y', 'O', 'U', 'C', 'A', 'N', 'D', 'O', 'I', 'T'])\n",
    "dframe = pd.DataFrame({'v1': range(11), 'v2': ['N', 'E', 'V', 'E', 'R', 'G', 'I', 'V', 'E', 'U', 'P']})\n",
    "nparray = np.array([[0, 'C'], [1, 'O'], [2, 'D'], [3, 'E']])\n",
    "patable = pa.Table.from_pandas(dframe)\n",
    "dlist = [range(4), ['D', 'A', 'T', 'A']]\n",
    "ddict = {'x': range(6), 'y': ['P', 'Y', 'T', 'H', 'O', 'N']}\n",
    "dtup = [(0, 'L'), (1, 'E'), (2, 'A'), (3, 'R'), (4, 'N')]"
   ]
  },
  {
   "cell_type": "markdown",
   "id": "minimal-concentration",
   "metadata": {
    "papermill": {
     "duration": 0.073243,
     "end_time": "2021-07-10T03:59:26.449978",
     "exception": false,
     "start_time": "2021-07-10T03:59:26.376735",
     "status": "completed"
    },
    "tags": []
   },
   "source": [
    "**Exercise 11: Write `dtable` to a csv named `data.csv`, to a compressed gz csv named `data.gz` and to a jay named `data.jay`**"
   ]
  },
  {
   "cell_type": "code",
   "execution_count": 3,
   "id": "trained-cancer",
   "metadata": {
    "execution": {
     "iopub.execute_input": "2021-07-10T03:59:26.599469Z",
     "iopub.status.busy": "2021-07-10T03:59:26.598913Z",
     "iopub.status.idle": "2021-07-10T03:59:26.601671Z",
     "shell.execute_reply": "2021-07-10T03:59:26.601145Z",
     "shell.execute_reply.started": "2021-07-07T05:22:18.851028Z"
    },
    "papermill": {
     "duration": 0.079254,
     "end_time": "2021-07-10T03:59:26.601807",
     "exception": false,
     "start_time": "2021-07-10T03:59:26.522553",
     "status": "completed"
    },
    "tags": []
   },
   "outputs": [],
   "source": [
    "dtable.to_csv('data.csv')\n",
    "dtable.to_csv('data.gz', compression='gzip')\n",
    "dtable.to_jay('data.jay')"
   ]
  },
  {
   "cell_type": "markdown",
   "id": "caroline-atlas",
   "metadata": {
    "papermill": {
     "duration": 0.101746,
     "end_time": "2021-07-10T03:59:26.805059",
     "exception": false,
     "start_time": "2021-07-10T03:59:26.703313",
     "status": "completed"
    },
    "tags": []
   },
   "source": [
    "**Exercise 12: Read `data.csv` and assign it to `data_csv`, read `data.gz` and assign it to `data_gz`, read `data.jay` and assign it to `data_jay`**"
   ]
  },
  {
   "cell_type": "code",
   "execution_count": 4,
   "id": "returning-accused",
   "metadata": {
    "execution": {
     "iopub.execute_input": "2021-07-10T03:59:27.014666Z",
     "iopub.status.busy": "2021-07-10T03:59:27.013967Z",
     "iopub.status.idle": "2021-07-10T03:59:27.022965Z",
     "shell.execute_reply": "2021-07-10T03:59:27.022425Z",
     "shell.execute_reply.started": "2021-07-07T05:22:42.781489Z"
    },
    "papermill": {
     "duration": 0.115649,
     "end_time": "2021-07-10T03:59:27.023139",
     "exception": false,
     "start_time": "2021-07-10T03:59:26.907490",
     "status": "completed"
    },
    "tags": []
   },
   "outputs": [
    {
     "data": {
      "text/html": [
       "<div class='datatable'>\n",
       "  <table class='frame'>\n",
       "  <thead>\n",
       "    <tr class='colnames'><td class='row_index'></td><th>f1</th><th>f2</th></tr>\n",
       "    <tr class='coltypes'><td class='row_index'></td><td class='int' title='int32'>&#x25AA;&#x25AA;&#x25AA;&#x25AA;</td><td class='str' title='str32'>&#x25AA;&#x25AA;&#x25AA;&#x25AA;</td></tr>\n",
       "  </thead>\n",
       "  <tbody>\n",
       "    <tr><td class='row_index'>0</td><td>0</td><td>Y</td></tr>\n",
       "    <tr><td class='row_index'>1</td><td>1</td><td>O</td></tr>\n",
       "    <tr><td class='row_index'>2</td><td>2</td><td>U</td></tr>\n",
       "    <tr><td class='row_index'>3</td><td>3</td><td>C</td></tr>\n",
       "    <tr><td class='row_index'>4</td><td>4</td><td>A</td></tr>\n",
       "    <tr><td class='row_index'>5</td><td>5</td><td>N</td></tr>\n",
       "    <tr><td class='row_index'>6</td><td>6</td><td>D</td></tr>\n",
       "    <tr><td class='row_index'>7</td><td>7</td><td>O</td></tr>\n",
       "    <tr><td class='row_index'>8</td><td>8</td><td>I</td></tr>\n",
       "    <tr><td class='row_index'>9</td><td>9</td><td>T</td></tr>\n",
       "  </tbody>\n",
       "  </table>\n",
       "  <div class='footer'>\n",
       "    <div class='frame_dimensions'>10 rows &times; 2 columns</div>\n",
       "  </div>\n",
       "</div>\n"
      ],
      "text/plain": [
       "<Frame#7f24d2da7720 10x2>"
      ]
     },
     "execution_count": 4,
     "metadata": {},
     "output_type": "execute_result"
    }
   ],
   "source": [
    "data_csv = dt.fread('data.csv')\n",
    "data_csv"
   ]
  },
  {
   "cell_type": "code",
   "execution_count": 5,
   "id": "reasonable-characteristic",
   "metadata": {
    "execution": {
     "iopub.execute_input": "2021-07-10T03:59:27.239182Z",
     "iopub.status.busy": "2021-07-10T03:59:27.238648Z",
     "iopub.status.idle": "2021-07-10T03:59:27.242811Z",
     "shell.execute_reply": "2021-07-10T03:59:27.242385Z",
     "shell.execute_reply.started": "2021-07-07T05:22:49.213597Z"
    },
    "papermill": {
     "duration": 0.115099,
     "end_time": "2021-07-10T03:59:27.242916",
     "exception": false,
     "start_time": "2021-07-10T03:59:27.127817",
     "status": "completed"
    },
    "tags": []
   },
   "outputs": [
    {
     "data": {
      "text/html": [
       "<div class='datatable'>\n",
       "  <table class='frame'>\n",
       "  <thead>\n",
       "    <tr class='colnames'><td class='row_index'></td><th>f1</th><th>f2</th></tr>\n",
       "    <tr class='coltypes'><td class='row_index'></td><td class='int' title='int32'>&#x25AA;&#x25AA;&#x25AA;&#x25AA;</td><td class='str' title='str32'>&#x25AA;&#x25AA;&#x25AA;&#x25AA;</td></tr>\n",
       "  </thead>\n",
       "  <tbody>\n",
       "    <tr><td class='row_index'>0</td><td>0</td><td>Y</td></tr>\n",
       "    <tr><td class='row_index'>1</td><td>1</td><td>O</td></tr>\n",
       "    <tr><td class='row_index'>2</td><td>2</td><td>U</td></tr>\n",
       "    <tr><td class='row_index'>3</td><td>3</td><td>C</td></tr>\n",
       "    <tr><td class='row_index'>4</td><td>4</td><td>A</td></tr>\n",
       "    <tr><td class='row_index'>5</td><td>5</td><td>N</td></tr>\n",
       "    <tr><td class='row_index'>6</td><td>6</td><td>D</td></tr>\n",
       "    <tr><td class='row_index'>7</td><td>7</td><td>O</td></tr>\n",
       "    <tr><td class='row_index'>8</td><td>8</td><td>I</td></tr>\n",
       "    <tr><td class='row_index'>9</td><td>9</td><td>T</td></tr>\n",
       "  </tbody>\n",
       "  </table>\n",
       "  <div class='footer'>\n",
       "    <div class='frame_dimensions'>10 rows &times; 2 columns</div>\n",
       "  </div>\n",
       "</div>\n"
      ],
      "text/plain": [
       "<Frame#7f251506ef00 10x2>"
      ]
     },
     "execution_count": 5,
     "metadata": {},
     "output_type": "execute_result"
    }
   ],
   "source": [
    "data_gz = dt.fread('data.gz')\n",
    "data_gz"
   ]
  },
  {
   "cell_type": "code",
   "execution_count": 6,
   "id": "eligible-multimedia",
   "metadata": {
    "execution": {
     "iopub.execute_input": "2021-07-10T03:59:27.393504Z",
     "iopub.status.busy": "2021-07-10T03:59:27.392959Z",
     "iopub.status.idle": "2021-07-10T03:59:27.396008Z",
     "shell.execute_reply": "2021-07-10T03:59:27.396566Z",
     "shell.execute_reply.started": "2021-07-07T05:22:57.635942Z"
    },
    "papermill": {
     "duration": 0.081151,
     "end_time": "2021-07-10T03:59:27.396728",
     "exception": false,
     "start_time": "2021-07-10T03:59:27.315577",
     "status": "completed"
    },
    "tags": []
   },
   "outputs": [
    {
     "data": {
      "text/html": [
       "<div class='datatable'>\n",
       "  <table class='frame'>\n",
       "  <thead>\n",
       "    <tr class='colnames'><td class='row_index'></td><th>f1</th><th>f2</th></tr>\n",
       "    <tr class='coltypes'><td class='row_index'></td><td class='int' title='int32'>&#x25AA;&#x25AA;&#x25AA;&#x25AA;</td><td class='str' title='str32'>&#x25AA;&#x25AA;&#x25AA;&#x25AA;</td></tr>\n",
       "  </thead>\n",
       "  <tbody>\n",
       "    <tr><td class='row_index'>0</td><td>0</td><td>Y</td></tr>\n",
       "    <tr><td class='row_index'>1</td><td>1</td><td>O</td></tr>\n",
       "    <tr><td class='row_index'>2</td><td>2</td><td>U</td></tr>\n",
       "    <tr><td class='row_index'>3</td><td>3</td><td>C</td></tr>\n",
       "    <tr><td class='row_index'>4</td><td>4</td><td>A</td></tr>\n",
       "    <tr><td class='row_index'>5</td><td>5</td><td>N</td></tr>\n",
       "    <tr><td class='row_index'>6</td><td>6</td><td>D</td></tr>\n",
       "    <tr><td class='row_index'>7</td><td>7</td><td>O</td></tr>\n",
       "    <tr><td class='row_index'>8</td><td>8</td><td>I</td></tr>\n",
       "    <tr><td class='row_index'>9</td><td>9</td><td>T</td></tr>\n",
       "  </tbody>\n",
       "  </table>\n",
       "  <div class='footer'>\n",
       "    <div class='frame_dimensions'>10 rows &times; 2 columns</div>\n",
       "  </div>\n",
       "</div>\n"
      ],
      "text/plain": [
       "<Frame#7f24d2d49030 10x2>"
      ]
     },
     "execution_count": 6,
     "metadata": {},
     "output_type": "execute_result"
    }
   ],
   "source": [
    "data_jay = dt.fread('data.jay')\n",
    "data_jay"
   ]
  },
  {
   "cell_type": "markdown",
   "id": "forbidden-plastic",
   "metadata": {
    "papermill": {
     "duration": 0.102977,
     "end_time": "2021-07-10T03:59:27.604938",
     "exception": false,
     "start_time": "2021-07-10T03:59:27.501961",
     "status": "completed"
    },
    "tags": []
   },
   "source": [
    "**Exercise 13: Read data from this URL: [https://raw.githubusercontent.com/vopani/datatableton/main/data/datatableton_sample.csv](https://raw.githubusercontent.com/vopani/datatableton/main/data/datatableton_sample.csv) and assign it to `data_url`**"
   ]
  },
  {
   "cell_type": "code",
   "execution_count": 7,
   "id": "surgical-classification",
   "metadata": {
    "execution": {
     "iopub.execute_input": "2021-07-10T03:59:27.815135Z",
     "iopub.status.busy": "2021-07-10T03:59:27.814501Z",
     "iopub.status.idle": "2021-07-10T03:59:28.108025Z",
     "shell.execute_reply": "2021-07-10T03:59:28.107439Z",
     "shell.execute_reply.started": "2021-07-07T05:23:13.049299Z"
    },
    "papermill": {
     "duration": 0.399281,
     "end_time": "2021-07-10T03:59:28.108184",
     "exception": false,
     "start_time": "2021-07-10T03:59:27.708903",
     "status": "completed"
    },
    "tags": []
   },
   "outputs": [
    {
     "data": {
      "text/html": [
       "<div class='datatable'>\n",
       "  <table class='frame'>\n",
       "  <thead>\n",
       "    <tr class='colnames'><td class='row_index'></td><th>timestamp</th><th>user</th><th>age</th><th>product</th><th>category</th><th>price</th><th>quantity</th></tr>\n",
       "    <tr class='coltypes'><td class='row_index'></td><td class='time' title='time64'>&#x25AA;&#x25AA;&#x25AA;&#x25AA;&#x25AA;&#x25AA;&#x25AA;&#x25AA;</td><td class='str' title='str32'>&#x25AA;&#x25AA;&#x25AA;&#x25AA;</td><td class='int' title='int32'>&#x25AA;&#x25AA;&#x25AA;&#x25AA;</td><td class='str' title='str32'>&#x25AA;&#x25AA;&#x25AA;&#x25AA;</td><td class='str' title='str32'>&#x25AA;&#x25AA;&#x25AA;&#x25AA;</td><td class='float' title='float64'>&#x25AA;&#x25AA;&#x25AA;&#x25AA;&#x25AA;&#x25AA;&#x25AA;&#x25AA;</td><td class='int' title='int32'>&#x25AA;&#x25AA;&#x25AA;&#x25AA;</td></tr>\n",
       "  </thead>\n",
       "  <tbody>\n",
       "    <tr><td class='row_index'>0</td><td>2017-01-01<span class=sp>T</span>13:22:41</td><td>U1</td><td>21</td><td>Eggs</td><td>Dairy</td><td>2.3</td><td>2</td></tr>\n",
       "    <tr><td class='row_index'>1</td><td>2017-05-22<span class=sp>T</span>09:54:21</td><td>U2</td><td>41</td><td>Bread</td><td><span class=na>NA</span></td><td>0.6</td><td>2</td></tr>\n",
       "    <tr><td class='row_index'>2</td><td>2018-11-09<span class=sp>T</span>15:00:01</td><td>U3</td><td><span class=na>NA</span></td><td>Banana</td><td>Fruit</td><td>0.7</td><td>1</td></tr>\n",
       "    <tr><td class='row_index'>3</td><td>2018-12-24<span class=sp>T</span>23:03:33</td><td>U1</td><td>21</td><td>Water</td><td>Drink</td><td>0.2</td><td>1</td></tr>\n",
       "    <tr><td class='row_index'>4</td><td>2019-03-03<span class=sp>T</span>06:21:58</td><td>U4</td><td>19</td><td>Eggs</td><td>Dairy</td><td>2.3</td><td>2</td></tr>\n",
       "    <tr><td class='row_index'>5</td><td>2019-06-17<span class=sp>T</span>16:13:39</td><td>U5</td><td>25</td><td>Grapes</td><td>Fruit</td><td>1.5</td><td>1</td></tr>\n",
       "    <tr><td class='row_index'>6</td><td>2019-07-28<span class=sp>T</span>21:03:11</td><td>U5</td><td>25</td><td>Bread</td><td><span class=na>NA</span></td><td>0.6</td><td>1</td></tr>\n",
       "    <tr><td class='row_index'>7</td><td>2019-12-05<span class=sp>T</span>04:15:42</td><td>U1</td><td>21</td><td>Banana</td><td>Fruit</td><td>0.7</td><td>2</td></tr>\n",
       "    <tr><td class='row_index'>8</td><td>2020-02-02<span class=sp>T</span>03:45:34</td><td>U3</td><td><span class=na>NA</span></td><td>Banana</td><td>Fruit</td><td>0.7</td><td>1</td></tr>\n",
       "    <tr><td class='row_index'>9</td><td>2020-03-05<span class=sp>T</span>07:09:12</td><td>U4</td><td>19</td><td>Grapes</td><td>Fruit</td><td>1.5</td><td>1</td></tr>\n",
       "    <tr><td class='row_index'>10</td><td>2020-03-22<span class=sp>T</span>19:29:38</td><td>U1</td><td>21</td><td>Water</td><td>Drink</td><td>0.2</td><td>1</td></tr>\n",
       "    <tr><td class='row_index'>11</td><td>2020-03-30<span class=sp>T</span>09:44:30</td><td>U4</td><td>19</td><td>Water</td><td>Drink</td><td>0.2</td><td>1</td></tr>\n",
       "    <tr><td class='row_index'>12</td><td>2020-04-01<span class=sp>T</span>13:21:41</td><td>U1</td><td>21</td><td>Banana</td><td>Fruit</td><td>0.7</td><td>2</td></tr>\n",
       "    <tr><td class='row_index'>13</td><td>2020-07-08<span class=sp>T</span>11:45:25</td><td>U2</td><td>41</td><td>Grapes</td><td>Fruit</td><td>1.5</td><td>1</td></tr>\n",
       "    <tr><td class='row_index'>14</td><td>2020-11-19<span class=sp>T</span>18:51:22</td><td>U5</td><td>25</td><td>Water</td><td>Drink</td><td>0.2</td><td>1</td></tr>\n",
       "    <tr><td class='row_index'>15</td><td>2020-12-03<span class=sp>T</span>16:23:48</td><td>U3</td><td><span class=na>NA</span></td><td>Banana</td><td>Fruit</td><td>0.5</td><td>3</td></tr>\n",
       "    <tr><td class='row_index'>16</td><td>2021-02-03<span class=sp>T</span>01:14:40</td><td>U5</td><td>25</td><td>Eggs</td><td>Dairy</td><td>2.1</td><td>4</td></tr>\n",
       "    <tr><td class='row_index'>17</td><td>2021-05-26<span class=sp>T</span>22:42:15</td><td>U3</td><td><span class=na>NA</span></td><td>Bread</td><td><span class=na>NA</span></td><td>0.6</td><td>1</td></tr>\n",
       "    <tr><td class='row_index'>18</td><td>2021-06-14<span class=sp>T</span>15:49:28</td><td>U4</td><td>19</td><td>Eggs</td><td>Dairy</td><td>2.3</td><td>2</td></tr>\n",
       "    <tr><td class='row_index'>19</td><td>2021-07-01<span class=sp>T</span>04:37:31</td><td>U4</td><td>19</td><td>Water</td><td>Drink</td><td>0.3</td><td>1</td></tr>\n",
       "  </tbody>\n",
       "  </table>\n",
       "  <div class='footer'>\n",
       "    <div class='frame_dimensions'>20 rows &times; 7 columns</div>\n",
       "  </div>\n",
       "</div>\n"
      ],
      "text/plain": [
       "<Frame#7f24d2d49420 20x7>"
      ]
     },
     "execution_count": 7,
     "metadata": {},
     "output_type": "execute_result"
    }
   ],
   "source": [
    "data_url = dt.fread(url='https://raw.githubusercontent.com/vopani/datatableton/main/data/datatableton_sample.csv')\n",
    "data_url"
   ]
  },
  {
   "cell_type": "markdown",
   "id": "biological-petersburg",
   "metadata": {
    "papermill": {
     "duration": 0.103978,
     "end_time": "2021-07-10T03:59:28.316479",
     "exception": false,
     "start_time": "2021-07-10T03:59:28.212501",
     "status": "completed"
    },
    "tags": []
   },
   "source": [
    "**Exercise 14: Read `users.csv` from `datatableton_sample.zip` and assign it to `data_zip`**"
   ]
  },
  {
   "cell_type": "code",
   "execution_count": 8,
   "id": "ideal-starter",
   "metadata": {
    "execution": {
     "iopub.execute_input": "2021-07-10T03:59:28.530957Z",
     "iopub.status.busy": "2021-07-10T03:59:28.530464Z",
     "iopub.status.idle": "2021-07-10T03:59:28.537633Z",
     "shell.execute_reply": "2021-07-10T03:59:28.537164Z",
     "shell.execute_reply.started": "2021-07-10T03:58:24.044871Z"
    },
    "papermill": {
     "duration": 0.117226,
     "end_time": "2021-07-10T03:59:28.537757",
     "exception": false,
     "start_time": "2021-07-10T03:59:28.420531",
     "status": "completed"
    },
    "tags": []
   },
   "outputs": [
    {
     "data": {
      "text/html": [
       "<div class='datatable'>\n",
       "  <table class='frame'>\n",
       "  <thead>\n",
       "    <tr class='colnames'><td class='row_index'></td><th>User</th><th>Region</th></tr>\n",
       "    <tr class='coltypes'><td class='row_index'></td><td class='str' title='str32'>&#x25AA;&#x25AA;&#x25AA;&#x25AA;</td><td class='str' title='str32'>&#x25AA;&#x25AA;&#x25AA;&#x25AA;</td></tr>\n",
       "  </thead>\n",
       "  <tbody>\n",
       "    <tr><td class='row_index'>0</td><td>U1</td><td>West</td></tr>\n",
       "    <tr><td class='row_index'>1</td><td>U2</td><td>East</td></tr>\n",
       "    <tr><td class='row_index'>2</td><td>U3</td><td>Central</td></tr>\n",
       "    <tr><td class='row_index'>3</td><td>U4</td><td>South</td></tr>\n",
       "    <tr><td class='row_index'>4</td><td>U5</td><td>West</td></tr>\n",
       "    <tr><td class='row_index'>5</td><td>U6</td><td>East</td></tr>\n",
       "    <tr><td class='row_index'>6</td><td>U7</td><td>Central</td></tr>\n",
       "    <tr><td class='row_index'>7</td><td>U8</td><td>South</td></tr>\n",
       "    <tr><td class='row_index'>8</td><td>U9</td><td>West</td></tr>\n",
       "  </tbody>\n",
       "  </table>\n",
       "  <div class='footer'>\n",
       "    <div class='frame_dimensions'>9 rows &times; 2 columns</div>\n",
       "  </div>\n",
       "</div>\n"
      ],
      "text/plain": [
       "<Frame#7f24d2da7780 9x2>"
      ]
     },
     "execution_count": 8,
     "metadata": {},
     "output_type": "execute_result"
    }
   ],
   "source": [
    "data_zip = dt.fread('datatableton_sample.zip/users.csv')\n",
    "data_zip"
   ]
  },
  {
   "cell_type": "markdown",
   "id": "nutritional-haiti",
   "metadata": {
    "papermill": {
     "duration": 0.073161,
     "end_time": "2021-07-10T03:59:28.686743",
     "exception": false,
     "start_time": "2021-07-10T03:59:28.613582",
     "status": "completed"
    },
    "tags": []
   },
   "source": [
    "**Exercise 15: Create a dt.Frame `data_pd` from the pd.DataFrame `dframe` and create a pd.DataFrame `pd_data` from the dt.Frame `data_pd`**"
   ]
  },
  {
   "cell_type": "code",
   "execution_count": 9,
   "id": "shaped-execution",
   "metadata": {
    "execution": {
     "iopub.execute_input": "2021-07-10T03:59:28.880168Z",
     "iopub.status.busy": "2021-07-10T03:59:28.879310Z",
     "iopub.status.idle": "2021-07-10T03:59:28.883477Z",
     "shell.execute_reply": "2021-07-10T03:59:28.882806Z",
     "shell.execute_reply.started": "2021-07-07T05:23:43.701758Z"
    },
    "papermill": {
     "duration": 0.121888,
     "end_time": "2021-07-10T03:59:28.883627",
     "exception": false,
     "start_time": "2021-07-10T03:59:28.761739",
     "status": "completed"
    },
    "tags": []
   },
   "outputs": [
    {
     "data": {
      "text/html": [
       "<div class='datatable'>\n",
       "  <table class='frame'>\n",
       "  <thead>\n",
       "    <tr class='colnames'><td class='row_index'></td><th>v1</th><th>v2</th></tr>\n",
       "    <tr class='coltypes'><td class='row_index'></td><td class='int' title='int64'>&#x25AA;&#x25AA;&#x25AA;&#x25AA;&#x25AA;&#x25AA;&#x25AA;&#x25AA;</td><td class='str' title='str32'>&#x25AA;&#x25AA;&#x25AA;&#x25AA;</td></tr>\n",
       "  </thead>\n",
       "  <tbody>\n",
       "    <tr><td class='row_index'>0</td><td>0</td><td>N</td></tr>\n",
       "    <tr><td class='row_index'>1</td><td>1</td><td>E</td></tr>\n",
       "    <tr><td class='row_index'>2</td><td>2</td><td>V</td></tr>\n",
       "    <tr><td class='row_index'>3</td><td>3</td><td>E</td></tr>\n",
       "    <tr><td class='row_index'>4</td><td>4</td><td>R</td></tr>\n",
       "    <tr><td class='row_index'>5</td><td>5</td><td>G</td></tr>\n",
       "    <tr><td class='row_index'>6</td><td>6</td><td>I</td></tr>\n",
       "    <tr><td class='row_index'>7</td><td>7</td><td>V</td></tr>\n",
       "    <tr><td class='row_index'>8</td><td>8</td><td>E</td></tr>\n",
       "    <tr><td class='row_index'>9</td><td>9</td><td>U</td></tr>\n",
       "    <tr><td class='row_index'>10</td><td>10</td><td>P</td></tr>\n",
       "  </tbody>\n",
       "  </table>\n",
       "  <div class='footer'>\n",
       "    <div class='frame_dimensions'>11 rows &times; 2 columns</div>\n",
       "  </div>\n",
       "</div>\n"
      ],
      "text/plain": [
       "<Frame#7f24d2d499f0 11x2>"
      ]
     },
     "execution_count": 9,
     "metadata": {},
     "output_type": "execute_result"
    }
   ],
   "source": [
    "data_pd = dt.Frame(dframe)\n",
    "data_pd"
   ]
  },
  {
   "cell_type": "code",
   "execution_count": 10,
   "id": "formal-eleven",
   "metadata": {
    "execution": {
     "iopub.execute_input": "2021-07-10T03:59:29.116415Z",
     "iopub.status.busy": "2021-07-10T03:59:29.115681Z",
     "iopub.status.idle": "2021-07-10T03:59:29.130796Z",
     "shell.execute_reply": "2021-07-10T03:59:29.130089Z",
     "shell.execute_reply.started": "2021-07-07T05:23:52.178275Z"
    },
    "papermill": {
     "duration": 0.135921,
     "end_time": "2021-07-10T03:59:29.130940",
     "exception": false,
     "start_time": "2021-07-10T03:59:28.995019",
     "status": "completed"
    },
    "tags": []
   },
   "outputs": [
    {
     "data": {
      "text/html": [
       "<div>\n",
       "<style scoped>\n",
       "    .dataframe tbody tr th:only-of-type {\n",
       "        vertical-align: middle;\n",
       "    }\n",
       "\n",
       "    .dataframe tbody tr th {\n",
       "        vertical-align: top;\n",
       "    }\n",
       "\n",
       "    .dataframe thead th {\n",
       "        text-align: right;\n",
       "    }\n",
       "</style>\n",
       "<table border=\"1\" class=\"dataframe\">\n",
       "  <thead>\n",
       "    <tr style=\"text-align: right;\">\n",
       "      <th></th>\n",
       "      <th>v1</th>\n",
       "      <th>v2</th>\n",
       "    </tr>\n",
       "  </thead>\n",
       "  <tbody>\n",
       "    <tr>\n",
       "      <th>0</th>\n",
       "      <td>0</td>\n",
       "      <td>N</td>\n",
       "    </tr>\n",
       "    <tr>\n",
       "      <th>1</th>\n",
       "      <td>1</td>\n",
       "      <td>E</td>\n",
       "    </tr>\n",
       "    <tr>\n",
       "      <th>2</th>\n",
       "      <td>2</td>\n",
       "      <td>V</td>\n",
       "    </tr>\n",
       "    <tr>\n",
       "      <th>3</th>\n",
       "      <td>3</td>\n",
       "      <td>E</td>\n",
       "    </tr>\n",
       "    <tr>\n",
       "      <th>4</th>\n",
       "      <td>4</td>\n",
       "      <td>R</td>\n",
       "    </tr>\n",
       "    <tr>\n",
       "      <th>5</th>\n",
       "      <td>5</td>\n",
       "      <td>G</td>\n",
       "    </tr>\n",
       "    <tr>\n",
       "      <th>6</th>\n",
       "      <td>6</td>\n",
       "      <td>I</td>\n",
       "    </tr>\n",
       "    <tr>\n",
       "      <th>7</th>\n",
       "      <td>7</td>\n",
       "      <td>V</td>\n",
       "    </tr>\n",
       "    <tr>\n",
       "      <th>8</th>\n",
       "      <td>8</td>\n",
       "      <td>E</td>\n",
       "    </tr>\n",
       "    <tr>\n",
       "      <th>9</th>\n",
       "      <td>9</td>\n",
       "      <td>U</td>\n",
       "    </tr>\n",
       "    <tr>\n",
       "      <th>10</th>\n",
       "      <td>10</td>\n",
       "      <td>P</td>\n",
       "    </tr>\n",
       "  </tbody>\n",
       "</table>\n",
       "</div>"
      ],
      "text/plain": [
       "    v1 v2\n",
       "0    0  N\n",
       "1    1  E\n",
       "2    2  V\n",
       "3    3  E\n",
       "4    4  R\n",
       "5    5  G\n",
       "6    6  I\n",
       "7    7  V\n",
       "8    8  E\n",
       "9    9  U\n",
       "10  10  P"
      ]
     },
     "execution_count": 10,
     "metadata": {},
     "output_type": "execute_result"
    }
   ],
   "source": [
    "pd_data = data_pd.to_pandas()\n",
    "pd_data"
   ]
  },
  {
   "cell_type": "markdown",
   "id": "parliamentary-bikini",
   "metadata": {
    "papermill": {
     "duration": 0.10751,
     "end_time": "2021-07-10T03:59:29.348140",
     "exception": false,
     "start_time": "2021-07-10T03:59:29.240630",
     "status": "completed"
    },
    "tags": []
   },
   "source": [
    "**Exercise 16: Create a dt.Frame `data_np` from the np.array `nparray` and create a np.array `np_data` from the dt.Frame `data_np`**"
   ]
  },
  {
   "cell_type": "code",
   "execution_count": 11,
   "id": "progressive-tyler",
   "metadata": {
    "execution": {
     "iopub.execute_input": "2021-07-10T03:59:29.570445Z",
     "iopub.status.busy": "2021-07-10T03:59:29.569695Z",
     "iopub.status.idle": "2021-07-10T03:59:29.574429Z",
     "shell.execute_reply": "2021-07-10T03:59:29.573860Z",
     "shell.execute_reply.started": "2021-07-07T05:26:15.290352Z"
    },
    "papermill": {
     "duration": 0.11534,
     "end_time": "2021-07-10T03:59:29.574533",
     "exception": false,
     "start_time": "2021-07-10T03:59:29.459193",
     "status": "completed"
    },
    "tags": []
   },
   "outputs": [
    {
     "data": {
      "text/html": [
       "<div class='datatable'>\n",
       "  <table class='frame'>\n",
       "  <thead>\n",
       "    <tr class='colnames'><td class='row_index'></td><th>C0</th><th>C1</th></tr>\n",
       "    <tr class='coltypes'><td class='row_index'></td><td class='str' title='str32'>&#x25AA;&#x25AA;&#x25AA;&#x25AA;</td><td class='str' title='str32'>&#x25AA;&#x25AA;&#x25AA;&#x25AA;</td></tr>\n",
       "  </thead>\n",
       "  <tbody>\n",
       "    <tr><td class='row_index'>0</td><td>0</td><td>C</td></tr>\n",
       "    <tr><td class='row_index'>1</td><td>1</td><td>O</td></tr>\n",
       "    <tr><td class='row_index'>2</td><td>2</td><td>D</td></tr>\n",
       "    <tr><td class='row_index'>3</td><td>3</td><td>E</td></tr>\n",
       "  </tbody>\n",
       "  </table>\n",
       "  <div class='footer'>\n",
       "    <div class='frame_dimensions'>4 rows &times; 2 columns</div>\n",
       "  </div>\n",
       "</div>\n"
      ],
      "text/plain": [
       "<Frame#7f24d2d49ab0 4x2>"
      ]
     },
     "execution_count": 11,
     "metadata": {},
     "output_type": "execute_result"
    }
   ],
   "source": [
    "data_np = dt.Frame(nparray)\n",
    "data_np"
   ]
  },
  {
   "cell_type": "code",
   "execution_count": 12,
   "id": "comparable-pixel",
   "metadata": {
    "execution": {
     "iopub.execute_input": "2021-07-10T03:59:29.734711Z",
     "iopub.status.busy": "2021-07-10T03:59:29.734000Z",
     "iopub.status.idle": "2021-07-10T03:59:29.737710Z",
     "shell.execute_reply": "2021-07-10T03:59:29.737139Z",
     "shell.execute_reply.started": "2021-07-07T05:26:18.103124Z"
    },
    "papermill": {
     "duration": 0.088229,
     "end_time": "2021-07-10T03:59:29.737847",
     "exception": false,
     "start_time": "2021-07-10T03:59:29.649618",
     "status": "completed"
    },
    "tags": []
   },
   "outputs": [
    {
     "data": {
      "text/plain": [
       "array([['0', 'C'],\n",
       "       ['1', 'O'],\n",
       "       ['2', 'D'],\n",
       "       ['3', 'E']], dtype=object)"
      ]
     },
     "execution_count": 12,
     "metadata": {},
     "output_type": "execute_result"
    }
   ],
   "source": [
    "np_data = data_np.to_numpy()\n",
    "np_data"
   ]
  },
  {
   "cell_type": "markdown",
   "id": "radical-malpractice",
   "metadata": {
    "papermill": {
     "duration": 0.074734,
     "end_time": "2021-07-10T03:59:29.886826",
     "exception": false,
     "start_time": "2021-07-10T03:59:29.812092",
     "status": "completed"
    },
    "tags": []
   },
   "source": [
    "**Exercise 17: Create a dt.Frame `data_ls` from the list `dlist` and create a list `ls_data` from the dt.Frame `data_ls`**"
   ]
  },
  {
   "cell_type": "code",
   "execution_count": 13,
   "id": "athletic-camcorder",
   "metadata": {
    "execution": {
     "iopub.execute_input": "2021-07-10T03:59:30.045426Z",
     "iopub.status.busy": "2021-07-10T03:59:30.044652Z",
     "iopub.status.idle": "2021-07-10T03:59:30.049908Z",
     "shell.execute_reply": "2021-07-10T03:59:30.049357Z",
     "shell.execute_reply.started": "2021-07-07T05:27:16.069474Z"
    },
    "papermill": {
     "duration": 0.087322,
     "end_time": "2021-07-10T03:59:30.050164",
     "exception": false,
     "start_time": "2021-07-10T03:59:29.962842",
     "status": "completed"
    },
    "tags": []
   },
   "outputs": [
    {
     "data": {
      "text/html": [
       "<div class='datatable'>\n",
       "  <table class='frame'>\n",
       "  <thead>\n",
       "    <tr class='colnames'><td class='row_index'></td><th>C0</th><th>C1</th></tr>\n",
       "    <tr class='coltypes'><td class='row_index'></td><td class='int' title='int32'>&#x25AA;&#x25AA;&#x25AA;&#x25AA;</td><td class='str' title='str32'>&#x25AA;&#x25AA;&#x25AA;&#x25AA;</td></tr>\n",
       "  </thead>\n",
       "  <tbody>\n",
       "    <tr><td class='row_index'>0</td><td>0</td><td>D</td></tr>\n",
       "    <tr><td class='row_index'>1</td><td>1</td><td>A</td></tr>\n",
       "    <tr><td class='row_index'>2</td><td>2</td><td>T</td></tr>\n",
       "    <tr><td class='row_index'>3</td><td>3</td><td>A</td></tr>\n",
       "  </tbody>\n",
       "  </table>\n",
       "  <div class='footer'>\n",
       "    <div class='frame_dimensions'>4 rows &times; 2 columns</div>\n",
       "  </div>\n",
       "</div>\n"
      ],
      "text/plain": [
       "<Frame#7f24d16dd9f0 4x2>"
      ]
     },
     "execution_count": 13,
     "metadata": {},
     "output_type": "execute_result"
    }
   ],
   "source": [
    "data_ls = dt.Frame(dlist)\n",
    "data_ls"
   ]
  },
  {
   "cell_type": "code",
   "execution_count": 14,
   "id": "funny-handy",
   "metadata": {
    "execution": {
     "iopub.execute_input": "2021-07-10T03:59:30.212313Z",
     "iopub.status.busy": "2021-07-10T03:59:30.211641Z",
     "iopub.status.idle": "2021-07-10T03:59:30.215267Z",
     "shell.execute_reply": "2021-07-10T03:59:30.214769Z",
     "shell.execute_reply.started": "2021-07-07T05:27:22.597448Z"
    },
    "papermill": {
     "duration": 0.08582,
     "end_time": "2021-07-10T03:59:30.215375",
     "exception": false,
     "start_time": "2021-07-10T03:59:30.129555",
     "status": "completed"
    },
    "tags": []
   },
   "outputs": [
    {
     "data": {
      "text/plain": [
       "[[0, 1, 2, 3], ['D', 'A', 'T', 'A']]"
      ]
     },
     "execution_count": 14,
     "metadata": {},
     "output_type": "execute_result"
    }
   ],
   "source": [
    "ls_data = data_ls.to_list()\n",
    "ls_data"
   ]
  },
  {
   "cell_type": "markdown",
   "id": "interim-survival",
   "metadata": {
    "papermill": {
     "duration": 0.074447,
     "end_time": "2021-07-10T03:59:30.365184",
     "exception": false,
     "start_time": "2021-07-10T03:59:30.290737",
     "status": "completed"
    },
    "tags": []
   },
   "source": [
    "**Exercise 18: Create a dt.Frame `data_dc` from the dictionary `ddict` and create a dictionary `dc_data` from the dt.Frame `data_dc`**"
   ]
  },
  {
   "cell_type": "code",
   "execution_count": 15,
   "id": "educated-improvement",
   "metadata": {
    "execution": {
     "iopub.execute_input": "2021-07-10T03:59:30.521739Z",
     "iopub.status.busy": "2021-07-10T03:59:30.521107Z",
     "iopub.status.idle": "2021-07-10T03:59:30.524630Z",
     "shell.execute_reply": "2021-07-10T03:59:30.524159Z",
     "shell.execute_reply.started": "2021-07-07T05:27:42.476661Z"
    },
    "papermill": {
     "duration": 0.084924,
     "end_time": "2021-07-10T03:59:30.524735",
     "exception": false,
     "start_time": "2021-07-10T03:59:30.439811",
     "status": "completed"
    },
    "tags": []
   },
   "outputs": [
    {
     "data": {
      "text/html": [
       "<div class='datatable'>\n",
       "  <table class='frame'>\n",
       "  <thead>\n",
       "    <tr class='colnames'><td class='row_index'></td><th>x</th><th>y</th></tr>\n",
       "    <tr class='coltypes'><td class='row_index'></td><td class='int' title='int32'>&#x25AA;&#x25AA;&#x25AA;&#x25AA;</td><td class='str' title='str32'>&#x25AA;&#x25AA;&#x25AA;&#x25AA;</td></tr>\n",
       "  </thead>\n",
       "  <tbody>\n",
       "    <tr><td class='row_index'>0</td><td>0</td><td>P</td></tr>\n",
       "    <tr><td class='row_index'>1</td><td>1</td><td>Y</td></tr>\n",
       "    <tr><td class='row_index'>2</td><td>2</td><td>T</td></tr>\n",
       "    <tr><td class='row_index'>3</td><td>3</td><td>H</td></tr>\n",
       "    <tr><td class='row_index'>4</td><td>4</td><td>O</td></tr>\n",
       "    <tr><td class='row_index'>5</td><td>5</td><td>N</td></tr>\n",
       "  </tbody>\n",
       "  </table>\n",
       "  <div class='footer'>\n",
       "    <div class='frame_dimensions'>6 rows &times; 2 columns</div>\n",
       "  </div>\n",
       "</div>\n"
      ],
      "text/plain": [
       "<Frame#7f24d16dd870 6x2>"
      ]
     },
     "execution_count": 15,
     "metadata": {},
     "output_type": "execute_result"
    }
   ],
   "source": [
    "data_dc = dt.Frame(ddict)\n",
    "data_dc"
   ]
  },
  {
   "cell_type": "code",
   "execution_count": 16,
   "id": "former-parking",
   "metadata": {
    "execution": {
     "iopub.execute_input": "2021-07-10T03:59:30.684503Z",
     "iopub.status.busy": "2021-07-10T03:59:30.683878Z",
     "iopub.status.idle": "2021-07-10T03:59:30.688433Z",
     "shell.execute_reply": "2021-07-10T03:59:30.687941Z",
     "shell.execute_reply.started": "2021-07-07T05:27:52.810435Z"
    },
    "papermill": {
     "duration": 0.088418,
     "end_time": "2021-07-10T03:59:30.688534",
     "exception": false,
     "start_time": "2021-07-10T03:59:30.600116",
     "status": "completed"
    },
    "tags": []
   },
   "outputs": [
    {
     "data": {
      "text/plain": [
       "{'x': [0, 1, 2, 3, 4, 5], 'y': ['P', 'Y', 'T', 'H', 'O', 'N']}"
      ]
     },
     "execution_count": 16,
     "metadata": {},
     "output_type": "execute_result"
    }
   ],
   "source": [
    "dc_data = data_dc.to_dict()\n",
    "dc_data"
   ]
  },
  {
   "cell_type": "markdown",
   "id": "sealed-surgery",
   "metadata": {
    "papermill": {
     "duration": 0.148137,
     "end_time": "2021-07-10T03:59:30.912189",
     "exception": false,
     "start_time": "2021-07-10T03:59:30.764052",
     "status": "completed"
    },
    "tags": []
   },
   "source": [
    "**Exercise 19: Create a dt.Frame `data_tp` from the tuples `dtup` and create tuples `tp_data` from the dt.Frame `data_tp`**"
   ]
  },
  {
   "cell_type": "code",
   "execution_count": 17,
   "id": "sticky-track",
   "metadata": {
    "execution": {
     "iopub.execute_input": "2021-07-10T03:59:31.073893Z",
     "iopub.status.busy": "2021-07-10T03:59:31.073181Z",
     "iopub.status.idle": "2021-07-10T03:59:31.075700Z",
     "shell.execute_reply": "2021-07-10T03:59:31.076118Z",
     "shell.execute_reply.started": "2021-07-07T05:28:08.679901Z"
    },
    "papermill": {
     "duration": 0.087639,
     "end_time": "2021-07-10T03:59:31.076252",
     "exception": false,
     "start_time": "2021-07-10T03:59:30.988613",
     "status": "completed"
    },
    "tags": []
   },
   "outputs": [
    {
     "data": {
      "text/html": [
       "<div class='datatable'>\n",
       "  <table class='frame'>\n",
       "  <thead>\n",
       "    <tr class='colnames'><td class='row_index'></td><th>C0</th><th>C1</th></tr>\n",
       "    <tr class='coltypes'><td class='row_index'></td><td class='int' title='int32'>&#x25AA;&#x25AA;&#x25AA;&#x25AA;</td><td class='str' title='str32'>&#x25AA;&#x25AA;&#x25AA;&#x25AA;</td></tr>\n",
       "  </thead>\n",
       "  <tbody>\n",
       "    <tr><td class='row_index'>0</td><td>0</td><td>L</td></tr>\n",
       "    <tr><td class='row_index'>1</td><td>1</td><td>E</td></tr>\n",
       "    <tr><td class='row_index'>2</td><td>2</td><td>A</td></tr>\n",
       "    <tr><td class='row_index'>3</td><td>3</td><td>R</td></tr>\n",
       "    <tr><td class='row_index'>4</td><td>4</td><td>N</td></tr>\n",
       "  </tbody>\n",
       "  </table>\n",
       "  <div class='footer'>\n",
       "    <div class='frame_dimensions'>5 rows &times; 2 columns</div>\n",
       "  </div>\n",
       "</div>\n"
      ],
      "text/plain": [
       "<Frame#7f24d16dded0 5x2>"
      ]
     },
     "execution_count": 17,
     "metadata": {},
     "output_type": "execute_result"
    }
   ],
   "source": [
    "data_tp = dt.Frame(dtup)\n",
    "data_tp"
   ]
  },
  {
   "cell_type": "code",
   "execution_count": 18,
   "id": "shared-multimedia",
   "metadata": {
    "execution": {
     "iopub.execute_input": "2021-07-10T03:59:31.238394Z",
     "iopub.status.busy": "2021-07-10T03:59:31.237885Z",
     "iopub.status.idle": "2021-07-10T03:59:31.242437Z",
     "shell.execute_reply": "2021-07-10T03:59:31.241967Z",
     "shell.execute_reply.started": "2021-07-07T05:28:14.754753Z"
    },
    "papermill": {
     "duration": 0.087074,
     "end_time": "2021-07-10T03:59:31.242553",
     "exception": false,
     "start_time": "2021-07-10T03:59:31.155479",
     "status": "completed"
    },
    "tags": []
   },
   "outputs": [
    {
     "data": {
      "text/plain": [
       "[(0, 'L'), (1, 'E'), (2, 'A'), (3, 'R'), (4, 'N')]"
      ]
     },
     "execution_count": 18,
     "metadata": {},
     "output_type": "execute_result"
    }
   ],
   "source": [
    "tp_data = data_tp.to_tuples()\n",
    "tp_data"
   ]
  },
  {
   "cell_type": "markdown",
   "id": "civilian-equipment",
   "metadata": {
    "papermill": {
     "duration": 0.075707,
     "end_time": "2021-07-10T03:59:31.394769",
     "exception": false,
     "start_time": "2021-07-10T03:59:31.319062",
     "status": "completed"
    },
    "tags": []
   },
   "source": [
    "**Exercise 20: Create a dt.Frame `data_pa` from the pyarrow.Table `patable` and create a pyarrow.Table `pa_data` from the dt.Frame `data_pa`**"
   ]
  },
  {
   "cell_type": "code",
   "execution_count": 19,
   "id": "needed-moderator",
   "metadata": {
    "execution": {
     "iopub.execute_input": "2021-07-10T03:59:31.552041Z",
     "iopub.status.busy": "2021-07-10T03:59:31.551542Z",
     "iopub.status.idle": "2021-07-10T03:59:31.559714Z",
     "shell.execute_reply": "2021-07-10T03:59:31.559033Z",
     "shell.execute_reply.started": "2021-07-07T05:28:31.79192Z"
    },
    "papermill": {
     "duration": 0.088668,
     "end_time": "2021-07-10T03:59:31.559860",
     "exception": false,
     "start_time": "2021-07-10T03:59:31.471192",
     "status": "completed"
    },
    "tags": []
   },
   "outputs": [
    {
     "data": {
      "text/html": [
       "<div class='datatable'>\n",
       "  <table class='frame'>\n",
       "  <thead>\n",
       "    <tr class='colnames'><td class='row_index'></td><th>v1</th><th>v2</th></tr>\n",
       "    <tr class='coltypes'><td class='row_index'></td><td class='int' title='int64'>&#x25AA;&#x25AA;&#x25AA;&#x25AA;&#x25AA;&#x25AA;&#x25AA;&#x25AA;</td><td class='str' title='str32'>&#x25AA;&#x25AA;&#x25AA;&#x25AA;</td></tr>\n",
       "  </thead>\n",
       "  <tbody>\n",
       "    <tr><td class='row_index'>0</td><td>0</td><td>N</td></tr>\n",
       "    <tr><td class='row_index'>1</td><td>1</td><td>E</td></tr>\n",
       "    <tr><td class='row_index'>2</td><td>2</td><td>V</td></tr>\n",
       "    <tr><td class='row_index'>3</td><td>3</td><td>E</td></tr>\n",
       "    <tr><td class='row_index'>4</td><td>4</td><td>R</td></tr>\n",
       "    <tr><td class='row_index'>5</td><td>5</td><td>G</td></tr>\n",
       "    <tr><td class='row_index'>6</td><td>6</td><td>I</td></tr>\n",
       "    <tr><td class='row_index'>7</td><td>7</td><td>V</td></tr>\n",
       "    <tr><td class='row_index'>8</td><td>8</td><td>E</td></tr>\n",
       "    <tr><td class='row_index'>9</td><td>9</td><td>U</td></tr>\n",
       "    <tr><td class='row_index'>10</td><td>10</td><td>P</td></tr>\n",
       "  </tbody>\n",
       "  </table>\n",
       "  <div class='footer'>\n",
       "    <div class='frame_dimensions'>11 rows &times; 2 columns</div>\n",
       "  </div>\n",
       "</div>\n"
      ],
      "text/plain": [
       "<Frame#7f24d16ddf30 11x2>"
      ]
     },
     "execution_count": 19,
     "metadata": {},
     "output_type": "execute_result"
    }
   ],
   "source": [
    "data_pa = dt.Frame(patable)\n",
    "data_pa"
   ]
  },
  {
   "cell_type": "code",
   "execution_count": 20,
   "id": "nervous-supervision",
   "metadata": {
    "execution": {
     "iopub.execute_input": "2021-07-10T03:59:31.785850Z",
     "iopub.status.busy": "2021-07-10T03:59:31.785192Z",
     "iopub.status.idle": "2021-07-10T03:59:31.788651Z",
     "shell.execute_reply": "2021-07-10T03:59:31.788036Z",
     "shell.execute_reply.started": "2021-07-07T05:28:37.932489Z"
    },
    "papermill": {
     "duration": 0.118552,
     "end_time": "2021-07-10T03:59:31.788778",
     "exception": false,
     "start_time": "2021-07-10T03:59:31.670226",
     "status": "completed"
    },
    "tags": []
   },
   "outputs": [
    {
     "data": {
      "text/plain": [
       "pyarrow.Table\n",
       "v1: int64\n",
       "v2: string"
      ]
     },
     "execution_count": 20,
     "metadata": {},
     "output_type": "execute_result"
    }
   ],
   "source": [
    "pa_data = data_pa.to_arrow()\n",
    "pa_data"
   ]
  },
  {
   "cell_type": "markdown",
   "id": "frequent-midnight",
   "metadata": {
    "papermill": {
     "duration": 0.109662,
     "end_time": "2021-07-10T03:59:32.008101",
     "exception": false,
     "start_time": "2021-07-10T03:59:31.898439",
     "status": "completed"
    },
    "tags": []
   },
   "source": [
    "✅ This completes Set 2: Files and Formats (Exercises 11-20) of **DatatableTon**: *💯 datatable exercises*\n",
    "\n",
    "#### Set 03 • Data Selection • Beginner • Exercises 21-30\n",
    "\n",
    "| Style | Colab | Kaggle | Binder | GitHub |\n",
    "| ----- | ----- | ------ | ------ | ------ |\n",
    "| Exercises | [![Open in Colab](https://img.shields.io/static/v1?label=&message=Open%20in%20Colab&labelColor=grey&color=blue&logo=google-colab)](https://colab.research.google.com/github/vopani/datatableton/blob/main/notebooks/03_data_selection_exercises.ipynb) | [![Open in Kaggle](https://img.shields.io/static/v1?label=&message=Open%20in%20Kaggle&labelColor=grey&color=blue&logo=kaggle)](https://www.kaggle.com/rohanrao/datatableton-data-selection-exercises) | [![Open in Binder](https://img.shields.io/static/v1?label=&message=Open%20in%20Binder&labelColor=grey&color=blue&logo=data:image/png;base64,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)](https://mybinder.org/v2/gh/vopani/datatableton/main?filepath=notebooks%2F03_data_selection_exercises.ipynb) | [![Open in GitHub](https://img.shields.io/static/v1?label=&message=Open%20in%20GitHub&labelColor=grey&color=blue&logo=github)](https://github.com/vopani/datatableton/blob/main/notebooks/03_data_selection_exercises.ipynb) |\n",
    "| Solutions | [![Open in Colab](https://img.shields.io/static/v1?label=&message=Open%20in%20Colab&labelColor=grey&color=blue&logo=google-colab)](https://colab.research.google.com/github/vopani/datatableton/blob/main/notebooks/03_data_selection_solutions.ipynb) | [![Open in Kaggle](https://img.shields.io/static/v1?label=&message=Open%20in%20Kaggle&labelColor=grey&color=blue&logo=kaggle)](https://www.kaggle.com/rohanrao/datatableton-data-selection-solutions) | [![Open in Binder](https://img.shields.io/static/v1?label=&message=Open%20in%20Binder&labelColor=grey&color=blue&logo=data:image/png;base64,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)](https://mybinder.org/v2/gh/vopani/datatableton/main?filepath=notebooks%2F03_data_selection_solutions.ipynb) | [![Open in GitHub](https://img.shields.io/static/v1?label=&message=Open%20in%20GitHub&labelColor=grey&color=blue&logo=github)](https://github.com/vopani/datatableton/blob/main/notebooks/03_data_selection_solutions.ipynb) |\n",
    "\n",
    "You can find all the exercises and solutions on [GitHub](https://github.com/vopani/datatableton#exercises-)"
   ]
  }
 ],
 "metadata": {
  "kernelspec": {
   "display_name": "Python 3",
   "language": "python",
   "name": "python3"
  },
  "language_info": {
   "codemirror_mode": {
    "name": "ipython",
    "version": 3
   },
   "file_extension": ".py",
   "mimetype": "text/x-python",
   "name": "python",
   "nbconvert_exporter": "python",
   "pygments_lexer": "ipython3",
   "version": "3.7.10"
  },
  "papermill": {
   "default_parameters": {},
   "duration": 50.047258,
   "end_time": "2021-07-10T03:59:33.460626",
   "environment_variables": {},
   "exception": null,
   "input_path": "__notebook__.ipynb",
   "output_path": "__notebook__.ipynb",
   "parameters": {},
   "start_time": "2021-07-10T03:58:43.413368",
   "version": "2.3.3"
  }
 },
 "nbformat": 4,
 "nbformat_minor": 5
}
